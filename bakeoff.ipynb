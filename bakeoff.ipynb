{
 "cells": [
  {
   "cell_type": "markdown",
   "metadata": {},
   "source": [
    "# Bakeoff"
   ]
  },
  {
   "cell_type": "markdown",
   "metadata": {},
   "source": [
    "### Authors:\n",
    "* Arthur Kim\n",
    "* Douglas Lu\n",
    "* Shane Mangold\n",
    "* Nate Walter"
   ]
  },
  {
   "cell_type": "markdown",
   "metadata": {
    "heading_collapsed": true
   },
   "source": [
    "## Import"
   ]
  },
  {
   "cell_type": "markdown",
   "metadata": {
    "hidden": true
   },
   "source": [
    "Here we imported all the relevant libraries for the project"
   ]
  },
  {
   "cell_type": "code",
   "execution_count": 1,
   "metadata": {
    "hidden": true,
    "scrolled": true
   },
   "outputs": [],
   "source": [
    "import pandas as pd\n",
    "import numpy as np\n",
    "import matplotlib.pyplot as plt\n",
    "import seaborn as sns\n",
    "from sklearn.model_selection import train_test_split, ShuffleSplit, cross_validate\n",
    "from sklearn.preprocessing import PolynomialFeatures, StandardScaler, OneHotEncoder\n",
    "from sklearn.dummy import DummyRegressor\n",
    "from sklearn.metrics import mean_squared_error\n",
    "from sklearn.linear_model import LinearRegression\n",
    "from statsmodels.formula.api import ols\n",
    "import statsmodels.stats.api as sms\n",
    "import statsmodels.api as sm\n",
    "import scipy.stats as stats\n",
    "from sklearn.feature_selection import RFE\n",
    "from statsmodels.stats.outliers_influence import OLSInfluence as influence"
   ]
  },
  {
   "cell_type": "markdown",
   "metadata": {
    "heading_collapsed": true
   },
   "source": [
    "## Review the Data File"
   ]
  },
  {
   "cell_type": "markdown",
   "metadata": {
    "hidden": true
   },
   "source": [
    "The data file was reviewed to get a better understanding of what features were included and what data types are the features"
   ]
  },
  {
   "cell_type": "code",
   "execution_count": 2,
   "metadata": {
    "hidden": true,
    "scrolled": true
   },
   "outputs": [],
   "source": [
    "#read in the file\n",
    "X_train = pd.read_csv('bakeoff_data/Xtrain.csv')\n",
    "y_train = pd.read_csv('bakeoff_data/ytrain.csv')\n",
    "X_test = pd.read_csv('bakeoff_data/Xtest.csv')"
   ]
  },
  {
   "cell_type": "code",
   "execution_count": 3,
   "metadata": {
    "hidden": true,
    "scrolled": true
   },
   "outputs": [
    {
     "data": {
      "text/html": [
       "<div>\n",
       "<style scoped>\n",
       "    .dataframe tbody tr th:only-of-type {\n",
       "        vertical-align: middle;\n",
       "    }\n",
       "\n",
       "    .dataframe tbody tr th {\n",
       "        vertical-align: top;\n",
       "    }\n",
       "\n",
       "    .dataframe thead th {\n",
       "        text-align: right;\n",
       "    }\n",
       "</style>\n",
       "<table border=\"1\" class=\"dataframe\">\n",
       "  <thead>\n",
       "    <tr style=\"text-align: right;\">\n",
       "      <th></th>\n",
       "      <th>date</th>\n",
       "      <th>bedrooms</th>\n",
       "      <th>bathrooms</th>\n",
       "      <th>sqft_living</th>\n",
       "      <th>sqft_lot</th>\n",
       "      <th>floors</th>\n",
       "      <th>waterfront</th>\n",
       "      <th>view</th>\n",
       "      <th>condition</th>\n",
       "      <th>grade</th>\n",
       "      <th>sqft_above</th>\n",
       "      <th>sqft_basement</th>\n",
       "      <th>yr_built</th>\n",
       "      <th>yr_renovated</th>\n",
       "      <th>zipcode</th>\n",
       "      <th>lat</th>\n",
       "      <th>long</th>\n",
       "      <th>sqft_living15</th>\n",
       "      <th>sqft_lot15</th>\n",
       "    </tr>\n",
       "  </thead>\n",
       "  <tbody>\n",
       "    <tr>\n",
       "      <th>0</th>\n",
       "      <td>3/4/2015</td>\n",
       "      <td>3</td>\n",
       "      <td>2.50</td>\n",
       "      <td>1880</td>\n",
       "      <td>4499</td>\n",
       "      <td>2.0</td>\n",
       "      <td>0.0</td>\n",
       "      <td>0.0</td>\n",
       "      <td>3</td>\n",
       "      <td>8</td>\n",
       "      <td>1880</td>\n",
       "      <td>0.0</td>\n",
       "      <td>1993</td>\n",
       "      <td>0.0</td>\n",
       "      <td>98029</td>\n",
       "      <td>47.5664</td>\n",
       "      <td>-121.999</td>\n",
       "      <td>2130</td>\n",
       "      <td>5114</td>\n",
       "    </tr>\n",
       "    <tr>\n",
       "      <th>1</th>\n",
       "      <td>10/7/2014</td>\n",
       "      <td>3</td>\n",
       "      <td>2.50</td>\n",
       "      <td>2020</td>\n",
       "      <td>6564</td>\n",
       "      <td>1.0</td>\n",
       "      <td>0.0</td>\n",
       "      <td>0.0</td>\n",
       "      <td>3</td>\n",
       "      <td>7</td>\n",
       "      <td>1310</td>\n",
       "      <td>710.0</td>\n",
       "      <td>1994</td>\n",
       "      <td>0.0</td>\n",
       "      <td>98042</td>\n",
       "      <td>47.3545</td>\n",
       "      <td>-122.158</td>\n",
       "      <td>1710</td>\n",
       "      <td>5151</td>\n",
       "    </tr>\n",
       "    <tr>\n",
       "      <th>2</th>\n",
       "      <td>1/16/2015</td>\n",
       "      <td>5</td>\n",
       "      <td>4.00</td>\n",
       "      <td>4720</td>\n",
       "      <td>493534</td>\n",
       "      <td>2.0</td>\n",
       "      <td>0.0</td>\n",
       "      <td>0.0</td>\n",
       "      <td>5</td>\n",
       "      <td>9</td>\n",
       "      <td>3960</td>\n",
       "      <td>760.0</td>\n",
       "      <td>1975</td>\n",
       "      <td>0.0</td>\n",
       "      <td>98027</td>\n",
       "      <td>47.4536</td>\n",
       "      <td>-122.009</td>\n",
       "      <td>2160</td>\n",
       "      <td>219542</td>\n",
       "    </tr>\n",
       "    <tr>\n",
       "      <th>3</th>\n",
       "      <td>3/30/2015</td>\n",
       "      <td>2</td>\n",
       "      <td>2.00</td>\n",
       "      <td>1430</td>\n",
       "      <td>3880</td>\n",
       "      <td>1.0</td>\n",
       "      <td>0.0</td>\n",
       "      <td>0.0</td>\n",
       "      <td>4</td>\n",
       "      <td>7</td>\n",
       "      <td>1430</td>\n",
       "      <td>0.0</td>\n",
       "      <td>1949</td>\n",
       "      <td>0.0</td>\n",
       "      <td>98117</td>\n",
       "      <td>47.6844</td>\n",
       "      <td>-122.392</td>\n",
       "      <td>1430</td>\n",
       "      <td>3880</td>\n",
       "    </tr>\n",
       "    <tr>\n",
       "      <th>4</th>\n",
       "      <td>10/14/2014</td>\n",
       "      <td>3</td>\n",
       "      <td>2.25</td>\n",
       "      <td>2270</td>\n",
       "      <td>32112</td>\n",
       "      <td>1.0</td>\n",
       "      <td>0.0</td>\n",
       "      <td>0.0</td>\n",
       "      <td>4</td>\n",
       "      <td>8</td>\n",
       "      <td>1740</td>\n",
       "      <td>530.0</td>\n",
       "      <td>1980</td>\n",
       "      <td>0.0</td>\n",
       "      <td>98042</td>\n",
       "      <td>47.3451</td>\n",
       "      <td>-122.094</td>\n",
       "      <td>2310</td>\n",
       "      <td>41606</td>\n",
       "    </tr>\n",
       "  </tbody>\n",
       "</table>\n",
       "</div>"
      ],
      "text/plain": [
       "         date  bedrooms  bathrooms  sqft_living  sqft_lot  floors  waterfront  \\\n",
       "0    3/4/2015         3       2.50         1880      4499     2.0         0.0   \n",
       "1   10/7/2014         3       2.50         2020      6564     1.0         0.0   \n",
       "2   1/16/2015         5       4.00         4720    493534     2.0         0.0   \n",
       "3   3/30/2015         2       2.00         1430      3880     1.0         0.0   \n",
       "4  10/14/2014         3       2.25         2270     32112     1.0         0.0   \n",
       "\n",
       "   view  condition  grade  sqft_above sqft_basement  yr_built  yr_renovated  \\\n",
       "0   0.0          3      8        1880           0.0      1993           0.0   \n",
       "1   0.0          3      7        1310         710.0      1994           0.0   \n",
       "2   0.0          5      9        3960         760.0      1975           0.0   \n",
       "3   0.0          4      7        1430           0.0      1949           0.0   \n",
       "4   0.0          4      8        1740         530.0      1980           0.0   \n",
       "\n",
       "   zipcode      lat     long  sqft_living15  sqft_lot15  \n",
       "0    98029  47.5664 -121.999           2130        5114  \n",
       "1    98042  47.3545 -122.158           1710        5151  \n",
       "2    98027  47.4536 -122.009           2160      219542  \n",
       "3    98117  47.6844 -122.392           1430        3880  \n",
       "4    98042  47.3451 -122.094           2310       41606  "
      ]
     },
     "execution_count": 3,
     "metadata": {},
     "output_type": "execute_result"
    }
   ],
   "source": [
    "#check the first 5 entries in the data\n",
    "X_train.head()"
   ]
  },
  {
   "cell_type": "code",
   "execution_count": 4,
   "metadata": {
    "hidden": true,
    "scrolled": true
   },
   "outputs": [
    {
     "name": "stdout",
     "output_type": "stream",
     "text": [
      "<class 'pandas.core.frame.DataFrame'>\n",
      "RangeIndex: 16197 entries, 0 to 16196\n",
      "Data columns (total 19 columns):\n",
      " #   Column         Non-Null Count  Dtype  \n",
      "---  ------         --------------  -----  \n",
      " 0   date           16197 non-null  object \n",
      " 1   bedrooms       16197 non-null  int64  \n",
      " 2   bathrooms      16197 non-null  float64\n",
      " 3   sqft_living    16197 non-null  int64  \n",
      " 4   sqft_lot       16197 non-null  int64  \n",
      " 5   floors         16197 non-null  float64\n",
      " 6   waterfront     14441 non-null  float64\n",
      " 7   view           16148 non-null  float64\n",
      " 8   condition      16197 non-null  int64  \n",
      " 9   grade          16197 non-null  int64  \n",
      " 10  sqft_above     16197 non-null  int64  \n",
      " 11  sqft_basement  16197 non-null  object \n",
      " 12  yr_built       16197 non-null  int64  \n",
      " 13  yr_renovated   13318 non-null  float64\n",
      " 14  zipcode        16197 non-null  int64  \n",
      " 15  lat            16197 non-null  float64\n",
      " 16  long           16197 non-null  float64\n",
      " 17  sqft_living15  16197 non-null  int64  \n",
      " 18  sqft_lot15     16197 non-null  int64  \n",
      "dtypes: float64(7), int64(10), object(2)\n",
      "memory usage: 2.3+ MB\n"
     ]
    }
   ],
   "source": [
    "#check the columns and nulls\n",
    "X_train.info()"
   ]
  },
  {
   "cell_type": "code",
   "execution_count": 5,
   "metadata": {
    "hidden": true,
    "scrolled": true
   },
   "outputs": [
    {
     "data": {
      "text/html": [
       "<div>\n",
       "<style scoped>\n",
       "    .dataframe tbody tr th:only-of-type {\n",
       "        vertical-align: middle;\n",
       "    }\n",
       "\n",
       "    .dataframe tbody tr th {\n",
       "        vertical-align: top;\n",
       "    }\n",
       "\n",
       "    .dataframe thead th {\n",
       "        text-align: right;\n",
       "    }\n",
       "</style>\n",
       "<table border=\"1\" class=\"dataframe\">\n",
       "  <thead>\n",
       "    <tr style=\"text-align: right;\">\n",
       "      <th></th>\n",
       "      <th>price</th>\n",
       "    </tr>\n",
       "  </thead>\n",
       "  <tbody>\n",
       "    <tr>\n",
       "      <th>0</th>\n",
       "      <td>529000.0</td>\n",
       "    </tr>\n",
       "    <tr>\n",
       "      <th>1</th>\n",
       "      <td>253000.0</td>\n",
       "    </tr>\n",
       "    <tr>\n",
       "      <th>2</th>\n",
       "      <td>745000.0</td>\n",
       "    </tr>\n",
       "    <tr>\n",
       "      <th>3</th>\n",
       "      <td>545000.0</td>\n",
       "    </tr>\n",
       "    <tr>\n",
       "      <th>4</th>\n",
       "      <td>390000.0</td>\n",
       "    </tr>\n",
       "  </tbody>\n",
       "</table>\n",
       "</div>"
      ],
      "text/plain": [
       "      price\n",
       "0  529000.0\n",
       "1  253000.0\n",
       "2  745000.0\n",
       "3  545000.0\n",
       "4  390000.0"
      ]
     },
     "execution_count": 5,
     "metadata": {},
     "output_type": "execute_result"
    }
   ],
   "source": [
    "#check the first 5 entries in the data\n",
    "y_train.head()"
   ]
  },
  {
   "cell_type": "code",
   "execution_count": 6,
   "metadata": {
    "hidden": true,
    "scrolled": true
   },
   "outputs": [
    {
     "name": "stdout",
     "output_type": "stream",
     "text": [
      "<class 'pandas.core.frame.DataFrame'>\n",
      "RangeIndex: 16197 entries, 0 to 16196\n",
      "Data columns (total 1 columns):\n",
      " #   Column  Non-Null Count  Dtype  \n",
      "---  ------  --------------  -----  \n",
      " 0   price   16197 non-null  float64\n",
      "dtypes: float64(1)\n",
      "memory usage: 126.7 KB\n"
     ]
    }
   ],
   "source": [
    "#check the first 5 entries in the data\n",
    "y_train.info()"
   ]
  },
  {
   "cell_type": "markdown",
   "metadata": {
    "heading_collapsed": true
   },
   "source": [
    "## Cleaning the Data"
   ]
  },
  {
   "cell_type": "markdown",
   "metadata": {
    "hidden": true
   },
   "source": [
    "After reviewing the data, we noticed that some of the columns had nulls or the wrong data type. For the nulls, we made assumptions to fill in the null values. The column \"sqft_basement\" had to be converted to a number."
   ]
  },
  {
   "cell_type": "code",
   "execution_count": 7,
   "metadata": {
    "hidden": true
   },
   "outputs": [],
   "source": [
    "train_df = pd.concat([X_train, y_train], axis=1)"
   ]
  },
  {
   "cell_type": "code",
   "execution_count": 8,
   "metadata": {
    "hidden": true,
    "scrolled": true
   },
   "outputs": [],
   "source": [
    "#for year renovated, convert any houses that have been renovated to '1' to indicate true\n",
    "#for any nulls, assume no renovation\n",
    "train_df['yr_renovated'].fillna(0, inplace=True)\n",
    "train_df['yr_renovated'] = train_df['yr_renovated'].apply(lambda x: 1 if x > 0 else x)\n",
    "X_test['yr_renovated'].fillna(0, inplace=True)\n",
    "X_test['yr_renovated'] = X_test['yr_renovated'].apply(lambda x: 1 if x > 0 else x)"
   ]
  },
  {
   "cell_type": "code",
   "execution_count": 9,
   "metadata": {
    "hidden": true,
    "scrolled": true
   },
   "outputs": [],
   "source": [
    "train_df.rename(columns={'yr_renovated': 'if_renovated'}, inplace=True)\n",
    "X_test.rename(columns={'yr_renovated': 'if_renovated'}, inplace=True)"
   ]
  },
  {
   "cell_type": "code",
   "execution_count": 10,
   "metadata": {
    "hidden": true,
    "scrolled": true
   },
   "outputs": [],
   "source": [
    "#for any nulls, assume no waterfront\n",
    "train_df['waterfront'].fillna(0, inplace=True)\n",
    "X_test['waterfront'].fillna(0, inplace=True)"
   ]
  },
  {
   "cell_type": "code",
   "execution_count": 11,
   "metadata": {
    "hidden": true,
    "scrolled": true
   },
   "outputs": [],
   "source": [
    "#for any nulls, assume no one viewed the property\n",
    "train_df['view'].fillna(0, inplace=True)\n",
    "X_test['view'].fillna(0, inplace=True)"
   ]
  },
  {
   "cell_type": "code",
   "execution_count": 12,
   "metadata": {
    "hidden": true,
    "scrolled": true
   },
   "outputs": [],
   "source": [
    "#clean up sqft_basement and convert to int\n",
    "train_df['sqft_basement'] = train_df['sqft_basement'].replace({'?':np.nan}).astype(float)\n",
    "train_df['sqft_basement'].fillna(train_df['sqft_living']-train_df['sqft_above'], inplace=True)\n",
    "X_test['sqft_basement'] = X_test['sqft_basement'].replace({'?':np.nan}).astype(float)\n",
    "X_test['sqft_basement'].fillna(X_test['sqft_living']-X_test['sqft_above'], inplace=True)"
   ]
  },
  {
   "cell_type": "markdown",
   "metadata": {
    "hidden": true
   },
   "source": [
    "We also extracted the month from the date to see if there were any seasonal impact on housing prices."
   ]
  },
  {
   "cell_type": "code",
   "execution_count": 13,
   "metadata": {
    "hidden": true,
    "scrolled": true
   },
   "outputs": [],
   "source": [
    "#retrieve the months and year\n",
    "train_df['month_of_date'] = pd.DatetimeIndex(train_df['date']).month\n",
    "train_df['year_of_date'] = pd.DatetimeIndex(train_df['date']).year\n",
    "X_test['month_of_date'] = pd.DatetimeIndex(X_test['date']).month\n",
    "X_test['year_of_date'] = pd.DatetimeIndex(X_test['date']).year"
   ]
  },
  {
   "cell_type": "markdown",
   "metadata": {
    "hidden": true
   },
   "source": [
    "We converted the year built column to the age of the house to compare the data more easily"
   ]
  },
  {
   "cell_type": "code",
   "execution_count": 14,
   "metadata": {
    "hidden": true,
    "scrolled": true
   },
   "outputs": [],
   "source": [
    "#convert yr_built to age of house by subtracting year the property was sold by the year it was built\n",
    "#to create a more sensible column \n",
    "train_df['age_of_house'] = train_df['year_of_date'] - train_df['yr_built']\n",
    "X_test['age_of_house'] = X_test['year_of_date'] - X_test['yr_built']\n",
    "\n",
    "#drop year of date because years are only 2014 and 2015, and will not impact our predicative model\n",
    "#drop yr_built b/c it is redundant with age_of_house\n",
    "train_df.drop(columns=['year_of_date'], inplace=True)\n",
    "train_df.drop(columns=['yr_built'], inplace=True)\n",
    "X_test.drop(columns=['year_of_date'], inplace=True)\n",
    "X_test.drop(columns=['yr_built'], inplace=True)"
   ]
  },
  {
   "cell_type": "code",
   "execution_count": 15,
   "metadata": {
    "hidden": true,
    "scrolled": true
   },
   "outputs": [],
   "source": [
    "#drop duplicates if any\n",
    "train_df.drop_duplicates(inplace=True)\n",
    "X_test.drop_duplicates(inplace=True)"
   ]
  },
  {
   "cell_type": "code",
   "execution_count": 16,
   "metadata": {
    "hidden": true,
    "scrolled": true
   },
   "outputs": [],
   "source": [
    "#drop id and date columns\n",
    "train_df.drop(columns=['date'], inplace=True)\n",
    "X_test.drop(columns=['date'], inplace=True)"
   ]
  },
  {
   "cell_type": "code",
   "execution_count": 17,
   "metadata": {
    "hidden": true,
    "scrolled": true
   },
   "outputs": [],
   "source": [
    "#reset index\n",
    "train_df.reset_index(inplace=True, drop=True)\n",
    "X_test.reset_index(inplace=True, drop=True)"
   ]
  },
  {
   "cell_type": "code",
   "execution_count": 18,
   "metadata": {
    "hidden": true,
    "scrolled": true
   },
   "outputs": [],
   "source": [
    "#convert some of the categorical data from floats to ints\n",
    "train_df['waterfront'] = train_df['waterfront'].astype(int)\n",
    "train_df['view'] = train_df['view'].astype(int)\n",
    "train_df['sqft_basement'] = train_df['sqft_basement'].astype(int)\n",
    "train_df['if_renovated'] = train_df['if_renovated'].astype(int)\n",
    "X_test['waterfront'] = X_test['waterfront'].astype(int)\n",
    "X_test['view'] = X_test['view'].astype(int)\n",
    "X_test['sqft_basement'] = X_test['sqft_basement'].astype(int)\n",
    "X_test['if_renovated'] = X_test['if_renovated'].astype(int)"
   ]
  },
  {
   "cell_type": "code",
   "execution_count": 19,
   "metadata": {
    "hidden": true
   },
   "outputs": [],
   "source": [
    "X_train = train_df.drop('price', axis=1)\n",
    "y_train = pd.DataFrame(train_df['price'])"
   ]
  },
  {
   "cell_type": "code",
   "execution_count": 20,
   "metadata": {
    "hidden": true,
    "scrolled": true
   },
   "outputs": [
    {
     "name": "stdout",
     "output_type": "stream",
     "text": [
      "<class 'pandas.core.frame.DataFrame'>\n",
      "RangeIndex: 16197 entries, 0 to 16196\n",
      "Data columns (total 19 columns):\n",
      " #   Column         Non-Null Count  Dtype  \n",
      "---  ------         --------------  -----  \n",
      " 0   bedrooms       16197 non-null  int64  \n",
      " 1   bathrooms      16197 non-null  float64\n",
      " 2   sqft_living    16197 non-null  int64  \n",
      " 3   sqft_lot       16197 non-null  int64  \n",
      " 4   floors         16197 non-null  float64\n",
      " 5   waterfront     16197 non-null  int64  \n",
      " 6   view           16197 non-null  int64  \n",
      " 7   condition      16197 non-null  int64  \n",
      " 8   grade          16197 non-null  int64  \n",
      " 9   sqft_above     16197 non-null  int64  \n",
      " 10  sqft_basement  16197 non-null  int64  \n",
      " 11  if_renovated   16197 non-null  int64  \n",
      " 12  zipcode        16197 non-null  int64  \n",
      " 13  lat            16197 non-null  float64\n",
      " 14  long           16197 non-null  float64\n",
      " 15  sqft_living15  16197 non-null  int64  \n",
      " 16  sqft_lot15     16197 non-null  int64  \n",
      " 17  month_of_date  16197 non-null  int64  \n",
      " 18  age_of_house   16197 non-null  int64  \n",
      "dtypes: float64(4), int64(15)\n",
      "memory usage: 2.3 MB\n"
     ]
    }
   ],
   "source": [
    "#check cleaned data\n",
    "X_train.info()"
   ]
  },
  {
   "cell_type": "code",
   "execution_count": 21,
   "metadata": {
    "hidden": true,
    "scrolled": true
   },
   "outputs": [
    {
     "data": {
      "text/html": [
       "<div>\n",
       "<style scoped>\n",
       "    .dataframe tbody tr th:only-of-type {\n",
       "        vertical-align: middle;\n",
       "    }\n",
       "\n",
       "    .dataframe tbody tr th {\n",
       "        vertical-align: top;\n",
       "    }\n",
       "\n",
       "    .dataframe thead th {\n",
       "        text-align: right;\n",
       "    }\n",
       "</style>\n",
       "<table border=\"1\" class=\"dataframe\">\n",
       "  <thead>\n",
       "    <tr style=\"text-align: right;\">\n",
       "      <th></th>\n",
       "      <th>bedrooms</th>\n",
       "      <th>bathrooms</th>\n",
       "      <th>sqft_living</th>\n",
       "      <th>sqft_lot</th>\n",
       "      <th>floors</th>\n",
       "      <th>waterfront</th>\n",
       "      <th>view</th>\n",
       "      <th>condition</th>\n",
       "      <th>grade</th>\n",
       "      <th>sqft_above</th>\n",
       "      <th>sqft_basement</th>\n",
       "      <th>if_renovated</th>\n",
       "      <th>zipcode</th>\n",
       "      <th>lat</th>\n",
       "      <th>long</th>\n",
       "      <th>sqft_living15</th>\n",
       "      <th>sqft_lot15</th>\n",
       "      <th>month_of_date</th>\n",
       "      <th>age_of_house</th>\n",
       "    </tr>\n",
       "  </thead>\n",
       "  <tbody>\n",
       "    <tr>\n",
       "      <th>0</th>\n",
       "      <td>3</td>\n",
       "      <td>2.50</td>\n",
       "      <td>1880</td>\n",
       "      <td>4499</td>\n",
       "      <td>2.0</td>\n",
       "      <td>0</td>\n",
       "      <td>0</td>\n",
       "      <td>3</td>\n",
       "      <td>8</td>\n",
       "      <td>1880</td>\n",
       "      <td>0</td>\n",
       "      <td>0</td>\n",
       "      <td>98029</td>\n",
       "      <td>47.5664</td>\n",
       "      <td>-121.999</td>\n",
       "      <td>2130</td>\n",
       "      <td>5114</td>\n",
       "      <td>3</td>\n",
       "      <td>22</td>\n",
       "    </tr>\n",
       "    <tr>\n",
       "      <th>1</th>\n",
       "      <td>3</td>\n",
       "      <td>2.50</td>\n",
       "      <td>2020</td>\n",
       "      <td>6564</td>\n",
       "      <td>1.0</td>\n",
       "      <td>0</td>\n",
       "      <td>0</td>\n",
       "      <td>3</td>\n",
       "      <td>7</td>\n",
       "      <td>1310</td>\n",
       "      <td>710</td>\n",
       "      <td>0</td>\n",
       "      <td>98042</td>\n",
       "      <td>47.3545</td>\n",
       "      <td>-122.158</td>\n",
       "      <td>1710</td>\n",
       "      <td>5151</td>\n",
       "      <td>10</td>\n",
       "      <td>20</td>\n",
       "    </tr>\n",
       "    <tr>\n",
       "      <th>2</th>\n",
       "      <td>5</td>\n",
       "      <td>4.00</td>\n",
       "      <td>4720</td>\n",
       "      <td>493534</td>\n",
       "      <td>2.0</td>\n",
       "      <td>0</td>\n",
       "      <td>0</td>\n",
       "      <td>5</td>\n",
       "      <td>9</td>\n",
       "      <td>3960</td>\n",
       "      <td>760</td>\n",
       "      <td>0</td>\n",
       "      <td>98027</td>\n",
       "      <td>47.4536</td>\n",
       "      <td>-122.009</td>\n",
       "      <td>2160</td>\n",
       "      <td>219542</td>\n",
       "      <td>1</td>\n",
       "      <td>40</td>\n",
       "    </tr>\n",
       "    <tr>\n",
       "      <th>3</th>\n",
       "      <td>2</td>\n",
       "      <td>2.00</td>\n",
       "      <td>1430</td>\n",
       "      <td>3880</td>\n",
       "      <td>1.0</td>\n",
       "      <td>0</td>\n",
       "      <td>0</td>\n",
       "      <td>4</td>\n",
       "      <td>7</td>\n",
       "      <td>1430</td>\n",
       "      <td>0</td>\n",
       "      <td>0</td>\n",
       "      <td>98117</td>\n",
       "      <td>47.6844</td>\n",
       "      <td>-122.392</td>\n",
       "      <td>1430</td>\n",
       "      <td>3880</td>\n",
       "      <td>3</td>\n",
       "      <td>66</td>\n",
       "    </tr>\n",
       "    <tr>\n",
       "      <th>4</th>\n",
       "      <td>3</td>\n",
       "      <td>2.25</td>\n",
       "      <td>2270</td>\n",
       "      <td>32112</td>\n",
       "      <td>1.0</td>\n",
       "      <td>0</td>\n",
       "      <td>0</td>\n",
       "      <td>4</td>\n",
       "      <td>8</td>\n",
       "      <td>1740</td>\n",
       "      <td>530</td>\n",
       "      <td>0</td>\n",
       "      <td>98042</td>\n",
       "      <td>47.3451</td>\n",
       "      <td>-122.094</td>\n",
       "      <td>2310</td>\n",
       "      <td>41606</td>\n",
       "      <td>10</td>\n",
       "      <td>34</td>\n",
       "    </tr>\n",
       "  </tbody>\n",
       "</table>\n",
       "</div>"
      ],
      "text/plain": [
       "   bedrooms  bathrooms  sqft_living  sqft_lot  floors  waterfront  view  \\\n",
       "0         3       2.50         1880      4499     2.0           0     0   \n",
       "1         3       2.50         2020      6564     1.0           0     0   \n",
       "2         5       4.00         4720    493534     2.0           0     0   \n",
       "3         2       2.00         1430      3880     1.0           0     0   \n",
       "4         3       2.25         2270     32112     1.0           0     0   \n",
       "\n",
       "   condition  grade  sqft_above  sqft_basement  if_renovated  zipcode  \\\n",
       "0          3      8        1880              0             0    98029   \n",
       "1          3      7        1310            710             0    98042   \n",
       "2          5      9        3960            760             0    98027   \n",
       "3          4      7        1430              0             0    98117   \n",
       "4          4      8        1740            530             0    98042   \n",
       "\n",
       "       lat     long  sqft_living15  sqft_lot15  month_of_date  age_of_house  \n",
       "0  47.5664 -121.999           2130        5114              3            22  \n",
       "1  47.3545 -122.158           1710        5151             10            20  \n",
       "2  47.4536 -122.009           2160      219542              1            40  \n",
       "3  47.6844 -122.392           1430        3880              3            66  \n",
       "4  47.3451 -122.094           2310       41606             10            34  "
      ]
     },
     "execution_count": 21,
     "metadata": {},
     "output_type": "execute_result"
    }
   ],
   "source": [
    "X_train.head()"
   ]
  },
  {
   "cell_type": "code",
   "execution_count": 22,
   "metadata": {
    "hidden": true
   },
   "outputs": [
    {
     "name": "stdout",
     "output_type": "stream",
     "text": [
      "<class 'pandas.core.frame.DataFrame'>\n",
      "RangeIndex: 5400 entries, 0 to 5399\n",
      "Data columns (total 19 columns):\n",
      " #   Column         Non-Null Count  Dtype  \n",
      "---  ------         --------------  -----  \n",
      " 0   bedrooms       5400 non-null   int64  \n",
      " 1   bathrooms      5400 non-null   float64\n",
      " 2   sqft_living    5400 non-null   int64  \n",
      " 3   sqft_lot       5400 non-null   int64  \n",
      " 4   floors         5400 non-null   float64\n",
      " 5   waterfront     5400 non-null   int64  \n",
      " 6   view           5400 non-null   int64  \n",
      " 7   condition      5400 non-null   int64  \n",
      " 8   grade          5400 non-null   int64  \n",
      " 9   sqft_above     5400 non-null   int64  \n",
      " 10  sqft_basement  5400 non-null   int64  \n",
      " 11  if_renovated   5400 non-null   int64  \n",
      " 12  zipcode        5400 non-null   int64  \n",
      " 13  lat            5400 non-null   float64\n",
      " 14  long           5400 non-null   float64\n",
      " 15  sqft_living15  5400 non-null   int64  \n",
      " 16  sqft_lot15     5400 non-null   int64  \n",
      " 17  month_of_date  5400 non-null   int64  \n",
      " 18  age_of_house   5400 non-null   int64  \n",
      "dtypes: float64(4), int64(15)\n",
      "memory usage: 801.7 KB\n"
     ]
    }
   ],
   "source": [
    "#check cleaned data\n",
    "X_test.info()"
   ]
  },
  {
   "cell_type": "code",
   "execution_count": 23,
   "metadata": {
    "hidden": true,
    "scrolled": true
   },
   "outputs": [
    {
     "data": {
      "text/html": [
       "<div>\n",
       "<style scoped>\n",
       "    .dataframe tbody tr th:only-of-type {\n",
       "        vertical-align: middle;\n",
       "    }\n",
       "\n",
       "    .dataframe tbody tr th {\n",
       "        vertical-align: top;\n",
       "    }\n",
       "\n",
       "    .dataframe thead th {\n",
       "        text-align: right;\n",
       "    }\n",
       "</style>\n",
       "<table border=\"1\" class=\"dataframe\">\n",
       "  <thead>\n",
       "    <tr style=\"text-align: right;\">\n",
       "      <th></th>\n",
       "      <th>bedrooms</th>\n",
       "      <th>bathrooms</th>\n",
       "      <th>sqft_living</th>\n",
       "      <th>sqft_lot</th>\n",
       "      <th>floors</th>\n",
       "      <th>waterfront</th>\n",
       "      <th>view</th>\n",
       "      <th>condition</th>\n",
       "      <th>grade</th>\n",
       "      <th>sqft_above</th>\n",
       "      <th>sqft_basement</th>\n",
       "      <th>if_renovated</th>\n",
       "      <th>zipcode</th>\n",
       "      <th>lat</th>\n",
       "      <th>long</th>\n",
       "      <th>sqft_living15</th>\n",
       "      <th>sqft_lot15</th>\n",
       "      <th>month_of_date</th>\n",
       "      <th>age_of_house</th>\n",
       "    </tr>\n",
       "  </thead>\n",
       "  <tbody>\n",
       "    <tr>\n",
       "      <th>0</th>\n",
       "      <td>3</td>\n",
       "      <td>0.75</td>\n",
       "      <td>850</td>\n",
       "      <td>8573</td>\n",
       "      <td>1.0</td>\n",
       "      <td>0</td>\n",
       "      <td>0</td>\n",
       "      <td>3</td>\n",
       "      <td>6</td>\n",
       "      <td>600</td>\n",
       "      <td>250</td>\n",
       "      <td>0</td>\n",
       "      <td>98146</td>\n",
       "      <td>47.5030</td>\n",
       "      <td>-122.356</td>\n",
       "      <td>850</td>\n",
       "      <td>8382</td>\n",
       "      <td>2</td>\n",
       "      <td>70</td>\n",
       "    </tr>\n",
       "    <tr>\n",
       "      <th>1</th>\n",
       "      <td>3</td>\n",
       "      <td>1.00</td>\n",
       "      <td>1510</td>\n",
       "      <td>6083</td>\n",
       "      <td>1.0</td>\n",
       "      <td>0</td>\n",
       "      <td>0</td>\n",
       "      <td>4</td>\n",
       "      <td>6</td>\n",
       "      <td>860</td>\n",
       "      <td>650</td>\n",
       "      <td>0</td>\n",
       "      <td>98115</td>\n",
       "      <td>47.6966</td>\n",
       "      <td>-122.324</td>\n",
       "      <td>1510</td>\n",
       "      <td>5712</td>\n",
       "      <td>10</td>\n",
       "      <td>74</td>\n",
       "    </tr>\n",
       "    <tr>\n",
       "      <th>2</th>\n",
       "      <td>4</td>\n",
       "      <td>2.25</td>\n",
       "      <td>1790</td>\n",
       "      <td>42000</td>\n",
       "      <td>1.0</td>\n",
       "      <td>0</td>\n",
       "      <td>0</td>\n",
       "      <td>3</td>\n",
       "      <td>7</td>\n",
       "      <td>1170</td>\n",
       "      <td>620</td>\n",
       "      <td>0</td>\n",
       "      <td>98045</td>\n",
       "      <td>47.4819</td>\n",
       "      <td>-121.744</td>\n",
       "      <td>2060</td>\n",
       "      <td>50094</td>\n",
       "      <td>3</td>\n",
       "      <td>32</td>\n",
       "    </tr>\n",
       "    <tr>\n",
       "      <th>3</th>\n",
       "      <td>2</td>\n",
       "      <td>1.50</td>\n",
       "      <td>1140</td>\n",
       "      <td>2500</td>\n",
       "      <td>1.0</td>\n",
       "      <td>0</td>\n",
       "      <td>1</td>\n",
       "      <td>3</td>\n",
       "      <td>7</td>\n",
       "      <td>630</td>\n",
       "      <td>510</td>\n",
       "      <td>0</td>\n",
       "      <td>98106</td>\n",
       "      <td>47.5707</td>\n",
       "      <td>-122.359</td>\n",
       "      <td>1500</td>\n",
       "      <td>5000</td>\n",
       "      <td>2</td>\n",
       "      <td>27</td>\n",
       "    </tr>\n",
       "    <tr>\n",
       "      <th>4</th>\n",
       "      <td>3</td>\n",
       "      <td>1.00</td>\n",
       "      <td>1500</td>\n",
       "      <td>3920</td>\n",
       "      <td>1.0</td>\n",
       "      <td>0</td>\n",
       "      <td>0</td>\n",
       "      <td>3</td>\n",
       "      <td>7</td>\n",
       "      <td>1000</td>\n",
       "      <td>500</td>\n",
       "      <td>0</td>\n",
       "      <td>98107</td>\n",
       "      <td>47.6718</td>\n",
       "      <td>-122.359</td>\n",
       "      <td>1640</td>\n",
       "      <td>4017</td>\n",
       "      <td>5</td>\n",
       "      <td>67</td>\n",
       "    </tr>\n",
       "  </tbody>\n",
       "</table>\n",
       "</div>"
      ],
      "text/plain": [
       "   bedrooms  bathrooms  sqft_living  sqft_lot  floors  waterfront  view  \\\n",
       "0         3       0.75          850      8573     1.0           0     0   \n",
       "1         3       1.00         1510      6083     1.0           0     0   \n",
       "2         4       2.25         1790     42000     1.0           0     0   \n",
       "3         2       1.50         1140      2500     1.0           0     1   \n",
       "4         3       1.00         1500      3920     1.0           0     0   \n",
       "\n",
       "   condition  grade  sqft_above  sqft_basement  if_renovated  zipcode  \\\n",
       "0          3      6         600            250             0    98146   \n",
       "1          4      6         860            650             0    98115   \n",
       "2          3      7        1170            620             0    98045   \n",
       "3          3      7         630            510             0    98106   \n",
       "4          3      7        1000            500             0    98107   \n",
       "\n",
       "       lat     long  sqft_living15  sqft_lot15  month_of_date  age_of_house  \n",
       "0  47.5030 -122.356            850        8382              2            70  \n",
       "1  47.6966 -122.324           1510        5712             10            74  \n",
       "2  47.4819 -121.744           2060       50094              3            32  \n",
       "3  47.5707 -122.359           1500        5000              2            27  \n",
       "4  47.6718 -122.359           1640        4017              5            67  "
      ]
     },
     "execution_count": 23,
     "metadata": {},
     "output_type": "execute_result"
    }
   ],
   "source": [
    "X_test.head()"
   ]
  },
  {
   "cell_type": "markdown",
   "metadata": {
    "heading_collapsed": true
   },
   "source": [
    "## Log-Transforming Data"
   ]
  },
  {
   "cell_type": "markdown",
   "metadata": {
    "hidden": true
   },
   "source": [
    "To normalize the price data, we log-transformed (base of e) the data. We can see in the histogram below, the log-transformed data looks more similar to a normal distribution than untransformed price data. "
   ]
  },
  {
   "cell_type": "code",
   "execution_count": 24,
   "metadata": {
    "hidden": true,
    "scrolled": true
   },
   "outputs": [],
   "source": [
    "#Because the data is skewed to the right, transform the price data using log\n",
    "y_train['price'] = np.log(y_train['price'])"
   ]
  },
  {
   "cell_type": "code",
   "execution_count": 25,
   "metadata": {
    "hidden": true
   },
   "outputs": [
    {
     "data": {
      "text/html": [
       "<div>\n",
       "<style scoped>\n",
       "    .dataframe tbody tr th:only-of-type {\n",
       "        vertical-align: middle;\n",
       "    }\n",
       "\n",
       "    .dataframe tbody tr th {\n",
       "        vertical-align: top;\n",
       "    }\n",
       "\n",
       "    .dataframe thead th {\n",
       "        text-align: right;\n",
       "    }\n",
       "</style>\n",
       "<table border=\"1\" class=\"dataframe\">\n",
       "  <thead>\n",
       "    <tr style=\"text-align: right;\">\n",
       "      <th></th>\n",
       "      <th>price</th>\n",
       "    </tr>\n",
       "  </thead>\n",
       "  <tbody>\n",
       "    <tr>\n",
       "      <th>0</th>\n",
       "      <td>13.178744</td>\n",
       "    </tr>\n",
       "    <tr>\n",
       "      <th>1</th>\n",
       "      <td>12.441145</td>\n",
       "    </tr>\n",
       "    <tr>\n",
       "      <th>2</th>\n",
       "      <td>13.521139</td>\n",
       "    </tr>\n",
       "    <tr>\n",
       "      <th>3</th>\n",
       "      <td>13.208541</td>\n",
       "    </tr>\n",
       "    <tr>\n",
       "      <th>4</th>\n",
       "      <td>12.873902</td>\n",
       "    </tr>\n",
       "  </tbody>\n",
       "</table>\n",
       "</div>"
      ],
      "text/plain": [
       "       price\n",
       "0  13.178744\n",
       "1  12.441145\n",
       "2  13.521139\n",
       "3  13.208541\n",
       "4  12.873902"
      ]
     },
     "execution_count": 25,
     "metadata": {},
     "output_type": "execute_result"
    }
   ],
   "source": [
    "y_train.head()"
   ]
  },
  {
   "cell_type": "code",
   "execution_count": 26,
   "metadata": {
    "hidden": true,
    "scrolled": true
   },
   "outputs": [],
   "source": [
    "#based on the pairplot, we can see which data are categorical and which are numeric\n",
    "numeric = ['bedrooms', \n",
    "           'bathrooms', \n",
    "           'sqft_living', \n",
    "           'sqft_lot', \n",
    "           'sqft_above', \n",
    "           'sqft_basement',\n",
    "           'lat', \n",
    "           'long',\n",
    "           'sqft_living15', \n",
    "           'sqft_lot15']\n",
    "\n",
    "categorical = ['floors',\n",
    "               'waterfront', \n",
    "               'view', \n",
    "               'condition', \n",
    "               'grade',\n",
    "               'if_renovated',\n",
    "               'zipcode',\n",
    "               'month_of_date']"
   ]
  },
  {
   "cell_type": "markdown",
   "metadata": {
    "hidden": true
   },
   "source": [
    "It's important to validate that all observations are properly input or they could throw off the modeling process. Some erroneous observations may have values that dont make sense in a realworld context making them easy to identify and remove. "
   ]
  },
  {
   "cell_type": "code",
   "execution_count": 27,
   "metadata": {
    "hidden": true,
    "scrolled": true
   },
   "outputs": [
    {
     "data": {
      "text/plain": [
       "3     7339\n",
       "4     5184\n",
       "2     2074\n",
       "5     1199\n",
       "6      199\n",
       "1      152\n",
       "7       33\n",
       "8       10\n",
       "9        4\n",
       "10       2\n",
       "11       1\n",
       "Name: bedrooms, dtype: int64"
      ]
     },
     "metadata": {},
     "output_type": "display_data"
    },
    {
     "data": {
      "text/plain": [
       "2.50    4038\n",
       "1.00    2878\n",
       "1.75    2296\n",
       "2.25    1528\n",
       "2.00    1433\n",
       "1.50    1097\n",
       "2.75     879\n",
       "3.00     571\n",
       "3.50     550\n",
       "3.25     441\n",
       "4.00     111\n",
       "3.75     109\n",
       "4.50      80\n",
       "4.25      64\n",
       "0.75      53\n",
       "4.75      19\n",
       "5.00      14\n",
       "5.25      10\n",
       "1.25       5\n",
       "5.50       5\n",
       "0.50       4\n",
       "6.00       3\n",
       "5.75       3\n",
       "6.50       2\n",
       "8.00       2\n",
       "6.75       2\n",
       "Name: bathrooms, dtype: int64"
      ]
     },
     "metadata": {},
     "output_type": "display_data"
    },
    {
     "data": {
      "text/plain": [
       "1800    104\n",
       "1300    103\n",
       "1010    101\n",
       "1540    100\n",
       "1480     99\n",
       "       ... \n",
       "4870      1\n",
       "2885      1\n",
       "5030      1\n",
       "5070      1\n",
       "1867      1\n",
       "Name: sqft_living, Length: 896, dtype: int64"
      ]
     },
     "metadata": {},
     "output_type": "display_data"
    },
    {
     "data": {
      "text/plain": [
       "5000     264\n",
       "6000     209\n",
       "4000     189\n",
       "7200     167\n",
       "7500      96\n",
       "        ... \n",
       "7847       1\n",
       "5806       1\n",
       "9904       1\n",
       "18815      1\n",
       "43017      1\n",
       "Name: sqft_lot, Length: 8015, dtype: int64"
      ]
     },
     "metadata": {},
     "output_type": "display_data"
    },
    {
     "data": {
      "text/plain": [
       "1.0    8002\n",
       "2.0    6185\n",
       "1.5    1425\n",
       "3.0     463\n",
       "2.5     115\n",
       "3.5       7\n",
       "Name: floors, dtype: int64"
      ]
     },
     "metadata": {},
     "output_type": "display_data"
    },
    {
     "data": {
      "text/plain": [
       "0    16086\n",
       "1      111\n",
       "Name: waterfront, dtype: int64"
      ]
     },
     "metadata": {},
     "output_type": "display_data"
    },
    {
     "data": {
      "text/plain": [
       "0    14634\n",
       "2      695\n",
       "3      378\n",
       "4      245\n",
       "1      245\n",
       "Name: view, dtype: int64"
      ]
     },
     "metadata": {},
     "output_type": "display_data"
    },
    {
     "data": {
      "text/plain": [
       "3    10525\n",
       "4     4238\n",
       "5     1287\n",
       "2      129\n",
       "1       18\n",
       "Name: condition, dtype: int64"
      ]
     },
     "metadata": {},
     "output_type": "display_data"
    },
    {
     "data": {
      "text/plain": [
       "7     6718\n",
       "8     4608\n",
       "9     1936\n",
       "6     1506\n",
       "10     851\n",
       "11     295\n",
       "5      188\n",
       "12      69\n",
       "4       17\n",
       "13       8\n",
       "3        1\n",
       "Name: grade, dtype: int64"
      ]
     },
     "metadata": {},
     "output_type": "display_data"
    },
    {
     "data": {
      "text/plain": [
       "1010    170\n",
       "1300    161\n",
       "1200    151\n",
       "1060    138\n",
       "1140    137\n",
       "       ... \n",
       "3859      1\n",
       "1834      1\n",
       "3915      1\n",
       "2095      1\n",
       "2031      1\n",
       "Name: sqft_above, Length: 814, dtype: int64"
      ]
     },
     "metadata": {},
     "output_type": "display_data"
    },
    {
     "data": {
      "text/plain": [
       "0       9806\n",
       "600      168\n",
       "700      159\n",
       "500      158\n",
       "800      156\n",
       "        ... \n",
       "2730       1\n",
       "2850       1\n",
       "875        1\n",
       "915        1\n",
       "2610       1\n",
       "Name: sqft_basement, Length: 281, dtype: int64"
      ]
     },
     "metadata": {},
     "output_type": "display_data"
    },
    {
     "data": {
      "text/plain": [
       "0    15650\n",
       "1      547\n",
       "Name: if_renovated, dtype: int64"
      ]
     },
     "metadata": {},
     "output_type": "display_data"
    },
    {
     "data": {
      "text/plain": [
       "98103    466\n",
       "98052    439\n",
       "98038    433\n",
       "98115    433\n",
       "98117    417\n",
       "        ... \n",
       "98010     81\n",
       "98109     77\n",
       "98024     64\n",
       "98148     45\n",
       "98039     40\n",
       "Name: zipcode, Length: 70, dtype: int64"
      ]
     },
     "metadata": {},
     "output_type": "display_data"
    },
    {
     "data": {
      "text/plain": [
       "47.5491    15\n",
       "47.6711    14\n",
       "47.7076    14\n",
       "47.5396    13\n",
       "47.6955    13\n",
       "           ..\n",
       "47.4765     1\n",
       "47.3579     1\n",
       "47.2309     1\n",
       "47.5195     1\n",
       "47.3034     1\n",
       "Name: lat, Length: 4783, dtype: int64"
      ]
     },
     "metadata": {},
     "output_type": "display_data"
    },
    {
     "data": {
      "text/plain": [
       "-122.290    91\n",
       "-122.362    83\n",
       "-122.291    81\n",
       "-122.288    77\n",
       "-122.372    76\n",
       "            ..\n",
       "-122.519     1\n",
       "-121.730     1\n",
       "-122.460     1\n",
       "-122.484     1\n",
       "-122.448     1\n",
       "Name: long, Length: 720, dtype: int64"
      ]
     },
     "metadata": {},
     "output_type": "display_data"
    },
    {
     "data": {
      "text/plain": [
       "1540    151\n",
       "1560    145\n",
       "1440    144\n",
       "1480    129\n",
       "1720    128\n",
       "       ... \n",
       "2092      1\n",
       "2075      1\n",
       "2156      1\n",
       "2236      1\n",
       "4070      1\n",
       "Name: sqft_living15, Length: 691, dtype: int64"
      ]
     },
     "metadata": {},
     "output_type": "display_data"
    },
    {
     "data": {
      "text/plain": [
       "5000     324\n",
       "4000     260\n",
       "6000     214\n",
       "7200     156\n",
       "7500     105\n",
       "        ... \n",
       "7775       1\n",
       "17771      1\n",
       "5734       1\n",
       "7783       1\n",
       "8196       1\n",
       "Name: sqft_lot15, Length: 7230, dtype: int64"
      ]
     },
     "metadata": {},
     "output_type": "display_data"
    },
    {
     "data": {
      "text/plain": [
       "5     1816\n",
       "4     1682\n",
       "7     1659\n",
       "6     1604\n",
       "8     1473\n",
       "3     1422\n",
       "10    1393\n",
       "9     1340\n",
       "12    1101\n",
       "11    1060\n",
       "2      909\n",
       "1      738\n",
       "Name: month_of_date, dtype: int64"
      ]
     },
     "metadata": {},
     "output_type": "display_data"
    },
    {
     "data": {
      "text/plain": [
       " 9      358\n",
       " 10     331\n",
       " 8      330\n",
       " 11     314\n",
       " 0      312\n",
       "       ... \n",
       " 113     21\n",
       " 115     19\n",
       " 81      19\n",
       " 80      17\n",
       "-1       10\n",
       "Name: age_of_house, Length: 117, dtype: int64"
      ]
     },
     "metadata": {},
     "output_type": "display_data"
    }
   ],
   "source": [
    "#visually inspecting value counts to look for weird values\n",
    "for column in X_train.columns:\n",
    "    display(X_train[column].value_counts())"
   ]
  },
  {
   "cell_type": "code",
   "execution_count": 28,
   "metadata": {
    "hidden": true,
    "scrolled": true
   },
   "outputs": [],
   "source": [
    "#log transform all numeric feature except:\n",
    "#sqft basement - has values of 0\n",
    "#long - has negative values\n",
    "to_ln = ['bedrooms',\n",
    "         'bathrooms',\n",
    "         'sqft_living',\n",
    "         'sqft_lot', \n",
    "         'sqft_above',\n",
    "         'lat',\n",
    "         'sqft_living15', \n",
    "         'sqft_lot15']\n",
    "\n",
    "for column in to_ln:\n",
    "    X_train[column] = np.log(X_train[column])\n",
    "    X_test[column] = np.log(X_test[column])"
   ]
  },
  {
   "cell_type": "markdown",
   "metadata": {},
   "source": [
    "## Data Mainipulation"
   ]
  },
  {
   "cell_type": "markdown",
   "metadata": {},
   "source": [
    "For this section, we focused on create an efficient way to take our cleaned dataframe and create train and test splits for each of our model."
   ]
  },
  {
   "cell_type": "code",
   "execution_count": 29,
   "metadata": {},
   "outputs": [],
   "source": [
    "#instantiating OHE object\n",
    "ohe = OneHotEncoder(sparse=False, handle_unknown='error', drop='first')\n",
    "\n",
    "#Fitting object onto test and trasnforming test and train\n",
    "X_train_ohe = ohe.fit_transform(X_train[categorical])\n",
    "X_test_ohe = ohe.transform(X_test[categorical])\n",
    "\n",
    "#placing column names onto our new categorical columns and formatting as df\n",
    "X_train_ohe_df = pd.DataFrame(X_train_ohe, columns=ohe.get_feature_names(categorical), \n",
    "                              index=X_train.index)\n",
    "X_test_ohe_df = pd.DataFrame(X_test_ohe, columns=ohe.get_feature_names(categorical),\n",
    "                            index=X_test.index)\n",
    "\n",
    "#combining categoricals with rest of data\n",
    "X_train = pd.concat([X_train[numeric], X_train_ohe_df],axis=1)\n",
    "X_test = pd.concat([X_test[numeric], X_test_ohe_df], axis=1)\n",
    "\n",
    "#scaling train,test splits\n",
    "X_list = [X_train,X_test]\n",
    "\n",
    "ss=StandardScaler()\n",
    "for i in X_list:\n",
    "    ss.fit(i)\n",
    "    i = pd.DataFrame(ss.transform(i))"
   ]
  },
  {
   "cell_type": "markdown",
   "metadata": {
    "heading_collapsed": true
   },
   "source": [
    "## Formulas and Useful Objects"
   ]
  },
  {
   "cell_type": "markdown",
   "metadata": {
    "hidden": true
   },
   "source": [
    "We created several formulas to efficiently run repetitive processes, including running cross validation, checking for R-squared and RMSE, and plotting different linear regression assumption tests."
   ]
  },
  {
   "cell_type": "code",
   "execution_count": 30,
   "metadata": {
    "hidden": true,
    "scrolled": true
   },
   "outputs": [],
   "source": [
    "def cross_val(estimator,X,y,n_splits=10,test_size=0.25, random_state=None):\n",
    "    \"\"\"\n",
    "    This formula performs cross validation using shuffled splits. Output is a tuple,\n",
    "    The 0th element is the median R2 score for the train sets, the 1st element\n",
    "    is the median R2 score for the test sets.\n",
    "    \n",
    "    \"\"\"\n",
    "    splitter = ShuffleSplit(n_splits=n_splits, test_size=test_size, random_state=random_state)\n",
    "\n",
    "    output = cross_validate(estimator, X=X, y=y, cv=splitter, return_train_score=True)\n",
    "    return np.median(output['train_score']), np.median(output['test_score'])"
   ]
  },
  {
   "cell_type": "code",
   "execution_count": 31,
   "metadata": {
    "hidden": true,
    "scrolled": true
   },
   "outputs": [],
   "source": [
    "#returns a summary of the median train R-squared, median test R-squared, and differential score based\n",
    "#on the cross validation\n",
    "def cval_summary(train,test,diff):\n",
    "    return f\"The median R-squared values for the train sets were {round(train,3)}, the median R-squared values for the test sets were {round(test,3)}. These values resulted in a differential of {round(diff,5)}\""
   ]
  },
  {
   "cell_type": "code",
   "execution_count": 32,
   "metadata": {
    "hidden": true,
    "scrolled": true
   },
   "outputs": [],
   "source": [
    "def score_model(model, Xtrain, Xtest, ytrain, ytest, log=False):\n",
    "    '''\n",
    "    This function takes in a model and the train and test samples and returns\n",
    "    the train R-squared, test R-squared, and the RMSE\n",
    "    '''\n",
    "    if log == False:\n",
    "        rmse = mean_squared_error(ytest, model.predict(Xtest), squared=False)\n",
    "    else:\n",
    "        rmse = mean_squared_error(np.exp(ytest), np.exp(model.predict(Xtest)), squared=False)\n",
    "    return model.score(Xtrain, ytrain),  model.score(Xtest, ytest), rmse"
   ]
  },
  {
   "cell_type": "code",
   "execution_count": 33,
   "metadata": {
    "hidden": true,
    "scrolled": true
   },
   "outputs": [],
   "source": [
    "#returns a summary of the train R-squared, test R-squared, differential between R-squared, and RMSE\n",
    "def model_summary(train,test,diff,rmse):\n",
    "    return f\"The R-squared value for the train set was {round(train,3)}, and the R-squared value for the test set was {round(test,3)}. These values resulted in a differential of {round(diff,5)}. The RMSE of our model predicitons was {round(rmse,2)}\""
   ]
  },
  {
   "cell_type": "code",
   "execution_count": 34,
   "metadata": {
    "hidden": true,
    "scrolled": true
   },
   "outputs": [],
   "source": [
    "def normality_test(ols_model):\n",
    "    \"\"\"\n",
    "    tests for normality by taking in an OLS model, and reporting out different test features\n",
    "    and plots the Q-Q plot\n",
    "    \"\"\"\n",
    "    residuals = ols_model.resid\n",
    "    name = ['Jarque-Bera','Prob','Skew', 'Kurtosis']\n",
    "    test = sms.jarque_bera(residuals)\n",
    "    for name, test in zip(name, test):\n",
    "        print('\\n',name, '----')\n",
    "        print(test)\n",
    "    fig = sm.graphics.qqplot(residuals, dist=stats.norm, line='45', fit=True);\n",
    "    fig.show();"
   ]
  },
  {
   "cell_type": "code",
   "execution_count": 35,
   "metadata": {
    "hidden": true,
    "scrolled": true
   },
   "outputs": [],
   "source": [
    "def homoscedasticity_test(ols_model):\n",
    "    \"\"\"\n",
    "    tests for homoscedasticity by taking in an OLS model, and reporting out different test features\n",
    "    and plots residual vs fitted plot\n",
    "    \"\"\"\n",
    "    predicted_y = ols_model.predict()\n",
    "    resids = ols_model.resid\n",
    "\n",
    "    fig, ax = plt.subplots()\n",
    "\n",
    "    sns.regplot(x=predicted_y, y=resids, lowess=True, ax=ax, line_kws={'color': 'red'})\n",
    "    ax.set_title('Residuals vs Fitted', fontsize=16)\n",
    "    ax.set(xlabel='Fitted Values', ylabel='Residuals')\n",
    "\n",
    "    bp_test = pd.DataFrame(sms.het_breuschpagan(resids, ols_model.model.exog), \n",
    "                           columns=['value'],\n",
    "                           index=['Lagrange multiplier statistic', 'p-value', 'f-value', 'f p-value'])\n",
    "\n",
    "    gq_test = pd.DataFrame(sms.het_goldfeldquandt(resids, ols_model.model.exog)[:-1],\n",
    "                           columns=['value'],\n",
    "                           index=['F statistic', 'p-value'])\n",
    "\n",
    "    print('\\n Breusch-Pagan test ----')\n",
    "    print(bp_test)\n",
    "    print('\\n Goldfeld-Quandt test ----')\n",
    "    print(gq_test)\n",
    "    print('\\n Residuals plot ----')"
   ]
  },
  {
   "cell_type": "code",
   "execution_count": 36,
   "metadata": {
    "hidden": true,
    "scrolled": true
   },
   "outputs": [],
   "source": [
    "def actual_vs_predicted(model,X_test,y_test):\n",
    "    \"\"\"\n",
    "    Plots the actual y vs the predicted y\n",
    "    \"\"\"\n",
    "    y_predicted = model.predict(X_test)\n",
    "    fig, ax = plt.subplots(figsize=(10,10))\n",
    "    ax.scatter(x=y_test, y=y_predicted)\n",
    "    ax.set_xlabel(\"Actual Price Values\")\n",
    "    ax.set_ylabel(\"Predicted Price Values\")\n",
    "    ax.set_title(\"Actual vs Predicted\")\n",
    "    \n",
    "    p1 = max(max(y_test), max(y_predicted))\n",
    "    p2 = min(min(y_test), min(y_predicted))\n",
    "    plt.plot([p1, p2], [p1, p2], 'b-')"
   ]
  },
  {
   "cell_type": "code",
   "execution_count": 37,
   "metadata": {
    "hidden": true,
    "scrolled": true
   },
   "outputs": [],
   "source": [
    "def plot_cooks_distance(c):\n",
    "    \"\"\"\n",
    "    takes in cook's distance data and plots the cook's distance\n",
    "    \"\"\"\n",
    "    _, ax = plt.subplots(figsize=(6,6))\n",
    "    ax.stem(c, markerfmt=\",\")\n",
    "    ax.set_xlabel(\"instance\")\n",
    "    ax.set_ylabel(\"distance\")\n",
    "    ax.set_title(\"Cook's Distance\")\n",
    "    return ax"
   ]
  },
  {
   "cell_type": "markdown",
   "metadata": {},
   "source": [
    "## Model 1"
   ]
  },
  {
   "cell_type": "markdown",
   "metadata": {},
   "source": [
    "Model 1 uses a multiple linear regression model of the data using all features, including the dummied out categorical features."
   ]
  },
  {
   "cell_type": "markdown",
   "metadata": {},
   "source": [
    "### Model 1: Target Price"
   ]
  },
  {
   "cell_type": "markdown",
   "metadata": {},
   "source": [
    "We analyzed the untransformed price data set."
   ]
  },
  {
   "cell_type": "code",
   "execution_count": 38,
   "metadata": {
    "scrolled": true
   },
   "outputs": [],
   "source": [
    "#create linear regression model for price and setting up cross validation \n",
    "model1 = LinearRegression()\n",
    "model1.fit(X_train, y_train);"
   ]
  },
  {
   "cell_type": "code",
   "execution_count": 39,
   "metadata": {
    "scrolled": true
   },
   "outputs": [
    {
     "data": {
      "text/plain": [
       "'The median R-squared values for the train sets were 0.888, the median R-squared values for the test sets were 0.887. These values resulted in a differential of 0.00071'"
      ]
     },
     "execution_count": 39,
     "metadata": {},
     "output_type": "execute_result"
    }
   ],
   "source": [
    "#setting up cross validation for price in a different way \n",
    "model1_cval = cross_val(model1,\n",
    "                        X= X_train,\n",
    "                        y=y_train,\n",
    "                        random_state=0)\n",
    "\n",
    "model1_cval_summary = cval_summary(model1_cval[0],\n",
    "                                   model1_cval[1],\n",
    "                                   abs(model1_cval[0]-model1_cval[1]))\n",
    "model1_cval_summary"
   ]
  },
  {
   "cell_type": "code",
   "execution_count": 40,
   "metadata": {},
   "outputs": [
    {
     "data": {
      "text/plain": [
       "(5400, 1)"
      ]
     },
     "execution_count": 40,
     "metadata": {},
     "output_type": "execute_result"
    }
   ],
   "source": [
    "y_hat = model1.predict(X_test)\n",
    "y_hat = np.exp(y_hat)\n",
    "y_hat.shape"
   ]
  },
  {
   "cell_type": "code",
   "execution_count": 41,
   "metadata": {},
   "outputs": [],
   "source": [
    "np.savetxt('DS_060721_Group_1_bakeoff_results.csv', y_hat, delimiter=',')"
   ]
  }
 ],
 "metadata": {
  "kernelspec": {
   "display_name": "Python 3",
   "language": "python",
   "name": "python3"
  },
  "language_info": {
   "codemirror_mode": {
    "name": "ipython",
    "version": 3
   },
   "file_extension": ".py",
   "mimetype": "text/x-python",
   "name": "python",
   "nbconvert_exporter": "python",
   "pygments_lexer": "ipython3",
   "version": "3.8.5"
  }
 },
 "nbformat": 4,
 "nbformat_minor": 5
}
