{
 "cells": [
  {
   "cell_type": "markdown",
   "metadata": {},
   "source": [
    "# Phase 2 Group 1 Project"
   ]
  },
  {
   "cell_type": "markdown",
   "metadata": {
    "heading_collapsed": true
   },
   "source": [
    "## Import"
   ]
  },
  {
   "cell_type": "code",
   "execution_count": 128,
   "metadata": {
    "hidden": true
   },
   "outputs": [],
   "source": [
    "#import appropriate libraries\n",
    "import numpy as np\n",
    "import pandas as pd\n",
    "import matplotlib.pyplot as plt\n",
    "import seaborn as sns\n",
    "import folium\n",
    "from statsmodels.formula.api import ols\n",
    "from statsmodels.stats.outliers_influence import variance_inflation_factor\n",
    "from sklearn.linear_model import LinearRegression\n",
    "from sklearn.model_selection import cross_validate, ShuffleSplit\n",
    "from sklearn.model_selection import train_test_split\n",
    "from sklearn.feature_selection import RFE\n",
    "from sklearn.preprocessing import PolynomialFeatures, StandardScaler\n",
    "from sklearn.linear_model import LinearRegression\n",
    "from sklearn.model_selection import cross_val_score\n",
    "from sklearn.dummy import DummyRegressor\n",
    "\n",
    "pd.set_option('display.max_columns', None)\n",
    "%matplotlib inline"
   ]
  },
  {
   "cell_type": "markdown",
   "metadata": {
    "heading_collapsed": true
   },
   "source": [
    "## Review the Data File"
   ]
  },
  {
   "cell_type": "code",
   "execution_count": 83,
   "metadata": {
    "hidden": true
   },
   "outputs": [],
   "source": [
    "#read in the file\n",
    "df = pd.read_csv('data/kc_house_data.csv')"
   ]
  },
  {
   "cell_type": "code",
   "execution_count": 84,
   "metadata": {
    "hidden": true
   },
   "outputs": [
    {
     "data": {
      "text/html": [
       "<div>\n",
       "<style scoped>\n",
       "    .dataframe tbody tr th:only-of-type {\n",
       "        vertical-align: middle;\n",
       "    }\n",
       "\n",
       "    .dataframe tbody tr th {\n",
       "        vertical-align: top;\n",
       "    }\n",
       "\n",
       "    .dataframe thead th {\n",
       "        text-align: right;\n",
       "    }\n",
       "</style>\n",
       "<table border=\"1\" class=\"dataframe\">\n",
       "  <thead>\n",
       "    <tr style=\"text-align: right;\">\n",
       "      <th></th>\n",
       "      <th>id</th>\n",
       "      <th>date</th>\n",
       "      <th>price</th>\n",
       "      <th>bedrooms</th>\n",
       "      <th>bathrooms</th>\n",
       "      <th>sqft_living</th>\n",
       "      <th>sqft_lot</th>\n",
       "      <th>floors</th>\n",
       "      <th>waterfront</th>\n",
       "      <th>view</th>\n",
       "      <th>condition</th>\n",
       "      <th>grade</th>\n",
       "      <th>sqft_above</th>\n",
       "      <th>sqft_basement</th>\n",
       "      <th>yr_built</th>\n",
       "      <th>yr_renovated</th>\n",
       "      <th>zipcode</th>\n",
       "      <th>lat</th>\n",
       "      <th>long</th>\n",
       "      <th>sqft_living15</th>\n",
       "      <th>sqft_lot15</th>\n",
       "    </tr>\n",
       "  </thead>\n",
       "  <tbody>\n",
       "    <tr>\n",
       "      <th>0</th>\n",
       "      <td>7129300520</td>\n",
       "      <td>10/13/2014</td>\n",
       "      <td>221900.0</td>\n",
       "      <td>3</td>\n",
       "      <td>1.00</td>\n",
       "      <td>1180</td>\n",
       "      <td>5650</td>\n",
       "      <td>1.0</td>\n",
       "      <td>NaN</td>\n",
       "      <td>0.0</td>\n",
       "      <td>3</td>\n",
       "      <td>7</td>\n",
       "      <td>1180</td>\n",
       "      <td>0.0</td>\n",
       "      <td>1955</td>\n",
       "      <td>0.0</td>\n",
       "      <td>98178</td>\n",
       "      <td>47.5112</td>\n",
       "      <td>-122.257</td>\n",
       "      <td>1340</td>\n",
       "      <td>5650</td>\n",
       "    </tr>\n",
       "    <tr>\n",
       "      <th>1</th>\n",
       "      <td>6414100192</td>\n",
       "      <td>12/9/2014</td>\n",
       "      <td>538000.0</td>\n",
       "      <td>3</td>\n",
       "      <td>2.25</td>\n",
       "      <td>2570</td>\n",
       "      <td>7242</td>\n",
       "      <td>2.0</td>\n",
       "      <td>0.0</td>\n",
       "      <td>0.0</td>\n",
       "      <td>3</td>\n",
       "      <td>7</td>\n",
       "      <td>2170</td>\n",
       "      <td>400.0</td>\n",
       "      <td>1951</td>\n",
       "      <td>1991.0</td>\n",
       "      <td>98125</td>\n",
       "      <td>47.7210</td>\n",
       "      <td>-122.319</td>\n",
       "      <td>1690</td>\n",
       "      <td>7639</td>\n",
       "    </tr>\n",
       "    <tr>\n",
       "      <th>2</th>\n",
       "      <td>5631500400</td>\n",
       "      <td>2/25/2015</td>\n",
       "      <td>180000.0</td>\n",
       "      <td>2</td>\n",
       "      <td>1.00</td>\n",
       "      <td>770</td>\n",
       "      <td>10000</td>\n",
       "      <td>1.0</td>\n",
       "      <td>0.0</td>\n",
       "      <td>0.0</td>\n",
       "      <td>3</td>\n",
       "      <td>6</td>\n",
       "      <td>770</td>\n",
       "      <td>0.0</td>\n",
       "      <td>1933</td>\n",
       "      <td>NaN</td>\n",
       "      <td>98028</td>\n",
       "      <td>47.7379</td>\n",
       "      <td>-122.233</td>\n",
       "      <td>2720</td>\n",
       "      <td>8062</td>\n",
       "    </tr>\n",
       "    <tr>\n",
       "      <th>3</th>\n",
       "      <td>2487200875</td>\n",
       "      <td>12/9/2014</td>\n",
       "      <td>604000.0</td>\n",
       "      <td>4</td>\n",
       "      <td>3.00</td>\n",
       "      <td>1960</td>\n",
       "      <td>5000</td>\n",
       "      <td>1.0</td>\n",
       "      <td>0.0</td>\n",
       "      <td>0.0</td>\n",
       "      <td>5</td>\n",
       "      <td>7</td>\n",
       "      <td>1050</td>\n",
       "      <td>910.0</td>\n",
       "      <td>1965</td>\n",
       "      <td>0.0</td>\n",
       "      <td>98136</td>\n",
       "      <td>47.5208</td>\n",
       "      <td>-122.393</td>\n",
       "      <td>1360</td>\n",
       "      <td>5000</td>\n",
       "    </tr>\n",
       "    <tr>\n",
       "      <th>4</th>\n",
       "      <td>1954400510</td>\n",
       "      <td>2/18/2015</td>\n",
       "      <td>510000.0</td>\n",
       "      <td>3</td>\n",
       "      <td>2.00</td>\n",
       "      <td>1680</td>\n",
       "      <td>8080</td>\n",
       "      <td>1.0</td>\n",
       "      <td>0.0</td>\n",
       "      <td>0.0</td>\n",
       "      <td>3</td>\n",
       "      <td>8</td>\n",
       "      <td>1680</td>\n",
       "      <td>0.0</td>\n",
       "      <td>1987</td>\n",
       "      <td>0.0</td>\n",
       "      <td>98074</td>\n",
       "      <td>47.6168</td>\n",
       "      <td>-122.045</td>\n",
       "      <td>1800</td>\n",
       "      <td>7503</td>\n",
       "    </tr>\n",
       "  </tbody>\n",
       "</table>\n",
       "</div>"
      ],
      "text/plain": [
       "           id        date     price  bedrooms  bathrooms  sqft_living  \\\n",
       "0  7129300520  10/13/2014  221900.0         3       1.00         1180   \n",
       "1  6414100192   12/9/2014  538000.0         3       2.25         2570   \n",
       "2  5631500400   2/25/2015  180000.0         2       1.00          770   \n",
       "3  2487200875   12/9/2014  604000.0         4       3.00         1960   \n",
       "4  1954400510   2/18/2015  510000.0         3       2.00         1680   \n",
       "\n",
       "   sqft_lot  floors  waterfront  view  condition  grade  sqft_above  \\\n",
       "0      5650     1.0         NaN   0.0          3      7        1180   \n",
       "1      7242     2.0         0.0   0.0          3      7        2170   \n",
       "2     10000     1.0         0.0   0.0          3      6         770   \n",
       "3      5000     1.0         0.0   0.0          5      7        1050   \n",
       "4      8080     1.0         0.0   0.0          3      8        1680   \n",
       "\n",
       "  sqft_basement  yr_built  yr_renovated  zipcode      lat     long  \\\n",
       "0           0.0      1955           0.0    98178  47.5112 -122.257   \n",
       "1         400.0      1951        1991.0    98125  47.7210 -122.319   \n",
       "2           0.0      1933           NaN    98028  47.7379 -122.233   \n",
       "3         910.0      1965           0.0    98136  47.5208 -122.393   \n",
       "4           0.0      1987           0.0    98074  47.6168 -122.045   \n",
       "\n",
       "   sqft_living15  sqft_lot15  \n",
       "0           1340        5650  \n",
       "1           1690        7639  \n",
       "2           2720        8062  \n",
       "3           1360        5000  \n",
       "4           1800        7503  "
      ]
     },
     "execution_count": 84,
     "metadata": {},
     "output_type": "execute_result"
    }
   ],
   "source": [
    "#check the first 5 entries in the data\n",
    "df.head()"
   ]
  },
  {
   "cell_type": "code",
   "execution_count": 85,
   "metadata": {
    "hidden": true
   },
   "outputs": [
    {
     "name": "stdout",
     "output_type": "stream",
     "text": [
      "<class 'pandas.core.frame.DataFrame'>\n",
      "RangeIndex: 21597 entries, 0 to 21596\n",
      "Data columns (total 21 columns):\n",
      " #   Column         Non-Null Count  Dtype  \n",
      "---  ------         --------------  -----  \n",
      " 0   id             21597 non-null  int64  \n",
      " 1   date           21597 non-null  object \n",
      " 2   price          21597 non-null  float64\n",
      " 3   bedrooms       21597 non-null  int64  \n",
      " 4   bathrooms      21597 non-null  float64\n",
      " 5   sqft_living    21597 non-null  int64  \n",
      " 6   sqft_lot       21597 non-null  int64  \n",
      " 7   floors         21597 non-null  float64\n",
      " 8   waterfront     19221 non-null  float64\n",
      " 9   view           21534 non-null  float64\n",
      " 10  condition      21597 non-null  int64  \n",
      " 11  grade          21597 non-null  int64  \n",
      " 12  sqft_above     21597 non-null  int64  \n",
      " 13  sqft_basement  21597 non-null  object \n",
      " 14  yr_built       21597 non-null  int64  \n",
      " 15  yr_renovated   17755 non-null  float64\n",
      " 16  zipcode        21597 non-null  int64  \n",
      " 17  lat            21597 non-null  float64\n",
      " 18  long           21597 non-null  float64\n",
      " 19  sqft_living15  21597 non-null  int64  \n",
      " 20  sqft_lot15     21597 non-null  int64  \n",
      "dtypes: float64(8), int64(11), object(2)\n",
      "memory usage: 3.5+ MB\n"
     ]
    }
   ],
   "source": [
    "#check the columns and nulls\n",
    "df.info()"
   ]
  },
  {
   "cell_type": "markdown",
   "metadata": {
    "heading_collapsed": true,
    "hidden": true
   },
   "source": [
    "## Cleaning the Data"
   ]
  },
  {
   "cell_type": "code",
   "execution_count": 86,
   "metadata": {
    "hidden": true
   },
   "outputs": [],
   "source": [
    "#for year renovated, convert any houses that have been renovated to '1' to indicate true\n",
    "#for any nulls, assume no renovation\n",
    "df['yr_renovated'].fillna(0, inplace=True)\n",
    "df['yr_renovated'] = df['yr_renovated'].apply(lambda x: 1 if x > 0 else x)"
   ]
  },
  {
   "cell_type": "code",
   "execution_count": 87,
   "metadata": {
    "hidden": true
   },
   "outputs": [],
   "source": [
    "df.rename(columns={'yr_renovated': 'if_renovated'}, inplace=True)"
   ]
  },
  {
   "cell_type": "code",
   "execution_count": 88,
   "metadata": {
    "hidden": true
   },
   "outputs": [],
   "source": [
    "#for any nulls, assume no waterfront\n",
    "df['waterfront'].fillna(0, inplace=True)"
   ]
  },
  {
   "cell_type": "code",
   "execution_count": 89,
   "metadata": {
    "hidden": true
   },
   "outputs": [],
   "source": [
    "#for any nulls, assume no one viewed the property\n",
    "df['view'].fillna(0, inplace=True)"
   ]
  },
  {
   "cell_type": "code",
   "execution_count": 90,
   "metadata": {
    "hidden": true
   },
   "outputs": [],
   "source": [
    "#clean up sqft_basement and convert to int\n",
    "df['sqft_basement'] = df['sqft_basement'].replace({'?':np.nan}).astype(float)\n",
    "df['sqft_basement'].fillna(df['sqft_living']-df['sqft_above'], inplace=True)"
   ]
  },
  {
   "cell_type": "code",
   "execution_count": 91,
   "metadata": {
    "hidden": true
   },
   "outputs": [],
   "source": [
    "#retrieve the months and year\n",
    "df['month_of_date'] = pd.DatetimeIndex(df['date']).month\n",
    "df['year_of_date'] = pd.DatetimeIndex(df['date']).year"
   ]
  },
  {
   "cell_type": "code",
   "execution_count": 92,
   "metadata": {
    "hidden": true
   },
   "outputs": [],
   "source": [
    "#convert yr_built to age of house by subtracting year the property was sold by the year it was built\n",
    "#to create a more sensible column \n",
    "df['age_of_house'] = df['year_of_date'] - df['yr_built']\n",
    "\n",
    "#drop year of date because years are only 2014 and 2015, and will not impact our predicative model\n",
    "#drop yr_built b/c it is redundant with age_of_house\n",
    "df.drop(columns=['year_of_date'], inplace=True)\n",
    "df.drop(columns=['yr_built'], inplace=True)"
   ]
  },
  {
   "cell_type": "code",
   "execution_count": 93,
   "metadata": {
    "hidden": true
   },
   "outputs": [],
   "source": [
    "#drop duplicates if any\n",
    "df.drop_duplicates(inplace=True)"
   ]
  },
  {
   "cell_type": "code",
   "execution_count": 94,
   "metadata": {
    "hidden": true
   },
   "outputs": [],
   "source": [
    "#drop id and date columns\n",
    "df.drop(columns=['id'], inplace=True)\n",
    "df.drop(columns=['date'], inplace=True)"
   ]
  },
  {
   "cell_type": "code",
   "execution_count": 95,
   "metadata": {
    "hidden": true
   },
   "outputs": [],
   "source": [
    "#reset index\n",
    "df.reset_index(inplace=True, drop=True)"
   ]
  },
  {
   "cell_type": "code",
   "execution_count": 96,
   "metadata": {
    "hidden": true
   },
   "outputs": [],
   "source": [
    "#convert some of the categorical data from floats to ints\n",
    "df['waterfront'] = df['waterfront'].astype(int)\n",
    "df['view'] = df['view'].astype(int)\n",
    "df['sqft_basement'] = df['sqft_basement'].astype(int)\n",
    "df['if_renovated'] = df['if_renovated'].astype(int)"
   ]
  },
  {
   "cell_type": "code",
   "execution_count": 97,
   "metadata": {
    "hidden": true
   },
   "outputs": [
    {
     "name": "stdout",
     "output_type": "stream",
     "text": [
      "<class 'pandas.core.frame.DataFrame'>\n",
      "RangeIndex: 21597 entries, 0 to 21596\n",
      "Data columns (total 20 columns):\n",
      " #   Column         Non-Null Count  Dtype  \n",
      "---  ------         --------------  -----  \n",
      " 0   price          21597 non-null  float64\n",
      " 1   bedrooms       21597 non-null  int64  \n",
      " 2   bathrooms      21597 non-null  float64\n",
      " 3   sqft_living    21597 non-null  int64  \n",
      " 4   sqft_lot       21597 non-null  int64  \n",
      " 5   floors         21597 non-null  float64\n",
      " 6   waterfront     21597 non-null  int64  \n",
      " 7   view           21597 non-null  int64  \n",
      " 8   condition      21597 non-null  int64  \n",
      " 9   grade          21597 non-null  int64  \n",
      " 10  sqft_above     21597 non-null  int64  \n",
      " 11  sqft_basement  21597 non-null  int64  \n",
      " 12  if_renovated   21597 non-null  int64  \n",
      " 13  zipcode        21597 non-null  int64  \n",
      " 14  lat            21597 non-null  float64\n",
      " 15  long           21597 non-null  float64\n",
      " 16  sqft_living15  21597 non-null  int64  \n",
      " 17  sqft_lot15     21597 non-null  int64  \n",
      " 18  month_of_date  21597 non-null  int64  \n",
      " 19  age_of_house   21597 non-null  int64  \n",
      "dtypes: float64(5), int64(15)\n",
      "memory usage: 3.3 MB\n"
     ]
    }
   ],
   "source": [
    "#check cleaned data\n",
    "df.info()"
   ]
  },
  {
   "cell_type": "code",
   "execution_count": 98,
   "metadata": {
    "hidden": true
   },
   "outputs": [
    {
     "data": {
      "text/html": [
       "<div>\n",
       "<style scoped>\n",
       "    .dataframe tbody tr th:only-of-type {\n",
       "        vertical-align: middle;\n",
       "    }\n",
       "\n",
       "    .dataframe tbody tr th {\n",
       "        vertical-align: top;\n",
       "    }\n",
       "\n",
       "    .dataframe thead th {\n",
       "        text-align: right;\n",
       "    }\n",
       "</style>\n",
       "<table border=\"1\" class=\"dataframe\">\n",
       "  <thead>\n",
       "    <tr style=\"text-align: right;\">\n",
       "      <th></th>\n",
       "      <th>price</th>\n",
       "      <th>bedrooms</th>\n",
       "      <th>bathrooms</th>\n",
       "      <th>sqft_living</th>\n",
       "      <th>sqft_lot</th>\n",
       "      <th>floors</th>\n",
       "      <th>waterfront</th>\n",
       "      <th>view</th>\n",
       "      <th>condition</th>\n",
       "      <th>grade</th>\n",
       "      <th>sqft_above</th>\n",
       "      <th>sqft_basement</th>\n",
       "      <th>if_renovated</th>\n",
       "      <th>zipcode</th>\n",
       "      <th>lat</th>\n",
       "      <th>long</th>\n",
       "      <th>sqft_living15</th>\n",
       "      <th>sqft_lot15</th>\n",
       "      <th>month_of_date</th>\n",
       "      <th>age_of_house</th>\n",
       "    </tr>\n",
       "  </thead>\n",
       "  <tbody>\n",
       "    <tr>\n",
       "      <th>0</th>\n",
       "      <td>221900.0</td>\n",
       "      <td>3</td>\n",
       "      <td>1.00</td>\n",
       "      <td>1180</td>\n",
       "      <td>5650</td>\n",
       "      <td>1.0</td>\n",
       "      <td>0</td>\n",
       "      <td>0</td>\n",
       "      <td>3</td>\n",
       "      <td>7</td>\n",
       "      <td>1180</td>\n",
       "      <td>0</td>\n",
       "      <td>0</td>\n",
       "      <td>98178</td>\n",
       "      <td>47.5112</td>\n",
       "      <td>-122.257</td>\n",
       "      <td>1340</td>\n",
       "      <td>5650</td>\n",
       "      <td>10</td>\n",
       "      <td>59</td>\n",
       "    </tr>\n",
       "    <tr>\n",
       "      <th>1</th>\n",
       "      <td>538000.0</td>\n",
       "      <td>3</td>\n",
       "      <td>2.25</td>\n",
       "      <td>2570</td>\n",
       "      <td>7242</td>\n",
       "      <td>2.0</td>\n",
       "      <td>0</td>\n",
       "      <td>0</td>\n",
       "      <td>3</td>\n",
       "      <td>7</td>\n",
       "      <td>2170</td>\n",
       "      <td>400</td>\n",
       "      <td>1</td>\n",
       "      <td>98125</td>\n",
       "      <td>47.7210</td>\n",
       "      <td>-122.319</td>\n",
       "      <td>1690</td>\n",
       "      <td>7639</td>\n",
       "      <td>12</td>\n",
       "      <td>63</td>\n",
       "    </tr>\n",
       "    <tr>\n",
       "      <th>2</th>\n",
       "      <td>180000.0</td>\n",
       "      <td>2</td>\n",
       "      <td>1.00</td>\n",
       "      <td>770</td>\n",
       "      <td>10000</td>\n",
       "      <td>1.0</td>\n",
       "      <td>0</td>\n",
       "      <td>0</td>\n",
       "      <td>3</td>\n",
       "      <td>6</td>\n",
       "      <td>770</td>\n",
       "      <td>0</td>\n",
       "      <td>0</td>\n",
       "      <td>98028</td>\n",
       "      <td>47.7379</td>\n",
       "      <td>-122.233</td>\n",
       "      <td>2720</td>\n",
       "      <td>8062</td>\n",
       "      <td>2</td>\n",
       "      <td>82</td>\n",
       "    </tr>\n",
       "    <tr>\n",
       "      <th>3</th>\n",
       "      <td>604000.0</td>\n",
       "      <td>4</td>\n",
       "      <td>3.00</td>\n",
       "      <td>1960</td>\n",
       "      <td>5000</td>\n",
       "      <td>1.0</td>\n",
       "      <td>0</td>\n",
       "      <td>0</td>\n",
       "      <td>5</td>\n",
       "      <td>7</td>\n",
       "      <td>1050</td>\n",
       "      <td>910</td>\n",
       "      <td>0</td>\n",
       "      <td>98136</td>\n",
       "      <td>47.5208</td>\n",
       "      <td>-122.393</td>\n",
       "      <td>1360</td>\n",
       "      <td>5000</td>\n",
       "      <td>12</td>\n",
       "      <td>49</td>\n",
       "    </tr>\n",
       "    <tr>\n",
       "      <th>4</th>\n",
       "      <td>510000.0</td>\n",
       "      <td>3</td>\n",
       "      <td>2.00</td>\n",
       "      <td>1680</td>\n",
       "      <td>8080</td>\n",
       "      <td>1.0</td>\n",
       "      <td>0</td>\n",
       "      <td>0</td>\n",
       "      <td>3</td>\n",
       "      <td>8</td>\n",
       "      <td>1680</td>\n",
       "      <td>0</td>\n",
       "      <td>0</td>\n",
       "      <td>98074</td>\n",
       "      <td>47.6168</td>\n",
       "      <td>-122.045</td>\n",
       "      <td>1800</td>\n",
       "      <td>7503</td>\n",
       "      <td>2</td>\n",
       "      <td>28</td>\n",
       "    </tr>\n",
       "  </tbody>\n",
       "</table>\n",
       "</div>"
      ],
      "text/plain": [
       "      price  bedrooms  bathrooms  sqft_living  sqft_lot  floors  waterfront  \\\n",
       "0  221900.0         3       1.00         1180      5650     1.0           0   \n",
       "1  538000.0         3       2.25         2570      7242     2.0           0   \n",
       "2  180000.0         2       1.00          770     10000     1.0           0   \n",
       "3  604000.0         4       3.00         1960      5000     1.0           0   \n",
       "4  510000.0         3       2.00         1680      8080     1.0           0   \n",
       "\n",
       "   view  condition  grade  sqft_above  sqft_basement  if_renovated  zipcode  \\\n",
       "0     0          3      7        1180              0             0    98178   \n",
       "1     0          3      7        2170            400             1    98125   \n",
       "2     0          3      6         770              0             0    98028   \n",
       "3     0          5      7        1050            910             0    98136   \n",
       "4     0          3      8        1680              0             0    98074   \n",
       "\n",
       "       lat     long  sqft_living15  sqft_lot15  month_of_date  age_of_house  \n",
       "0  47.5112 -122.257           1340        5650             10            59  \n",
       "1  47.7210 -122.319           1690        7639             12            63  \n",
       "2  47.7379 -122.233           2720        8062              2            82  \n",
       "3  47.5208 -122.393           1360        5000             12            49  \n",
       "4  47.6168 -122.045           1800        7503              2            28  "
      ]
     },
     "execution_count": 98,
     "metadata": {},
     "output_type": "execute_result"
    }
   ],
   "source": [
    "df.head()"
   ]
  },
  {
   "cell_type": "markdown",
   "metadata": {
    "heading_collapsed": true
   },
   "source": [
    "## EDA"
   ]
  },
  {
   "cell_type": "markdown",
   "metadata": {
    "heading_collapsed": true,
    "hidden": true
   },
   "source": [
    "### Target: Price"
   ]
  },
  {
   "cell_type": "code",
   "execution_count": 99,
   "metadata": {
    "hidden": true
   },
   "outputs": [
    {
     "data": {
      "image/png": "[encoded data removed]",
      "text/plain": [
       "<Figure size 432x288 with 1 Axes>"
      ]
     },
     "metadata": {
      "needs_background": "light"
     },
     "output_type": "display_data"
    }
   ],
   "source": [
    "#Since price is our target, we will explore first\n",
    "#view distribution of price using histogram\n",
    "df.hist(column=['price'], bins='auto');"
   ]
  },
  {
   "cell_type": "code",
   "execution_count": 100,
   "metadata": {
    "hidden": true
   },
   "outputs": [
    {
     "data": {
      "text/plain": [
       "<AxesSubplot:>"
      ]
     },
     "execution_count": 100,
     "metadata": {},
     "output_type": "execute_result"
    },
    {
     "data": {
      "image/png": "[encoded data removed]",
      "text/plain": [
       "<Figure size 432x288 with 1 Axes>"
      ]
     },
     "metadata": {
      "needs_background": "light"
     },
     "output_type": "display_data"
    }
   ],
   "source": [
    "df.boxplot(column=['price'])"
   ]
  },
  {
   "cell_type": "code",
   "execution_count": 101,
   "metadata": {
    "hidden": true
   },
   "outputs": [],
   "source": [
    "#Because the data is skewed to the right, transform the price data using log\n",
    "df['ln_price'] = np.log(df['price'])"
   ]
  },
  {
   "cell_type": "code",
   "execution_count": 102,
   "metadata": {
    "hidden": true
   },
   "outputs": [
    {
     "data": {
      "image/png": "[encoded data removed]",
      "text/plain": [
       "<Figure size 432x288 with 1 Axes>"
      ]
     },
     "metadata": {
      "needs_background": "light"
     },
     "output_type": "display_data"
    }
   ],
   "source": [
    "#view distribution of log base e for price using histogram\n",
    "df.hist(column=['ln_price'], bins='auto');"
   ]
  },
  {
   "cell_type": "code",
   "execution_count": 103,
   "metadata": {
    "hidden": true
   },
   "outputs": [
    {
     "data": {
      "text/plain": [
       "<AxesSubplot:>"
      ]
     },
     "execution_count": 103,
     "metadata": {},
     "output_type": "execute_result"
    },
    {
     "data": {
      "image/png": "[encoded data removed]",
      "text/plain": [
       "<Figure size 432x288 with 1 Axes>"
      ]
     },
     "metadata": {
      "needs_background": "light"
     },
     "output_type": "display_data"
    }
   ],
   "source": [
    "df.boxplot(column=['ln_price'])"
   ]
  },
  {
   "cell_type": "markdown",
   "metadata": {
    "hidden": true
   },
   "source": [
    "### Predictors: Everything Else"
   ]
  },
  {
   "cell_type": "code",
   "execution_count": 104,
   "metadata": {
    "hidden": true
   },
   "outputs": [],
   "source": [
    "#sns.pairplot(df)"
   ]
  },
  {
   "cell_type": "code",
   "execution_count": 105,
   "metadata": {
    "hidden": true
   },
   "outputs": [
    {
     "data": {
      "text/plain": [
       "Index(['price', 'bedrooms', 'bathrooms', 'sqft_living', 'sqft_lot', 'floors',\n",
       "       'waterfront', 'view', 'condition', 'grade', 'sqft_above',\n",
       "       'sqft_basement', 'if_renovated', 'zipcode', 'lat', 'long',\n",
       "       'sqft_living15', 'sqft_lot15', 'month_of_date', 'age_of_house',\n",
       "       'ln_price'],\n",
       "      dtype='object')"
      ]
     },
     "execution_count": 105,
     "metadata": {},
     "output_type": "execute_result"
    }
   ],
   "source": [
    "df.columns"
   ]
  },
  {
   "cell_type": "code",
   "execution_count": 111,
   "metadata": {
    "hidden": true
   },
   "outputs": [
    {
     "name": "stdout",
     "output_type": "stream",
     "text": [
      "0    221900.0\n",
      "1    538000.0\n",
      "2    180000.0\n",
      "3    604000.0\n",
      "4    510000.0\n",
      "Name: price, dtype: float64\n",
      "0    12.309982\n",
      "1    13.195614\n",
      "2    12.100712\n",
      "3    13.311329\n",
      "4    13.142166\n",
      "Name: ln_price, dtype: float64\n"
     ]
    }
   ],
   "source": [
    "#based on the pairplot, we can see which data are categorical and which are numeric\n",
    "numeric = ['bedrooms', \n",
    "           'bathrooms', \n",
    "           'sqft_living', \n",
    "           'sqft_lot', \n",
    "           'sqft_above', \n",
    "           'sqft_basement',\n",
    "           'lat', \n",
    "           'long',\n",
    "           'sqft_living15', \n",
    "           'sqft_lot15']\n",
    "\n",
    "categorical = ['floors',\n",
    "               'waterfront', \n",
    "               'view', \n",
    "               'condition', \n",
    "               'grade',\n",
    "               'if_renovated',\n",
    "               'zipcode',\n",
    "               'month_of_date']\n",
    "print(df.price.head())\n",
    "print(df.ln_price.head())"
   ]
  },
  {
   "cell_type": "code",
   "execution_count": 126,
   "metadata": {
    "hidden": true
   },
   "outputs": [],
   "source": [
    "# # Create a df with the target as the first column,\n",
    "# # then compute the correlation matrix\n",
    "# X = df.drop(['price', 'ln_price'], axis = 1)\n",
    "# y = df['price']\n",
    "# # ln_y = df['price']\n",
    "# heatmap_data = pd.concat([y, X], axis=1)\n",
    "# corr = heatmap_data.corr()\n",
    "\n",
    "# # Set up figure and axes\n",
    "# fig, ax = plt.subplots(figsize=(15, 15))\n",
    "\n",
    "# # Plot a heatmap of the correlation matrix, with both\n",
    "# # numbers and colors indicating the correlations\n",
    "# sns.heatmap(\n",
    "#     # Specifies the data to be plotted\n",
    "#     data=corr,\n",
    "#     # The mask means we only show half the values,\n",
    "#     # instead of showing duplicates. It's optional.\n",
    "#     mask=np.triu(np.ones_like(corr, dtype=bool)),\n",
    "#     # Specifies that we should use the existing axes\n",
    "#     ax=ax,\n",
    "#     # Specifies that we don't want labels, just colors\n",
    "#     annot=True,\n",
    "#     # Customizes colorbar appearance\n",
    "#     cbar_kws={\"label\": \"Correlation\", \"orientation\": \"horizontal\", \"pad\": .2, \"extend\": \"both\"}\n",
    "# )\n",
    "\n",
    "# # Customize the plot appearance\n",
    "# ax.set_title(\"Heatmap of Correlation Between Attributes and Price\");"
   ]
  },
  {
   "cell_type": "code",
   "execution_count": 121,
   "metadata": {
    "hidden": true
   },
   "outputs": [
    {
     "data": {
      "text/plain": [
       "price            1.000000\n",
       "sqft_living      0.701917\n",
       "grade            0.667951\n",
       "sqft_above       0.605368\n",
       "sqft_living15    0.585241\n",
       "bathrooms        0.525906\n",
       "view             0.393497\n",
       "sqft_basement    0.323799\n",
       "bedrooms         0.308787\n",
       "lat              0.306692\n",
       "waterfront       0.264306\n",
       "floors           0.256804\n",
       "if_renovated     0.117543\n",
       "sqft_lot         0.089876\n",
       "sqft_lot15       0.082845\n",
       "age_of_house     0.053890\n",
       "zipcode          0.053402\n",
       "condition        0.036056\n",
       "long             0.022036\n",
       "month_of_date    0.009928\n",
       "Name: price, dtype: float64"
      ]
     },
     "execution_count": 121,
     "metadata": {},
     "output_type": "execute_result"
    }
   ],
   "source": [
    "#reporting the correlation between price (target) and predictors\n",
    "df.corr()['price'].drop(['ln_price']).map(abs).sort_values(ascending=False)"
   ]
  },
  {
   "cell_type": "code",
   "execution_count": 127,
   "metadata": {
    "hidden": true
   },
   "outputs": [
    {
     "data": {
      "image/png": "[encoded data removed]",
      "text/plain": [
       "<Figure size 1080x1080 with 2 Axes>"
      ]
     },
     "metadata": {
      "needs_background": "light"
     },
     "output_type": "display_data"
    }
   ],
   "source": [
    "# Create a df with the target as the first column,\n",
    "# then compute the correlation matrix\n",
    "X = df.drop(['price', 'ln_price'], axis = 1)\n",
    "ln_y = df['ln_price']\n",
    "heatmap_data_log = pd.concat([ln_y, X], axis=1)\n",
    "corr_log = heatmap_data1.corr()\n",
    "\n",
    "# Set up figure and axes\n",
    "fig, ax = plt.subplots(figsize=(15, 15))\n",
    "\n",
    "# Plot a heatmap of the correlation matrix, with both\n",
    "# numbers and colors indicating the correlations\n",
    "sns.heatmap(\n",
    "    # Specifies the data to be plotted\n",
    "    data=corr_log,\n",
    "    # The mask means we only show half the values,\n",
    "    # instead of showing duplicates. It's optional.\n",
    "    mask=np.triu(np.ones_like(corr, dtype=bool)),\n",
    "    # Specifies that we should use the existing axes\n",
    "    ax=ax,\n",
    "    # Specifies that we don't want labels, just colors\n",
    "    annot=False,\n",
    "    # Customizes colorbar appearance\n",
    "    cbar_kws={\"label\": \"Correlation\", \"orientation\": \"horizontal\", \"pad\": .2, \"extend\": \"both\"}\n",
    ")\n",
    "\n",
    "# Customize the plot appearance\n",
    "ax.set_title(\"Heatmap of Correlation Between Attributes and Log Tansformed Price\");"
   ]
  },
  {
   "cell_type": "code",
   "execution_count": 117,
   "metadata": {
    "hidden": true
   },
   "outputs": [
    {
     "data": {
      "text/plain": [
       "ln_price         1.000000\n",
       "grade            0.703720\n",
       "sqft_living      0.695185\n",
       "sqft_living15    0.619326\n",
       "sqft_above       0.601579\n",
       "bathrooms        0.551249\n",
       "lat              0.448837\n",
       "view             0.344653\n",
       "bedrooms         0.343360\n",
       "sqft_basement    0.316920\n",
       "floors           0.310630\n",
       "waterfront       0.170720\n",
       "if_renovated     0.106528\n",
       "sqft_lot         0.100025\n",
       "sqft_lot15       0.092281\n",
       "age_of_house     0.080499\n",
       "long             0.050862\n",
       "condition        0.038918\n",
       "zipcode          0.038788\n",
       "month_of_date    0.013064\n",
       "Name: ln_price, dtype: float64"
      ]
     },
     "execution_count": 117,
     "metadata": {},
     "output_type": "execute_result"
    }
   ],
   "source": [
    "#reporting the correlation between ln price (target) and predictors\n",
    "df.corr()['ln_price'].drop(['price']).map(abs).sort_values(ascending=False)"
   ]
  },
  {
   "cell_type": "markdown",
   "metadata": {},
   "source": [
    "## Data Mainipulation"
   ]
  },
  {
   "cell_type": "code",
   "execution_count": 30,
   "metadata": {},
   "outputs": [],
   "source": [
    "#creating a copy of base data\n",
    "output = df\n",
    "\n",
    "#dummying out categoricals defined in cleaning section\n",
    "output = pd.get_dummies(output, prefix=categorical, prefix_sep='_', columns=categorical, drop_first=True)\n",
    "\n",
    "#replace '.' with '_' in column names since sklearn LR has issues with '.'\n",
    "output.columns = [x.replace(\".\",\"_\") for x in output.columns]\n",
    "\n",
    "#dropping targets out of predictors\n",
    "X = output.drop(['price','ln_price'], axis=1)\n",
    "\n",
    "#non-log transformed y values\n",
    "y = output['price']\n",
    "\n",
    "#log transformed y-values\n",
    "ln_y = output['ln_price']\n",
    "\n",
    "#scaling X values into z-scores\n",
    "ss = StandardScaler()\n",
    "ss.fit(X)\n",
    "X_scaled = pd.DataFrame(ss.transform(X))\n",
    "\n",
    "#scaling process loses the column names so we're adding back\n",
    "X_scaled.columns = X.columns\n",
    "\n",
    "#creating universal train test split for model comparison\n",
    "X_train1, X_test1, y_train, y_test = train_test_split(X_scaled, y, test_size=0.20, random_state=42)\n",
    "X_train2, X_test2, ln_y_train, ln_y_test = train_test_split(X_scaled, ln_y, test_size=0.20, random_state=42)"
   ]
  },
  {
   "cell_type": "markdown",
   "metadata": {},
   "source": [
    "### Formulas and useful objects"
   ]
  },
  {
   "cell_type": "code",
   "execution_count": 31,
   "metadata": {},
   "outputs": [],
   "source": [
    "def cross_val(estimator,X=X,y=y,n_splits=10,test_size=0.25, random_state=None):\n",
    "    \"\"\"\n",
    "    This formula performs cross validation using shuffled splits. Output is a tuple,\n",
    "    The 0th element is the median R2 score for the train sets, the 1st element\n",
    "    is the median R2 score for the test sets.\n",
    "    \n",
    "    \"\"\"\n",
    "    splitter = ShuffleSplit(n_splits=n_splits, test_size=test_size, random_state=random_state)\n",
    "\n",
    "    output = cross_validate(estimator, X=X, y=y, cv=splitter, return_train_score=True)\n",
    "    return np.median(output['train_score']), np.median(output['test_score'])"
   ]
  },
  {
   "cell_type": "code",
   "execution_count": 32,
   "metadata": {},
   "outputs": [],
   "source": [
    "def cval_summary(train,test,diff):\n",
    "    return f\"The median R-squared values for the train sets were {round(train,3)}, the median R-squared values for the test sets were {round(test,3)}. These values resulted in a differential of {round(diff,5)}\""
   ]
  },
  {
   "cell_type": "code",
   "execution_count": 33,
   "metadata": {},
   "outputs": [],
   "source": [
    "def score_model(model,Xtrain,Xtest,ytrain,ytest):\n",
    "    return model.score(Xtrain, ytrain), model.score(Xtest, ytest)"
   ]
  },
  {
   "cell_type": "code",
   "execution_count": 34,
   "metadata": {},
   "outputs": [],
   "source": [
    "def model_summary(train,test,diff):\n",
    "    return f\"The R-squared value for the train set was {round(train,3)}, and the R-sqaured value for the test set was {round(test,3)}. These values resulted in a differential of {round(diff,5)}\""
   ]
  },
  {
   "cell_type": "markdown",
   "metadata": {},
   "source": [
    "## Baseline Model"
   ]
  },
  {
   "cell_type": "markdown",
   "metadata": {},
   "source": [
    "### Baseline: Target Price"
   ]
  },
  {
   "cell_type": "code",
   "execution_count": 35,
   "metadata": {},
   "outputs": [],
   "source": [
    "#create a dummy regressor model based on the target as price\n",
    "baseline_model = DummyRegressor(strategy='mean')\n",
    "baseline_model.fit(X_train1,y_train);"
   ]
  },
  {
   "cell_type": "code",
   "execution_count": 36,
   "metadata": {
    "scrolled": true
   },
   "outputs": [
    {
     "data": {
      "text/plain": [
       "'The median R-squared values for the train sets were 0.0, the median R-squared values for the test sets were -0.0. These values resulted in a differential of 0.00017'"
      ]
     },
     "execution_count": 36,
     "metadata": {},
     "output_type": "execute_result"
    }
   ],
   "source": [
    "#setting up cross validation for price in a different way (x3)\n",
    "bmodel_cval = cross_val(baseline_model,\n",
    "                        random_state=0)\n",
    "\n",
    "bmodel_cval_summary = cval_summary(bmodel_cval[0],\n",
    "                                   bmodel_cval[1],\n",
    "                                   (abs(bmodel_cval[0]-bmodel_cval[1])))\n",
    "bmodel_cval_summary"
   ]
  },
  {
   "cell_type": "code",
   "execution_count": 37,
   "metadata": {},
   "outputs": [
    {
     "data": {
      "text/plain": [
       "'The R-squared value for the train set was 0.0, and the R-sqaured value for the test set was -0.0. These values resulted in a differential of 0.00029'"
      ]
     },
     "execution_count": 37,
     "metadata": {},
     "output_type": "execute_result"
    }
   ],
   "source": [
    "baseline_scores = score_model(baseline_model,\n",
    "                              X_train1,\n",
    "                              X_test1,\n",
    "                              y_train,\n",
    "                              y_test)\n",
    "\n",
    "baseline_summary = model_summary(baseline_scores[0],\n",
    "                                 baseline_scores[1],\n",
    "                                 abs(baseline_scores[0]-baseline_scores[1]))\n",
    "baseline_summary"
   ]
  },
  {
   "cell_type": "markdown",
   "metadata": {},
   "source": [
    "### Baseline: Target Log-transformed Price"
   ]
  },
  {
   "cell_type": "code",
   "execution_count": 38,
   "metadata": {},
   "outputs": [],
   "source": [
    "#create `a dummy regressor model based on the target as price\n",
    "baseline_ln_model = DummyRegressor(strategy='mean')\n",
    "baseline_ln_model.fit(X_train2,ln_y_train);"
   ]
  },
  {
   "cell_type": "code",
   "execution_count": 39,
   "metadata": {},
   "outputs": [
    {
     "data": {
      "text/plain": [
       "'The median R-squared values for the train sets were 0.0, the median R-squared values for the test sets were -0.0. These values resulted in a differential of 0.00029'"
      ]
     },
     "execution_count": 39,
     "metadata": {},
     "output_type": "execute_result"
    }
   ],
   "source": [
    "bmodel_ln_cval = cross_val(baseline_ln_model,\n",
    "                           y=ln_y,\n",
    "                           random_state=0)\n",
    "\n",
    "bmodel_ln_cval_summary = cval_summary(bmodel_ln_cval[0],\n",
    "                                      bmodel_ln_cval[1], \n",
    "                                      abs(bmodel_ln_cval[0]-bmodel_ln_cval[1]))\n",
    "bmodel_ln_cval_summary"
   ]
  },
  {
   "cell_type": "code",
   "execution_count": 40,
   "metadata": {},
   "outputs": [
    {
     "data": {
      "text/plain": [
       "'The R-squared value for the train set was 0.0, and the R-sqaured value for the test set was -0.0. These values resulted in a differential of 0.00022'"
      ]
     },
     "execution_count": 40,
     "metadata": {},
     "output_type": "execute_result"
    }
   ],
   "source": [
    "baseline_ln_scores = score_model(baseline_ln_model,\n",
    "                                 X_train2,\n",
    "                                 X_test2,\n",
    "                                 ln_y_train,\n",
    "                                 ln_y_test)\n",
    "\n",
    "baseline_ln_summary = model_summary(baseline_ln_scores[0],\n",
    "                                    baseline_ln_scores[1],\n",
    "                                    abs(baseline_ln_scores[0]-baseline_ln_scores[1]))\n",
    "baseline_ln_summary"
   ]
  },
  {
   "cell_type": "markdown",
   "metadata": {},
   "source": [
    "### Summary\n",
    "\n",
    "After running cross validation with both of our baseline models to ensure data integrity, we found from the results of our regression R-squared scores that the fit of the data we found that the cval, train and test scores were all near 0. This is to be expected of the baseline model due to it's horizontal nature. Exactly 0% of the variation in y train is predicted by a horizontal line through the mean and 100% of it is due to variance.\n",
    "\n",
    ">The miniscule inscrease in R-squared for the test set is due to the slight change in mean from the train to test sets.\n",
    "\n",
    "It is also worthwhile to mention that the log-transformed data performed slightly better on the test set than its non-transformed counterpart"
   ]
  },
  {
   "cell_type": "markdown",
   "metadata": {
    "heading_collapsed": true
   },
   "source": [
    "## Model 1\n",
    "\n",
    "Model 1 uses a multiple linear regression model of the data using all parameters, including the dummied out categorical parameters."
   ]
  },
  {
   "cell_type": "markdown",
   "metadata": {},
   "source": [
    "### Model 1: Target Price"
   ]
  },
  {
   "cell_type": "code",
   "execution_count": 41,
   "metadata": {
    "hidden": true
   },
   "outputs": [],
   "source": [
    "#create linear regression model for price and setting up cross validation \n",
    "model1 = LinearRegression()\n",
    "model1.fit(X_train1, y_train);"
   ]
  },
  {
   "cell_type": "code",
   "execution_count": 42,
   "metadata": {
    "hidden": true
   },
   "outputs": [
    {
     "data": {
      "text/plain": [
       "'The median R-squared values for the train sets were 0.836, the median R-squared values for the test sets were 0.835. These values resulted in a differential of 0.00077'"
      ]
     },
     "execution_count": 42,
     "metadata": {},
     "output_type": "execute_result"
    }
   ],
   "source": [
    "#setting up cross validation for price in a different way \n",
    "model1_cval = cross_val(model1,\n",
    "                           random_state=0)\n",
    "\n",
    "model1_cval_summary = cval_summary(model1_cval[0],\n",
    "                                   model1_cval[1],\n",
    "                                   abs(model1_cval[0]-model1_cval[1]))\n",
    "model1_cval_summary"
   ]
  },
  {
   "cell_type": "code",
   "execution_count": 43,
   "metadata": {},
   "outputs": [
    {
     "data": {
      "text/plain": [
       "'The R-squared value for the train set was 0.843, and the R-sqaured value for the test set was 0.81. These values resulted in a differential of 0.03272'"
      ]
     },
     "execution_count": 43,
     "metadata": {},
     "output_type": "execute_result"
    }
   ],
   "source": [
    "model1_scores = score_model(model1,\n",
    "                            X_train1,\n",
    "                            X_test1,\n",
    "                            y_train,\n",
    "                            y_test)\n",
    "\n",
    "model1_summary = model_summary(model1_scores[0],\n",
    "                               model1_scores[1],\n",
    "                               abs(model1_scores[0]-model1_scores[1]))\n",
    "model1_summary"
   ]
  },
  {
   "cell_type": "markdown",
   "metadata": {},
   "source": [
    "### Model 1: Target Log-transformed Price"
   ]
  },
  {
   "cell_type": "code",
   "execution_count": 44,
   "metadata": {
    "hidden": true
   },
   "outputs": [],
   "source": [
    "#create linear regression model for ln price\n",
    "model1_ln= LinearRegression()\n",
    "model1_ln.fit(X_train2, ln_y_train);"
   ]
  },
  {
   "cell_type": "code",
   "execution_count": 45,
   "metadata": {
    "hidden": true
   },
   "outputs": [
    {
     "data": {
      "text/plain": [
       "'The median R-squared values for the train sets were 0.882, the median R-squared values for the test sets were 0.882. These values resulted in a differential of 5e-05'"
      ]
     },
     "execution_count": 45,
     "metadata": {},
     "output_type": "execute_result"
    }
   ],
   "source": [
    "#setting up cross validation for ln price in a different way (x3)\n",
    "model1_ln_cval = cross_val(model1_ln,\n",
    "                           y = ln_y,\n",
    "                           random_state=0)\n",
    "\n",
    "model1_ln_cval_summary = cval_summary(model1_ln_cval[0],\n",
    "                                   model1_ln_cval[1],\n",
    "                                   abs(model1_ln_cval[0]-model1_ln_cval[1]))\n",
    "model1_ln_cval_summary"
   ]
  },
  {
   "cell_type": "code",
   "execution_count": 46,
   "metadata": {
    "hidden": true,
    "scrolled": true
   },
   "outputs": [
    {
     "data": {
      "text/plain": [
       "'The R-squared value for the train set was 0.882, and the R-sqaured value for the test set was 0.88. These values resulted in a differential of 0.00263'"
      ]
     },
     "execution_count": 46,
     "metadata": {},
     "output_type": "execute_result"
    }
   ],
   "source": [
    "#find the test score using the linear model\n",
    "model1_ln_scores = score_model(model1_ln,\n",
    "                             X_train2,\n",
    "                             X_test2,\n",
    "                             ln_y_train,\n",
    "                             ln_y_test)\n",
    "\n",
    "model1_ln_summary = model_summary(model1_ln_scores[0],\n",
    "                                  model1_ln_scores[1],\n",
    "                                  abs(model1_ln_scores[0]-model1_ln_scores[1]))\n",
    "model1_ln_summary"
   ]
  },
  {
   "cell_type": "markdown",
   "metadata": {
    "hidden": true
   },
   "source": [
    "### Summary\n",
    "\n",
    "We see that both variations of Model 1 output a higher R-squared than value than either of the Baseline models with values ranging between 0.810 and 0.880. In addition, Model 1 train and test scores varied by less than 5%. \n",
    "\n",
    ">The version of Model 1 that used the log-transformed price data had a .07 higher R-squared value than the untransformed price data model as well as a  .03 lower differential between train and test sets. For this reason we are going to stop using the regular price data and move forward with the transformed data.\n",
    "\n",
    "The cross validation performed identically between these two features and did not drastically differ from our test statistics (R-squared)."
   ]
  },
  {
   "cell_type": "code",
   "execution_count": 47,
   "metadata": {},
   "outputs": [],
   "source": [
    "#Overwriting non-transformed train/test splits, to avoid confusion we will switch to simpler names\n",
    "X_train = X_train2\n",
    "X_test = X_test2\n",
    "y_train = ln_y_train\n",
    "y_test = ln_y_test"
   ]
  },
  {
   "cell_type": "markdown",
   "metadata": {
    "heading_collapsed": true,
    "hidden": true
   },
   "source": [
    "## Model 2\n",
    "\n",
    "In Model 2 we drop features that had a relatively high p-value (alpha = 0.05) from Model 1 OLS to look for improvement in model fit.\n",
    "\n",
    "### Filtering by p-value"
   ]
  },
  {
   "cell_type": "code",
   "execution_count": 48,
   "metadata": {
    "hidden": true
   },
   "outputs": [],
   "source": [
    "#set target\n",
    "target = 'ln_price'\n",
    "\n",
    "#concate the X and y of the train tests to apply the OLS to the full train data\n",
    "train = pd.concat([X_train, y_train], axis=1)\n",
    "\n",
    "#join the column names with \"+\"\n",
    "columns= \"+\".join(train.drop(['ln_price'], axis=1).columns)\n",
    "\n",
    "#set formula\n",
    "formula = target + '~' +columns\n",
    "\n",
    "#create the OLS\n",
    "model1_ols = ols(formula, train).fit()\n",
    "\n",
    "#create a dataframe for the parameters and pvalues\n",
    "results = pd.DataFrame(model1_ols.pvalues)\n",
    "results.reset_index(inplace=True)\n",
    "\n",
    "#rename the columns\n",
    "results.rename(columns={'index': 'parameter', 0: 'pvalue'}, inplace=True)\n",
    "\n",
    "#create a list of parameters that have a pvalue < 0.05\n",
    "parameters = list(results[results['pvalue'] < 0.05]['parameter'])\n",
    "\n",
    "#the intercept parameter is not needed \n",
    "parameters.remove('Intercept')"
   ]
  },
  {
   "cell_type": "code",
   "execution_count": 49,
   "metadata": {},
   "outputs": [
    {
     "data": {
      "text/html": [
       "<table class=\"simpletable\">\n",
       "<caption>OLS Regression Results</caption>\n",
       "<tr>\n",
       "  <th>Dep. Variable:</th>        <td>ln_price</td>     <th>  R-squared:         </th> <td>   0.882</td>\n",
       "</tr>\n",
       "<tr>\n",
       "  <th>Model:</th>                   <td>OLS</td>       <th>  Adj. R-squared:    </th> <td>   0.882</td>\n",
       "</tr>\n",
       "<tr>\n",
       "  <th>Method:</th>             <td>Least Squares</td>  <th>  F-statistic:       </th> <td>   1120.</td>\n",
       "</tr>\n",
       "<tr>\n",
       "  <th>Date:</th>             <td>Wed, 14 Jul 2021</td> <th>  Prob (F-statistic):</th>  <td>  0.00</td> \n",
       "</tr>\n",
       "<tr>\n",
       "  <th>Time:</th>                 <td>10:47:00</td>     <th>  Log-Likelihood:    </th> <td>  5023.7</td>\n",
       "</tr>\n",
       "<tr>\n",
       "  <th>No. Observations:</th>      <td> 17277</td>      <th>  AIC:               </th> <td>  -9815.</td>\n",
       "</tr>\n",
       "<tr>\n",
       "  <th>Df Residuals:</th>          <td> 17161</td>      <th>  BIC:               </th> <td>  -8916.</td>\n",
       "</tr>\n",
       "<tr>\n",
       "  <th>Df Model:</th>              <td>   115</td>      <th>                     </th>     <td> </td>   \n",
       "</tr>\n",
       "<tr>\n",
       "  <th>Covariance Type:</th>      <td>nonrobust</td>    <th>                     </th>     <td> </td>   \n",
       "</tr>\n",
       "</table>\n",
       "<table class=\"simpletable\">\n",
       "<tr>\n",
       "          <td></td>            <th>coef</th>     <th>std err</th>      <th>t</th>      <th>P>|t|</th>  <th>[0.025</th>    <th>0.975]</th>  \n",
       "</tr>\n",
       "<tr>\n",
       "  <th>Intercept</th>        <td>   13.0484</td> <td>    0.001</td> <td> 9441.499</td> <td> 0.000</td> <td>   13.046</td> <td>   13.051</td>\n",
       "</tr>\n",
       "<tr>\n",
       "  <th>bedrooms</th>         <td>   -0.0050</td> <td>    0.002</td> <td>   -2.587</td> <td> 0.010</td> <td>   -0.009</td> <td>   -0.001</td>\n",
       "</tr>\n",
       "<tr>\n",
       "  <th>bathrooms</th>        <td>    0.0304</td> <td>    0.003</td> <td>   11.665</td> <td> 0.000</td> <td>    0.025</td> <td>    0.035</td>\n",
       "</tr>\n",
       "<tr>\n",
       "  <th>sqft_living</th>      <td>    0.0898</td> <td>    0.002</td> <td>   51.811</td> <td> 0.000</td> <td>    0.086</td> <td>    0.093</td>\n",
       "</tr>\n",
       "<tr>\n",
       "  <th>sqft_lot</th>         <td>    0.0267</td> <td>    0.002</td> <td>   12.984</td> <td> 0.000</td> <td>    0.023</td> <td>    0.031</td>\n",
       "</tr>\n",
       "<tr>\n",
       "  <th>sqft_above</th>       <td>    0.0913</td> <td>    0.002</td> <td>   47.887</td> <td> 0.000</td> <td>    0.088</td> <td>    0.095</td>\n",
       "</tr>\n",
       "<tr>\n",
       "  <th>sqft_basement</th>    <td>    0.0154</td> <td>    0.002</td> <td>    9.385</td> <td> 0.000</td> <td>    0.012</td> <td>    0.019</td>\n",
       "</tr>\n",
       "<tr>\n",
       "  <th>lat</th>              <td>    0.0774</td> <td>    0.011</td> <td>    6.972</td> <td> 0.000</td> <td>    0.056</td> <td>    0.099</td>\n",
       "</tr>\n",
       "<tr>\n",
       "  <th>long</th>             <td>   -0.0555</td> <td>    0.008</td> <td>   -6.936</td> <td> 0.000</td> <td>   -0.071</td> <td>   -0.040</td>\n",
       "</tr>\n",
       "<tr>\n",
       "  <th>sqft_living15</th>    <td>    0.0583</td> <td>    0.003</td> <td>   22.842</td> <td> 0.000</td> <td>    0.053</td> <td>    0.063</td>\n",
       "</tr>\n",
       "<tr>\n",
       "  <th>sqft_lot15</th>       <td>    0.0014</td> <td>    0.002</td> <td>    0.659</td> <td> 0.510</td> <td>   -0.003</td> <td>    0.005</td>\n",
       "</tr>\n",
       "<tr>\n",
       "  <th>age_of_house</th>     <td>    0.0144</td> <td>    0.003</td> <td>    5.515</td> <td> 0.000</td> <td>    0.009</td> <td>    0.019</td>\n",
       "</tr>\n",
       "<tr>\n",
       "  <th>floors_1_5</th>       <td>    0.0038</td> <td>    0.002</td> <td>    2.397</td> <td> 0.017</td> <td>    0.001</td> <td>    0.007</td>\n",
       "</tr>\n",
       "<tr>\n",
       "  <th>floors_2_0</th>       <td>   -0.0115</td> <td>    0.002</td> <td>   -4.964</td> <td> 0.000</td> <td>   -0.016</td> <td>   -0.007</td>\n",
       "</tr>\n",
       "<tr>\n",
       "  <th>floors_2_5</th>       <td>   -0.0025</td> <td>    0.001</td> <td>   -1.675</td> <td> 0.094</td> <td>   -0.005</td> <td>    0.000</td>\n",
       "</tr>\n",
       "<tr>\n",
       "  <th>floors_3_0</th>       <td>   -0.0206</td> <td>    0.002</td> <td>  -11.890</td> <td> 0.000</td> <td>   -0.024</td> <td>   -0.017</td>\n",
       "</tr>\n",
       "<tr>\n",
       "  <th>floors_3_5</th>       <td>   -0.0024</td> <td>    0.001</td> <td>   -1.968</td> <td> 0.049</td> <td>   -0.005</td> <td>-9.57e-06</td>\n",
       "</tr>\n",
       "<tr>\n",
       "  <th>waterfront_1</th>     <td>    0.0375</td> <td>    0.002</td> <td>   22.012</td> <td> 0.000</td> <td>    0.034</td> <td>    0.041</td>\n",
       "</tr>\n",
       "<tr>\n",
       "  <th>view_1</th>           <td>    0.0160</td> <td>    0.001</td> <td>   11.102</td> <td> 0.000</td> <td>    0.013</td> <td>    0.019</td>\n",
       "</tr>\n",
       "<tr>\n",
       "  <th>view_2</th>           <td>    0.0214</td> <td>    0.001</td> <td>   14.601</td> <td> 0.000</td> <td>    0.019</td> <td>    0.024</td>\n",
       "</tr>\n",
       "<tr>\n",
       "  <th>view_3</th>           <td>    0.0257</td> <td>    0.001</td> <td>   17.305</td> <td> 0.000</td> <td>    0.023</td> <td>    0.029</td>\n",
       "</tr>\n",
       "<tr>\n",
       "  <th>view_4</th>           <td>    0.0340</td> <td>    0.002</td> <td>   19.750</td> <td> 0.000</td> <td>    0.031</td> <td>    0.037</td>\n",
       "</tr>\n",
       "<tr>\n",
       "  <th>condition_2</th>      <td>    0.0096</td> <td>    0.004</td> <td>    2.437</td> <td> 0.015</td> <td>    0.002</td> <td>    0.017</td>\n",
       "</tr>\n",
       "<tr>\n",
       "  <th>condition_3</th>      <td>    0.1048</td> <td>    0.020</td> <td>    5.203</td> <td> 0.000</td> <td>    0.065</td> <td>    0.144</td>\n",
       "</tr>\n",
       "<tr>\n",
       "  <th>condition_4</th>      <td>    0.1178</td> <td>    0.019</td> <td>    6.336</td> <td> 0.000</td> <td>    0.081</td> <td>    0.154</td>\n",
       "</tr>\n",
       "<tr>\n",
       "  <th>condition_5</th>      <td>    0.0893</td> <td>    0.011</td> <td>    7.813</td> <td> 0.000</td> <td>    0.067</td> <td>    0.112</td>\n",
       "</tr>\n",
       "<tr>\n",
       "  <th>grade_4</th>          <td>   -0.0203</td> <td>    0.007</td> <td>   -3.074</td> <td> 0.002</td> <td>   -0.033</td> <td>   -0.007</td>\n",
       "</tr>\n",
       "<tr>\n",
       "  <th>grade_5</th>          <td>   -0.0433</td> <td>    0.019</td> <td>   -2.249</td> <td> 0.025</td> <td>   -0.081</td> <td>   -0.006</td>\n",
       "</tr>\n",
       "<tr>\n",
       "  <th>grade_6</th>          <td>   -0.0925</td> <td>    0.053</td> <td>   -1.735</td> <td> 0.083</td> <td>   -0.197</td> <td>    0.012</td>\n",
       "</tr>\n",
       "<tr>\n",
       "  <th>grade_7</th>          <td>   -0.0938</td> <td>    0.090</td> <td>   -1.044</td> <td> 0.296</td> <td>   -0.270</td> <td>    0.082</td>\n",
       "</tr>\n",
       "<tr>\n",
       "  <th>grade_8</th>          <td>   -0.0408</td> <td>    0.082</td> <td>   -0.498</td> <td> 0.618</td> <td>   -0.201</td> <td>    0.120</td>\n",
       "</tr>\n",
       "<tr>\n",
       "  <th>grade_9</th>          <td>    0.0033</td> <td>    0.060</td> <td>    0.055</td> <td> 0.956</td> <td>   -0.113</td> <td>    0.120</td>\n",
       "</tr>\n",
       "<tr>\n",
       "  <th>grade_10</th>         <td>    0.0128</td> <td>    0.041</td> <td>    0.314</td> <td> 0.754</td> <td>   -0.067</td> <td>    0.093</td>\n",
       "</tr>\n",
       "<tr>\n",
       "  <th>grade_11</th>         <td>    0.0118</td> <td>    0.025</td> <td>    0.481</td> <td> 0.631</td> <td>   -0.036</td> <td>    0.060</td>\n",
       "</tr>\n",
       "<tr>\n",
       "  <th>grade_12</th>         <td>    0.0062</td> <td>    0.012</td> <td>    0.526</td> <td> 0.599</td> <td>   -0.017</td> <td>    0.029</td>\n",
       "</tr>\n",
       "<tr>\n",
       "  <th>grade_13</th>         <td>    0.0023</td> <td>    0.005</td> <td>    0.497</td> <td> 0.619</td> <td>   -0.007</td> <td>    0.012</td>\n",
       "</tr>\n",
       "<tr>\n",
       "  <th>if_renovated_1</th>   <td>    0.0130</td> <td>    0.001</td> <td>    8.718</td> <td> 0.000</td> <td>    0.010</td> <td>    0.016</td>\n",
       "</tr>\n",
       "<tr>\n",
       "  <th>zipcode_98002</th>    <td>   -0.0001</td> <td>    0.002</td> <td>   -0.063</td> <td> 0.950</td> <td>   -0.004</td> <td>    0.003</td>\n",
       "</tr>\n",
       "<tr>\n",
       "  <th>zipcode_98003</th>    <td>   -0.0004</td> <td>    0.002</td> <td>   -0.201</td> <td> 0.840</td> <td>   -0.004</td> <td>    0.003</td>\n",
       "</tr>\n",
       "<tr>\n",
       "  <th>zipcode_98004</th>    <td>    0.1128</td> <td>    0.004</td> <td>   31.546</td> <td> 0.000</td> <td>    0.106</td> <td>    0.120</td>\n",
       "</tr>\n",
       "<tr>\n",
       "  <th>zipcode_98005</th>    <td>    0.0522</td> <td>    0.003</td> <td>   18.713</td> <td> 0.000</td> <td>    0.047</td> <td>    0.058</td>\n",
       "</tr>\n",
       "<tr>\n",
       "  <th>zipcode_98006</th>    <td>    0.0794</td> <td>    0.004</td> <td>   20.273</td> <td> 0.000</td> <td>    0.072</td> <td>    0.087</td>\n",
       "</tr>\n",
       "<tr>\n",
       "  <th>zipcode_98007</th>    <td>    0.0421</td> <td>    0.003</td> <td>   15.924</td> <td> 0.000</td> <td>    0.037</td> <td>    0.047</td>\n",
       "</tr>\n",
       "<tr>\n",
       "  <th>zipcode_98008</th>    <td>    0.0598</td> <td>    0.004</td> <td>   16.943</td> <td> 0.000</td> <td>    0.053</td> <td>    0.067</td>\n",
       "</tr>\n",
       "<tr>\n",
       "  <th>zipcode_98010</th>    <td>    0.0222</td> <td>    0.002</td> <td>   11.922</td> <td> 0.000</td> <td>    0.019</td> <td>    0.026</td>\n",
       "</tr>\n",
       "<tr>\n",
       "  <th>zipcode_98011</th>    <td>    0.0207</td> <td>    0.004</td> <td>    5.397</td> <td> 0.000</td> <td>    0.013</td> <td>    0.028</td>\n",
       "</tr>\n",
       "<tr>\n",
       "  <th>zipcode_98014</th>    <td>    0.0200</td> <td>    0.003</td> <td>    5.995</td> <td> 0.000</td> <td>    0.013</td> <td>    0.027</td>\n",
       "</tr>\n",
       "<tr>\n",
       "  <th>zipcode_98019</th>    <td>    0.0184</td> <td>    0.004</td> <td>    4.497</td> <td> 0.000</td> <td>    0.010</td> <td>    0.026</td>\n",
       "</tr>\n",
       "<tr>\n",
       "  <th>zipcode_98022</th>    <td>    0.0205</td> <td>    0.003</td> <td>    8.167</td> <td> 0.000</td> <td>    0.016</td> <td>    0.025</td>\n",
       "</tr>\n",
       "<tr>\n",
       "  <th>zipcode_98023</th>    <td>   -0.0105</td> <td>    0.002</td> <td>   -4.670</td> <td> 0.000</td> <td>   -0.015</td> <td>   -0.006</td>\n",
       "</tr>\n",
       "<tr>\n",
       "  <th>zipcode_98024</th>    <td>    0.0250</td> <td>    0.002</td> <td>   10.728</td> <td> 0.000</td> <td>    0.020</td> <td>    0.030</td>\n",
       "</tr>\n",
       "<tr>\n",
       "  <th>zipcode_98027</th>    <td>    0.0633</td> <td>    0.004</td> <td>   17.501</td> <td> 0.000</td> <td>    0.056</td> <td>    0.070</td>\n",
       "</tr>\n",
       "<tr>\n",
       "  <th>zipcode_98028</th>    <td>    0.0186</td> <td>    0.004</td> <td>    4.150</td> <td> 0.000</td> <td>    0.010</td> <td>    0.027</td>\n",
       "</tr>\n",
       "<tr>\n",
       "  <th>zipcode_98029</th>    <td>    0.0659</td> <td>    0.004</td> <td>   17.955</td> <td> 0.000</td> <td>    0.059</td> <td>    0.073</td>\n",
       "</tr>\n",
       "<tr>\n",
       "  <th>zipcode_98030</th>    <td>    0.0050</td> <td>    0.002</td> <td>    2.539</td> <td> 0.011</td> <td>    0.001</td> <td>    0.009</td>\n",
       "</tr>\n",
       "<tr>\n",
       "  <th>zipcode_98031</th>    <td>    0.0060</td> <td>    0.002</td> <td>    2.866</td> <td> 0.004</td> <td>    0.002</td> <td>    0.010</td>\n",
       "</tr>\n",
       "<tr>\n",
       "  <th>zipcode_98032</th>    <td>   -0.0056</td> <td>    0.002</td> <td>   -3.378</td> <td> 0.001</td> <td>   -0.009</td> <td>   -0.002</td>\n",
       "</tr>\n",
       "<tr>\n",
       "  <th>zipcode_98033</th>    <td>    0.0839</td> <td>    0.005</td> <td>   17.720</td> <td> 0.000</td> <td>    0.075</td> <td>    0.093</td>\n",
       "</tr>\n",
       "<tr>\n",
       "  <th>zipcode_98034</th>    <td>    0.0518</td> <td>    0.006</td> <td>    9.142</td> <td> 0.000</td> <td>    0.041</td> <td>    0.063</td>\n",
       "</tr>\n",
       "<tr>\n",
       "  <th>zipcode_98038</th>    <td>    0.0355</td> <td>    0.003</td> <td>   10.821</td> <td> 0.000</td> <td>    0.029</td> <td>    0.042</td>\n",
       "</tr>\n",
       "<tr>\n",
       "  <th>zipcode_98039</th>    <td>    0.0506</td> <td>    0.002</td> <td>   26.760</td> <td> 0.000</td> <td>    0.047</td> <td>    0.054</td>\n",
       "</tr>\n",
       "<tr>\n",
       "  <th>zipcode_98040</th>    <td>    0.0819</td> <td>    0.003</td> <td>   27.346</td> <td> 0.000</td> <td>    0.076</td> <td>    0.088</td>\n",
       "</tr>\n",
       "<tr>\n",
       "  <th>zipcode_98042</th>    <td>    0.0127</td> <td>    0.003</td> <td>    4.690</td> <td> 0.000</td> <td>    0.007</td> <td>    0.018</td>\n",
       "</tr>\n",
       "<tr>\n",
       "  <th>zipcode_98045</th>    <td>    0.0435</td> <td>    0.004</td> <td>   11.780</td> <td> 0.000</td> <td>    0.036</td> <td>    0.051</td>\n",
       "</tr>\n",
       "<tr>\n",
       "  <th>zipcode_98052</th>    <td>    0.0765</td> <td>    0.006</td> <td>   13.836</td> <td> 0.000</td> <td>    0.066</td> <td>    0.087</td>\n",
       "</tr>\n",
       "<tr>\n",
       "  <th>zipcode_98053</th>    <td>    0.0614</td> <td>    0.005</td> <td>   12.315</td> <td> 0.000</td> <td>    0.052</td> <td>    0.071</td>\n",
       "</tr>\n",
       "<tr>\n",
       "  <th>zipcode_98055</th>    <td>    0.0083</td> <td>    0.002</td> <td>    3.611</td> <td> 0.000</td> <td>    0.004</td> <td>    0.013</td>\n",
       "</tr>\n",
       "<tr>\n",
       "  <th>zipcode_98056</th>    <td>    0.0316</td> <td>    0.003</td> <td>   10.263</td> <td> 0.000</td> <td>    0.026</td> <td>    0.038</td>\n",
       "</tr>\n",
       "<tr>\n",
       "  <th>zipcode_98058</th>    <td>    0.0174</td> <td>    0.003</td> <td>    6.140</td> <td> 0.000</td> <td>    0.012</td> <td>    0.023</td>\n",
       "</tr>\n",
       "<tr>\n",
       "  <th>zipcode_98059</th>    <td>    0.0401</td> <td>    0.003</td> <td>   12.389</td> <td> 0.000</td> <td>    0.034</td> <td>    0.046</td>\n",
       "</tr>\n",
       "<tr>\n",
       "  <th>zipcode_98065</th>    <td>    0.0489</td> <td>    0.004</td> <td>   12.103</td> <td> 0.000</td> <td>    0.041</td> <td>    0.057</td>\n",
       "</tr>\n",
       "<tr>\n",
       "  <th>zipcode_98070</th>    <td>    0.0141</td> <td>    0.002</td> <td>    7.250</td> <td> 0.000</td> <td>    0.010</td> <td>    0.018</td>\n",
       "</tr>\n",
       "<tr>\n",
       "  <th>zipcode_98072</th>    <td>    0.0318</td> <td>    0.004</td> <td>    7.076</td> <td> 0.000</td> <td>    0.023</td> <td>    0.041</td>\n",
       "</tr>\n",
       "<tr>\n",
       "  <th>zipcode_98074</th>    <td>    0.0644</td> <td>    0.005</td> <td>   13.998</td> <td> 0.000</td> <td>    0.055</td> <td>    0.073</td>\n",
       "</tr>\n",
       "<tr>\n",
       "  <th>zipcode_98075</th>    <td>    0.0606</td> <td>    0.004</td> <td>   15.208</td> <td> 0.000</td> <td>    0.053</td> <td>    0.068</td>\n",
       "</tr>\n",
       "<tr>\n",
       "  <th>zipcode_98077</th>    <td>    0.0261</td> <td>    0.004</td> <td>    6.537</td> <td> 0.000</td> <td>    0.018</td> <td>    0.034</td>\n",
       "</tr>\n",
       "<tr>\n",
       "  <th>zipcode_98092</th>    <td>    0.0065</td> <td>    0.002</td> <td>    3.113</td> <td> 0.002</td> <td>    0.002</td> <td>    0.011</td>\n",
       "</tr>\n",
       "<tr>\n",
       "  <th>zipcode_98102</th>    <td>    0.0500</td> <td>    0.002</td> <td>   20.687</td> <td> 0.000</td> <td>    0.045</td> <td>    0.055</td>\n",
       "</tr>\n",
       "<tr>\n",
       "  <th>zipcode_98103</th>    <td>    0.0939</td> <td>    0.005</td> <td>   17.394</td> <td> 0.000</td> <td>    0.083</td> <td>    0.104</td>\n",
       "</tr>\n",
       "<tr>\n",
       "  <th>zipcode_98105</th>    <td>    0.0724</td> <td>    0.003</td> <td>   21.067</td> <td> 0.000</td> <td>    0.066</td> <td>    0.079</td>\n",
       "</tr>\n",
       "<tr>\n",
       "  <th>zipcode_98106</th>    <td>    0.0208</td> <td>    0.003</td> <td>    6.912</td> <td> 0.000</td> <td>    0.015</td> <td>    0.027</td>\n",
       "</tr>\n",
       "<tr>\n",
       "  <th>zipcode_98107</th>    <td>    0.0637</td> <td>    0.004</td> <td>   17.070</td> <td> 0.000</td> <td>    0.056</td> <td>    0.071</td>\n",
       "</tr>\n",
       "<tr>\n",
       "  <th>zipcode_98108</th>    <td>    0.0181</td> <td>    0.002</td> <td>    7.367</td> <td> 0.000</td> <td>    0.013</td> <td>    0.023</td>\n",
       "</tr>\n",
       "<tr>\n",
       "  <th>zipcode_98109</th>    <td>    0.0535</td> <td>    0.002</td> <td>   21.733</td> <td> 0.000</td> <td>    0.049</td> <td>    0.058</td>\n",
       "</tr>\n",
       "<tr>\n",
       "  <th>zipcode_98112</th>    <td>    0.0926</td> <td>    0.003</td> <td>   27.144</td> <td> 0.000</td> <td>    0.086</td> <td>    0.099</td>\n",
       "</tr>\n",
       "<tr>\n",
       "  <th>zipcode_98115</th>    <td>    0.0925</td> <td>    0.005</td> <td>   17.156</td> <td> 0.000</td> <td>    0.082</td> <td>    0.103</td>\n",
       "</tr>\n",
       "<tr>\n",
       "  <th>zipcode_98116</th>    <td>    0.0665</td> <td>    0.003</td> <td>   19.955</td> <td> 0.000</td> <td>    0.060</td> <td>    0.073</td>\n",
       "</tr>\n",
       "<tr>\n",
       "  <th>zipcode_98117</th>    <td>    0.0849</td> <td>    0.005</td> <td>   15.928</td> <td> 0.000</td> <td>    0.074</td> <td>    0.095</td>\n",
       "</tr>\n",
       "<tr>\n",
       "  <th>zipcode_98118</th>    <td>    0.0466</td> <td>    0.004</td> <td>   12.977</td> <td> 0.000</td> <td>    0.040</td> <td>    0.054</td>\n",
       "</tr>\n",
       "<tr>\n",
       "  <th>zipcode_98119</th>    <td>    0.0678</td> <td>    0.003</td> <td>   22.456</td> <td> 0.000</td> <td>    0.062</td> <td>    0.074</td>\n",
       "</tr>\n",
       "<tr>\n",
       "  <th>zipcode_98122</th>    <td>    0.0683</td> <td>    0.003</td> <td>   20.214</td> <td> 0.000</td> <td>    0.062</td> <td>    0.075</td>\n",
       "</tr>\n",
       "<tr>\n",
       "  <th>zipcode_98125</th>    <td>    0.0439</td> <td>    0.005</td> <td>    8.976</td> <td> 0.000</td> <td>    0.034</td> <td>    0.053</td>\n",
       "</tr>\n",
       "<tr>\n",
       "  <th>zipcode_98126</th>    <td>    0.0426</td> <td>    0.003</td> <td>   13.412</td> <td> 0.000</td> <td>    0.036</td> <td>    0.049</td>\n",
       "</tr>\n",
       "<tr>\n",
       "  <th>zipcode_98133</th>    <td>    0.0271</td> <td>    0.006</td> <td>    4.892</td> <td> 0.000</td> <td>    0.016</td> <td>    0.038</td>\n",
       "</tr>\n",
       "<tr>\n",
       "  <th>zipcode_98136</th>    <td>    0.0530</td> <td>    0.003</td> <td>   18.856</td> <td> 0.000</td> <td>    0.047</td> <td>    0.058</td>\n",
       "</tr>\n",
       "<tr>\n",
       "  <th>zipcode_98144</th>    <td>    0.0597</td> <td>    0.003</td> <td>   17.491</td> <td> 0.000</td> <td>    0.053</td> <td>    0.066</td>\n",
       "</tr>\n",
       "<tr>\n",
       "  <th>zipcode_98146</th>    <td>    0.0155</td> <td>    0.003</td> <td>    5.915</td> <td> 0.000</td> <td>    0.010</td> <td>    0.021</td>\n",
       "</tr>\n",
       "<tr>\n",
       "  <th>zipcode_98148</th>    <td>    0.0028</td> <td>    0.002</td> <td>    1.780</td> <td> 0.075</td> <td>   -0.000</td> <td>    0.006</td>\n",
       "</tr>\n",
       "<tr>\n",
       "  <th>zipcode_98155</th>    <td>    0.0227</td> <td>    0.005</td> <td>    4.141</td> <td> 0.000</td> <td>    0.012</td> <td>    0.033</td>\n",
       "</tr>\n",
       "<tr>\n",
       "  <th>zipcode_98166</th>    <td>    0.0200</td> <td>    0.002</td> <td>    8.972</td> <td> 0.000</td> <td>    0.016</td> <td>    0.024</td>\n",
       "</tr>\n",
       "<tr>\n",
       "  <th>zipcode_98168</th>    <td>   -0.0033</td> <td>    0.002</td> <td>   -1.362</td> <td> 0.173</td> <td>   -0.008</td> <td>    0.001</td>\n",
       "</tr>\n",
       "<tr>\n",
       "  <th>zipcode_98177</th>    <td>    0.0321</td> <td>    0.004</td> <td>    7.652</td> <td> 0.000</td> <td>    0.024</td> <td>    0.040</td>\n",
       "</tr>\n",
       "<tr>\n",
       "  <th>zipcode_98178</th>    <td>    0.0056</td> <td>    0.002</td> <td>    2.265</td> <td> 0.024</td> <td>    0.001</td> <td>    0.010</td>\n",
       "</tr>\n",
       "<tr>\n",
       "  <th>zipcode_98188</th>    <td>    0.0017</td> <td>    0.002</td> <td>    0.912</td> <td> 0.362</td> <td>   -0.002</td> <td>    0.005</td>\n",
       "</tr>\n",
       "<tr>\n",
       "  <th>zipcode_98198</th>    <td>   -0.0027</td> <td>    0.002</td> <td>   -1.350</td> <td> 0.177</td> <td>   -0.007</td> <td>    0.001</td>\n",
       "</tr>\n",
       "<tr>\n",
       "  <th>zipcode_98199</th>    <td>    0.0722</td> <td>    0.004</td> <td>   18.774</td> <td> 0.000</td> <td>    0.065</td> <td>    0.080</td>\n",
       "</tr>\n",
       "<tr>\n",
       "  <th>month_of_date_2</th>  <td>    0.0056</td> <td>    0.002</td> <td>    2.759</td> <td> 0.006</td> <td>    0.002</td> <td>    0.010</td>\n",
       "</tr>\n",
       "<tr>\n",
       "  <th>month_of_date_3</th>  <td>    0.0137</td> <td>    0.002</td> <td>    6.076</td> <td> 0.000</td> <td>    0.009</td> <td>    0.018</td>\n",
       "</tr>\n",
       "<tr>\n",
       "  <th>month_of_date_4</th>  <td>    0.0217</td> <td>    0.002</td> <td>    9.126</td> <td> 0.000</td> <td>    0.017</td> <td>    0.026</td>\n",
       "</tr>\n",
       "<tr>\n",
       "  <th>month_of_date_5</th>  <td>    0.0037</td> <td>    0.002</td> <td>    1.506</td> <td> 0.132</td> <td>   -0.001</td> <td>    0.008</td>\n",
       "</tr>\n",
       "<tr>\n",
       "  <th>month_of_date_6</th>  <td>    0.0010</td> <td>    0.002</td> <td>    0.441</td> <td> 0.659</td> <td>   -0.004</td> <td>    0.006</td>\n",
       "</tr>\n",
       "<tr>\n",
       "  <th>month_of_date_7</th>  <td>   -0.0009</td> <td>    0.002</td> <td>   -0.388</td> <td> 0.698</td> <td>   -0.006</td> <td>    0.004</td>\n",
       "</tr>\n",
       "<tr>\n",
       "  <th>month_of_date_8</th>  <td>    0.0008</td> <td>    0.002</td> <td>    0.347</td> <td> 0.729</td> <td>   -0.004</td> <td>    0.005</td>\n",
       "</tr>\n",
       "<tr>\n",
       "  <th>month_of_date_9</th>  <td>   -0.0019</td> <td>    0.002</td> <td>   -0.859</td> <td> 0.390</td> <td>   -0.006</td> <td>    0.002</td>\n",
       "</tr>\n",
       "<tr>\n",
       "  <th>month_of_date_10</th> <td>   -0.0026</td> <td>    0.002</td> <td>   -1.168</td> <td> 0.243</td> <td>   -0.007</td> <td>    0.002</td>\n",
       "</tr>\n",
       "<tr>\n",
       "  <th>month_of_date_11</th> <td>   -0.0019</td> <td>    0.002</td> <td>   -0.907</td> <td> 0.364</td> <td>   -0.006</td> <td>    0.002</td>\n",
       "</tr>\n",
       "<tr>\n",
       "  <th>month_of_date_12</th> <td>    0.0008</td> <td>    0.002</td> <td>    0.383</td> <td> 0.702</td> <td>   -0.003</td> <td>    0.005</td>\n",
       "</tr>\n",
       "</table>\n",
       "<table class=\"simpletable\">\n",
       "<tr>\n",
       "  <th>Omnibus:</th>       <td>1424.142</td> <th>  Durbin-Watson:     </th> <td>   2.014</td>\n",
       "</tr>\n",
       "<tr>\n",
       "  <th>Prob(Omnibus):</th>  <td> 0.000</td>  <th>  Jarque-Bera (JB):  </th> <td>6812.674</td>\n",
       "</tr>\n",
       "<tr>\n",
       "  <th>Skew:</th>           <td>-0.262</td>  <th>  Prob(JB):          </th> <td>    0.00</td>\n",
       "</tr>\n",
       "<tr>\n",
       "  <th>Kurtosis:</th>       <td> 6.031</td>  <th>  Cond. No.          </th> <td>7.54e+15</td>\n",
       "</tr>\n",
       "</table><br/><br/>Notes:<br/>[1] Standard Errors assume that the covariance matrix of the errors is correctly specified.<br/>[2] The smallest eigenvalue is 1.76e-27. This might indicate that there are<br/>strong multicollinearity problems or that the design matrix is singular."
      ],
      "text/plain": [
       "<class 'statsmodels.iolib.summary.Summary'>\n",
       "\"\"\"\n",
       "                            OLS Regression Results                            \n",
       "==============================================================================\n",
       "Dep. Variable:               ln_price   R-squared:                       0.882\n",
       "Model:                            OLS   Adj. R-squared:                  0.882\n",
       "Method:                 Least Squares   F-statistic:                     1120.\n",
       "Date:                Wed, 14 Jul 2021   Prob (F-statistic):               0.00\n",
       "Time:                        10:47:00   Log-Likelihood:                 5023.7\n",
       "No. Observations:               17277   AIC:                            -9815.\n",
       "Df Residuals:                   17161   BIC:                            -8916.\n",
       "Df Model:                         115                                         \n",
       "Covariance Type:            nonrobust                                         \n",
       "====================================================================================\n",
       "                       coef    std err          t      P>|t|      [0.025      0.975]\n",
       "------------------------------------------------------------------------------------\n",
       "Intercept           13.0484      0.001   9441.499      0.000      13.046      13.051\n",
       "bedrooms            -0.0050      0.002     -2.587      0.010      -0.009      -0.001\n",
       "bathrooms            0.0304      0.003     11.665      0.000       0.025       0.035\n",
       "sqft_living          0.0898      0.002     51.811      0.000       0.086       0.093\n",
       "sqft_lot             0.0267      0.002     12.984      0.000       0.023       0.031\n",
       "sqft_above           0.0913      0.002     47.887      0.000       0.088       0.095\n",
       "sqft_basement        0.0154      0.002      9.385      0.000       0.012       0.019\n",
       "lat                  0.0774      0.011      6.972      0.000       0.056       0.099\n",
       "long                -0.0555      0.008     -6.936      0.000      -0.071      -0.040\n",
       "sqft_living15        0.0583      0.003     22.842      0.000       0.053       0.063\n",
       "sqft_lot15           0.0014      0.002      0.659      0.510      -0.003       0.005\n",
       "age_of_house         0.0144      0.003      5.515      0.000       0.009       0.019\n",
       "floors_1_5           0.0038      0.002      2.397      0.017       0.001       0.007\n",
       "floors_2_0          -0.0115      0.002     -4.964      0.000      -0.016      -0.007\n",
       "floors_2_5          -0.0025      0.001     -1.675      0.094      -0.005       0.000\n",
       "floors_3_0          -0.0206      0.002    -11.890      0.000      -0.024      -0.017\n",
       "floors_3_5          -0.0024      0.001     -1.968      0.049      -0.005   -9.57e-06\n",
       "waterfront_1         0.0375      0.002     22.012      0.000       0.034       0.041\n",
       "view_1               0.0160      0.001     11.102      0.000       0.013       0.019\n",
       "view_2               0.0214      0.001     14.601      0.000       0.019       0.024\n",
       "view_3               0.0257      0.001     17.305      0.000       0.023       0.029\n",
       "view_4               0.0340      0.002     19.750      0.000       0.031       0.037\n",
       "condition_2          0.0096      0.004      2.437      0.015       0.002       0.017\n",
       "condition_3          0.1048      0.020      5.203      0.000       0.065       0.144\n",
       "condition_4          0.1178      0.019      6.336      0.000       0.081       0.154\n",
       "condition_5          0.0893      0.011      7.813      0.000       0.067       0.112\n",
       "grade_4             -0.0203      0.007     -3.074      0.002      -0.033      -0.007\n",
       "grade_5             -0.0433      0.019     -2.249      0.025      -0.081      -0.006\n",
       "grade_6             -0.0925      0.053     -1.735      0.083      -0.197       0.012\n",
       "grade_7             -0.0938      0.090     -1.044      0.296      -0.270       0.082\n",
       "grade_8             -0.0408      0.082     -0.498      0.618      -0.201       0.120\n",
       "grade_9              0.0033      0.060      0.055      0.956      -0.113       0.120\n",
       "grade_10             0.0128      0.041      0.314      0.754      -0.067       0.093\n",
       "grade_11             0.0118      0.025      0.481      0.631      -0.036       0.060\n",
       "grade_12             0.0062      0.012      0.526      0.599      -0.017       0.029\n",
       "grade_13             0.0023      0.005      0.497      0.619      -0.007       0.012\n",
       "if_renovated_1       0.0130      0.001      8.718      0.000       0.010       0.016\n",
       "zipcode_98002       -0.0001      0.002     -0.063      0.950      -0.004       0.003\n",
       "zipcode_98003       -0.0004      0.002     -0.201      0.840      -0.004       0.003\n",
       "zipcode_98004        0.1128      0.004     31.546      0.000       0.106       0.120\n",
       "zipcode_98005        0.0522      0.003     18.713      0.000       0.047       0.058\n",
       "zipcode_98006        0.0794      0.004     20.273      0.000       0.072       0.087\n",
       "zipcode_98007        0.0421      0.003     15.924      0.000       0.037       0.047\n",
       "zipcode_98008        0.0598      0.004     16.943      0.000       0.053       0.067\n",
       "zipcode_98010        0.0222      0.002     11.922      0.000       0.019       0.026\n",
       "zipcode_98011        0.0207      0.004      5.397      0.000       0.013       0.028\n",
       "zipcode_98014        0.0200      0.003      5.995      0.000       0.013       0.027\n",
       "zipcode_98019        0.0184      0.004      4.497      0.000       0.010       0.026\n",
       "zipcode_98022        0.0205      0.003      8.167      0.000       0.016       0.025\n",
       "zipcode_98023       -0.0105      0.002     -4.670      0.000      -0.015      -0.006\n",
       "zipcode_98024        0.0250      0.002     10.728      0.000       0.020       0.030\n",
       "zipcode_98027        0.0633      0.004     17.501      0.000       0.056       0.070\n",
       "zipcode_98028        0.0186      0.004      4.150      0.000       0.010       0.027\n",
       "zipcode_98029        0.0659      0.004     17.955      0.000       0.059       0.073\n",
       "zipcode_98030        0.0050      0.002      2.539      0.011       0.001       0.009\n",
       "zipcode_98031        0.0060      0.002      2.866      0.004       0.002       0.010\n",
       "zipcode_98032       -0.0056      0.002     -3.378      0.001      -0.009      -0.002\n",
       "zipcode_98033        0.0839      0.005     17.720      0.000       0.075       0.093\n",
       "zipcode_98034        0.0518      0.006      9.142      0.000       0.041       0.063\n",
       "zipcode_98038        0.0355      0.003     10.821      0.000       0.029       0.042\n",
       "zipcode_98039        0.0506      0.002     26.760      0.000       0.047       0.054\n",
       "zipcode_98040        0.0819      0.003     27.346      0.000       0.076       0.088\n",
       "zipcode_98042        0.0127      0.003      4.690      0.000       0.007       0.018\n",
       "zipcode_98045        0.0435      0.004     11.780      0.000       0.036       0.051\n",
       "zipcode_98052        0.0765      0.006     13.836      0.000       0.066       0.087\n",
       "zipcode_98053        0.0614      0.005     12.315      0.000       0.052       0.071\n",
       "zipcode_98055        0.0083      0.002      3.611      0.000       0.004       0.013\n",
       "zipcode_98056        0.0316      0.003     10.263      0.000       0.026       0.038\n",
       "zipcode_98058        0.0174      0.003      6.140      0.000       0.012       0.023\n",
       "zipcode_98059        0.0401      0.003     12.389      0.000       0.034       0.046\n",
       "zipcode_98065        0.0489      0.004     12.103      0.000       0.041       0.057\n",
       "zipcode_98070        0.0141      0.002      7.250      0.000       0.010       0.018\n",
       "zipcode_98072        0.0318      0.004      7.076      0.000       0.023       0.041\n",
       "zipcode_98074        0.0644      0.005     13.998      0.000       0.055       0.073\n",
       "zipcode_98075        0.0606      0.004     15.208      0.000       0.053       0.068\n",
       "zipcode_98077        0.0261      0.004      6.537      0.000       0.018       0.034\n",
       "zipcode_98092        0.0065      0.002      3.113      0.002       0.002       0.011\n",
       "zipcode_98102        0.0500      0.002     20.687      0.000       0.045       0.055\n",
       "zipcode_98103        0.0939      0.005     17.394      0.000       0.083       0.104\n",
       "zipcode_98105        0.0724      0.003     21.067      0.000       0.066       0.079\n",
       "zipcode_98106        0.0208      0.003      6.912      0.000       0.015       0.027\n",
       "zipcode_98107        0.0637      0.004     17.070      0.000       0.056       0.071\n",
       "zipcode_98108        0.0181      0.002      7.367      0.000       0.013       0.023\n",
       "zipcode_98109        0.0535      0.002     21.733      0.000       0.049       0.058\n",
       "zipcode_98112        0.0926      0.003     27.144      0.000       0.086       0.099\n",
       "zipcode_98115        0.0925      0.005     17.156      0.000       0.082       0.103\n",
       "zipcode_98116        0.0665      0.003     19.955      0.000       0.060       0.073\n",
       "zipcode_98117        0.0849      0.005     15.928      0.000       0.074       0.095\n",
       "zipcode_98118        0.0466      0.004     12.977      0.000       0.040       0.054\n",
       "zipcode_98119        0.0678      0.003     22.456      0.000       0.062       0.074\n",
       "zipcode_98122        0.0683      0.003     20.214      0.000       0.062       0.075\n",
       "zipcode_98125        0.0439      0.005      8.976      0.000       0.034       0.053\n",
       "zipcode_98126        0.0426      0.003     13.412      0.000       0.036       0.049\n",
       "zipcode_98133        0.0271      0.006      4.892      0.000       0.016       0.038\n",
       "zipcode_98136        0.0530      0.003     18.856      0.000       0.047       0.058\n",
       "zipcode_98144        0.0597      0.003     17.491      0.000       0.053       0.066\n",
       "zipcode_98146        0.0155      0.003      5.915      0.000       0.010       0.021\n",
       "zipcode_98148        0.0028      0.002      1.780      0.075      -0.000       0.006\n",
       "zipcode_98155        0.0227      0.005      4.141      0.000       0.012       0.033\n",
       "zipcode_98166        0.0200      0.002      8.972      0.000       0.016       0.024\n",
       "zipcode_98168       -0.0033      0.002     -1.362      0.173      -0.008       0.001\n",
       "zipcode_98177        0.0321      0.004      7.652      0.000       0.024       0.040\n",
       "zipcode_98178        0.0056      0.002      2.265      0.024       0.001       0.010\n",
       "zipcode_98188        0.0017      0.002      0.912      0.362      -0.002       0.005\n",
       "zipcode_98198       -0.0027      0.002     -1.350      0.177      -0.007       0.001\n",
       "zipcode_98199        0.0722      0.004     18.774      0.000       0.065       0.080\n",
       "month_of_date_2      0.0056      0.002      2.759      0.006       0.002       0.010\n",
       "month_of_date_3      0.0137      0.002      6.076      0.000       0.009       0.018\n",
       "month_of_date_4      0.0217      0.002      9.126      0.000       0.017       0.026\n",
       "month_of_date_5      0.0037      0.002      1.506      0.132      -0.001       0.008\n",
       "month_of_date_6      0.0010      0.002      0.441      0.659      -0.004       0.006\n",
       "month_of_date_7     -0.0009      0.002     -0.388      0.698      -0.006       0.004\n",
       "month_of_date_8      0.0008      0.002      0.347      0.729      -0.004       0.005\n",
       "month_of_date_9     -0.0019      0.002     -0.859      0.390      -0.006       0.002\n",
       "month_of_date_10    -0.0026      0.002     -1.168      0.243      -0.007       0.002\n",
       "month_of_date_11    -0.0019      0.002     -0.907      0.364      -0.006       0.002\n",
       "month_of_date_12     0.0008      0.002      0.383      0.702      -0.003       0.005\n",
       "==============================================================================\n",
       "Omnibus:                     1424.142   Durbin-Watson:                   2.014\n",
       "Prob(Omnibus):                  0.000   Jarque-Bera (JB):             6812.674\n",
       "Skew:                          -0.262   Prob(JB):                         0.00\n",
       "Kurtosis:                       6.031   Cond. No.                     7.54e+15\n",
       "==============================================================================\n",
       "\n",
       "Notes:\n",
       "[1] Standard Errors assume that the covariance matrix of the errors is correctly specified.\n",
       "[2] The smallest eigenvalue is 1.76e-27. This might indicate that there are\n",
       "strong multicollinearity problems or that the design matrix is singular.\n",
       "\"\"\""
      ]
     },
     "execution_count": 49,
     "metadata": {},
     "output_type": "execute_result"
    }
   ],
   "source": [
    "model1_ols.summary()"
   ]
  },
  {
   "cell_type": "markdown",
   "metadata": {
    "hidden": true
   },
   "source": [
    "### Fitting the model"
   ]
  },
  {
   "cell_type": "code",
   "execution_count": 50,
   "metadata": {
    "hidden": true
   },
   "outputs": [],
   "source": [
    "#create linear regression model for price and setting up cross validation (x3)\n",
    "model2 = LinearRegression()\n",
    "model2.fit(X_train[parameters], y_train);"
   ]
  },
  {
   "cell_type": "markdown",
   "metadata": {},
   "source": [
    "### Cross-Validation Step"
   ]
  },
  {
   "cell_type": "code",
   "execution_count": 51,
   "metadata": {
    "hidden": true,
    "scrolled": true
   },
   "outputs": [
    {
     "data": {
      "text/plain": [
       "'The median R-squared values for the train sets were 0.882, the median R-squared values for the test sets were 0.882. These values resulted in a differential of 5e-05'"
      ]
     },
     "execution_count": 51,
     "metadata": {},
     "output_type": "execute_result"
    }
   ],
   "source": [
    "#setting up cross validation for ln price in a different way (x3)\n",
    "model2_cval = cross_val(model2,\n",
    "                        y=ln_y,\n",
    "                        random_state=0)\n",
    "\n",
    "model2_cval_summary = cval_summary(model2_cval[0],\n",
    "                                   model2_cval[1],\n",
    "                                   abs(model2_cval[0]-model2_cval[1]))\n",
    "model2_cval_summary"
   ]
  },
  {
   "cell_type": "markdown",
   "metadata": {},
   "source": [
    "### Model Validation"
   ]
  },
  {
   "cell_type": "code",
   "execution_count": 52,
   "metadata": {
    "hidden": true,
    "scrolled": true
   },
   "outputs": [
    {
     "data": {
      "text/plain": [
       "'The R-squared value for the train set was 0.871, and the R-sqaured value for the test set was 0.868. These values resulted in a differential of 0.00294'"
      ]
     },
     "execution_count": 52,
     "metadata": {},
     "output_type": "execute_result"
    }
   ],
   "source": [
    "#find the test score using the linear model\n",
    "model2_scores = score_model(model2,\n",
    "                             X_train[parameters],\n",
    "                             X_test[parameters],\n",
    "                             y_train,\n",
    "                             y_test)\n",
    "\n",
    "model2_summary = model_summary(model2_scores[0],\n",
    "                                  model2_scores[1],\n",
    "                                  abs(model2_scores[0]-model2_scores[1]))\n",
    "model2_summary"
   ]
  },
  {
   "cell_type": "markdown",
   "metadata": {},
   "source": [
    "### Summary\n",
    "\n",
    "Our fit on the data has dropped drastically by removing features containing p-values greater than 0.05. In light of this signifigant decrease in accuracy we will still be relying on our \"best model\", which is currently model 1."
   ]
  },
  {
   "cell_type": "markdown",
   "metadata": {
    "heading_collapsed": true
   },
   "source": [
    "## Model 3"
   ]
  },
  {
   "cell_type": "markdown",
   "metadata": {
    "hidden": true
   },
   "source": [
    "Model 3 uses the same dataframe structure as Model 1, but introduces recursive feature elimination (REF) of varying n_parameters  to improve on the model."
   ]
  },
  {
   "cell_type": "markdown",
   "metadata": {
    "heading_collapsed": true,
    "hidden": true
   },
   "source": [
    "### Recursive Feature Elimination (RFE)"
   ]
  },
  {
   "cell_type": "code",
   "execution_count": 53,
   "metadata": {
    "hidden": true
   },
   "outputs": [
    {
     "data": {
      "text/plain": [
       "116"
      ]
     },
     "execution_count": 53,
     "metadata": {},
     "output_type": "execute_result"
    }
   ],
   "source": [
    "#determine how many features we have\n",
    "len(X_train.columns)"
   ]
  },
  {
   "cell_type": "code",
   "execution_count": 54,
   "metadata": {
    "hidden": true
   },
   "outputs": [],
   "source": [
    "#determine n for REF\n",
    "n = [10, 20, 50, 100]\n",
    "\n",
    "key_cols = {}\n",
    "\n",
    "for x in n:\n",
    "    #instatiate Linear Regression\n",
    "    lr_rfe = LinearRegression()\n",
    "    select = RFE(lr_rfe, n_features_to_select=x)\n",
    "    \n",
    "    #fit model to RFE\n",
    "    select.fit(X=X_train, y=y_train)\n",
    "    \n",
    "    #obtain the indexes where select.support_ is true\n",
    "    true_indexes = [i for i, x in enumerate(select.support_) if x]\n",
    "    \n",
    "    #create a list of all column names matched with index and add to dictionary\n",
    "    key_columns = []\n",
    "    for i in true_indexes:\n",
    "        key_columns.append(X_train.columns[i])\n",
    "    key_cols[\"key_cols_{0}\".format(x)] = key_columns "
   ]
  },
  {
   "cell_type": "code",
   "execution_count": 55,
   "metadata": {},
   "outputs": [
    {
     "data": {
      "text/plain": [
       "{'key_cols_10': ['sqft_living',\n",
       "  'lat',\n",
       "  'sqft_living15',\n",
       "  'age_of_house',\n",
       "  'condition_4',\n",
       "  'condition_5',\n",
       "  'grade_5',\n",
       "  'grade_6',\n",
       "  'grade_7',\n",
       "  'grade_8'],\n",
       " 'key_cols_20': ['bathrooms',\n",
       "  'sqft_living',\n",
       "  'lat',\n",
       "  'sqft_living15',\n",
       "  'age_of_house',\n",
       "  'waterfront_1',\n",
       "  'condition_3',\n",
       "  'condition_4',\n",
       "  'condition_5',\n",
       "  'grade_5',\n",
       "  'grade_6',\n",
       "  'grade_7',\n",
       "  'grade_8',\n",
       "  'zipcode_98004',\n",
       "  'zipcode_98039',\n",
       "  'zipcode_98040',\n",
       "  'zipcode_98112',\n",
       "  'zipcode_98116',\n",
       "  'zipcode_98119',\n",
       "  'zipcode_98199'],\n",
       " 'key_cols_50': ['bathrooms',\n",
       "  'sqft_living',\n",
       "  'sqft_lot',\n",
       "  'sqft_above',\n",
       "  'sqft_basement',\n",
       "  'lat',\n",
       "  'sqft_living15',\n",
       "  'age_of_house',\n",
       "  'waterfront_1',\n",
       "  'view_2',\n",
       "  'view_3',\n",
       "  'view_4',\n",
       "  'condition_3',\n",
       "  'condition_4',\n",
       "  'condition_5',\n",
       "  'grade_4',\n",
       "  'grade_5',\n",
       "  'grade_6',\n",
       "  'grade_7',\n",
       "  'grade_8',\n",
       "  'zipcode_98004',\n",
       "  'zipcode_98005',\n",
       "  'zipcode_98006',\n",
       "  'zipcode_98007',\n",
       "  'zipcode_98008',\n",
       "  'zipcode_98027',\n",
       "  'zipcode_98029',\n",
       "  'zipcode_98033',\n",
       "  'zipcode_98039',\n",
       "  'zipcode_98040',\n",
       "  'zipcode_98052',\n",
       "  'zipcode_98053',\n",
       "  'zipcode_98074',\n",
       "  'zipcode_98075',\n",
       "  'zipcode_98102',\n",
       "  'zipcode_98103',\n",
       "  'zipcode_98105',\n",
       "  'zipcode_98107',\n",
       "  'zipcode_98109',\n",
       "  'zipcode_98112',\n",
       "  'zipcode_98115',\n",
       "  'zipcode_98116',\n",
       "  'zipcode_98117',\n",
       "  'zipcode_98118',\n",
       "  'zipcode_98119',\n",
       "  'zipcode_98122',\n",
       "  'zipcode_98126',\n",
       "  'zipcode_98136',\n",
       "  'zipcode_98144',\n",
       "  'zipcode_98199'],\n",
       " 'key_cols_100': ['bedrooms',\n",
       "  'bathrooms',\n",
       "  'sqft_living',\n",
       "  'sqft_lot',\n",
       "  'sqft_above',\n",
       "  'sqft_basement',\n",
       "  'lat',\n",
       "  'long',\n",
       "  'sqft_living15',\n",
       "  'age_of_house',\n",
       "  'floors_1_5',\n",
       "  'floors_2_0',\n",
       "  'floors_3_0',\n",
       "  'waterfront_1',\n",
       "  'view_1',\n",
       "  'view_2',\n",
       "  'view_3',\n",
       "  'view_4',\n",
       "  'condition_2',\n",
       "  'condition_3',\n",
       "  'condition_4',\n",
       "  'condition_5',\n",
       "  'grade_4',\n",
       "  'grade_5',\n",
       "  'grade_6',\n",
       "  'grade_7',\n",
       "  'grade_8',\n",
       "  'grade_9',\n",
       "  'grade_10',\n",
       "  'if_renovated_1',\n",
       "  'zipcode_98004',\n",
       "  'zipcode_98005',\n",
       "  'zipcode_98006',\n",
       "  'zipcode_98007',\n",
       "  'zipcode_98008',\n",
       "  'zipcode_98010',\n",
       "  'zipcode_98011',\n",
       "  'zipcode_98014',\n",
       "  'zipcode_98019',\n",
       "  'zipcode_98022',\n",
       "  'zipcode_98023',\n",
       "  'zipcode_98024',\n",
       "  'zipcode_98027',\n",
       "  'zipcode_98028',\n",
       "  'zipcode_98029',\n",
       "  'zipcode_98030',\n",
       "  'zipcode_98031',\n",
       "  'zipcode_98032',\n",
       "  'zipcode_98033',\n",
       "  'zipcode_98034',\n",
       "  'zipcode_98038',\n",
       "  'zipcode_98039',\n",
       "  'zipcode_98040',\n",
       "  'zipcode_98042',\n",
       "  'zipcode_98045',\n",
       "  'zipcode_98052',\n",
       "  'zipcode_98053',\n",
       "  'zipcode_98055',\n",
       "  'zipcode_98056',\n",
       "  'zipcode_98058',\n",
       "  'zipcode_98059',\n",
       "  'zipcode_98065',\n",
       "  'zipcode_98070',\n",
       "  'zipcode_98072',\n",
       "  'zipcode_98074',\n",
       "  'zipcode_98075',\n",
       "  'zipcode_98077',\n",
       "  'zipcode_98092',\n",
       "  'zipcode_98102',\n",
       "  'zipcode_98103',\n",
       "  'zipcode_98105',\n",
       "  'zipcode_98106',\n",
       "  'zipcode_98107',\n",
       "  'zipcode_98108',\n",
       "  'zipcode_98109',\n",
       "  'zipcode_98112',\n",
       "  'zipcode_98115',\n",
       "  'zipcode_98116',\n",
       "  'zipcode_98117',\n",
       "  'zipcode_98118',\n",
       "  'zipcode_98119',\n",
       "  'zipcode_98122',\n",
       "  'zipcode_98125',\n",
       "  'zipcode_98126',\n",
       "  'zipcode_98133',\n",
       "  'zipcode_98136',\n",
       "  'zipcode_98144',\n",
       "  'zipcode_98146',\n",
       "  'zipcode_98148',\n",
       "  'zipcode_98155',\n",
       "  'zipcode_98166',\n",
       "  'zipcode_98168',\n",
       "  'zipcode_98177',\n",
       "  'zipcode_98178',\n",
       "  'zipcode_98198',\n",
       "  'zipcode_98199',\n",
       "  'month_of_date_2',\n",
       "  'month_of_date_3',\n",
       "  'month_of_date_4',\n",
       "  'month_of_date_5']}"
      ]
     },
     "execution_count": 55,
     "metadata": {},
     "output_type": "execute_result"
    }
   ],
   "source": [
    "key_cols"
   ]
  },
  {
   "cell_type": "code",
   "execution_count": 56,
   "metadata": {},
   "outputs": [
    {
     "data": {
      "text/plain": [
       "(17277, 10)"
      ]
     },
     "execution_count": 56,
     "metadata": {},
     "output_type": "execute_result"
    }
   ],
   "source": [
    "X_train[key_cols['key_cols_10']].shape"
   ]
  },
  {
   "cell_type": "markdown",
   "metadata": {
    "heading_collapsed": true,
    "hidden": true
   },
   "source": [
    "### Model 3: Testing 10 Features"
   ]
  },
  {
   "cell_type": "code",
   "execution_count": 57,
   "metadata": {
    "hidden": true
   },
   "outputs": [],
   "source": [
    "#create linear regression model for price and setting up cross validation (x3)\n",
    "model3_10 = LinearRegression()\n",
    "model3_10.fit(X_train[key_cols['key_cols_10']], y_train);"
   ]
  },
  {
   "cell_type": "code",
   "execution_count": 59,
   "metadata": {
    "hidden": true
   },
   "outputs": [
    {
     "data": {
      "text/plain": [
       "'The median R-squared values for the train sets were 0.882, the median R-squared values for the test sets were 0.882. These values resulted in a differential of 5e-05'"
      ]
     },
     "execution_count": 59,
     "metadata": {},
     "output_type": "execute_result"
    }
   ],
   "source": [
    "#setting up cross validation for price in a different way (x3)\n",
    "model3_10_cval = cross_val(model3_10,\n",
    "                       X=X,\n",
    "                       y=ln_y,\n",
    "                       random_state=0,)\n",
    "\n",
    "model3_10_cval_summary = cval_summary(model3_10_cval[0],\n",
    "                                   model3_10_cval[1],\n",
    "                                   abs(model3_10_cval[0]-model3_10_cval[1]))\n",
    "\n",
    "model3_10_cval_summary"
   ]
  },
  {
   "cell_type": "code",
   "execution_count": 62,
   "metadata": {
    "hidden": true
   },
   "outputs": [
    {
     "data": {
      "text/plain": [
       "'The R-squared value for the train set was 0.738, and the R-sqaured value for the test set was 0.728. These values resulted in a differential of 0.01051'"
      ]
     },
     "execution_count": 62,
     "metadata": {},
     "output_type": "execute_result"
    }
   ],
   "source": [
    "#find the test score using the linear model\n",
    "model3_10_scores = score_model(model3_10,\n",
    "                           X_train[key_cols['key_cols_10']],\n",
    "                           X_test[key_cols['key_cols_10']],\n",
    "                           y_train,\n",
    "                           y_test)\n",
    "\n",
    "model3_10_summary = model_summary(model3_10_scores[0],\n",
    "                              model3_10_scores[1],\n",
    "                              abs(model3_10_scores[0]-model3_10_scores[1]))\n",
    "model3_10_summary"
   ]
  },
  {
   "cell_type": "markdown",
   "metadata": {
    "heading_collapsed": true,
    "hidden": true
   },
   "source": [
    "### Model 3: Testing 20 Features"
   ]
  },
  {
   "cell_type": "code",
   "execution_count": 63,
   "metadata": {
    "hidden": true
   },
   "outputs": [],
   "source": [
    "#create linear regression model for price and setting up cross validation (x3)\n",
    "model3_20 = LinearRegression()\n",
    "model3_20.fit(X_train[key_cols['key_cols_20']], y_train);"
   ]
  },
  {
   "cell_type": "code",
   "execution_count": 64,
   "metadata": {
    "hidden": true
   },
   "outputs": [
    {
     "data": {
      "text/plain": [
       "'The median R-squared values for the train sets were 0.882, the median R-squared values for the test sets were 0.882. These values resulted in a differential of 5e-05'"
      ]
     },
     "execution_count": 64,
     "metadata": {},
     "output_type": "execute_result"
    }
   ],
   "source": [
    "#setting up cross validation for price in a different way (x3)\n",
    "model3_20_cval = cross_val(model3_20,\n",
    "                       X=X,\n",
    "                       y=ln_y,\n",
    "                       random_state=0,)\n",
    "\n",
    "model3_20_cval_summary = cval_summary(model3_20_cval[0],\n",
    "                                   model3_20_cval[1],\n",
    "                                   abs(model3_20_cval[0]-model3_20_cval[1]))\n",
    "\n",
    "model3_20_cval_summary"
   ]
  },
  {
   "cell_type": "code",
   "execution_count": 66,
   "metadata": {
    "hidden": true,
    "scrolled": true
   },
   "outputs": [
    {
     "data": {
      "text/plain": [
       "'The R-squared value for the train set was 0.792, and the R-sqaured value for the test set was 0.781. These values resulted in a differential of 0.01035'"
      ]
     },
     "execution_count": 66,
     "metadata": {},
     "output_type": "execute_result"
    }
   ],
   "source": [
    "#find the test score using the linear model\n",
    "model3_20_scores = score_model(model3_20,\n",
    "                           X_train[key_cols['key_cols_20']],\n",
    "                           X_test[key_cols['key_cols_20']],\n",
    "                           y_train,\n",
    "                           y_test)\n",
    "\n",
    "model3_20_summary = model_summary(model3_20_scores[0],\n",
    "                              model3_20_scores[1],\n",
    "                              abs(model3_20_scores[0]-model3_20_scores[1]))\n",
    "model3_20_summary"
   ]
  },
  {
   "cell_type": "markdown",
   "metadata": {
    "heading_collapsed": true,
    "hidden": true
   },
   "source": [
    "### Model 3: Testing 50 Features"
   ]
  },
  {
   "cell_type": "code",
   "execution_count": 67,
   "metadata": {
    "hidden": true
   },
   "outputs": [],
   "source": [
    "#create linear regression model for price and setting up cross validation (x3)\n",
    "model3_50 = LinearRegression()\n",
    "model3_50.fit(X_train[key_cols['key_cols_50']], y_train);"
   ]
  },
  {
   "cell_type": "code",
   "execution_count": 68,
   "metadata": {
    "hidden": true
   },
   "outputs": [
    {
     "data": {
      "text/plain": [
       "'The median R-squared values for the train sets were 0.882, the median R-squared values for the test sets were 0.882. These values resulted in a differential of 5e-05'"
      ]
     },
     "execution_count": 68,
     "metadata": {},
     "output_type": "execute_result"
    }
   ],
   "source": [
    "#setting up cross validation for price in a different way (x3)\n",
    "model3_50_cval = cross_val(model3_50,\n",
    "                       X=X,\n",
    "                       y=ln_y,\n",
    "                       random_state=0,)\n",
    "\n",
    "model3_50_cval_summary = cval_summary(model3_50_cval[0],\n",
    "                                   model3_50_cval[1],\n",
    "                                   abs(model3_50_cval[0]-model3_50_cval[1]))\n",
    "\n",
    "model3_50_cval_summary"
   ]
  },
  {
   "cell_type": "code",
   "execution_count": 70,
   "metadata": {
    "hidden": true
   },
   "outputs": [
    {
     "data": {
      "text/plain": [
       "'The R-squared value for the train set was 0.864, and the R-sqaured value for the test set was 0.863. These values resulted in a differential of 0.00155'"
      ]
     },
     "execution_count": 70,
     "metadata": {},
     "output_type": "execute_result"
    }
   ],
   "source": [
    "#find the test score using the linear model\n",
    "model3_50_scores = score_model(model3_50,\n",
    "                           X_train[key_cols['key_cols_50']],\n",
    "                           X_test[key_cols['key_cols_50']],\n",
    "                           y_train,\n",
    "                           y_test)\n",
    "\n",
    "model3_50_summary = model_summary(model3_50_scores[0],\n",
    "                              model3_50_scores[1],\n",
    "                              abs(model3_50_scores[0]-model3_50_scores[1]))\n",
    "model3_50_summary"
   ]
  },
  {
   "cell_type": "markdown",
   "metadata": {
    "heading_collapsed": true,
    "hidden": true
   },
   "source": [
    "### Model 3: Testing 100 Features"
   ]
  },
  {
   "cell_type": "code",
   "execution_count": 71,
   "metadata": {
    "hidden": true
   },
   "outputs": [],
   "source": [
    "#create linear regression model for price and setting up cross validation (x3)\n",
    "model3_100 = LinearRegression()\n",
    "model3_100.fit(X_train[key_cols['key_cols_100']], y_train);"
   ]
  },
  {
   "cell_type": "code",
   "execution_count": 72,
   "metadata": {
    "hidden": true
   },
   "outputs": [
    {
     "data": {
      "text/plain": [
       "'The median R-squared values for the train sets were 0.882, the median R-squared values for the test sets were 0.882. These values resulted in a differential of 5e-05'"
      ]
     },
     "execution_count": 72,
     "metadata": {},
     "output_type": "execute_result"
    }
   ],
   "source": [
    "#setting up cross validation for price in a different way (x3)\n",
    "model3_100_cval = cross_val(model3_100,\n",
    "                       X=X,\n",
    "                       y=ln_y,\n",
    "                       random_state=0,)\n",
    "\n",
    "model3_100_cval_summary = cval_summary(model3_100_cval[0],\n",
    "                                   model3_100_cval[1],\n",
    "                                   abs(model3_100_cval[0]-model3_100_cval[1]))\n",
    "\n",
    "model3_100_cval_summary"
   ]
  },
  {
   "cell_type": "code",
   "execution_count": 73,
   "metadata": {
    "hidden": true
   },
   "outputs": [
    {
     "data": {
      "text/plain": [
       "'The R-squared value for the train set was 0.882, and the R-sqaured value for the test set was 0.88. These values resulted in a differential of 0.00256'"
      ]
     },
     "execution_count": 73,
     "metadata": {},
     "output_type": "execute_result"
    }
   ],
   "source": [
    "#find the test score using the linear model\n",
    "model3_100_scores = score_model(model3_100,\n",
    "                           X_train[key_cols['key_cols_100']],\n",
    "                           X_test[key_cols['key_cols_100']],\n",
    "                           y_train,\n",
    "                           y_test)\n",
    "\n",
    "model3_100_summary = model_summary(model3_100_scores[0],\n",
    "                              model3_100_scores[1],\n",
    "                              abs(model3_100_scores[0]-model3_100_scores[1]))\n",
    "model3_100_summary"
   ]
  },
  {
   "cell_type": "markdown",
   "metadata": {
    "heading_collapsed": true,
    "hidden": true
   },
   "source": [
    "### Model 3: Summary"
   ]
  },
  {
   "cell_type": "code",
   "execution_count": 74,
   "metadata": {
    "hidden": true
   },
   "outputs": [
    {
     "name": "stdout",
     "output_type": "stream",
     "text": [
      "10 features ((0.7383024163110039, 0.7277889599528513), 0.010513456358152595)\n",
      "20 features ((0.7917010064827932, 0.7813537468994094), 0.010347259583383783)\n",
      "50 features ((0.8644339986643923, 0.8628827852767418), 0.0015512133876505185)\n",
      "100 features ((0.8823406762757279, 0.879778604481685), 0.002562071794042886)\n",
      " Previous Best Model((0.8824554130032448, 0.8798250920810333), 0.002630320922211493)\n"
     ]
    },
    {
     "data": {
      "text/plain": [
       "(None, None, None, None, None)"
      ]
     },
     "execution_count": 74,
     "metadata": {},
     "output_type": "execute_result"
    }
   ],
   "source": [
    "print(f\"10 features {model3_10_scores,(model3_10_scores[0]-model3_10_scores[1])}\"),print(f\"20 features {model3_20_scores,(model3_20_scores[0]-model3_20_scores[1])}\"),print(f\"50 features {model3_50_scores,(model3_50_scores[0]-model3_50_scores[1])}\"),print(f\"100 features {model3_100_scores,(model3_100_scores[0]-model3_100_scores[1])}\"),print(f\" Previous Best Model{model1_ln_scores,(model1_ln_scores[0]-model1_ln_scores[1])}\")"
   ]
  },
  {
   "cell_type": "markdown",
   "metadata": {},
   "source": [
    "Looking at the score results above it becomes apparent that the trade off for removing features from our original model is a reduced R-squared statistic. It is interesting to note however, that although the 100 feature model's r-squared statistic worsened by a minisule amount, the differental between train and test was also more narrow. This trend continues down to 50 features and then the differential begins to rise again signaling that there may be some \"best\" number of features for balance between r-squared and the spread between test and train."
   ]
  },
  {
   "cell_type": "markdown",
   "metadata": {},
   "source": [
    "# Model 4 Binomial Feature Engineering "
   ]
  },
  {
   "cell_type": "markdown",
   "metadata": {},
   "source": [
    "## Binomial Feature Engineering"
   ]
  },
  {
   "cell_type": "code",
   "execution_count": 75,
   "metadata": {},
   "outputs": [],
   "source": [
    "#setting up binomial features from Train/Test split that uses ln_price as a y value\n",
    "pf = PolynomialFeatures(degree=2)\n",
    "pf.fit(X_scaled);"
   ]
  },
  {
   "cell_type": "code",
   "execution_count": 76,
   "metadata": {},
   "outputs": [],
   "source": [
    "#Training/tranforming the data using the fit pf object. Formatting as DataFrame for ease of use\n",
    "pdf_train = pd.DataFrame(pf.transform(X_train), columns = pf.get_feature_names())\n",
    "pdf_test = pd.DataFrame(pf.transform(X_test), columns = pf.get_feature_names())"
   ]
  },
  {
   "cell_type": "markdown",
   "metadata": {},
   "source": [
    "### Pearson Correlation Coefficient Filtering"
   ]
  },
  {
   "cell_type": "code",
   "execution_count": 77,
   "metadata": {},
   "outputs": [
    {
     "data": {
      "text/html": [
       "<div>\n",
       "<style scoped>\n",
       "    .dataframe tbody tr th:only-of-type {\n",
       "        vertical-align: middle;\n",
       "    }\n",
       "\n",
       "    .dataframe tbody tr th {\n",
       "        vertical-align: top;\n",
       "    }\n",
       "\n",
       "    .dataframe thead th {\n",
       "        text-align: right;\n",
       "    }\n",
       "</style>\n",
       "<table border=\"1\" class=\"dataframe\">\n",
       "  <thead>\n",
       "    <tr style=\"text-align: right;\">\n",
       "      <th></th>\n",
       "      <th>0</th>\n",
       "    </tr>\n",
       "  </thead>\n",
       "  <tbody>\n",
       "    <tr>\n",
       "      <th>1</th>\n",
       "      <td>NaN</td>\n",
       "    </tr>\n",
       "    <tr>\n",
       "      <th>x0</th>\n",
       "      <td>0.013335</td>\n",
       "    </tr>\n",
       "    <tr>\n",
       "      <th>x1</th>\n",
       "      <td>0.006184</td>\n",
       "    </tr>\n",
       "    <tr>\n",
       "      <th>x2</th>\n",
       "      <td>0.007004</td>\n",
       "    </tr>\n",
       "    <tr>\n",
       "      <th>x3</th>\n",
       "      <td>-0.002387</td>\n",
       "    </tr>\n",
       "  </tbody>\n",
       "</table>\n",
       "</div>"
      ],
      "text/plain": [
       "           0\n",
       "1        NaN\n",
       "x0  0.013335\n",
       "x1  0.006184\n",
       "x2  0.007004\n",
       "x3 -0.002387"
      ]
     },
     "execution_count": 77,
     "metadata": {},
     "output_type": "execute_result"
    }
   ],
   "source": [
    "#calculating corr to the df with polynomial features to the train y values \n",
    "correlations = pdf_train.corrwith(y_train)\n",
    "correlations_df = pd.DataFrame(correlations)\n",
    "correlations_df.head()"
   ]
  },
  {
   "cell_type": "code",
   "execution_count": null,
   "metadata": {},
   "outputs": [],
   "source": [
    "#NaN values represent columns containing 0 values, we wont need to consider these\n",
    "correlations_df.dropna(inplace=True)"
   ]
  },
  {
   "cell_type": "code",
   "execution_count": null,
   "metadata": {},
   "outputs": [],
   "source": [
    "#Mapping absolute value over the correlations_df to allow us to find the most impactful coefs\n",
    "correlations_df[0].map(abs)\n",
    "#Sorting them so that we can skim the best ones off the top\n",
    "correlations_df.sort_values(by=0,ascending=False,inplace=True)"
   ]
  },
  {
   "cell_type": "code",
   "execution_count": null,
   "metadata": {},
   "outputs": [],
   "source": [
    "#Column names of the top x number of features from our polynomial df, adding 1 to represent the intercept\n",
    "features = list(correlations_df.index[:250]) + ['1']"
   ]
  },
  {
   "cell_type": "markdown",
   "metadata": {},
   "source": [
    "### Recursive Feature Elimination"
   ]
  },
  {
   "cell_type": "code",
   "execution_count": null,
   "metadata": {},
   "outputs": [],
   "source": [
    "#recrusive selector selects x numver of values from remaining features\n",
    "select = RFE(lr_rfe, n_features_to_select=250)\n",
    "select.fit(X = pdf_train[features], y = y_train);"
   ]
  },
  {
   "cell_type": "code",
   "execution_count": null,
   "metadata": {},
   "outputs": [],
   "source": [
    "#compiling a list of the selected features\n",
    "pdf_keepers = [x[0] for x in zip(pdf_train.columns,select.support_) \n",
    "               if x[1] == True]"
   ]
  },
  {
   "cell_type": "markdown",
   "metadata": {},
   "source": [
    "### Model Validation"
   ]
  },
  {
   "cell_type": "code",
   "execution_count": null,
   "metadata": {},
   "outputs": [],
   "source": [
    "#instantiating a linear regression object\n",
    "m4df_model = LinearRegression()"
   ]
  },
  {
   "cell_type": "code",
   "execution_count": null,
   "metadata": {},
   "outputs": [],
   "source": [
    "#fitting over traininf pdf and narrowing by selected features\n",
    "m4df_model.fit(X = pdf_train[pdf_keepers], y = y_train);"
   ]
  },
  {
   "cell_type": "code",
   "execution_count": null,
   "metadata": {},
   "outputs": [],
   "source": [
    "r2_train = m4df_model.score(pdf_train[pdf_keepers],y_train)\n",
    "r2_test = m4df_model.score(pdf_test[pdf_keepers],y_test)\n",
    "r2_diff = r2_train - r2_test\n",
    "\n",
    "r2_train, r2_test, r2_diff"
   ]
  },
  {
   "cell_type": "code",
   "execution_count": null,
   "metadata": {},
   "outputs": [],
   "source": []
  }
 ],
 "metadata": {
  "kernelspec": {
   "display_name": "Python 3",
   "language": "python",
   "name": "python3"
  },
  "language_info": {
   "codemirror_mode": {
    "name": "ipython",
    "version": 3
   },
   "file_extension": ".py",
   "mimetype": "text/x-python",
   "name": "python",
   "nbconvert_exporter": "python",
   "pygments_lexer": "ipython3",
   "version": "3.8.5"
  }
 },
 "nbformat": 4,
 "nbformat_minor": 5
}
