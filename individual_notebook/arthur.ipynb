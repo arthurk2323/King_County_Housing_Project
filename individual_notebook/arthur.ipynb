{
 "cells": [
  {
   "cell_type": "markdown",
   "id": "24837848-69f2-43d4-95fc-b9c97edf699a",
   "metadata": {},
   "source": [
    "## Arthur Kim's Notebook"
   ]
  },
  {
   "cell_type": "code",
   "execution_count": 1,
   "id": "63c31acc-8828-47f1-b8d4-00a484e60f55",
   "metadata": {},
   "outputs": [
    {
     "data": {
      "text/plain": [
       "'/Users/arthur/Documents/Flatiron/phase_2/Project/dsc-phase-2-project/individual_notebook'"
      ]
     },
     "execution_count": 1,
     "metadata": {},
     "output_type": "execute_result"
    }
   ],
   "source": [
    "pwd"
   ]
  },
  {
   "cell_type": "code",
   "execution_count": 2,
   "id": "214e83d0-1308-4ba7-aa7f-478828b5930d",
   "metadata": {},
   "outputs": [
    {
     "name": "stdout",
     "output_type": "stream",
     "text": [
      "/Users/arthur/Documents/Flatiron/phase_2/Project/dsc-phase-2-project\n"
     ]
    }
   ],
   "source": [
    "cd .."
   ]
  },
  {
   "cell_type": "code",
   "execution_count": 3,
   "id": "8ed2eb57-40fe-4fe0-bcbb-2c7f60926555",
   "metadata": {},
   "outputs": [],
   "source": [
    "#import appropriate libraries\n",
    "import numpy as np\n",
    "import pandas as pd\n",
    "import matplotlib.pyplot as plt\n",
    "import seaborn as sns\n",
    "from statsmodels.formula.api import ols\n",
    "from sklearn.linear_model import LinearRegression\n",
    "from sklearn.model_selection import cross_validate, ShuffleSplit\n",
    "from sklearn.model_selection import train_test_split\n",
    "from sklearn.feature_selection import RFE\n",
    "from sklearn.preprocessing import PolynomialFeatures, StandardScaler\n",
    "pd.set_option('display.max_columns', None)\n",
    "%matplotlib inline"
   ]
  },
  {
   "cell_type": "code",
   "execution_count": 4,
   "id": "9609b7e9-d526-4885-bbef-5ef5706f1689",
   "metadata": {},
   "outputs": [],
   "source": [
    "#read in the file\n",
    "df = pd.read_csv('data/kc_house_data.csv')"
   ]
  },
  {
   "cell_type": "code",
   "execution_count": 5,
   "id": "ccf1f01d-1eba-4ca7-b0e9-405441af0685",
   "metadata": {},
   "outputs": [
    {
     "data": {
      "text/html": [
       "<div>\n",
       "<style scoped>\n",
       "    .dataframe tbody tr th:only-of-type {\n",
       "        vertical-align: middle;\n",
       "    }\n",
       "\n",
       "    .dataframe tbody tr th {\n",
       "        vertical-align: top;\n",
       "    }\n",
       "\n",
       "    .dataframe thead th {\n",
       "        text-align: right;\n",
       "    }\n",
       "</style>\n",
       "<table border=\"1\" class=\"dataframe\">\n",
       "  <thead>\n",
       "    <tr style=\"text-align: right;\">\n",
       "      <th></th>\n",
       "      <th>id</th>\n",
       "      <th>date</th>\n",
       "      <th>price</th>\n",
       "      <th>bedrooms</th>\n",
       "      <th>bathrooms</th>\n",
       "      <th>sqft_living</th>\n",
       "      <th>sqft_lot</th>\n",
       "      <th>floors</th>\n",
       "      <th>waterfront</th>\n",
       "      <th>view</th>\n",
       "      <th>condition</th>\n",
       "      <th>grade</th>\n",
       "      <th>sqft_above</th>\n",
       "      <th>sqft_basement</th>\n",
       "      <th>yr_built</th>\n",
       "      <th>yr_renovated</th>\n",
       "      <th>zipcode</th>\n",
       "      <th>lat</th>\n",
       "      <th>long</th>\n",
       "      <th>sqft_living15</th>\n",
       "      <th>sqft_lot15</th>\n",
       "    </tr>\n",
       "  </thead>\n",
       "  <tbody>\n",
       "    <tr>\n",
       "      <th>0</th>\n",
       "      <td>7129300520</td>\n",
       "      <td>10/13/2014</td>\n",
       "      <td>221900.0</td>\n",
       "      <td>3</td>\n",
       "      <td>1.00</td>\n",
       "      <td>1180</td>\n",
       "      <td>5650</td>\n",
       "      <td>1.0</td>\n",
       "      <td>NaN</td>\n",
       "      <td>0.0</td>\n",
       "      <td>3</td>\n",
       "      <td>7</td>\n",
       "      <td>1180</td>\n",
       "      <td>0.0</td>\n",
       "      <td>1955</td>\n",
       "      <td>0.0</td>\n",
       "      <td>98178</td>\n",
       "      <td>47.5112</td>\n",
       "      <td>-122.257</td>\n",
       "      <td>1340</td>\n",
       "      <td>5650</td>\n",
       "    </tr>\n",
       "    <tr>\n",
       "      <th>1</th>\n",
       "      <td>6414100192</td>\n",
       "      <td>12/9/2014</td>\n",
       "      <td>538000.0</td>\n",
       "      <td>3</td>\n",
       "      <td>2.25</td>\n",
       "      <td>2570</td>\n",
       "      <td>7242</td>\n",
       "      <td>2.0</td>\n",
       "      <td>0.0</td>\n",
       "      <td>0.0</td>\n",
       "      <td>3</td>\n",
       "      <td>7</td>\n",
       "      <td>2170</td>\n",
       "      <td>400.0</td>\n",
       "      <td>1951</td>\n",
       "      <td>1991.0</td>\n",
       "      <td>98125</td>\n",
       "      <td>47.7210</td>\n",
       "      <td>-122.319</td>\n",
       "      <td>1690</td>\n",
       "      <td>7639</td>\n",
       "    </tr>\n",
       "    <tr>\n",
       "      <th>2</th>\n",
       "      <td>5631500400</td>\n",
       "      <td>2/25/2015</td>\n",
       "      <td>180000.0</td>\n",
       "      <td>2</td>\n",
       "      <td>1.00</td>\n",
       "      <td>770</td>\n",
       "      <td>10000</td>\n",
       "      <td>1.0</td>\n",
       "      <td>0.0</td>\n",
       "      <td>0.0</td>\n",
       "      <td>3</td>\n",
       "      <td>6</td>\n",
       "      <td>770</td>\n",
       "      <td>0.0</td>\n",
       "      <td>1933</td>\n",
       "      <td>NaN</td>\n",
       "      <td>98028</td>\n",
       "      <td>47.7379</td>\n",
       "      <td>-122.233</td>\n",
       "      <td>2720</td>\n",
       "      <td>8062</td>\n",
       "    </tr>\n",
       "    <tr>\n",
       "      <th>3</th>\n",
       "      <td>2487200875</td>\n",
       "      <td>12/9/2014</td>\n",
       "      <td>604000.0</td>\n",
       "      <td>4</td>\n",
       "      <td>3.00</td>\n",
       "      <td>1960</td>\n",
       "      <td>5000</td>\n",
       "      <td>1.0</td>\n",
       "      <td>0.0</td>\n",
       "      <td>0.0</td>\n",
       "      <td>5</td>\n",
       "      <td>7</td>\n",
       "      <td>1050</td>\n",
       "      <td>910.0</td>\n",
       "      <td>1965</td>\n",
       "      <td>0.0</td>\n",
       "      <td>98136</td>\n",
       "      <td>47.5208</td>\n",
       "      <td>-122.393</td>\n",
       "      <td>1360</td>\n",
       "      <td>5000</td>\n",
       "    </tr>\n",
       "    <tr>\n",
       "      <th>4</th>\n",
       "      <td>1954400510</td>\n",
       "      <td>2/18/2015</td>\n",
       "      <td>510000.0</td>\n",
       "      <td>3</td>\n",
       "      <td>2.00</td>\n",
       "      <td>1680</td>\n",
       "      <td>8080</td>\n",
       "      <td>1.0</td>\n",
       "      <td>0.0</td>\n",
       "      <td>0.0</td>\n",
       "      <td>3</td>\n",
       "      <td>8</td>\n",
       "      <td>1680</td>\n",
       "      <td>0.0</td>\n",
       "      <td>1987</td>\n",
       "      <td>0.0</td>\n",
       "      <td>98074</td>\n",
       "      <td>47.6168</td>\n",
       "      <td>-122.045</td>\n",
       "      <td>1800</td>\n",
       "      <td>7503</td>\n",
       "    </tr>\n",
       "  </tbody>\n",
       "</table>\n",
       "</div>"
      ],
      "text/plain": [
       "           id        date     price  bedrooms  bathrooms  sqft_living  \\\n",
       "0  7129300520  10/13/2014  221900.0         3       1.00         1180   \n",
       "1  6414100192   12/9/2014  538000.0         3       2.25         2570   \n",
       "2  5631500400   2/25/2015  180000.0         2       1.00          770   \n",
       "3  2487200875   12/9/2014  604000.0         4       3.00         1960   \n",
       "4  1954400510   2/18/2015  510000.0         3       2.00         1680   \n",
       "\n",
       "   sqft_lot  floors  waterfront  view  condition  grade  sqft_above  \\\n",
       "0      5650     1.0         NaN   0.0          3      7        1180   \n",
       "1      7242     2.0         0.0   0.0          3      7        2170   \n",
       "2     10000     1.0         0.0   0.0          3      6         770   \n",
       "3      5000     1.0         0.0   0.0          5      7        1050   \n",
       "4      8080     1.0         0.0   0.0          3      8        1680   \n",
       "\n",
       "  sqft_basement  yr_built  yr_renovated  zipcode      lat     long  \\\n",
       "0           0.0      1955           0.0    98178  47.5112 -122.257   \n",
       "1         400.0      1951        1991.0    98125  47.7210 -122.319   \n",
       "2           0.0      1933           NaN    98028  47.7379 -122.233   \n",
       "3         910.0      1965           0.0    98136  47.5208 -122.393   \n",
       "4           0.0      1987           0.0    98074  47.6168 -122.045   \n",
       "\n",
       "   sqft_living15  sqft_lot15  \n",
       "0           1340        5650  \n",
       "1           1690        7639  \n",
       "2           2720        8062  \n",
       "3           1360        5000  \n",
       "4           1800        7503  "
      ]
     },
     "execution_count": 5,
     "metadata": {},
     "output_type": "execute_result"
    }
   ],
   "source": [
    "#check the first 5 entries in the data\n",
    "df.head()"
   ]
  },
  {
   "cell_type": "code",
   "execution_count": 6,
   "id": "8f3f8e38-b07e-4eed-80a1-42685e341ef9",
   "metadata": {},
   "outputs": [
    {
     "name": "stdout",
     "output_type": "stream",
     "text": [
      "<class 'pandas.core.frame.DataFrame'>\n",
      "RangeIndex: 21597 entries, 0 to 21596\n",
      "Data columns (total 21 columns):\n",
      " #   Column         Non-Null Count  Dtype  \n",
      "---  ------         --------------  -----  \n",
      " 0   id             21597 non-null  int64  \n",
      " 1   date           21597 non-null  object \n",
      " 2   price          21597 non-null  float64\n",
      " 3   bedrooms       21597 non-null  int64  \n",
      " 4   bathrooms      21597 non-null  float64\n",
      " 5   sqft_living    21597 non-null  int64  \n",
      " 6   sqft_lot       21597 non-null  int64  \n",
      " 7   floors         21597 non-null  float64\n",
      " 8   waterfront     19221 non-null  float64\n",
      " 9   view           21534 non-null  float64\n",
      " 10  condition      21597 non-null  int64  \n",
      " 11  grade          21597 non-null  int64  \n",
      " 12  sqft_above     21597 non-null  int64  \n",
      " 13  sqft_basement  21597 non-null  object \n",
      " 14  yr_built       21597 non-null  int64  \n",
      " 15  yr_renovated   17755 non-null  float64\n",
      " 16  zipcode        21597 non-null  int64  \n",
      " 17  lat            21597 non-null  float64\n",
      " 18  long           21597 non-null  float64\n",
      " 19  sqft_living15  21597 non-null  int64  \n",
      " 20  sqft_lot15     21597 non-null  int64  \n",
      "dtypes: float64(8), int64(11), object(2)\n",
      "memory usage: 3.5+ MB\n"
     ]
    }
   ],
   "source": [
    "#check the columns and nulls\n",
    "df.info()"
   ]
  },
  {
   "cell_type": "code",
   "execution_count": 7,
   "id": "59416342-9da5-4d23-9ad1-15bfdefef0bb",
   "metadata": {},
   "outputs": [],
   "source": [
    "#drop id\n",
    "df.drop(columns=['id'], inplace=True)"
   ]
  },
  {
   "cell_type": "code",
   "execution_count": 16,
   "id": "506f5579-0930-4b7d-a882-b9d7f64b407e",
   "metadata": {},
   "outputs": [
    {
     "ename": "TypeError",
     "evalue": "Cannot compare types 'ndarray(dtype=float64)' and 'str'",
     "output_type": "error",
     "traceback": [
      "\u001b[0;31m---------------------------------------------------------------------------\u001b[0m",
      "\u001b[0;31mTypeError\u001b[0m                                 Traceback (most recent call last)",
      "\u001b[0;32m<ipython-input-16-d6d6496e1fd6>\u001b[0m in \u001b[0;36m<module>\u001b[0;34m\u001b[0m\n\u001b[1;32m      1\u001b[0m \u001b[0;31m#clean up sqft_basement and convert to int\u001b[0m\u001b[0;34m\u001b[0m\u001b[0;34m\u001b[0m\u001b[0;34m\u001b[0m\u001b[0m\n\u001b[0;32m----> 2\u001b[0;31m \u001b[0mdf\u001b[0m\u001b[0;34m[\u001b[0m\u001b[0;34m'sqft_basement'\u001b[0m\u001b[0;34m]\u001b[0m \u001b[0;34m=\u001b[0m \u001b[0mdf\u001b[0m\u001b[0;34m[\u001b[0m\u001b[0;34m'sqft_basement'\u001b[0m\u001b[0;34m]\u001b[0m\u001b[0;34m.\u001b[0m\u001b[0mreplace\u001b[0m\u001b[0;34m(\u001b[0m\u001b[0;34m{\u001b[0m\u001b[0;34m'?'\u001b[0m\u001b[0;34m:\u001b[0m\u001b[0mnp\u001b[0m\u001b[0;34m.\u001b[0m\u001b[0mnan\u001b[0m\u001b[0;34m}\u001b[0m\u001b[0;34m)\u001b[0m\u001b[0;34m.\u001b[0m\u001b[0mastype\u001b[0m\u001b[0;34m(\u001b[0m\u001b[0mfloat\u001b[0m\u001b[0;34m)\u001b[0m\u001b[0;34m\u001b[0m\u001b[0;34m\u001b[0m\u001b[0m\n\u001b[0m",
      "\u001b[0;32m~/opt/anaconda3/envs/learn-env/lib/python3.8/site-packages/pandas/core/series.py\u001b[0m in \u001b[0;36mreplace\u001b[0;34m(self, to_replace, value, inplace, limit, regex, method)\u001b[0m\n\u001b[1;32m   4561\u001b[0m         \u001b[0mmethod\u001b[0m\u001b[0;34m=\u001b[0m\u001b[0;34m\"pad\"\u001b[0m\u001b[0;34m,\u001b[0m\u001b[0;34m\u001b[0m\u001b[0;34m\u001b[0m\u001b[0m\n\u001b[1;32m   4562\u001b[0m     ):\n\u001b[0;32m-> 4563\u001b[0;31m         return super().replace(\n\u001b[0m\u001b[1;32m   4564\u001b[0m             \u001b[0mto_replace\u001b[0m\u001b[0;34m=\u001b[0m\u001b[0mto_replace\u001b[0m\u001b[0;34m,\u001b[0m\u001b[0;34m\u001b[0m\u001b[0;34m\u001b[0m\u001b[0m\n\u001b[1;32m   4565\u001b[0m             \u001b[0mvalue\u001b[0m\u001b[0;34m=\u001b[0m\u001b[0mvalue\u001b[0m\u001b[0;34m,\u001b[0m\u001b[0;34m\u001b[0m\u001b[0;34m\u001b[0m\u001b[0m\n",
      "\u001b[0;32m~/opt/anaconda3/envs/learn-env/lib/python3.8/site-packages/pandas/core/generic.py\u001b[0m in \u001b[0;36mreplace\u001b[0;34m(self, to_replace, value, inplace, limit, regex, method)\u001b[0m\n\u001b[1;32m   6498\u001b[0m                 \u001b[0mto_replace\u001b[0m\u001b[0;34m,\u001b[0m \u001b[0mvalue\u001b[0m \u001b[0;34m=\u001b[0m \u001b[0mkeys\u001b[0m\u001b[0;34m,\u001b[0m \u001b[0mvalues\u001b[0m\u001b[0;34m\u001b[0m\u001b[0;34m\u001b[0m\u001b[0m\n\u001b[1;32m   6499\u001b[0m \u001b[0;34m\u001b[0m\u001b[0m\n\u001b[0;32m-> 6500\u001b[0;31m             return self.replace(\n\u001b[0m\u001b[1;32m   6501\u001b[0m                 \u001b[0mto_replace\u001b[0m\u001b[0;34m,\u001b[0m \u001b[0mvalue\u001b[0m\u001b[0;34m,\u001b[0m \u001b[0minplace\u001b[0m\u001b[0;34m=\u001b[0m\u001b[0minplace\u001b[0m\u001b[0;34m,\u001b[0m \u001b[0mlimit\u001b[0m\u001b[0;34m=\u001b[0m\u001b[0mlimit\u001b[0m\u001b[0;34m,\u001b[0m \u001b[0mregex\u001b[0m\u001b[0;34m=\u001b[0m\u001b[0mregex\u001b[0m\u001b[0;34m\u001b[0m\u001b[0;34m\u001b[0m\u001b[0m\n\u001b[1;32m   6502\u001b[0m             )\n",
      "\u001b[0;32m~/opt/anaconda3/envs/learn-env/lib/python3.8/site-packages/pandas/core/series.py\u001b[0m in \u001b[0;36mreplace\u001b[0;34m(self, to_replace, value, inplace, limit, regex, method)\u001b[0m\n\u001b[1;32m   4561\u001b[0m         \u001b[0mmethod\u001b[0m\u001b[0;34m=\u001b[0m\u001b[0;34m\"pad\"\u001b[0m\u001b[0;34m,\u001b[0m\u001b[0;34m\u001b[0m\u001b[0;34m\u001b[0m\u001b[0m\n\u001b[1;32m   4562\u001b[0m     ):\n\u001b[0;32m-> 4563\u001b[0;31m         return super().replace(\n\u001b[0m\u001b[1;32m   4564\u001b[0m             \u001b[0mto_replace\u001b[0m\u001b[0;34m=\u001b[0m\u001b[0mto_replace\u001b[0m\u001b[0;34m,\u001b[0m\u001b[0;34m\u001b[0m\u001b[0;34m\u001b[0m\u001b[0m\n\u001b[1;32m   4565\u001b[0m             \u001b[0mvalue\u001b[0m\u001b[0;34m=\u001b[0m\u001b[0mvalue\u001b[0m\u001b[0;34m,\u001b[0m\u001b[0;34m\u001b[0m\u001b[0;34m\u001b[0m\u001b[0m\n",
      "\u001b[0;32m~/opt/anaconda3/envs/learn-env/lib/python3.8/site-packages/pandas/core/generic.py\u001b[0m in \u001b[0;36mreplace\u001b[0;34m(self, to_replace, value, inplace, limit, regex, method)\u001b[0m\n\u001b[1;32m   6541\u001b[0m                         )\n\u001b[1;32m   6542\u001b[0m                     \u001b[0mself\u001b[0m\u001b[0;34m.\u001b[0m\u001b[0m_consolidate_inplace\u001b[0m\u001b[0;34m(\u001b[0m\u001b[0;34m)\u001b[0m\u001b[0;34m\u001b[0m\u001b[0;34m\u001b[0m\u001b[0m\n\u001b[0;32m-> 6543\u001b[0;31m                     new_data = self._mgr.replace_list(\n\u001b[0m\u001b[1;32m   6544\u001b[0m                         \u001b[0msrc_list\u001b[0m\u001b[0;34m=\u001b[0m\u001b[0mto_replace\u001b[0m\u001b[0;34m,\u001b[0m\u001b[0;34m\u001b[0m\u001b[0;34m\u001b[0m\u001b[0m\n\u001b[1;32m   6545\u001b[0m                         \u001b[0mdest_list\u001b[0m\u001b[0;34m=\u001b[0m\u001b[0mvalue\u001b[0m\u001b[0;34m,\u001b[0m\u001b[0;34m\u001b[0m\u001b[0;34m\u001b[0m\u001b[0m\n",
      "\u001b[0;32m~/opt/anaconda3/envs/learn-env/lib/python3.8/site-packages/pandas/core/internals/managers.py\u001b[0m in \u001b[0;36mreplace_list\u001b[0;34m(self, src_list, dest_list, inplace, regex)\u001b[0m\n\u001b[1;32m    640\u001b[0m         \u001b[0mmask\u001b[0m \u001b[0;34m=\u001b[0m \u001b[0;34m~\u001b[0m\u001b[0misna\u001b[0m\u001b[0;34m(\u001b[0m\u001b[0mvalues\u001b[0m\u001b[0;34m)\u001b[0m\u001b[0;34m\u001b[0m\u001b[0;34m\u001b[0m\u001b[0m\n\u001b[1;32m    641\u001b[0m \u001b[0;34m\u001b[0m\u001b[0m\n\u001b[0;32m--> 642\u001b[0;31m         \u001b[0mmasks\u001b[0m \u001b[0;34m=\u001b[0m \u001b[0;34m[\u001b[0m\u001b[0mcomp\u001b[0m\u001b[0;34m(\u001b[0m\u001b[0ms\u001b[0m\u001b[0;34m,\u001b[0m \u001b[0mmask\u001b[0m\u001b[0;34m,\u001b[0m \u001b[0mregex\u001b[0m\u001b[0;34m)\u001b[0m \u001b[0;32mfor\u001b[0m \u001b[0ms\u001b[0m \u001b[0;32min\u001b[0m \u001b[0msrc_list\u001b[0m\u001b[0;34m]\u001b[0m\u001b[0;34m\u001b[0m\u001b[0;34m\u001b[0m\u001b[0m\n\u001b[0m\u001b[1;32m    643\u001b[0m \u001b[0;34m\u001b[0m\u001b[0m\n\u001b[1;32m    644\u001b[0m         \u001b[0mresult_blocks\u001b[0m \u001b[0;34m=\u001b[0m \u001b[0;34m[\u001b[0m\u001b[0;34m]\u001b[0m\u001b[0;34m\u001b[0m\u001b[0;34m\u001b[0m\u001b[0m\n",
      "\u001b[0;32m~/opt/anaconda3/envs/learn-env/lib/python3.8/site-packages/pandas/core/internals/managers.py\u001b[0m in \u001b[0;36m<listcomp>\u001b[0;34m(.0)\u001b[0m\n\u001b[1;32m    640\u001b[0m         \u001b[0mmask\u001b[0m \u001b[0;34m=\u001b[0m \u001b[0;34m~\u001b[0m\u001b[0misna\u001b[0m\u001b[0;34m(\u001b[0m\u001b[0mvalues\u001b[0m\u001b[0;34m)\u001b[0m\u001b[0;34m\u001b[0m\u001b[0;34m\u001b[0m\u001b[0m\n\u001b[1;32m    641\u001b[0m \u001b[0;34m\u001b[0m\u001b[0m\n\u001b[0;32m--> 642\u001b[0;31m         \u001b[0mmasks\u001b[0m \u001b[0;34m=\u001b[0m \u001b[0;34m[\u001b[0m\u001b[0mcomp\u001b[0m\u001b[0;34m(\u001b[0m\u001b[0ms\u001b[0m\u001b[0;34m,\u001b[0m \u001b[0mmask\u001b[0m\u001b[0;34m,\u001b[0m \u001b[0mregex\u001b[0m\u001b[0;34m)\u001b[0m \u001b[0;32mfor\u001b[0m \u001b[0ms\u001b[0m \u001b[0;32min\u001b[0m \u001b[0msrc_list\u001b[0m\u001b[0;34m]\u001b[0m\u001b[0;34m\u001b[0m\u001b[0;34m\u001b[0m\u001b[0m\n\u001b[0m\u001b[1;32m    643\u001b[0m \u001b[0;34m\u001b[0m\u001b[0m\n\u001b[1;32m    644\u001b[0m         \u001b[0mresult_blocks\u001b[0m \u001b[0;34m=\u001b[0m \u001b[0;34m[\u001b[0m\u001b[0;34m]\u001b[0m\u001b[0;34m\u001b[0m\u001b[0;34m\u001b[0m\u001b[0m\n",
      "\u001b[0;32m~/opt/anaconda3/envs/learn-env/lib/python3.8/site-packages/pandas/core/internals/managers.py\u001b[0m in \u001b[0;36mcomp\u001b[0;34m(s, mask, regex)\u001b[0m\n\u001b[1;32m    634\u001b[0m \u001b[0;34m\u001b[0m\u001b[0m\n\u001b[1;32m    635\u001b[0m             \u001b[0ms\u001b[0m \u001b[0;34m=\u001b[0m \u001b[0mcom\u001b[0m\u001b[0;34m.\u001b[0m\u001b[0mmaybe_box_datetimelike\u001b[0m\u001b[0;34m(\u001b[0m\u001b[0ms\u001b[0m\u001b[0;34m)\u001b[0m\u001b[0;34m\u001b[0m\u001b[0;34m\u001b[0m\u001b[0m\n\u001b[0;32m--> 636\u001b[0;31m             \u001b[0;32mreturn\u001b[0m \u001b[0m_compare_or_regex_search\u001b[0m\u001b[0;34m(\u001b[0m\u001b[0mvalues\u001b[0m\u001b[0;34m,\u001b[0m \u001b[0ms\u001b[0m\u001b[0;34m,\u001b[0m \u001b[0mregex\u001b[0m\u001b[0;34m,\u001b[0m \u001b[0mmask\u001b[0m\u001b[0;34m)\u001b[0m\u001b[0;34m\u001b[0m\u001b[0;34m\u001b[0m\u001b[0m\n\u001b[0m\u001b[1;32m    637\u001b[0m \u001b[0;34m\u001b[0m\u001b[0m\n\u001b[1;32m    638\u001b[0m         \u001b[0;31m# Calculate the mask once, prior to the call of comp\u001b[0m\u001b[0;34m\u001b[0m\u001b[0;34m\u001b[0m\u001b[0;34m\u001b[0m\u001b[0m\n",
      "\u001b[0;32m~/opt/anaconda3/envs/learn-env/lib/python3.8/site-packages/pandas/core/internals/managers.py\u001b[0m in \u001b[0;36m_compare_or_regex_search\u001b[0;34m(a, b, regex, mask)\u001b[0m\n\u001b[1;32m   1990\u001b[0m     \u001b[0;32mif\u001b[0m \u001b[0mis_datetimelike_v_numeric\u001b[0m\u001b[0;34m(\u001b[0m\u001b[0ma\u001b[0m\u001b[0;34m,\u001b[0m \u001b[0mb\u001b[0m\u001b[0;34m)\u001b[0m \u001b[0;32mor\u001b[0m \u001b[0mis_numeric_v_string_like\u001b[0m\u001b[0;34m(\u001b[0m\u001b[0ma\u001b[0m\u001b[0;34m,\u001b[0m \u001b[0mb\u001b[0m\u001b[0;34m)\u001b[0m\u001b[0;34m:\u001b[0m\u001b[0;34m\u001b[0m\u001b[0;34m\u001b[0m\u001b[0m\n\u001b[1;32m   1991\u001b[0m         \u001b[0;31m# GH#29553 avoid deprecation warnings from numpy\u001b[0m\u001b[0;34m\u001b[0m\u001b[0;34m\u001b[0m\u001b[0;34m\u001b[0m\u001b[0m\n\u001b[0;32m-> 1992\u001b[0;31m         \u001b[0m_check_comparison_types\u001b[0m\u001b[0;34m(\u001b[0m\u001b[0;32mFalse\u001b[0m\u001b[0;34m,\u001b[0m \u001b[0ma\u001b[0m\u001b[0;34m,\u001b[0m \u001b[0mb\u001b[0m\u001b[0;34m)\u001b[0m\u001b[0;34m\u001b[0m\u001b[0;34m\u001b[0m\u001b[0m\n\u001b[0m\u001b[1;32m   1993\u001b[0m         \u001b[0;32mreturn\u001b[0m \u001b[0;32mFalse\u001b[0m\u001b[0;34m\u001b[0m\u001b[0;34m\u001b[0m\u001b[0m\n\u001b[1;32m   1994\u001b[0m \u001b[0;34m\u001b[0m\u001b[0m\n",
      "\u001b[0;32m~/opt/anaconda3/envs/learn-env/lib/python3.8/site-packages/pandas/core/internals/managers.py\u001b[0m in \u001b[0;36m_check_comparison_types\u001b[0;34m(result, a, b)\u001b[0m\n\u001b[1;32m   1969\u001b[0m                 \u001b[0mtype_names\u001b[0m\u001b[0;34m[\u001b[0m\u001b[0;36m0\u001b[0m\u001b[0;34m]\u001b[0m \u001b[0;34m=\u001b[0m \u001b[0;34mf\"ndarray(dtype={a.dtype})\"\u001b[0m\u001b[0;34m\u001b[0m\u001b[0;34m\u001b[0m\u001b[0m\n\u001b[1;32m   1970\u001b[0m \u001b[0;34m\u001b[0m\u001b[0m\n\u001b[0;32m-> 1971\u001b[0;31m             raise TypeError(\n\u001b[0m\u001b[1;32m   1972\u001b[0m                 \u001b[0;34mf\"Cannot compare types {repr(type_names[0])} and {repr(type_names[1])}\"\u001b[0m\u001b[0;34m\u001b[0m\u001b[0;34m\u001b[0m\u001b[0m\n\u001b[1;32m   1973\u001b[0m             )\n",
      "\u001b[0;31mTypeError\u001b[0m: Cannot compare types 'ndarray(dtype=float64)' and 'str'"
     ]
    }
   ],
   "source": [
    "#clean up sqft_basement and convert to int\n",
    "df['sqft_basement'] = df['sqft_basement'].replace({'?':np.nan}).astype(float)"
   ]
  },
  {
   "cell_type": "code",
   "execution_count": 9,
   "id": "2b8ff9d6-2b77-4193-a318-c8c38c216946",
   "metadata": {},
   "outputs": [],
   "source": [
    "#ratio of SQFT compared to neighbors\n",
    "df['sqft_living_ratio'] = df['sqft_living'] / df['sqft_living15']\n",
    "df['sqft_lot_ratio'] = df['sqft_lot'] / df['sqft_lot15']\n",
    "df['sqft_liv_lot_ratio'] = (df['sqft_lot']+df['sqft_living']) / (df['sqft_lot15']+df['sqft_living15'])"
   ]
  },
  {
   "cell_type": "code",
   "execution_count": 10,
   "id": "aa7ec0b0-2873-400f-8032-0babf9db060b",
   "metadata": {},
   "outputs": [],
   "source": [
    "#drop na for waterfront, view, and yr_renovated\n",
    "df.dropna(subset=['waterfront'], inplace=True)\n",
    "df.dropna(subset=['view'], inplace=True)\n",
    "df.dropna(subset=['yr_renovated'], inplace=True)\n",
    "df.dropna(subset=['sqft_basement'], inplace=True)"
   ]
  },
  {
   "cell_type": "code",
   "execution_count": 11,
   "id": "b7c98b98-a1b9-42e4-bb27-b1f17c55ff8d",
   "metadata": {},
   "outputs": [],
   "source": [
    "#retrieve the months\n",
    "df['month_of_date'] = pd.DatetimeIndex(df['date']).month\n",
    "df.drop(columns=['date'], inplace=True)"
   ]
  },
  {
   "cell_type": "code",
   "execution_count": 12,
   "id": "7cda2268-a963-4fca-8ff6-736e58ac0442",
   "metadata": {},
   "outputs": [],
   "source": [
    "#convert waterfront and view into int\n",
    "df['view'] = df['view'].astype(int)\n",
    "df['waterfront'] = df['waterfront'].astype(int)"
   ]
  },
  {
   "cell_type": "code",
   "execution_count": 13,
   "id": "1fba153b-8e43-4d80-a596-d547624a2e1e",
   "metadata": {},
   "outputs": [],
   "source": [
    "df.reset_index(inplace=True, drop=True)"
   ]
  },
  {
   "cell_type": "code",
   "execution_count": 14,
   "id": "a5e9d585-549e-48a3-8fde-8379c4b08f96",
   "metadata": {},
   "outputs": [
    {
     "name": "stdout",
     "output_type": "stream",
     "text": [
      "<class 'pandas.core.frame.DataFrame'>\n",
      "RangeIndex: 15429 entries, 0 to 15428\n",
      "Data columns (total 23 columns):\n",
      " #   Column              Non-Null Count  Dtype  \n",
      "---  ------              --------------  -----  \n",
      " 0   price               15429 non-null  float64\n",
      " 1   bedrooms            15429 non-null  int64  \n",
      " 2   bathrooms           15429 non-null  float64\n",
      " 3   sqft_living         15429 non-null  int64  \n",
      " 4   sqft_lot            15429 non-null  int64  \n",
      " 5   floors              15429 non-null  float64\n",
      " 6   waterfront          15429 non-null  int64  \n",
      " 7   view                15429 non-null  int64  \n",
      " 8   condition           15429 non-null  int64  \n",
      " 9   grade               15429 non-null  int64  \n",
      " 10  sqft_above          15429 non-null  int64  \n",
      " 11  sqft_basement       15429 non-null  float64\n",
      " 12  yr_built            15429 non-null  int64  \n",
      " 13  yr_renovated        15429 non-null  float64\n",
      " 14  zipcode             15429 non-null  int64  \n",
      " 15  lat                 15429 non-null  float64\n",
      " 16  long                15429 non-null  float64\n",
      " 17  sqft_living15       15429 non-null  int64  \n",
      " 18  sqft_lot15          15429 non-null  int64  \n",
      " 19  sqft_living_ratio   15429 non-null  float64\n",
      " 20  sqft_lot_ratio      15429 non-null  float64\n",
      " 21  sqft_liv_lot_ratio  15429 non-null  float64\n",
      " 22  month_of_date       15429 non-null  int64  \n",
      "dtypes: float64(10), int64(13)\n",
      "memory usage: 2.7 MB\n"
     ]
    }
   ],
   "source": [
    "df"
   ]
  },
  {
   "cell_type": "code",
   "execution_count": 14,
   "id": "f90a62bd-1391-46ab-8e5f-269b733454a3",
   "metadata": {},
   "outputs": [],
   "source": [
    "#df.hist(figsize=(18,15), bins='auto');"
   ]
  },
  {
   "cell_type": "code",
   "execution_count": 15,
   "id": "5abc9b3b-ddb8-41ba-a46a-2b665e232e6a",
   "metadata": {},
   "outputs": [],
   "source": [
    "#create log price column\n",
    "df['price_log'] = np.log(df['price'])"
   ]
  },
  {
   "cell_type": "markdown",
   "id": "2b551a12-27a7-4f6b-8c07-dfb52c8dfe11",
   "metadata": {},
   "source": [
    "## Outliers"
   ]
  },
  {
   "cell_type": "code",
   "execution_count": 16,
   "id": "1b85c93f-f9a1-4db2-af73-156415de0cec",
   "metadata": {},
   "outputs": [
    {
     "data": {
      "text/plain": [
       "<AxesSubplot:>"
      ]
     },
     "execution_count": 16,
     "metadata": {},
     "output_type": "execute_result"
    },
    {
     "data": {
      "image/png": "[encoded data removed]",
      "text/plain": [
       "<Figure size 432x288 with 1 Axes>"
      ]
     },
     "metadata": {
      "needs_background": "light"
     },
     "output_type": "display_data"
    }
   ],
   "source": [
    "df.boxplot(column=['price'])"
   ]
  },
  {
   "cell_type": "code",
   "execution_count": 17,
   "id": "b4db52c6-492c-4490-8805-1de7ebfbc3cd",
   "metadata": {},
   "outputs": [
    {
     "name": "stdout",
     "output_type": "stream",
     "text": [
      "mean: 541497.7825523365\n",
      "median: 450000.0\n",
      "max: 7700000.0\n",
      "min: 82000.0\n",
      "std: 373021.9469139042\n",
      "25% quartile: 320000.0\n",
      "75% quartile: 643500.0\n"
     ]
    }
   ],
   "source": [
    "print('mean:', df['price'].mean())\n",
    "print('median:', df['price'].median())\n",
    "print('max:', df['price'].max())\n",
    "print('min:', df['price'].min())\n",
    "print('std:', df['price'].std())\n",
    "print('25% quartile:', df['price'].quantile(0.25))\n",
    "print('75% quartile:', df['price'].quantile(0.75))"
   ]
  },
  {
   "cell_type": "code",
   "execution_count": 18,
   "id": "6d347d9e-712e-49fa-ba97-052b941b0680",
   "metadata": {},
   "outputs": [
    {
     "name": "stdout",
     "output_type": "stream",
     "text": [
      "# of outliers above: 831\n",
      "# of outliers below: 0\n"
     ]
    }
   ],
   "source": [
    "#determining IQR for raw price\n",
    "iqr = df['price'].quantile(0.75) - df['price'].quantile(0.25)\n",
    "outlier_above = df[df['price'] > df['price'].quantile(0.75) + 1.5*iqr].price.count()\n",
    "outlier_below = df[df['price'] < df['price'].quantile(0.25) - 1.5*iqr].price.count()\n",
    "print('# of outliers above:', outlier_above)\n",
    "print('# of outliers below:', outlier_below)"
   ]
  },
  {
   "cell_type": "code",
   "execution_count": 19,
   "id": "99c0f8fa-b695-48a4-b995-d1a9521c4297",
   "metadata": {},
   "outputs": [
    {
     "name": "stdout",
     "output_type": "stream",
     "text": [
      "# of outliers above: 203\n",
      "# of outliers below: 34\n"
     ]
    }
   ],
   "source": [
    "#determining IQR for log price\n",
    "log_iqr = df['price_log'].quantile(0.75) - df['price_log'].quantile(0.25)\n",
    "outlier_above = df[df['price_log'] > df['price_log'].quantile(0.75) + 1.5*log_iqr].price.count()\n",
    "outlier_below = df[df['price_log'] < df['price_log'].quantile(0.25) - 1.5*log_iqr].price.count()\n",
    "print('# of outliers above:', outlier_above)\n",
    "print('# of outliers below:', outlier_below)"
   ]
  },
  {
   "cell_type": "code",
   "execution_count": 20,
   "id": "d69059a8-b4d3-47bb-a2a3-40cc882dcc36",
   "metadata": {},
   "outputs": [],
   "source": [
    "#remove price outliers\n",
    "#df = df[(df['price'] < df['price'].quantile(0.75) + 1.5*iqr) | (df['price'] > df['price'].quantile(0.25) - 1.5*iqr)]\n",
    "\n",
    "#remove log price outliers\n",
    "#df = df[(df['price_log'] < df['price_log'].quantile(0.75) + 1.5*log_iqr) | (df['price_log'] > df['price_log'].quantile(0.25) - 1.5*log_iqr)]"
   ]
  },
  {
   "cell_type": "code",
   "execution_count": 21,
   "id": "3a015b17-ff03-4a58-b30e-e01eaddb53a2",
   "metadata": {},
   "outputs": [],
   "source": [
    "#df.price.hist(figsize=(6,6), bins='auto');"
   ]
  },
  {
   "cell_type": "markdown",
   "id": "070eeb01-eb4f-4e3a-b891-4aa6adfcbab5",
   "metadata": {},
   "source": [
    "## Finding Correlation"
   ]
  },
  {
   "cell_type": "code",
   "execution_count": 22,
   "id": "56eeacbe-cd74-4c45-9e19-f05ae8012705",
   "metadata": {},
   "outputs": [],
   "source": [
    "#sns.pairplot(df)"
   ]
  },
  {
   "cell_type": "code",
   "execution_count": 23,
   "id": "214cf1e8-0b82-443b-acfc-ce93fedf8df0",
   "metadata": {},
   "outputs": [
    {
     "data": {
      "text/plain": [
       "price                 1.000000\n",
       "price_log             0.888093\n",
       "sqft_living           0.706498\n",
       "grade                 0.664356\n",
       "sqft_above            0.612374\n",
       "sqft_living15         0.583400\n",
       "bathrooms             0.525655\n",
       "view                  0.397786\n",
       "sqft_basement         0.320053\n",
       "lat                   0.306991\n",
       "bedrooms              0.305792\n",
       "sqft_living_ratio     0.305293\n",
       "waterfront            0.275718\n",
       "floors                0.260143\n",
       "yr_renovated          0.120981\n",
       "sqft_lot              0.084687\n",
       "sqft_lot15            0.080569\n",
       "sqft_liv_lot_ratio    0.055295\n",
       "yr_built              0.050528\n",
       "zipcode               0.049371\n",
       "sqft_lot_ratio        0.039549\n",
       "condition             0.033172\n",
       "long                  0.021948\n",
       "month_of_date         0.008817\n",
       "Name: price, dtype: float64"
      ]
     },
     "execution_count": 23,
     "metadata": {},
     "output_type": "execute_result"
    }
   ],
   "source": [
    "df.corr()['price'].map(abs).sort_values(ascending=False)"
   ]
  },
  {
   "cell_type": "code",
   "execution_count": 24,
   "id": "ac329c56-4791-48d0-a024-215981722058",
   "metadata": {},
   "outputs": [],
   "source": [
    "#numeric: bedrooms, bathrooms, sqft_living, sqft_lot, sqft_above, sqft_basement, \n",
    "#         yr_built, yr_renovated, sqft_living, sqft_lot15, sqft_total, sqft_living_ratio\n",
    "#         sqft_lot_ratio, sqft_liv_lot_ratio, lat, long\n",
    "#catgorical: floors, waterfront, view, condition, grade, month_of_date, zipcode"
   ]
  },
  {
   "cell_type": "code",
   "execution_count": 25,
   "id": "ce911cbc-8649-429a-9ee1-67a42f98a3d6",
   "metadata": {},
   "outputs": [
    {
     "data": {
      "text/plain": [
       "Index(['price', 'bedrooms', 'bathrooms', 'sqft_living', 'sqft_lot', 'floors',\n",
       "       'waterfront', 'view', 'condition', 'grade', 'sqft_above',\n",
       "       'sqft_basement', 'yr_built', 'yr_renovated', 'zipcode', 'lat', 'long',\n",
       "       'sqft_living15', 'sqft_lot15', 'sqft_living_ratio', 'sqft_lot_ratio',\n",
       "       'sqft_liv_lot_ratio', 'month_of_date', 'price_log'],\n",
       "      dtype='object')"
      ]
     },
     "execution_count": 25,
     "metadata": {},
     "output_type": "execute_result"
    }
   ],
   "source": [
    "#check column names\n",
    "df.columns"
   ]
  },
  {
   "cell_type": "code",
   "execution_count": 26,
   "id": "e9cee40d-4f17-4f70-aa55-4394f26be517",
   "metadata": {},
   "outputs": [],
   "source": [
    "#here is where we drop depending what we want\n",
    "# df.drop(columns=['bedrooms'], inplace=True)\n",
    "# df.drop(columns=['bathrooms'], inplace=True)\n",
    "#df.drop(columns=['sqft_living'], inplace=True)\n",
    "# df.drop(columns=['sqft_lot'], inplace=True)\n",
    "# df.drop(columns=['floors'], inplace=True)\n",
    "# df.drop(columns=['waterfront'], inplace=True)\n",
    "# df.drop(columns=['view'], inplace=True)\n",
    "# df.drop(columns=['condition'], inplace=True)\n",
    "# df.drop(columns=['grade'], inplace=True)\n",
    "# df.drop(columns=['sqft_above'], inplace=True)\n",
    "# df.drop(columns=['sqft_basement'], inplace=True)\n",
    "# df.drop(columns=['yr_built'], inplace=True)\n",
    "# df.drop(columns=['yr_renovated'], inplace=True)\n",
    "# df.drop(columns=['zipcode'], inplace=True)\n",
    "# df.drop(columns=['lat'], inplace=True)\n",
    "# df.drop(columns=['long'], inplace=True)\n",
    "# df.drop(columns=['sqft_living15'], inplace=True)\n",
    "# df.drop(columns=['sqft_lot15'], inplace=True)\n",
    "# df.drop(columns=['sqft_total'], inplace=True)\n",
    "# df.drop(columns=['sqft_living_ratio'], inplace=True)\n",
    "# df.drop(columns=['sqft_lot_ratio'], inplace=True)\n",
    "# df.drop(columns=['sqft_liv_lot_ratio'], inplace=True)\n",
    "# df.drop(columns=['month_of_date'], inplace=True)"
   ]
  },
  {
   "cell_type": "code",
   "execution_count": 27,
   "id": "608e8a04-efbc-49b5-b5c9-32333633d3b2",
   "metadata": {},
   "outputs": [
    {
     "data": {
      "text/plain": [
       "Index(['price', 'bedrooms', 'bathrooms', 'sqft_living', 'sqft_lot', 'floors',\n",
       "       'waterfront', 'view', 'condition', 'grade', 'sqft_above',\n",
       "       'sqft_basement', 'yr_built', 'yr_renovated', 'lat', 'long',\n",
       "       'sqft_living15', 'sqft_lot15', 'sqft_living_ratio', 'sqft_lot_ratio',\n",
       "       'sqft_liv_lot_ratio', 'month_of_date', 'price_log'],\n",
       "      dtype='object')"
      ]
     },
     "execution_count": 27,
     "metadata": {},
     "output_type": "execute_result"
    }
   ],
   "source": [
    "df.columns"
   ]
  },
  {
   "cell_type": "code",
   "execution_count": 28,
   "id": "bf518b87-19c3-4803-8289-50b5383758ab",
   "metadata": {},
   "outputs": [],
   "source": [
    "#dummying categorical \n",
    "df = pd.get_dummies(df, prefix='floors', prefix_sep='_', columns=['floors'], drop_first = True)\n",
    "df = pd.get_dummies(df, prefix='waterfront', prefix_sep='_', columns=['waterfront'], drop_first = True)\n",
    "df = pd.get_dummies(df, prefix='view', prefix_sep='_', columns=['view'], drop_first = True)\n",
    "df = pd.get_dummies(df, prefix='condition', prefix_sep='_', columns=['condition'], drop_first = True)\n",
    "df = pd.get_dummies(df, prefix='grade', prefix_sep='_', columns=['grade'], drop_first = True)\n",
    "df = pd.get_dummies(df, prefix='month', prefix_sep='_', columns=['month_of_date'], drop_first = True)\n",
    "#df = pd.get_dummies(df, prefix='zipcode', prefix_sep='_', columns=['zipcode'], drop_first = True)"
   ]
  },
  {
   "cell_type": "code",
   "execution_count": 29,
   "id": "82b127d0-54d2-416c-a3ba-f6c1527f58e2",
   "metadata": {},
   "outputs": [],
   "source": [
    "#rename the floor column heads\n",
    "df.rename(columns={'floors_1.5': 'floors_1_5', 'floors_2.0': 'floors_2', 'floors_2.5': 'floors_2_5', 'floors_3.0': 'floors_3', 'floors_3.5': 'floors_3_5'}, inplace=True)"
   ]
  },
  {
   "cell_type": "markdown",
   "id": "eaa06a97-e056-4fbf-856f-42a52042142a",
   "metadata": {},
   "source": [
    "## Recursive Feature Elimination"
   ]
  },
  {
   "cell_type": "code",
   "execution_count": 30,
   "id": "9dfa8250-5fd6-405d-9390-a3145e158a48",
   "metadata": {},
   "outputs": [],
   "source": [
    "lr_rfe = LinearRegression()\n",
    "select = RFE(lr_rfe, n_features_to_select=10)"
   ]
  },
  {
   "cell_type": "code",
   "execution_count": 31,
   "id": "15ca2598-b3a3-4111-bab2-29ce3360ba79",
   "metadata": {},
   "outputs": [],
   "source": [
    "ss = StandardScaler()\n",
    "ss.fit(df.drop(['price', 'price_log'], axis=1))\n",
    "\n",
    "df_scaled = ss.transform(df.drop(['price', 'price_log'], axis=1))"
   ]
  },
  {
   "cell_type": "code",
   "execution_count": 32,
   "id": "2aa3daa6-cb5b-45b3-bc06-55b46c28d399",
   "metadata": {},
   "outputs": [
    {
     "data": {
      "text/plain": [
       "RFE(estimator=LinearRegression(), n_features_to_select=10)"
      ]
     },
     "execution_count": 32,
     "metadata": {},
     "output_type": "execute_result"
    }
   ],
   "source": [
    "select.fit(X=df_scaled, y=df['price'])"
   ]
  },
  {
   "cell_type": "code",
   "execution_count": 33,
   "id": "46374d71-0fa4-47d8-bffd-aaf7a3e184bc",
   "metadata": {},
   "outputs": [
    {
     "data": {
      "text/plain": [
       "array([False,  True,  True, False, False, False,  True, False,  True,\n",
       "       False, False, False, False, False, False, False, False, False,\n",
       "       False, False,  True, False, False, False, False, False, False,\n",
       "       False, False, False, False, False, False, False,  True,  True,\n",
       "        True,  True,  True, False, False, False, False, False, False,\n",
       "       False, False, False, False, False])"
      ]
     },
     "execution_count": 33,
     "metadata": {},
     "output_type": "execute_result"
    }
   ],
   "source": [
    "select.support_"
   ]
  },
  {
   "cell_type": "code",
   "execution_count": 34,
   "id": "704838a0-c722-4b0f-9512-a1e5c8efc526",
   "metadata": {},
   "outputs": [],
   "source": [
    "true_indexes = [i for i, x in enumerate(select.support_) if x]"
   ]
  },
  {
   "cell_type": "code",
   "execution_count": 35,
   "id": "4ce1d0ca-a88a-4c31-b10d-246f22df4abb",
   "metadata": {},
   "outputs": [
    {
     "data": {
      "text/plain": [
       "['bathrooms',\n",
       " 'sqft_living',\n",
       " 'yr_built',\n",
       " 'lat',\n",
       " 'waterfront_1',\n",
       " 'grade_9',\n",
       " 'grade_10',\n",
       " 'grade_11',\n",
       " 'grade_12',\n",
       " 'grade_13']"
      ]
     },
     "execution_count": 35,
     "metadata": {},
     "output_type": "execute_result"
    }
   ],
   "source": [
    "key_columns = []\n",
    "for i in true_indexes:\n",
    "    key_columns.append(df.drop(['price', 'price_log'], axis=1).columns[i])\n",
    "\n",
    "key_columns"
   ]
  },
  {
   "cell_type": "code",
   "execution_count": 36,
   "id": "6541cf90-b82f-4240-a78d-0ab61ad1f8d2",
   "metadata": {},
   "outputs": [
    {
     "data": {
      "text/plain": [
       "RFE(estimator=LinearRegression(), n_features_to_select=10)"
      ]
     },
     "execution_count": 36,
     "metadata": {},
     "output_type": "execute_result"
    }
   ],
   "source": [
    "select.fit(X=df_scaled, y=df['price_log'])"
   ]
  },
  {
   "cell_type": "code",
   "execution_count": 37,
   "id": "8d380e1c-19c2-4d39-962f-1aa57f9b753d",
   "metadata": {},
   "outputs": [
    {
     "data": {
      "text/plain": [
       "array([False,  True,  True, False, False, False,  True, False,  True,\n",
       "       False,  True, False, False, False, False, False, False, False,\n",
       "       False, False, False, False, False, False, False, False,  True,\n",
       "        True,  True, False, False,  True,  True, False, False, False,\n",
       "       False, False, False, False, False, False, False, False, False,\n",
       "       False, False, False, False, False])"
      ]
     },
     "execution_count": 37,
     "metadata": {},
     "output_type": "execute_result"
    }
   ],
   "source": [
    "select.support_"
   ]
  },
  {
   "cell_type": "code",
   "execution_count": 38,
   "id": "cd9feac5-1542-40df-afba-fe74728e19d3",
   "metadata": {},
   "outputs": [],
   "source": [
    "log_true_indexes = [i for i, x in enumerate(select.support_) if x]"
   ]
  },
  {
   "cell_type": "code",
   "execution_count": 39,
   "id": "51f11790-7de4-4fc9-a858-e50cbcb624bf",
   "metadata": {},
   "outputs": [
    {
     "data": {
      "text/plain": [
       "['bathrooms',\n",
       " 'sqft_living',\n",
       " 'yr_built',\n",
       " 'lat',\n",
       " 'sqft_living15',\n",
       " 'condition_3',\n",
       " 'condition_4',\n",
       " 'condition_5',\n",
       " 'grade_6',\n",
       " 'grade_7']"
      ]
     },
     "execution_count": 39,
     "metadata": {},
     "output_type": "execute_result"
    }
   ],
   "source": [
    "log_key_columns = []\n",
    "for i in log_true_indexes:\n",
    "    log_key_columns.append(df.drop(['price', 'price_log'], axis=1).columns[i])\n",
    "    \n",
    "log_key_columns"
   ]
  },
  {
   "cell_type": "markdown",
   "id": "41006c33-8209-47e4-8dee-baa221f3436b",
   "metadata": {},
   "source": [
    "## OLS TIME!"
   ]
  },
  {
   "cell_type": "code",
   "execution_count": 40,
   "id": "ef89892b-39cb-4069-9658-114bf2082aa9",
   "metadata": {},
   "outputs": [],
   "source": [
    "#set target\n",
    "target = 'price'\n",
    "log_target = 'price_log'"
   ]
  },
  {
   "cell_type": "code",
   "execution_count": 41,
   "id": "6a241fbb-ced1-45c8-8c1c-293ccfb1b429",
   "metadata": {},
   "outputs": [],
   "source": [
    "#set columns\n",
    "#columns = \"+\".join(df.columns.drop([target,log_target]))\n",
    "columns = \"+\".join(key_columns)"
   ]
  },
  {
   "cell_type": "code",
   "execution_count": 42,
   "id": "062b633f-3de2-4ff1-8fb5-0432224d28d1",
   "metadata": {},
   "outputs": [],
   "source": [
    "#set formula\n",
    "formula = target + '~' +columns"
   ]
  },
  {
   "cell_type": "code",
   "execution_count": 43,
   "id": "73c49769-9780-43f1-b6dc-b2e6f48ecc63",
   "metadata": {},
   "outputs": [],
   "source": [
    "model = ols(formula, df).fit()"
   ]
  },
  {
   "cell_type": "code",
   "execution_count": 44,
   "id": "977b873d-cdd4-4d68-bdd5-d27473c71dc6",
   "metadata": {},
   "outputs": [
    {
     "data": {
      "text/html": [
       "<table class=\"simpletable\">\n",
       "<caption>OLS Regression Results</caption>\n",
       "<tr>\n",
       "  <th>Dep. Variable:</th>          <td>price</td>      <th>  R-squared:         </th>  <td>   0.702</td>  \n",
       "</tr>\n",
       "<tr>\n",
       "  <th>Model:</th>                   <td>OLS</td>       <th>  Adj. R-squared:    </th>  <td>   0.702</td>  \n",
       "</tr>\n",
       "<tr>\n",
       "  <th>Method:</th>             <td>Least Squares</td>  <th>  F-statistic:       </th>  <td>   3637.</td>  \n",
       "</tr>\n",
       "<tr>\n",
       "  <th>Date:</th>             <td>Mon, 12 Jul 2021</td> <th>  Prob (F-statistic):</th>   <td>  0.00</td>   \n",
       "</tr>\n",
       "<tr>\n",
       "  <th>Time:</th>                 <td>14:23:45</td>     <th>  Log-Likelihood:    </th> <td>-2.1049e+05</td>\n",
       "</tr>\n",
       "<tr>\n",
       "  <th>No. Observations:</th>      <td> 15429</td>      <th>  AIC:               </th>  <td>4.210e+05</td> \n",
       "</tr>\n",
       "<tr>\n",
       "  <th>Df Residuals:</th>          <td> 15418</td>      <th>  BIC:               </th>  <td>4.211e+05</td> \n",
       "</tr>\n",
       "<tr>\n",
       "  <th>Df Model:</th>              <td>    10</td>      <th>                     </th>      <td> </td>     \n",
       "</tr>\n",
       "<tr>\n",
       "  <th>Covariance Type:</th>      <td>nonrobust</td>    <th>                     </th>      <td> </td>     \n",
       "</tr>\n",
       "</table>\n",
       "<table class=\"simpletable\">\n",
       "<tr>\n",
       "        <td></td>          <th>coef</th>     <th>std err</th>      <th>t</th>      <th>P>|t|</th>  <th>[0.025</th>    <th>0.975]</th>  \n",
       "</tr>\n",
       "<tr>\n",
       "  <th>Intercept</th>    <td>-2.412e+07</td> <td> 6.14e+05</td> <td>  -39.259</td> <td> 0.000</td> <td>-2.53e+07</td> <td>-2.29e+07</td>\n",
       "</tr>\n",
       "<tr>\n",
       "  <th>bathrooms</th>    <td> 6.399e+04</td> <td> 3613.018</td> <td>   17.711</td> <td> 0.000</td> <td> 5.69e+04</td> <td> 7.11e+04</td>\n",
       "</tr>\n",
       "<tr>\n",
       "  <th>sqft_living</th>  <td>  156.5531</td> <td>    3.297</td> <td>   47.483</td> <td> 0.000</td> <td>  150.091</td> <td>  163.016</td>\n",
       "</tr>\n",
       "<tr>\n",
       "  <th>yr_built</th>     <td>-2378.3224</td> <td>   67.534</td> <td>  -35.216</td> <td> 0.000</td> <td>-2510.698</td> <td>-2245.947</td>\n",
       "</tr>\n",
       "<tr>\n",
       "  <th>lat</th>          <td> 6.061e+05</td> <td> 1.21e+04</td> <td>   50.096</td> <td> 0.000</td> <td> 5.82e+05</td> <td>  6.3e+05</td>\n",
       "</tr>\n",
       "<tr>\n",
       "  <th>waterfront_1</th> <td>  7.92e+05</td> <td> 1.92e+04</td> <td>   41.261</td> <td> 0.000</td> <td> 7.54e+05</td> <td>  8.3e+05</td>\n",
       "</tr>\n",
       "<tr>\n",
       "  <th>grade_9</th>      <td> 1.577e+05</td> <td> 5789.970</td> <td>   27.239</td> <td> 0.000</td> <td> 1.46e+05</td> <td> 1.69e+05</td>\n",
       "</tr>\n",
       "<tr>\n",
       "  <th>grade_10</th>     <td> 3.177e+05</td> <td> 8583.079</td> <td>   37.014</td> <td> 0.000</td> <td> 3.01e+05</td> <td> 3.35e+05</td>\n",
       "</tr>\n",
       "<tr>\n",
       "  <th>grade_11</th>     <td> 5.223e+05</td> <td> 1.38e+04</td> <td>   37.731</td> <td> 0.000</td> <td> 4.95e+05</td> <td> 5.49e+05</td>\n",
       "</tr>\n",
       "<tr>\n",
       "  <th>grade_12</th>     <td> 1.042e+06</td> <td> 2.69e+04</td> <td>   38.760</td> <td> 0.000</td> <td> 9.89e+05</td> <td> 1.09e+06</td>\n",
       "</tr>\n",
       "<tr>\n",
       "  <th>grade_13</th>     <td> 2.119e+06</td> <td> 6.29e+04</td> <td>   33.661</td> <td> 0.000</td> <td>    2e+06</td> <td> 2.24e+06</td>\n",
       "</tr>\n",
       "</table>\n",
       "<table class=\"simpletable\">\n",
       "<tr>\n",
       "  <th>Omnibus:</th>       <td>9847.414</td> <th>  Durbin-Watson:     </th>  <td>   1.971</td> \n",
       "</tr>\n",
       "<tr>\n",
       "  <th>Prob(Omnibus):</th>  <td> 0.000</td>  <th>  Jarque-Bera (JB):  </th> <td>434119.607</td>\n",
       "</tr>\n",
       "<tr>\n",
       "  <th>Skew:</th>           <td> 2.464</td>  <th>  Prob(JB):          </th>  <td>    0.00</td> \n",
       "</tr>\n",
       "<tr>\n",
       "  <th>Kurtosis:</th>       <td>28.515</td>  <th>  Cond. No.          </th>  <td>1.11e+06</td> \n",
       "</tr>\n",
       "</table><br/><br/>Notes:<br/>[1] Standard Errors assume that the covariance matrix of the errors is correctly specified.<br/>[2] The condition number is large, 1.11e+06. This might indicate that there are<br/>strong multicollinearity or other numerical problems."
      ],
      "text/plain": [
       "<class 'statsmodels.iolib.summary.Summary'>\n",
       "\"\"\"\n",
       "                            OLS Regression Results                            \n",
       "==============================================================================\n",
       "Dep. Variable:                  price   R-squared:                       0.702\n",
       "Model:                            OLS   Adj. R-squared:                  0.702\n",
       "Method:                 Least Squares   F-statistic:                     3637.\n",
       "Date:                Mon, 12 Jul 2021   Prob (F-statistic):               0.00\n",
       "Time:                        14:23:45   Log-Likelihood:            -2.1049e+05\n",
       "No. Observations:               15429   AIC:                         4.210e+05\n",
       "Df Residuals:                   15418   BIC:                         4.211e+05\n",
       "Df Model:                          10                                         \n",
       "Covariance Type:            nonrobust                                         \n",
       "================================================================================\n",
       "                   coef    std err          t      P>|t|      [0.025      0.975]\n",
       "--------------------------------------------------------------------------------\n",
       "Intercept    -2.412e+07   6.14e+05    -39.259      0.000   -2.53e+07   -2.29e+07\n",
       "bathrooms     6.399e+04   3613.018     17.711      0.000    5.69e+04    7.11e+04\n",
       "sqft_living    156.5531      3.297     47.483      0.000     150.091     163.016\n",
       "yr_built     -2378.3224     67.534    -35.216      0.000   -2510.698   -2245.947\n",
       "lat           6.061e+05   1.21e+04     50.096      0.000    5.82e+05     6.3e+05\n",
       "waterfront_1   7.92e+05   1.92e+04     41.261      0.000    7.54e+05     8.3e+05\n",
       "grade_9       1.577e+05   5789.970     27.239      0.000    1.46e+05    1.69e+05\n",
       "grade_10      3.177e+05   8583.079     37.014      0.000    3.01e+05    3.35e+05\n",
       "grade_11      5.223e+05   1.38e+04     37.731      0.000    4.95e+05    5.49e+05\n",
       "grade_12      1.042e+06   2.69e+04     38.760      0.000    9.89e+05    1.09e+06\n",
       "grade_13      2.119e+06   6.29e+04     33.661      0.000       2e+06    2.24e+06\n",
       "==============================================================================\n",
       "Omnibus:                     9847.414   Durbin-Watson:                   1.971\n",
       "Prob(Omnibus):                  0.000   Jarque-Bera (JB):           434119.607\n",
       "Skew:                           2.464   Prob(JB):                         0.00\n",
       "Kurtosis:                      28.515   Cond. No.                     1.11e+06\n",
       "==============================================================================\n",
       "\n",
       "Notes:\n",
       "[1] Standard Errors assume that the covariance matrix of the errors is correctly specified.\n",
       "[2] The condition number is large, 1.11e+06. This might indicate that there are\n",
       "strong multicollinearity or other numerical problems.\n",
       "\"\"\""
      ]
     },
     "execution_count": 44,
     "metadata": {},
     "output_type": "execute_result"
    }
   ],
   "source": [
    "model.summary()"
   ]
  },
  {
   "cell_type": "code",
   "execution_count": 45,
   "id": "827b3ad4-efee-4a16-ab03-9f94c98beed9",
   "metadata": {},
   "outputs": [
    {
     "data": {
      "text/html": [
       "<table class=\"simpletable\">\n",
       "<caption>OLS Regression Results</caption>\n",
       "<tr>\n",
       "  <th>Dep. Variable:</th>        <td>price_log</td>    <th>  R-squared:         </th> <td>   0.724</td>\n",
       "</tr>\n",
       "<tr>\n",
       "  <th>Model:</th>                   <td>OLS</td>       <th>  Adj. R-squared:    </th> <td>   0.724</td>\n",
       "</tr>\n",
       "<tr>\n",
       "  <th>Method:</th>             <td>Least Squares</td>  <th>  F-statistic:       </th> <td>   4046.</td>\n",
       "</tr>\n",
       "<tr>\n",
       "  <th>Date:</th>             <td>Mon, 12 Jul 2021</td> <th>  Prob (F-statistic):</th>  <td>  0.00</td> \n",
       "</tr>\n",
       "<tr>\n",
       "  <th>Time:</th>                 <td>14:23:45</td>     <th>  Log-Likelihood:    </th> <td> -2063.5</td>\n",
       "</tr>\n",
       "<tr>\n",
       "  <th>No. Observations:</th>      <td> 15429</td>      <th>  AIC:               </th> <td>   4149.</td>\n",
       "</tr>\n",
       "<tr>\n",
       "  <th>Df Residuals:</th>          <td> 15418</td>      <th>  BIC:               </th> <td>   4233.</td>\n",
       "</tr>\n",
       "<tr>\n",
       "  <th>Df Model:</th>              <td>    10</td>      <th>                     </th>     <td> </td>   \n",
       "</tr>\n",
       "<tr>\n",
       "  <th>Covariance Type:</th>      <td>nonrobust</td>    <th>                     </th>     <td> </td>   \n",
       "</tr>\n",
       "</table>\n",
       "<table class=\"simpletable\">\n",
       "<tr>\n",
       "        <td></td>           <th>coef</th>     <th>std err</th>      <th>t</th>      <th>P>|t|</th>  <th>[0.025</th>    <th>0.975]</th>  \n",
       "</tr>\n",
       "<tr>\n",
       "  <th>Intercept</th>     <td>  -49.0532</td> <td>    0.857</td> <td>  -57.211</td> <td> 0.000</td> <td>  -50.734</td> <td>  -47.373</td>\n",
       "</tr>\n",
       "<tr>\n",
       "  <th>bathrooms</th>     <td>    0.0847</td> <td>    0.005</td> <td>   16.942</td> <td> 0.000</td> <td>    0.075</td> <td>    0.094</td>\n",
       "</tr>\n",
       "<tr>\n",
       "  <th>sqft_living</th>   <td>    0.0002</td> <td> 4.74e-06</td> <td>   46.250</td> <td> 0.000</td> <td>    0.000</td> <td>    0.000</td>\n",
       "</tr>\n",
       "<tr>\n",
       "  <th>yr_built</th>      <td>   -0.0033</td> <td>    0.000</td> <td>  -32.239</td> <td> 0.000</td> <td>   -0.003</td> <td>   -0.003</td>\n",
       "</tr>\n",
       "<tr>\n",
       "  <th>lat</th>           <td>    1.4199</td> <td>    0.017</td> <td>   85.451</td> <td> 0.000</td> <td>    1.387</td> <td>    1.452</td>\n",
       "</tr>\n",
       "<tr>\n",
       "  <th>sqft_living15</th> <td>    0.0001</td> <td> 5.16e-06</td> <td>   28.817</td> <td> 0.000</td> <td>    0.000</td> <td>    0.000</td>\n",
       "</tr>\n",
       "<tr>\n",
       "  <th>condition_3</th>   <td>    0.1723</td> <td>    0.023</td> <td>    7.365</td> <td> 0.000</td> <td>    0.126</td> <td>    0.218</td>\n",
       "</tr>\n",
       "<tr>\n",
       "  <th>condition_4</th>   <td>    0.2133</td> <td>    0.023</td> <td>    9.081</td> <td> 0.000</td> <td>    0.167</td> <td>    0.259</td>\n",
       "</tr>\n",
       "<tr>\n",
       "  <th>condition_5</th>   <td>    0.2727</td> <td>    0.024</td> <td>   11.162</td> <td> 0.000</td> <td>    0.225</td> <td>    0.321</td>\n",
       "</tr>\n",
       "<tr>\n",
       "  <th>grade_6</th>       <td>   -0.3034</td> <td>    0.010</td> <td>  -31.187</td> <td> 0.000</td> <td>   -0.322</td> <td>   -0.284</td>\n",
       "</tr>\n",
       "<tr>\n",
       "  <th>grade_7</th>       <td>   -0.1785</td> <td>    0.006</td> <td>  -31.103</td> <td> 0.000</td> <td>   -0.190</td> <td>   -0.167</td>\n",
       "</tr>\n",
       "</table>\n",
       "<table class=\"simpletable\">\n",
       "<tr>\n",
       "  <th>Omnibus:</th>       <td>375.561</td> <th>  Durbin-Watson:     </th> <td>   1.979</td> \n",
       "</tr>\n",
       "<tr>\n",
       "  <th>Prob(Omnibus):</th> <td> 0.000</td>  <th>  Jarque-Bera (JB):  </th> <td> 871.339</td> \n",
       "</tr>\n",
       "<tr>\n",
       "  <th>Skew:</th>          <td> 0.062</td>  <th>  Prob(JB):          </th> <td>6.18e-190</td>\n",
       "</tr>\n",
       "<tr>\n",
       "  <th>Kurtosis:</th>      <td> 4.158</td>  <th>  Cond. No.          </th> <td>1.39e+06</td> \n",
       "</tr>\n",
       "</table><br/><br/>Notes:<br/>[1] Standard Errors assume that the covariance matrix of the errors is correctly specified.<br/>[2] The condition number is large, 1.39e+06. This might indicate that there are<br/>strong multicollinearity or other numerical problems."
      ],
      "text/plain": [
       "<class 'statsmodels.iolib.summary.Summary'>\n",
       "\"\"\"\n",
       "                            OLS Regression Results                            \n",
       "==============================================================================\n",
       "Dep. Variable:              price_log   R-squared:                       0.724\n",
       "Model:                            OLS   Adj. R-squared:                  0.724\n",
       "Method:                 Least Squares   F-statistic:                     4046.\n",
       "Date:                Mon, 12 Jul 2021   Prob (F-statistic):               0.00\n",
       "Time:                        14:23:45   Log-Likelihood:                -2063.5\n",
       "No. Observations:               15429   AIC:                             4149.\n",
       "Df Residuals:                   15418   BIC:                             4233.\n",
       "Df Model:                          10                                         \n",
       "Covariance Type:            nonrobust                                         \n",
       "=================================================================================\n",
       "                    coef    std err          t      P>|t|      [0.025      0.975]\n",
       "---------------------------------------------------------------------------------\n",
       "Intercept       -49.0532      0.857    -57.211      0.000     -50.734     -47.373\n",
       "bathrooms         0.0847      0.005     16.942      0.000       0.075       0.094\n",
       "sqft_living       0.0002   4.74e-06     46.250      0.000       0.000       0.000\n",
       "yr_built         -0.0033      0.000    -32.239      0.000      -0.003      -0.003\n",
       "lat               1.4199      0.017     85.451      0.000       1.387       1.452\n",
       "sqft_living15     0.0001   5.16e-06     28.817      0.000       0.000       0.000\n",
       "condition_3       0.1723      0.023      7.365      0.000       0.126       0.218\n",
       "condition_4       0.2133      0.023      9.081      0.000       0.167       0.259\n",
       "condition_5       0.2727      0.024     11.162      0.000       0.225       0.321\n",
       "grade_6          -0.3034      0.010    -31.187      0.000      -0.322      -0.284\n",
       "grade_7          -0.1785      0.006    -31.103      0.000      -0.190      -0.167\n",
       "==============================================================================\n",
       "Omnibus:                      375.561   Durbin-Watson:                   1.979\n",
       "Prob(Omnibus):                  0.000   Jarque-Bera (JB):              871.339\n",
       "Skew:                           0.062   Prob(JB):                    6.18e-190\n",
       "Kurtosis:                       4.158   Cond. No.                     1.39e+06\n",
       "==============================================================================\n",
       "\n",
       "Notes:\n",
       "[1] Standard Errors assume that the covariance matrix of the errors is correctly specified.\n",
       "[2] The condition number is large, 1.39e+06. This might indicate that there are\n",
       "strong multicollinearity or other numerical problems.\n",
       "\"\"\""
      ]
     },
     "execution_count": 45,
     "metadata": {},
     "output_type": "execute_result"
    }
   ],
   "source": [
    "#set formula for Log\n",
    "log_columns = \"+\".join(log_key_columns)\n",
    "formula = log_target + '~' + log_columns\n",
    "model = ols(formula, df).fit()\n",
    "model.summary()"
   ]
  },
  {
   "cell_type": "markdown",
   "id": "adda24ba-dc47-42b4-8eb5-6e93e031e229",
   "metadata": {},
   "source": [
    "## Cross Validation"
   ]
  },
  {
   "cell_type": "code",
   "execution_count": 46,
   "id": "b0500186-54f4-4b13-931c-83f3dd08f1c6",
   "metadata": {},
   "outputs": [],
   "source": [
    "X = df.drop(['price','price_log'], axis = 1)\n",
    "y = df['price']\n",
    "y_log = df['price_log']\n",
    "\n",
    "X_train1, X_test1, y_train, y_test = train_test_split(X, y, test_size=0.20)\n",
    "X_train2, X_test1, y_log_train, y_log_test = train_test_split(X, y_log, test_size=0.20)"
   ]
  },
  {
   "cell_type": "code",
   "execution_count": 47,
   "id": "d2f22611-9cf5-47b2-b068-bf9b32239add",
   "metadata": {},
   "outputs": [],
   "source": [
    "baseline_model = LinearRegression()\n",
    "log_model = LinearRegression()"
   ]
  },
  {
   "cell_type": "code",
   "execution_count": 48,
   "id": "3e6421db-1748-4f76-a224-74978ec39374",
   "metadata": {},
   "outputs": [],
   "source": [
    "splitter = ShuffleSplit(n_splits=3, test_size=0.25, random_state=0)"
   ]
  },
  {
   "cell_type": "code",
   "execution_count": 49,
   "id": "9ca50afb-3fb7-4ccd-813d-496e87f62e63",
   "metadata": {},
   "outputs": [
    {
     "name": "stdout",
     "output_type": "stream",
     "text": [
      "Train score:      0.7379637430007989\n",
      "Validation score: 0.7111171305348666\n"
     ]
    }
   ],
   "source": [
    "baseline_scores = cross_validate(\n",
    "    estimator=baseline_model,\n",
    "    X=X_train1,\n",
    "    y=y_train,\n",
    "    return_train_score=True,\n",
    "    cv=splitter\n",
    ")\n",
    "\n",
    "print(\"Train score:     \", baseline_scores[\"train_score\"].mean())\n",
    "print(\"Validation score:\", baseline_scores[\"test_score\"].mean())"
   ]
  },
  {
   "cell_type": "code",
   "execution_count": 50,
   "id": "130eefe0-ea22-4f87-9622-ae68bab060da",
   "metadata": {},
   "outputs": [
    {
     "name": "stdout",
     "output_type": "stream",
     "text": [
      "Train score:      0.7754869300724906\n",
      "Validation score: 0.7751023137355421\n"
     ]
    }
   ],
   "source": [
    "log_scores = cross_validate(\n",
    "    estimator=log_model,\n",
    "    X=X_train2,\n",
    "    y=y_log_train,\n",
    "    return_train_score=True,\n",
    "    cv=splitter\n",
    ")\n",
    "\n",
    "print(\"Train score:     \", log_scores[\"train_score\"].mean())\n",
    "print(\"Validation score:\", log_scores[\"test_score\"].mean())"
   ]
  }
 ],
 "metadata": {
  "kernelspec": {
   "display_name": "Python (learn-env)",
   "language": "python",
   "name": "learn-env"
  },
  "language_info": {
   "codemirror_mode": {
    "name": "ipython",
    "version": 3
   },
   "file_extension": ".py",
   "mimetype": "text/x-python",
   "name": "python",
   "nbconvert_exporter": "python",
   "pygments_lexer": "ipython3",
   "version": "3.8.5"
  }
 },
 "nbformat": 4,
 "nbformat_minor": 5
}
