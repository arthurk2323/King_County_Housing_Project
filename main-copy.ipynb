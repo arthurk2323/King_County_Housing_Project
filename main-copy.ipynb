{
 "cells": [
  {
   "cell_type": "markdown",
   "metadata": {},
   "source": [
    "# Phase 2 Group 1 Project"
   ]
  },
  {
   "cell_type": "markdown",
   "metadata": {
    "heading_collapsed": true
   },
   "source": [
    "# Import"
   ]
  },
  {
   "cell_type": "code",
   "execution_count": 1,
   "metadata": {
    "hidden": true
   },
   "outputs": [],
   "source": [
    "#import appropriate libraries\n",
    "import numpy as np\n",
    "import pandas as pd\n",
    "import matplotlib.pyplot as plt\n",
    "import seaborn as sns\n",
    "from statsmodels.formula.api import ols\n",
    "from statsmodels.stats.outliers_influence import variance_inflation_factor\n",
    "from sklearn.linear_model import LinearRegression\n",
    "from sklearn.model_selection import cross_validate, ShuffleSplit\n",
    "from sklearn.model_selection import train_test_split\n",
    "from sklearn.feature_selection import RFE\n",
    "from sklearn.preprocessing import PolynomialFeatures, StandardScaler\n",
    "from sklearn.linear_model import LinearRegression\n",
    "from sklearn.model_selection import cross_val_score\n",
    "from sklearn.dummy import DummyRegressor\n",
    "pd.set_option('display.max_columns', None)\n",
    "%matplotlib inline"
   ]
  },
  {
   "cell_type": "markdown",
   "metadata": {
    "heading_collapsed": true
   },
   "source": [
    "# Review the Data File"
   ]
  },
  {
   "cell_type": "code",
   "execution_count": 2,
   "metadata": {
    "hidden": true
   },
   "outputs": [],
   "source": [
    "#read in the file\n",
    "df = pd.read_csv('data/kc_house_data.csv')"
   ]
  },
  {
   "cell_type": "code",
   "execution_count": 3,
   "metadata": {
    "hidden": true
   },
   "outputs": [
    {
     "data": {
      "text/html": [
       "<div>\n",
       "<style scoped>\n",
       "    .dataframe tbody tr th:only-of-type {\n",
       "        vertical-align: middle;\n",
       "    }\n",
       "\n",
       "    .dataframe tbody tr th {\n",
       "        vertical-align: top;\n",
       "    }\n",
       "\n",
       "    .dataframe thead th {\n",
       "        text-align: right;\n",
       "    }\n",
       "</style>\n",
       "<table border=\"1\" class=\"dataframe\">\n",
       "  <thead>\n",
       "    <tr style=\"text-align: right;\">\n",
       "      <th></th>\n",
       "      <th>id</th>\n",
       "      <th>date</th>\n",
       "      <th>price</th>\n",
       "      <th>bedrooms</th>\n",
       "      <th>bathrooms</th>\n",
       "      <th>sqft_living</th>\n",
       "      <th>sqft_lot</th>\n",
       "      <th>floors</th>\n",
       "      <th>waterfront</th>\n",
       "      <th>view</th>\n",
       "      <th>condition</th>\n",
       "      <th>grade</th>\n",
       "      <th>sqft_above</th>\n",
       "      <th>sqft_basement</th>\n",
       "      <th>yr_built</th>\n",
       "      <th>yr_renovated</th>\n",
       "      <th>zipcode</th>\n",
       "      <th>lat</th>\n",
       "      <th>long</th>\n",
       "      <th>sqft_living15</th>\n",
       "      <th>sqft_lot15</th>\n",
       "    </tr>\n",
       "  </thead>\n",
       "  <tbody>\n",
       "    <tr>\n",
       "      <th>0</th>\n",
       "      <td>7129300520</td>\n",
       "      <td>10/13/2014</td>\n",
       "      <td>221900.0</td>\n",
       "      <td>3</td>\n",
       "      <td>1.00</td>\n",
       "      <td>1180</td>\n",
       "      <td>5650</td>\n",
       "      <td>1.0</td>\n",
       "      <td>NaN</td>\n",
       "      <td>0.0</td>\n",
       "      <td>3</td>\n",
       "      <td>7</td>\n",
       "      <td>1180</td>\n",
       "      <td>0.0</td>\n",
       "      <td>1955</td>\n",
       "      <td>0.0</td>\n",
       "      <td>98178</td>\n",
       "      <td>47.5112</td>\n",
       "      <td>-122.257</td>\n",
       "      <td>1340</td>\n",
       "      <td>5650</td>\n",
       "    </tr>\n",
       "    <tr>\n",
       "      <th>1</th>\n",
       "      <td>6414100192</td>\n",
       "      <td>12/9/2014</td>\n",
       "      <td>538000.0</td>\n",
       "      <td>3</td>\n",
       "      <td>2.25</td>\n",
       "      <td>2570</td>\n",
       "      <td>7242</td>\n",
       "      <td>2.0</td>\n",
       "      <td>0.0</td>\n",
       "      <td>0.0</td>\n",
       "      <td>3</td>\n",
       "      <td>7</td>\n",
       "      <td>2170</td>\n",
       "      <td>400.0</td>\n",
       "      <td>1951</td>\n",
       "      <td>1991.0</td>\n",
       "      <td>98125</td>\n",
       "      <td>47.7210</td>\n",
       "      <td>-122.319</td>\n",
       "      <td>1690</td>\n",
       "      <td>7639</td>\n",
       "    </tr>\n",
       "    <tr>\n",
       "      <th>2</th>\n",
       "      <td>5631500400</td>\n",
       "      <td>2/25/2015</td>\n",
       "      <td>180000.0</td>\n",
       "      <td>2</td>\n",
       "      <td>1.00</td>\n",
       "      <td>770</td>\n",
       "      <td>10000</td>\n",
       "      <td>1.0</td>\n",
       "      <td>0.0</td>\n",
       "      <td>0.0</td>\n",
       "      <td>3</td>\n",
       "      <td>6</td>\n",
       "      <td>770</td>\n",
       "      <td>0.0</td>\n",
       "      <td>1933</td>\n",
       "      <td>NaN</td>\n",
       "      <td>98028</td>\n",
       "      <td>47.7379</td>\n",
       "      <td>-122.233</td>\n",
       "      <td>2720</td>\n",
       "      <td>8062</td>\n",
       "    </tr>\n",
       "    <tr>\n",
       "      <th>3</th>\n",
       "      <td>2487200875</td>\n",
       "      <td>12/9/2014</td>\n",
       "      <td>604000.0</td>\n",
       "      <td>4</td>\n",
       "      <td>3.00</td>\n",
       "      <td>1960</td>\n",
       "      <td>5000</td>\n",
       "      <td>1.0</td>\n",
       "      <td>0.0</td>\n",
       "      <td>0.0</td>\n",
       "      <td>5</td>\n",
       "      <td>7</td>\n",
       "      <td>1050</td>\n",
       "      <td>910.0</td>\n",
       "      <td>1965</td>\n",
       "      <td>0.0</td>\n",
       "      <td>98136</td>\n",
       "      <td>47.5208</td>\n",
       "      <td>-122.393</td>\n",
       "      <td>1360</td>\n",
       "      <td>5000</td>\n",
       "    </tr>\n",
       "    <tr>\n",
       "      <th>4</th>\n",
       "      <td>1954400510</td>\n",
       "      <td>2/18/2015</td>\n",
       "      <td>510000.0</td>\n",
       "      <td>3</td>\n",
       "      <td>2.00</td>\n",
       "      <td>1680</td>\n",
       "      <td>8080</td>\n",
       "      <td>1.0</td>\n",
       "      <td>0.0</td>\n",
       "      <td>0.0</td>\n",
       "      <td>3</td>\n",
       "      <td>8</td>\n",
       "      <td>1680</td>\n",
       "      <td>0.0</td>\n",
       "      <td>1987</td>\n",
       "      <td>0.0</td>\n",
       "      <td>98074</td>\n",
       "      <td>47.6168</td>\n",
       "      <td>-122.045</td>\n",
       "      <td>1800</td>\n",
       "      <td>7503</td>\n",
       "    </tr>\n",
       "  </tbody>\n",
       "</table>\n",
       "</div>"
      ],
      "text/plain": [
       "           id        date     price  bedrooms  bathrooms  sqft_living  \\\n",
       "0  7129300520  10/13/2014  221900.0         3       1.00         1180   \n",
       "1  6414100192   12/9/2014  538000.0         3       2.25         2570   \n",
       "2  5631500400   2/25/2015  180000.0         2       1.00          770   \n",
       "3  2487200875   12/9/2014  604000.0         4       3.00         1960   \n",
       "4  1954400510   2/18/2015  510000.0         3       2.00         1680   \n",
       "\n",
       "   sqft_lot  floors  waterfront  view  condition  grade  sqft_above  \\\n",
       "0      5650     1.0         NaN   0.0          3      7        1180   \n",
       "1      7242     2.0         0.0   0.0          3      7        2170   \n",
       "2     10000     1.0         0.0   0.0          3      6         770   \n",
       "3      5000     1.0         0.0   0.0          5      7        1050   \n",
       "4      8080     1.0         0.0   0.0          3      8        1680   \n",
       "\n",
       "  sqft_basement  yr_built  yr_renovated  zipcode      lat     long  \\\n",
       "0           0.0      1955           0.0    98178  47.5112 -122.257   \n",
       "1         400.0      1951        1991.0    98125  47.7210 -122.319   \n",
       "2           0.0      1933           NaN    98028  47.7379 -122.233   \n",
       "3         910.0      1965           0.0    98136  47.5208 -122.393   \n",
       "4           0.0      1987           0.0    98074  47.6168 -122.045   \n",
       "\n",
       "   sqft_living15  sqft_lot15  \n",
       "0           1340        5650  \n",
       "1           1690        7639  \n",
       "2           2720        8062  \n",
       "3           1360        5000  \n",
       "4           1800        7503  "
      ]
     },
     "execution_count": 3,
     "metadata": {},
     "output_type": "execute_result"
    }
   ],
   "source": [
    "#check the first 5 entries in the data\n",
    "df.head()"
   ]
  },
  {
   "cell_type": "code",
   "execution_count": 4,
   "metadata": {
    "hidden": true
   },
   "outputs": [
    {
     "name": "stdout",
     "output_type": "stream",
     "text": [
      "<class 'pandas.core.frame.DataFrame'>\n",
      "RangeIndex: 21597 entries, 0 to 21596\n",
      "Data columns (total 21 columns):\n",
      " #   Column         Non-Null Count  Dtype  \n",
      "---  ------         --------------  -----  \n",
      " 0   id             21597 non-null  int64  \n",
      " 1   date           21597 non-null  object \n",
      " 2   price          21597 non-null  float64\n",
      " 3   bedrooms       21597 non-null  int64  \n",
      " 4   bathrooms      21597 non-null  float64\n",
      " 5   sqft_living    21597 non-null  int64  \n",
      " 6   sqft_lot       21597 non-null  int64  \n",
      " 7   floors         21597 non-null  float64\n",
      " 8   waterfront     19221 non-null  float64\n",
      " 9   view           21534 non-null  float64\n",
      " 10  condition      21597 non-null  int64  \n",
      " 11  grade          21597 non-null  int64  \n",
      " 12  sqft_above     21597 non-null  int64  \n",
      " 13  sqft_basement  21597 non-null  object \n",
      " 14  yr_built       21597 non-null  int64  \n",
      " 15  yr_renovated   17755 non-null  float64\n",
      " 16  zipcode        21597 non-null  int64  \n",
      " 17  lat            21597 non-null  float64\n",
      " 18  long           21597 non-null  float64\n",
      " 19  sqft_living15  21597 non-null  int64  \n",
      " 20  sqft_lot15     21597 non-null  int64  \n",
      "dtypes: float64(8), int64(11), object(2)\n",
      "memory usage: 3.5+ MB\n"
     ]
    }
   ],
   "source": [
    "#check the columns and nulls\n",
    "df.info()"
   ]
  },
  {
   "cell_type": "markdown",
   "metadata": {
    "heading_collapsed": true,
    "hidden": true
   },
   "source": [
    "## Cleaning the Data"
   ]
  },
  {
   "cell_type": "code",
   "execution_count": 5,
   "metadata": {
    "hidden": true
   },
   "outputs": [],
   "source": [
    "#for year renovated, convert any houses that have been renovated to '1' to indicate true\n",
    "#for any nulls, assume no renovation\n",
    "df['yr_renovated'].fillna(0, inplace=True)\n",
    "df['yr_renovated'] = df['yr_renovated'].apply(lambda x: 1 if x > 0 else x)"
   ]
  },
  {
   "cell_type": "code",
   "execution_count": 6,
   "metadata": {
    "hidden": true
   },
   "outputs": [],
   "source": [
    "df.rename(columns={'yr_renovated': 'if_renovated'}, inplace=True)"
   ]
  },
  {
   "cell_type": "code",
   "execution_count": 7,
   "metadata": {
    "hidden": true
   },
   "outputs": [],
   "source": [
    "#for any nulls, assume no waterfront\n",
    "df['waterfront'].fillna(0, inplace=True)"
   ]
  },
  {
   "cell_type": "code",
   "execution_count": 8,
   "metadata": {
    "hidden": true
   },
   "outputs": [],
   "source": [
    "#for any nulls, assume no one viewed the property\n",
    "df['view'].fillna(0, inplace=True)"
   ]
  },
  {
   "cell_type": "code",
   "execution_count": 9,
   "metadata": {
    "hidden": true
   },
   "outputs": [],
   "source": [
    "#clean up sqft_basement and convert to int\n",
    "df['sqft_basement'] = df['sqft_basement'].replace({'?':np.nan}).astype(float)\n",
    "df['sqft_basement'].fillna(df['sqft_living']-df['sqft_above'], inplace=True)"
   ]
  },
  {
   "cell_type": "code",
   "execution_count": 10,
   "metadata": {
    "hidden": true
   },
   "outputs": [],
   "source": [
    "#retrieve the months and year\n",
    "df['month_of_date'] = pd.DatetimeIndex(df['date']).month\n",
    "df['year_of_date'] = pd.DatetimeIndex(df['date']).year"
   ]
  },
  {
   "cell_type": "code",
   "execution_count": 11,
   "metadata": {
    "hidden": true
   },
   "outputs": [],
   "source": [
    "#convert yr_built to age of house by subtracting year the property was sold by the year it was built\n",
    "#to create a more sensible column \n",
    "df['age_of_house'] = df['year_of_date'] - df['yr_built']\n",
    "\n",
    "#drop year of date because years are only 2014 and 2015, and will not impact our predicative model\n",
    "#drop yr_built b/c it is redundant with age_of_house\n",
    "df.drop(columns=['year_of_date'], inplace=True)\n",
    "df.drop(columns=['yr_built'], inplace=True)"
   ]
  },
  {
   "cell_type": "code",
   "execution_count": 12,
   "metadata": {
    "hidden": true
   },
   "outputs": [],
   "source": [
    "#drop duplicates if any\n",
    "df.drop_duplicates(inplace=True)"
   ]
  },
  {
   "cell_type": "code",
   "execution_count": 13,
   "metadata": {
    "hidden": true
   },
   "outputs": [],
   "source": [
    "#drop id and date columns\n",
    "df.drop(columns=['id'], inplace=True)\n",
    "df.drop(columns=['date'], inplace=True)"
   ]
  },
  {
   "cell_type": "code",
   "execution_count": 14,
   "metadata": {
    "hidden": true
   },
   "outputs": [],
   "source": [
    "#reset index\n",
    "df.reset_index(inplace=True, drop=True)"
   ]
  },
  {
   "cell_type": "code",
   "execution_count": 15,
   "metadata": {
    "hidden": true
   },
   "outputs": [],
   "source": [
    "#convert some of the categorical data from floats to ints\n",
    "df['waterfront'] = df['waterfront'].astype(int)\n",
    "df['view'] = df['view'].astype(int)\n",
    "df['sqft_basement'] = df['sqft_basement'].astype(int)\n",
    "df['if_renovated'] = df['if_renovated'].astype(int)"
   ]
  },
  {
   "cell_type": "code",
   "execution_count": 16,
   "metadata": {
    "hidden": true
   },
   "outputs": [
    {
     "name": "stdout",
     "output_type": "stream",
     "text": [
      "<class 'pandas.core.frame.DataFrame'>\n",
      "RangeIndex: 21597 entries, 0 to 21596\n",
      "Data columns (total 20 columns):\n",
      " #   Column         Non-Null Count  Dtype  \n",
      "---  ------         --------------  -----  \n",
      " 0   price          21597 non-null  float64\n",
      " 1   bedrooms       21597 non-null  int64  \n",
      " 2   bathrooms      21597 non-null  float64\n",
      " 3   sqft_living    21597 non-null  int64  \n",
      " 4   sqft_lot       21597 non-null  int64  \n",
      " 5   floors         21597 non-null  float64\n",
      " 6   waterfront     21597 non-null  int32  \n",
      " 7   view           21597 non-null  int32  \n",
      " 8   condition      21597 non-null  int64  \n",
      " 9   grade          21597 non-null  int64  \n",
      " 10  sqft_above     21597 non-null  int64  \n",
      " 11  sqft_basement  21597 non-null  int32  \n",
      " 12  if_renovated   21597 non-null  int32  \n",
      " 13  zipcode        21597 non-null  int64  \n",
      " 14  lat            21597 non-null  float64\n",
      " 15  long           21597 non-null  float64\n",
      " 16  sqft_living15  21597 non-null  int64  \n",
      " 17  sqft_lot15     21597 non-null  int64  \n",
      " 18  month_of_date  21597 non-null  int64  \n",
      " 19  age_of_house   21597 non-null  int64  \n",
      "dtypes: float64(5), int32(4), int64(11)\n",
      "memory usage: 3.0 MB\n"
     ]
    }
   ],
   "source": [
    "#check cleaned data\n",
    "df.info()"
   ]
  },
  {
   "cell_type": "code",
   "execution_count": 17,
   "metadata": {
    "hidden": true
   },
   "outputs": [
    {
     "data": {
      "text/html": [
       "<div>\n",
       "<style scoped>\n",
       "    .dataframe tbody tr th:only-of-type {\n",
       "        vertical-align: middle;\n",
       "    }\n",
       "\n",
       "    .dataframe tbody tr th {\n",
       "        vertical-align: top;\n",
       "    }\n",
       "\n",
       "    .dataframe thead th {\n",
       "        text-align: right;\n",
       "    }\n",
       "</style>\n",
       "<table border=\"1\" class=\"dataframe\">\n",
       "  <thead>\n",
       "    <tr style=\"text-align: right;\">\n",
       "      <th></th>\n",
       "      <th>price</th>\n",
       "      <th>bedrooms</th>\n",
       "      <th>bathrooms</th>\n",
       "      <th>sqft_living</th>\n",
       "      <th>sqft_lot</th>\n",
       "      <th>floors</th>\n",
       "      <th>waterfront</th>\n",
       "      <th>view</th>\n",
       "      <th>condition</th>\n",
       "      <th>grade</th>\n",
       "      <th>sqft_above</th>\n",
       "      <th>sqft_basement</th>\n",
       "      <th>if_renovated</th>\n",
       "      <th>zipcode</th>\n",
       "      <th>lat</th>\n",
       "      <th>long</th>\n",
       "      <th>sqft_living15</th>\n",
       "      <th>sqft_lot15</th>\n",
       "      <th>month_of_date</th>\n",
       "      <th>age_of_house</th>\n",
       "    </tr>\n",
       "  </thead>\n",
       "  <tbody>\n",
       "    <tr>\n",
       "      <th>0</th>\n",
       "      <td>221900.0</td>\n",
       "      <td>3</td>\n",
       "      <td>1.00</td>\n",
       "      <td>1180</td>\n",
       "      <td>5650</td>\n",
       "      <td>1.0</td>\n",
       "      <td>0</td>\n",
       "      <td>0</td>\n",
       "      <td>3</td>\n",
       "      <td>7</td>\n",
       "      <td>1180</td>\n",
       "      <td>0</td>\n",
       "      <td>0</td>\n",
       "      <td>98178</td>\n",
       "      <td>47.5112</td>\n",
       "      <td>-122.257</td>\n",
       "      <td>1340</td>\n",
       "      <td>5650</td>\n",
       "      <td>10</td>\n",
       "      <td>59</td>\n",
       "    </tr>\n",
       "    <tr>\n",
       "      <th>1</th>\n",
       "      <td>538000.0</td>\n",
       "      <td>3</td>\n",
       "      <td>2.25</td>\n",
       "      <td>2570</td>\n",
       "      <td>7242</td>\n",
       "      <td>2.0</td>\n",
       "      <td>0</td>\n",
       "      <td>0</td>\n",
       "      <td>3</td>\n",
       "      <td>7</td>\n",
       "      <td>2170</td>\n",
       "      <td>400</td>\n",
       "      <td>1</td>\n",
       "      <td>98125</td>\n",
       "      <td>47.7210</td>\n",
       "      <td>-122.319</td>\n",
       "      <td>1690</td>\n",
       "      <td>7639</td>\n",
       "      <td>12</td>\n",
       "      <td>63</td>\n",
       "    </tr>\n",
       "    <tr>\n",
       "      <th>2</th>\n",
       "      <td>180000.0</td>\n",
       "      <td>2</td>\n",
       "      <td>1.00</td>\n",
       "      <td>770</td>\n",
       "      <td>10000</td>\n",
       "      <td>1.0</td>\n",
       "      <td>0</td>\n",
       "      <td>0</td>\n",
       "      <td>3</td>\n",
       "      <td>6</td>\n",
       "      <td>770</td>\n",
       "      <td>0</td>\n",
       "      <td>0</td>\n",
       "      <td>98028</td>\n",
       "      <td>47.7379</td>\n",
       "      <td>-122.233</td>\n",
       "      <td>2720</td>\n",
       "      <td>8062</td>\n",
       "      <td>2</td>\n",
       "      <td>82</td>\n",
       "    </tr>\n",
       "    <tr>\n",
       "      <th>3</th>\n",
       "      <td>604000.0</td>\n",
       "      <td>4</td>\n",
       "      <td>3.00</td>\n",
       "      <td>1960</td>\n",
       "      <td>5000</td>\n",
       "      <td>1.0</td>\n",
       "      <td>0</td>\n",
       "      <td>0</td>\n",
       "      <td>5</td>\n",
       "      <td>7</td>\n",
       "      <td>1050</td>\n",
       "      <td>910</td>\n",
       "      <td>0</td>\n",
       "      <td>98136</td>\n",
       "      <td>47.5208</td>\n",
       "      <td>-122.393</td>\n",
       "      <td>1360</td>\n",
       "      <td>5000</td>\n",
       "      <td>12</td>\n",
       "      <td>49</td>\n",
       "    </tr>\n",
       "    <tr>\n",
       "      <th>4</th>\n",
       "      <td>510000.0</td>\n",
       "      <td>3</td>\n",
       "      <td>2.00</td>\n",
       "      <td>1680</td>\n",
       "      <td>8080</td>\n",
       "      <td>1.0</td>\n",
       "      <td>0</td>\n",
       "      <td>0</td>\n",
       "      <td>3</td>\n",
       "      <td>8</td>\n",
       "      <td>1680</td>\n",
       "      <td>0</td>\n",
       "      <td>0</td>\n",
       "      <td>98074</td>\n",
       "      <td>47.6168</td>\n",
       "      <td>-122.045</td>\n",
       "      <td>1800</td>\n",
       "      <td>7503</td>\n",
       "      <td>2</td>\n",
       "      <td>28</td>\n",
       "    </tr>\n",
       "  </tbody>\n",
       "</table>\n",
       "</div>"
      ],
      "text/plain": [
       "      price  bedrooms  bathrooms  sqft_living  sqft_lot  floors  waterfront  \\\n",
       "0  221900.0         3       1.00         1180      5650     1.0           0   \n",
       "1  538000.0         3       2.25         2570      7242     2.0           0   \n",
       "2  180000.0         2       1.00          770     10000     1.0           0   \n",
       "3  604000.0         4       3.00         1960      5000     1.0           0   \n",
       "4  510000.0         3       2.00         1680      8080     1.0           0   \n",
       "\n",
       "   view  condition  grade  sqft_above  sqft_basement  if_renovated  zipcode  \\\n",
       "0     0          3      7        1180              0             0    98178   \n",
       "1     0          3      7        2170            400             1    98125   \n",
       "2     0          3      6         770              0             0    98028   \n",
       "3     0          5      7        1050            910             0    98136   \n",
       "4     0          3      8        1680              0             0    98074   \n",
       "\n",
       "       lat     long  sqft_living15  sqft_lot15  month_of_date  age_of_house  \n",
       "0  47.5112 -122.257           1340        5650             10            59  \n",
       "1  47.7210 -122.319           1690        7639             12            63  \n",
       "2  47.7379 -122.233           2720        8062              2            82  \n",
       "3  47.5208 -122.393           1360        5000             12            49  \n",
       "4  47.6168 -122.045           1800        7503              2            28  "
      ]
     },
     "execution_count": 17,
     "metadata": {},
     "output_type": "execute_result"
    }
   ],
   "source": [
    "df.head()"
   ]
  },
  {
   "cell_type": "markdown",
   "metadata": {
    "heading_collapsed": true
   },
   "source": [
    "# EDA"
   ]
  },
  {
   "cell_type": "markdown",
   "metadata": {
    "heading_collapsed": true,
    "hidden": true
   },
   "source": [
    "### Target: Price"
   ]
  },
  {
   "cell_type": "code",
   "execution_count": 18,
   "metadata": {
    "hidden": true
   },
   "outputs": [
    {
     "data": {
      "image/png": "[encoded data removed]",
      "text/plain": [
       "<Figure size 432x288 with 1 Axes>"
      ]
     },
     "metadata": {
      "needs_background": "light"
     },
     "output_type": "display_data"
    }
   ],
   "source": [
    "#Since price is our target, we will explore first\n",
    "#view distribution of price using histogram\n",
    "df.hist(column=['price'], bins='auto');"
   ]
  },
  {
   "cell_type": "code",
   "execution_count": 19,
   "metadata": {
    "hidden": true
   },
   "outputs": [
    {
     "data": {
      "text/plain": [
       "<AxesSubplot:>"
      ]
     },
     "execution_count": 19,
     "metadata": {},
     "output_type": "execute_result"
    },
    {
     "data": {
      "image/png": "[encoded data removed]",
      "text/plain": [
       "<Figure size 432x288 with 1 Axes>"
      ]
     },
     "metadata": {
      "needs_background": "light"
     },
     "output_type": "display_data"
    }
   ],
   "source": [
    "df.boxplot(column=['price'])"
   ]
  },
  {
   "cell_type": "code",
   "execution_count": 20,
   "metadata": {
    "hidden": true
   },
   "outputs": [],
   "source": [
    "#Because the data is skewed to the right, transform the price data using log\n",
    "df['ln_price'] = np.log(df['price'])"
   ]
  },
  {
   "cell_type": "code",
   "execution_count": 21,
   "metadata": {
    "hidden": true
   },
   "outputs": [
    {
     "data": {
      "image/png": "[encoded data removed]",
      "text/plain": [
       "<Figure size 432x288 with 1 Axes>"
      ]
     },
     "metadata": {
      "needs_background": "light"
     },
     "output_type": "display_data"
    }
   ],
   "source": [
    "#view distribution of log base e for price using histogram\n",
    "df.hist(column=['ln_price'], bins='auto');"
   ]
  },
  {
   "cell_type": "code",
   "execution_count": 22,
   "metadata": {
    "hidden": true
   },
   "outputs": [
    {
     "data": {
      "text/plain": [
       "<AxesSubplot:>"
      ]
     },
     "execution_count": 22,
     "metadata": {},
     "output_type": "execute_result"
    },
    {
     "data": {
      "image/png": "[encoded data removed]",
      "text/plain": [
       "<Figure size 432x288 with 1 Axes>"
      ]
     },
     "metadata": {
      "needs_background": "light"
     },
     "output_type": "display_data"
    }
   ],
   "source": [
    "df.boxplot(column=['ln_price'])"
   ]
  },
  {
   "cell_type": "markdown",
   "metadata": {
    "hidden": true
   },
   "source": [
    "### Predictors: Everything Else"
   ]
  },
  {
   "cell_type": "code",
   "execution_count": 23,
   "metadata": {
    "hidden": true
   },
   "outputs": [],
   "source": [
    "#sns.pairplot(df)"
   ]
  },
  {
   "cell_type": "code",
   "execution_count": 24,
   "metadata": {
    "hidden": true
   },
   "outputs": [
    {
     "data": {
      "text/plain": [
       "Index(['price', 'bedrooms', 'bathrooms', 'sqft_living', 'sqft_lot', 'floors',\n",
       "       'waterfront', 'view', 'condition', 'grade', 'sqft_above',\n",
       "       'sqft_basement', 'if_renovated', 'zipcode', 'lat', 'long',\n",
       "       'sqft_living15', 'sqft_lot15', 'month_of_date', 'age_of_house',\n",
       "       'ln_price'],\n",
       "      dtype='object')"
      ]
     },
     "execution_count": 24,
     "metadata": {},
     "output_type": "execute_result"
    }
   ],
   "source": [
    "df.columns"
   ]
  },
  {
   "cell_type": "code",
   "execution_count": 25,
   "metadata": {
    "hidden": true
   },
   "outputs": [],
   "source": [
    "#based on the pairplot, we can see which data are categorical and which are numeric\n",
    "numeric = ['bedrooms', \n",
    "           'bathrooms', \n",
    "           'sqft_living', \n",
    "           'sqft_lot', \n",
    "           'sqft_above', \n",
    "           'sqft_basement',\n",
    "           'lat', \n",
    "           'long',\n",
    "           'sqft_living15', \n",
    "           'sqft_lot15']\n",
    "\n",
    "categorical = ['floors',\n",
    "               'waterfront', \n",
    "               'view', \n",
    "               'condition', \n",
    "               'grade',\n",
    "               'if_renovated',\n",
    "               'zipcode',\n",
    "               'month_of_date']"
   ]
  },
  {
   "cell_type": "code",
   "execution_count": 26,
   "metadata": {
    "hidden": true
   },
   "outputs": [
    {
     "data": {
      "image/png": "[encoded data removed]",
      "text/plain": [
       "<Figure size 1080x1080 with 2 Axes>"
      ]
     },
     "metadata": {
      "needs_background": "light"
     },
     "output_type": "display_data"
    }
   ],
   "source": [
    "# Create a df with the target as the first column,\n",
    "# then compute the correlation matrix\n",
    "X = df.drop(['price', 'ln_price'], axis = 1)\n",
    "y = df['price']\n",
    "ln_y = df['price']\n",
    "heatmap_data = pd.concat([y, X], axis=1)\n",
    "corr = heatmap_data.corr()\n",
    "\n",
    "# Set up figure and axes\n",
    "fig, ax = plt.subplots(figsize=(15, 15))\n",
    "\n",
    "# Plot a heatmap of the correlation matrix, with both\n",
    "# numbers and colors indicating the correlations\n",
    "sns.heatmap(\n",
    "    # Specifies the data to be plotted\n",
    "    data=corr,\n",
    "    # The mask means we only show half the values,\n",
    "    # instead of showing duplicates. It's optional.\n",
    "    mask=np.triu(np.ones_like(corr, dtype=bool)),\n",
    "    # Specifies that we should use the existing axes\n",
    "    ax=ax,\n",
    "    # Specifies that we want labels, not just colors\n",
    "    annot=True,\n",
    "    # Customizes colorbar appearance\n",
    "    cbar_kws={\"label\": \"Correlation\", \"orientation\": \"horizontal\", \"pad\": .2, \"extend\": \"both\"}\n",
    ")\n",
    "\n",
    "# Customize the plot appearance\n",
    "ax.set_title(\"Heatmap of Correlation Between Attributes and Price\");"
   ]
  },
  {
   "cell_type": "code",
   "execution_count": 27,
   "metadata": {
    "hidden": true
   },
   "outputs": [
    {
     "data": {
      "text/plain": [
       "price            1.000000\n",
       "sqft_living      0.701917\n",
       "grade            0.667951\n",
       "sqft_above       0.605368\n",
       "sqft_living15    0.585241\n",
       "bathrooms        0.525906\n",
       "view             0.393497\n",
       "sqft_basement    0.323799\n",
       "bedrooms         0.308787\n",
       "lat              0.306692\n",
       "waterfront       0.264306\n",
       "floors           0.256804\n",
       "if_renovated     0.117543\n",
       "sqft_lot         0.089876\n",
       "sqft_lot15       0.082845\n",
       "age_of_house     0.053890\n",
       "zipcode          0.053402\n",
       "condition        0.036056\n",
       "long             0.022036\n",
       "month_of_date    0.009928\n",
       "Name: price, dtype: float64"
      ]
     },
     "execution_count": 27,
     "metadata": {},
     "output_type": "execute_result"
    }
   ],
   "source": [
    "#reporting the correlation between price (target) and predictors\n",
    "df.corr()['price'].drop(['ln_price']).map(abs).sort_values(ascending=False)"
   ]
  },
  {
   "cell_type": "code",
   "execution_count": 28,
   "metadata": {
    "hidden": true
   },
   "outputs": [
    {
     "data": {
      "image/png": "[encoded data removed]",
      "text/plain": [
       "<Figure size 1080x1080 with 2 Axes>"
      ]
     },
     "metadata": {
      "needs_background": "light"
     },
     "output_type": "display_data"
    }
   ],
   "source": [
    "# Create a df with the target as the first column,\n",
    "# then compute the correlation matrix\n",
    "X = df.drop(['price', 'ln_price'], axis = 1)\n",
    "ln_y = df['price']\n",
    "heatmap_data = pd.concat([ln_y, X], axis=1)\n",
    "corr = heatmap_data.corr()\n",
    "\n",
    "# Set up figure and axes\n",
    "fig, ax = plt.subplots(figsize=(15, 15))\n",
    "\n",
    "# Plot a heatmap of the correlation matrix, with both\n",
    "# numbers and colors indicating the correlations\n",
    "sns.heatmap(\n",
    "    # Specifies the data to be plotted\n",
    "    data=corr,\n",
    "    # The mask means we only show half the values,\n",
    "    # instead of showing duplicates. It's optional.\n",
    "    mask=np.triu(np.ones_like(corr, dtype=bool)),\n",
    "    # Specifies that we should use the existing axes\n",
    "    ax=ax,\n",
    "    # Specifies that we want labels, not just colors\n",
    "    annot=True,\n",
    "    # Customizes colorbar appearance\n",
    "    cbar_kws={\"label\": \"Correlation\", \"orientation\": \"horizontal\", \"pad\": .2, \"extend\": \"both\"}\n",
    ")\n",
    "\n",
    "# Customize the plot appearance\n",
    "ax.set_title(\"Heatmap of Correlation Between Attributes and Price\");"
   ]
  },
  {
   "cell_type": "code",
   "execution_count": 29,
   "metadata": {
    "hidden": true
   },
   "outputs": [
    {
     "data": {
      "text/plain": [
       "ln_price         1.000000\n",
       "grade            0.703720\n",
       "sqft_living      0.695185\n",
       "sqft_living15    0.619326\n",
       "sqft_above       0.601579\n",
       "bathrooms        0.551249\n",
       "lat              0.448837\n",
       "view             0.344653\n",
       "bedrooms         0.343360\n",
       "sqft_basement    0.316920\n",
       "floors           0.310630\n",
       "waterfront       0.170720\n",
       "if_renovated     0.106528\n",
       "sqft_lot         0.100025\n",
       "sqft_lot15       0.092281\n",
       "age_of_house     0.080499\n",
       "long             0.050862\n",
       "condition        0.038918\n",
       "zipcode          0.038788\n",
       "month_of_date    0.013064\n",
       "Name: ln_price, dtype: float64"
      ]
     },
     "execution_count": 29,
     "metadata": {},
     "output_type": "execute_result"
    }
   ],
   "source": [
    "#reporting the correlation between ln price (target) and predictors\n",
    "df.corr()['ln_price'].drop(['price']).map(abs).sort_values(ascending=False)"
   ]
  },
  {
   "cell_type": "markdown",
   "metadata": {},
   "source": [
    "### Declaring Funcitons:"
   ]
  },
  {
   "cell_type": "code",
   "execution_count": 30,
   "metadata": {},
   "outputs": [],
   "source": [
    "def cross_val(model,X=X,y=ln_y,cv=[10]):\n",
    "    return {x:(np.median(cross_val_score(model,X,y,cv=x)),np.std(cross_val_score(model,X,ln_y,cv=x))) for x in cv}"
   ]
  },
  {
   "cell_type": "markdown",
   "metadata": {},
   "source": [
    "# Baseline Model"
   ]
  },
  {
   "cell_type": "markdown",
   "metadata": {
    "heading_collapsed": true
   },
   "source": [
    "## Baseline: Data Manipulation"
   ]
  },
  {
   "cell_type": "code",
   "execution_count": 31,
   "metadata": {
    "hidden": true
   },
   "outputs": [],
   "source": [
    "#create a new df based on the cleaned df\n",
    "bdf = df\n",
    "\n",
    "#dummying categorical \n",
    "bdf = pd.get_dummies(bdf, prefix=categorical, prefix_sep='_', columns=categorical, drop_first=True)\n",
    "\n",
    "#remove any periods from column names after dummying the data\n",
    "modified_cols = []\n",
    "for column in bdf.columns:\n",
    "    modified_cols.append(column.replace(\".\", \"_\"))\n",
    "bdf.columns = modified_cols"
   ]
  },
  {
   "cell_type": "markdown",
   "metadata": {},
   "source": [
    "## Baseline: Training and Testing"
   ]
  },
  {
   "cell_type": "code",
   "execution_count": 32,
   "metadata": {},
   "outputs": [],
   "source": [
    "#create the appropriate x and y data sets\n",
    "X = bdf.drop(['price','ln_price'], axis = 1)\n",
    "y = bdf['price']\n",
    "ln_y = bdf['ln_price']\n",
    "\n",
    "#standardizing X values\n",
    "ss = StandardScaler()\n",
    "ss.fit(X)\n",
    "X_scaled = pd.DataFrame(ss.transform(X))\n",
    "X_scaled.columns = X.columns\n",
    "\n",
    "#create the training and testing samples for both the price and ln_price data\n",
    "X_train1, X_test1, y_train, y_test = train_test_split(X_scaled, y, test_size=0.20, random_state=42)\n",
    "X_train2, X_test2, ln_y_train, ln_y_test = train_test_split(X_scaled, ln_y, test_size=0.20, random_state=42)"
   ]
  },
  {
   "cell_type": "code",
   "execution_count": 33,
   "metadata": {},
   "outputs": [],
   "source": [
    "#instatiate a splitter with n_splits = 10\n",
    "splitter = ShuffleSplit(n_splits=10, test_size=0.25, random_state=0)"
   ]
  },
  {
   "cell_type": "code",
   "execution_count": 34,
   "metadata": {},
   "outputs": [
    {
     "name": "stdout",
     "output_type": "stream",
     "text": [
      "Train score:      0.0\n",
      "Validation score: -0.00015617879540075208\n"
     ]
    }
   ],
   "source": [
    "#create a dummy regressor model based on the target as price\n",
    "baseline_model = DummyRegressor(strategy='mean')\n",
    "baseline_model.fit(X_train1,y_train)\n",
    "\n",
    "#setting up cross validation for price in a different way (x3)\n",
    "baseline_scores = cross_validate(\n",
    "    estimator=baseline_model,\n",
    "    X=X_train1,\n",
    "    y=y_train,\n",
    "    return_train_score=True,\n",
    "    cv=splitter\n",
    ")\n",
    "\n",
    "print(\"Train score:     \", np.median(baseline_scores[\"train_score\"]))\n",
    "print(\"Validation score:\", np.median(baseline_scores[\"test_score\"]))"
   ]
  },
  {
   "cell_type": "code",
   "execution_count": 35,
   "metadata": {},
   "outputs": [
    {
     "name": "stdout",
     "output_type": "stream",
     "text": [
      "Train score:      0.0\n",
      "Validation score: -5.123718752975126e-05\n"
     ]
    }
   ],
   "source": [
    "#create a dummy regressor model based on the target as price\n",
    "baseline_ln_model = DummyRegressor(strategy='mean')\n",
    "baseline_ln_model.fit(X_train2,ln_y_train)\n",
    "\n",
    "#setting up cross validation for ln price in a different way (x3)\n",
    "baseline_ln_scores = cross_validate(\n",
    "    estimator=baseline_ln_model,\n",
    "    X=X_train2,\n",
    "    y=ln_y_train,\n",
    "    return_train_score=True,\n",
    "    cv=splitter\n",
    ")\n",
    "\n",
    "print(\"Train score:     \", np.median(baseline_ln_scores[\"train_score\"]))\n",
    "print(\"Validation score:\", np.median(baseline_ln_scores[\"test_score\"]))"
   ]
  },
  {
   "cell_type": "code",
   "execution_count": 36,
   "metadata": {},
   "outputs": [
    {
     "name": "stdout",
     "output_type": "stream",
     "text": [
      "Baseline model train score: 0.0\n",
      "Baseline model test score: -0.00028681792529150485\n",
      "\n",
      "Baseline model train ln score: 0.0\n",
      "Baseline model test ln score: -0.00021849595245027054\n"
     ]
    }
   ],
   "source": [
    "#find the test score using the dummy regression model\n",
    "baseline_train_score = baseline_model.score(X_train1, y_train)\n",
    "baseline_ln_train_score = baseline_ln_model.score(X_train2, ln_y_train)\n",
    "baseline_test_score = baseline_model.score(X_test1, y_test)\n",
    "baseline_ln_test_score = baseline_ln_model.score(X_test2, ln_y_test)\n",
    "\n",
    "print(\"Baseline model train score:\", baseline_train_score)\n",
    "print(\"Baseline model test score:\", baseline_test_score)\n",
    "print()\n",
    "print(\"Baseline model train ln score:\", baseline_ln_train_score)\n",
    "print(\"Baseline model test ln score:\", baseline_ln_test_score)"
   ]
  },
  {
   "cell_type": "markdown",
   "metadata": {},
   "source": [
    "We find that the baseline model R-squared value is approximately 0."
   ]
  },
  {
   "cell_type": "code",
   "execution_count": 37,
   "metadata": {},
   "outputs": [
    {
     "data": {
      "text/plain": [
       "{5: (-0.0009421477835616088, 0.007097926007301168),\n",
       " 10: (-0.00047767087685191, 0.019009790469435767),\n",
       " 20: (-0.0005236702412061423, 0.017143887472283834)}"
      ]
     },
     "execution_count": 37,
     "metadata": {},
     "output_type": "execute_result"
    }
   ],
   "source": [
    "cross_val(baseline_model,cv=[5,10,20])"
   ]
  },
  {
   "cell_type": "markdown",
   "metadata": {
    "heading_collapsed": true
   },
   "source": [
    "# Model 1"
   ]
  },
  {
   "cell_type": "markdown",
   "metadata": {
    "hidden": true
   },
   "source": [
    "Model 1 uses a multiple linear regression model of the data using all parameters, including the dummied out categorical parameters."
   ]
  },
  {
   "cell_type": "markdown",
   "metadata": {
    "heading_collapsed": true,
    "hidden": true
   },
   "source": [
    "## Model 1: Data Manipulation"
   ]
  },
  {
   "cell_type": "code",
   "execution_count": 38,
   "metadata": {
    "hidden": true
   },
   "outputs": [],
   "source": [
    "#create a new df based on the cleaned df\n",
    "m1df = df\n",
    "\n",
    "#dummying categorical \n",
    "m1df = pd.get_dummies(m1df, prefix=categorical, prefix_sep='_', columns=categorical, drop_first=True)\n",
    "\n",
    "#remove any periods from column names after dummying the data\n",
    "modified_cols = []\n",
    "for column in m1df.columns:\n",
    "    modified_cols.append(column.replace(\".\", \"_\"))\n",
    "m1df.columns = modified_cols"
   ]
  },
  {
   "cell_type": "markdown",
   "metadata": {
    "heading_collapsed": true,
    "hidden": true
   },
   "source": [
    "## Model 1: Training and Testing"
   ]
  },
  {
   "cell_type": "code",
   "execution_count": 39,
   "metadata": {
    "hidden": true
   },
   "outputs": [],
   "source": [
    "#create the appropriate x and y data sets\n",
    "X = m1df.drop(['price','ln_price'], axis = 1)\n",
    "y = m1df['price']\n",
    "ln_y = m1df['ln_price']\n",
    "\n",
    "#standardizing X values\n",
    "ss = StandardScaler()\n",
    "ss.fit(X)\n",
    "X_scaled = pd.DataFrame(ss.transform(X))\n",
    "X_scaled.columns = X.columns\n",
    "\n",
    "#create the training and testing samples for both the price and ln_price data\n",
    "X_train1, X_test1, y_train, y_test = train_test_split(X_scaled, y, test_size=0.20, random_state=42)\n",
    "X_train2, X_test2, ln_y_train, ln_y_test = train_test_split(X_scaled, ln_y, test_size=0.20, random_state=42)"
   ]
  },
  {
   "cell_type": "code",
   "execution_count": 40,
   "metadata": {
    "hidden": true
   },
   "outputs": [],
   "source": [
    "#instatiate a splitter with n_splits = 10\n",
    "splitter = ShuffleSplit(n_splits=10, test_size=0.25, random_state=0)"
   ]
  },
  {
   "cell_type": "code",
   "execution_count": 41,
   "metadata": {
    "hidden": true
   },
   "outputs": [
    {
     "name": "stdout",
     "output_type": "stream",
     "text": [
      "Train score:      0.8439076114810683\n",
      "Validation score: 0.8308942703795275\n"
     ]
    }
   ],
   "source": [
    "#create linear regression model for price and setting up cross validation \n",
    "m1df_model = LinearRegression()\n",
    "m1df_model.fit(X_train1, y_train)\n",
    "\n",
    "#setting up cross validation for price in a different way \n",
    "m1df_scores = cross_validate(\n",
    "    estimator=m1df_model,\n",
    "    X=X_train1,\n",
    "    y=y_train,\n",
    "    return_train_score=True,\n",
    "    cv=splitter\n",
    ")\n",
    "\n",
    "print(\"Train score:     \", np.median(m1df_scores[\"train_score\"]))\n",
    "print(\"Validation score:\", np.median(m1df_scores[\"test_score\"]))"
   ]
  },
  {
   "cell_type": "code",
   "execution_count": 42,
   "metadata": {
    "hidden": true
   },
   "outputs": [
    {
     "name": "stdout",
     "output_type": "stream",
     "text": [
      "Train score:      0.8826943413064616\n",
      "Validation score: 0.8796353656029774\n"
     ]
    }
   ],
   "source": [
    "#create linear regression model for ln price and setting up cross validation (x3)\n",
    "m1df_ln_model = LinearRegression()\n",
    "m1df_ln_model.fit(X_train2, ln_y_train)\n",
    "\n",
    "#setting up cross validation for ln price in a different way (x3)\n",
    "ln_scores = cross_validate(\n",
    "    estimator=m1df_ln_model,\n",
    "    X=X_train2,\n",
    "    y=ln_y_train,\n",
    "    return_train_score=True,\n",
    "    cv=splitter\n",
    ")\n",
    "\n",
    "print(\"Train score:     \", np.median(ln_scores[\"train_score\"]))\n",
    "print(\"Validation score:\", np.median(ln_scores[\"test_score\"]))"
   ]
  },
  {
   "cell_type": "code",
   "execution_count": 43,
   "metadata": {
    "hidden": true,
    "scrolled": true
   },
   "outputs": [
    {
     "name": "stdout",
     "output_type": "stream",
     "text": [
      "m1df model train score: 0.8429429922259738\n",
      "m1df model test score: 0.8102223927114361\n",
      "score varied by 4.0 %\n",
      "\n",
      "m1df ln model train score: 0.8824554130032448\n",
      "m1df ln model test score: 0.8798250920810333\n",
      "score varied by 0.0 %\n"
     ]
    }
   ],
   "source": [
    "#find the test score using the linear model\n",
    "m1df_train_score = m1df_model.score(X_train1, y_train)\n",
    "m1df_ln_train_score = m1df_ln_model.score(X_train2, ln_y_train)\n",
    "m1df_test_score = m1df_model.score(X_test1, y_test)\n",
    "m1df_ln_test_score = m1df_ln_model.score(X_test2, ln_y_test)\n",
    "\n",
    "print(\"m1df model train score:\", m1df_train_score)\n",
    "print(\"m1df model test score:\", m1df_test_score)\n",
    "print(\"score varied by\", round(abs(m1df_test_score - m1df_train_score)/m1df_train_score*100),\"%\")\n",
    "print()\n",
    "print(\"m1df ln model train score:\", m1df_ln_train_score)\n",
    "print(\"m1df ln model test score:\", m1df_ln_test_score)\n",
    "print(\"score varied by\", round(abs(m1df_ln_test_score - m1df_ln_train_score)/m1df_ln_train_score*100),\"%\")"
   ]
  },
  {
   "cell_type": "markdown",
   "metadata": {
    "hidden": true
   },
   "source": [
    "We see that Model 1 outputted a higher R-squared value than the Baseline model between 0.8 and 0.9. In addition, Model 1 train and test scores varied by < 5%. The model that used the log-transformed price data had a higher R-squared value than the untransformed price data model."
   ]
  },
  {
   "cell_type": "code",
   "execution_count": 44,
   "metadata": {},
   "outputs": [
    {
     "data": {
      "text/plain": [
       "{5: (0.8774519056500676, 5.111610392130009),\n",
       " 10: (0.8773037771873611, 13.55338409117993),\n",
       " 20: (0.8803737963663083, 110.92348889680716)}"
      ]
     },
     "execution_count": 44,
     "metadata": {},
     "output_type": "execute_result"
    }
   ],
   "source": [
    "check = [5,10,20]\n",
    "m1_cross_results = {x:\n",
    "           (np.median(cross_val_score(m1df_ln_model,X,ln_y,cv=x)),np.std(cross_val_score(m1df_ln_model,X,ln_y,cv=x))) \n",
    "           for x in check}\n",
    "m1_cross_results"
   ]
  },
  {
   "cell_type": "markdown",
   "metadata": {
    "heading_collapsed": true,
    "hidden": true
   },
   "source": [
    "## Model 1: OLS"
   ]
  },
  {
   "cell_type": "code",
   "execution_count": 45,
   "metadata": {
    "hidden": true
   },
   "outputs": [],
   "source": [
    "#set target\n",
    "target = 'price'\n",
    "ln_target = 'ln_price'\n",
    "\n",
    "#concate the X and y of the train tests to apply the OLS to the full train data\n",
    "train_df = pd.concat([X_train1,y_train], axis=1)\n",
    "train_ln_df = pd.concat([X_train2,ln_y_train], axis=1)\n",
    "\n",
    "#join the column names with \"+\"\n",
    "columns = \"+\".join(train_df.drop(['price'], axis=1).columns)\n",
    "columns_ln = \"+\".join(train_ln_df.drop(['ln_price'], axis=1).columns)"
   ]
  },
  {
   "cell_type": "code",
   "execution_count": 46,
   "metadata": {
    "hidden": true
   },
   "outputs": [],
   "source": [
    "#set formulas\n",
    "formula = target + '~' + columns\n",
    "ln_formula = ln_target + '~' +columns"
   ]
  },
  {
   "cell_type": "code",
   "execution_count": 47,
   "metadata": {
    "hidden": true
   },
   "outputs": [],
   "source": [
    "#create the OLS\n",
    "m1df_ols = ols(formula, train_df).fit()\n",
    "m1df_ln_ols = ols(ln_formula, train_ln_df).fit()"
   ]
  },
  {
   "cell_type": "code",
   "execution_count": 48,
   "metadata": {
    "hidden": true
   },
   "outputs": [
    {
     "data": {
      "text/html": [
       "<table class=\"simpletable\">\n",
       "<caption>OLS Regression Results</caption>\n",
       "<tr>\n",
       "  <th>Dep. Variable:</th>          <td>price</td>      <th>  R-squared:         </th>  <td>   0.843</td>  \n",
       "</tr>\n",
       "<tr>\n",
       "  <th>Model:</th>                   <td>OLS</td>       <th>  Adj. R-squared:    </th>  <td>   0.842</td>  \n",
       "</tr>\n",
       "<tr>\n",
       "  <th>Method:</th>             <td>Least Squares</td>  <th>  F-statistic:       </th>  <td>   800.9</td>  \n",
       "</tr>\n",
       "<tr>\n",
       "  <th>Date:</th>             <td>Tue, 13 Jul 2021</td> <th>  Prob (F-statistic):</th>   <td>  0.00</td>   \n",
       "</tr>\n",
       "<tr>\n",
       "  <th>Time:</th>                 <td>18:13:43</td>     <th>  Log-Likelihood:    </th> <td>-2.2999e+05</td>\n",
       "</tr>\n",
       "<tr>\n",
       "  <th>No. Observations:</th>      <td> 17277</td>      <th>  AIC:               </th>  <td>4.602e+05</td> \n",
       "</tr>\n",
       "<tr>\n",
       "  <th>Df Residuals:</th>          <td> 17161</td>      <th>  BIC:               </th>  <td>4.611e+05</td> \n",
       "</tr>\n",
       "<tr>\n",
       "  <th>Df Model:</th>              <td>   115</td>      <th>                     </th>      <td> </td>     \n",
       "</tr>\n",
       "<tr>\n",
       "  <th>Covariance Type:</th>      <td>nonrobust</td>    <th>                     </th>      <td> </td>     \n",
       "</tr>\n",
       "</table>\n",
       "<table class=\"simpletable\">\n",
       "<tr>\n",
       "          <td></td>            <th>coef</th>     <th>std err</th>      <th>t</th>      <th>P>|t|</th>  <th>[0.025</th>    <th>0.975]</th>  \n",
       "</tr>\n",
       "<tr>\n",
       "  <th>Intercept</th>        <td> 5.407e+05</td> <td> 1116.969</td> <td>  484.115</td> <td> 0.000</td> <td> 5.39e+05</td> <td> 5.43e+05</td>\n",
       "</tr>\n",
       "<tr>\n",
       "  <th>bedrooms</th>         <td>-1.221e+04</td> <td> 1557.682</td> <td>   -7.842</td> <td> 0.000</td> <td>-1.53e+04</td> <td>-9161.759</td>\n",
       "</tr>\n",
       "<tr>\n",
       "  <th>bathrooms</th>        <td> 1.926e+04</td> <td> 2103.132</td> <td>    9.160</td> <td> 0.000</td> <td> 1.51e+04</td> <td> 2.34e+04</td>\n",
       "</tr>\n",
       "<tr>\n",
       "  <th>sqft_living</th>      <td> 6.975e+04</td> <td> 1400.426</td> <td>   49.803</td> <td> 0.000</td> <td>  6.7e+04</td> <td> 7.25e+04</td>\n",
       "</tr>\n",
       "<tr>\n",
       "  <th>sqft_lot</th>         <td> 1.008e+04</td> <td> 1659.265</td> <td>    6.077</td> <td> 0.000</td> <td> 6831.754</td> <td> 1.33e+04</td>\n",
       "</tr>\n",
       "<tr>\n",
       "  <th>sqft_above</th>       <td> 6.891e+04</td> <td> 1541.213</td> <td>   44.714</td> <td> 0.000</td> <td> 6.59e+04</td> <td> 7.19e+04</td>\n",
       "</tr>\n",
       "<tr>\n",
       "  <th>sqft_basement</th>    <td> 1.579e+04</td> <td> 1329.620</td> <td>   11.876</td> <td> 0.000</td> <td> 1.32e+04</td> <td> 1.84e+04</td>\n",
       "</tr>\n",
       "<tr>\n",
       "  <th>lat</th>              <td> 3.454e+04</td> <td> 8977.194</td> <td>    3.847</td> <td> 0.000</td> <td> 1.69e+04</td> <td> 5.21e+04</td>\n",
       "</tr>\n",
       "<tr>\n",
       "  <th>long</th>             <td> -2.68e+04</td> <td> 6467.044</td> <td>   -4.143</td> <td> 0.000</td> <td>-3.95e+04</td> <td>-1.41e+04</td>\n",
       "</tr>\n",
       "<tr>\n",
       "  <th>sqft_living15</th>    <td> 1.515e+04</td> <td> 2062.445</td> <td>    7.345</td> <td> 0.000</td> <td> 1.11e+04</td> <td> 1.92e+04</td>\n",
       "</tr>\n",
       "<tr>\n",
       "  <th>sqft_lot15</th>       <td>-4862.8288</td> <td> 1687.210</td> <td>   -2.882</td> <td> 0.004</td> <td>-8169.933</td> <td>-1555.725</td>\n",
       "</tr>\n",
       "<tr>\n",
       "  <th>age_of_house</th>     <td> 5145.3227</td> <td> 2105.890</td> <td>    2.443</td> <td> 0.015</td> <td> 1017.563</td> <td> 9273.082</td>\n",
       "</tr>\n",
       "<tr>\n",
       "  <th>floors_1_5</th>       <td>-2152.6457</td> <td> 1289.724</td> <td>   -1.669</td> <td> 0.095</td> <td>-4680.636</td> <td>  375.344</td>\n",
       "</tr>\n",
       "<tr>\n",
       "  <th>floors_2_0</th>       <td>-1.427e+04</td> <td> 1869.735</td> <td>   -7.632</td> <td> 0.000</td> <td>-1.79e+04</td> <td>-1.06e+04</td>\n",
       "</tr>\n",
       "<tr>\n",
       "  <th>floors_2_5</th>       <td> 3920.5053</td> <td> 1188.401</td> <td>    3.299</td> <td> 0.001</td> <td> 1591.119</td> <td> 6249.892</td>\n",
       "</tr>\n",
       "<tr>\n",
       "  <th>floors_3_0</th>       <td>-1.237e+04</td> <td> 1400.768</td> <td>   -8.832</td> <td> 0.000</td> <td>-1.51e+04</td> <td>-9625.826</td>\n",
       "</tr>\n",
       "<tr>\n",
       "  <th>floors_3_5</th>       <td>  -18.1732</td> <td> 1005.949</td> <td>   -0.018</td> <td> 0.986</td> <td>-1989.937</td> <td> 1953.591</td>\n",
       "</tr>\n",
       "<tr>\n",
       "  <th>waterfront_1</th>     <td> 4.769e+04</td> <td> 1377.369</td> <td>   34.622</td> <td> 0.000</td> <td>  4.5e+04</td> <td> 5.04e+04</td>\n",
       "</tr>\n",
       "<tr>\n",
       "  <th>view_1</th>           <td> 1.208e+04</td> <td> 1163.189</td> <td>   10.384</td> <td> 0.000</td> <td> 9798.418</td> <td> 1.44e+04</td>\n",
       "</tr>\n",
       "<tr>\n",
       "  <th>view_2</th>           <td>  1.34e+04</td> <td> 1186.007</td> <td>   11.297</td> <td> 0.000</td> <td> 1.11e+04</td> <td> 1.57e+04</td>\n",
       "</tr>\n",
       "<tr>\n",
       "  <th>view_3</th>           <td> 2.377e+04</td> <td> 1199.786</td> <td>   19.814</td> <td> 0.000</td> <td> 2.14e+04</td> <td> 2.61e+04</td>\n",
       "</tr>\n",
       "<tr>\n",
       "  <th>view_4</th>           <td> 3.632e+04</td> <td> 1390.271</td> <td>   26.126</td> <td> 0.000</td> <td> 3.36e+04</td> <td>  3.9e+04</td>\n",
       "</tr>\n",
       "<tr>\n",
       "  <th>condition_2</th>      <td> 6078.4443</td> <td> 3199.628</td> <td>    1.900</td> <td> 0.057</td> <td> -193.153</td> <td> 1.24e+04</td>\n",
       "</tr>\n",
       "<tr>\n",
       "  <th>condition_3</th>      <td> 3.393e+04</td> <td> 1.63e+04</td> <td>    2.085</td> <td> 0.037</td> <td> 2025.980</td> <td> 6.58e+04</td>\n",
       "</tr>\n",
       "<tr>\n",
       "  <th>condition_4</th>      <td> 4.333e+04</td> <td>  1.5e+04</td> <td>    2.884</td> <td> 0.004</td> <td> 1.39e+04</td> <td> 7.28e+04</td>\n",
       "</tr>\n",
       "<tr>\n",
       "  <th>condition_5</th>      <td>  3.95e+04</td> <td> 9235.649</td> <td>    4.277</td> <td> 0.000</td> <td> 2.14e+04</td> <td> 5.76e+04</td>\n",
       "</tr>\n",
       "<tr>\n",
       "  <th>grade_4</th>          <td>-4718.7667</td> <td> 5339.272</td> <td>   -0.884</td> <td> 0.377</td> <td>-1.52e+04</td> <td> 5746.752</td>\n",
       "</tr>\n",
       "<tr>\n",
       "  <th>grade_5</th>          <td>-1.398e+04</td> <td> 1.55e+04</td> <td>   -0.900</td> <td> 0.368</td> <td>-4.44e+04</td> <td> 1.65e+04</td>\n",
       "</tr>\n",
       "<tr>\n",
       "  <th>grade_6</th>          <td>-4.238e+04</td> <td> 4.31e+04</td> <td>   -0.984</td> <td> 0.325</td> <td>-1.27e+05</td> <td>  4.2e+04</td>\n",
       "</tr>\n",
       "<tr>\n",
       "  <th>grade_7</th>          <td>-6.928e+04</td> <td> 7.26e+04</td> <td>   -0.954</td> <td> 0.340</td> <td>-2.12e+05</td> <td>  7.3e+04</td>\n",
       "</tr>\n",
       "<tr>\n",
       "  <th>grade_8</th>          <td>-5.313e+04</td> <td> 6.62e+04</td> <td>   -0.802</td> <td> 0.422</td> <td>-1.83e+05</td> <td> 7.67e+04</td>\n",
       "</tr>\n",
       "<tr>\n",
       "  <th>grade_9</th>          <td>-1.448e+04</td> <td> 4.81e+04</td> <td>   -0.301</td> <td> 0.763</td> <td>-1.09e+05</td> <td> 7.98e+04</td>\n",
       "</tr>\n",
       "<tr>\n",
       "  <th>grade_10</th>         <td> 1.706e+04</td> <td> 3.29e+04</td> <td>    0.518</td> <td> 0.604</td> <td>-4.75e+04</td> <td> 8.16e+04</td>\n",
       "</tr>\n",
       "<tr>\n",
       "  <th>grade_11</th>         <td> 3.645e+04</td> <td> 1.99e+04</td> <td>    1.831</td> <td> 0.067</td> <td>-2566.101</td> <td> 7.55e+04</td>\n",
       "</tr>\n",
       "<tr>\n",
       "  <th>grade_12</th>         <td> 4.392e+04</td> <td> 9532.155</td> <td>    4.607</td> <td> 0.000</td> <td> 2.52e+04</td> <td> 6.26e+04</td>\n",
       "</tr>\n",
       "<tr>\n",
       "  <th>grade_13</th>         <td>  4.85e+04</td> <td> 3796.316</td> <td>   12.774</td> <td> 0.000</td> <td> 4.11e+04</td> <td> 5.59e+04</td>\n",
       "</tr>\n",
       "<tr>\n",
       "  <th>if_renovated_1</th>   <td> 1.038e+04</td> <td> 1201.430</td> <td>    8.637</td> <td> 0.000</td> <td> 8022.250</td> <td> 1.27e+04</td>\n",
       "</tr>\n",
       "<tr>\n",
       "  <th>zipcode_98002</th>    <td> 2085.3796</td> <td> 1440.641</td> <td>    1.448</td> <td> 0.148</td> <td> -738.424</td> <td> 4909.183</td>\n",
       "</tr>\n",
       "<tr>\n",
       "  <th>zipcode_98003</th>    <td> -208.0911</td> <td> 1509.586</td> <td>   -0.138</td> <td> 0.890</td> <td>-3167.034</td> <td> 2750.852</td>\n",
       "</tr>\n",
       "<tr>\n",
       "  <th>zipcode_98004</th>    <td> 8.105e+04</td> <td> 2890.779</td> <td>   28.037</td> <td> 0.000</td> <td> 7.54e+04</td> <td> 8.67e+04</td>\n",
       "</tr>\n",
       "<tr>\n",
       "  <th>zipcode_98005</th>    <td> 2.244e+04</td> <td> 2252.658</td> <td>    9.962</td> <td> 0.000</td> <td>  1.8e+04</td> <td> 2.69e+04</td>\n",
       "</tr>\n",
       "<tr>\n",
       "  <th>zipcode_98006</th>    <td> 3.155e+04</td> <td> 3164.611</td> <td>    9.969</td> <td> 0.000</td> <td> 2.53e+04</td> <td> 3.77e+04</td>\n",
       "</tr>\n",
       "<tr>\n",
       "  <th>zipcode_98007</th>    <td> 1.686e+04</td> <td> 2138.511</td> <td>    7.882</td> <td> 0.000</td> <td> 1.27e+04</td> <td>  2.1e+04</td>\n",
       "</tr>\n",
       "<tr>\n",
       "  <th>zipcode_98008</th>    <td> 2.507e+04</td> <td> 2850.311</td> <td>    8.795</td> <td> 0.000</td> <td> 1.95e+04</td> <td> 3.07e+04</td>\n",
       "</tr>\n",
       "<tr>\n",
       "  <th>zipcode_98010</th>    <td> 6953.7451</td> <td> 1508.254</td> <td>    4.610</td> <td> 0.000</td> <td> 3997.413</td> <td> 9910.077</td>\n",
       "</tr>\n",
       "<tr>\n",
       "  <th>zipcode_98011</th>    <td> 4050.5407</td> <td> 3100.182</td> <td>    1.307</td> <td> 0.191</td> <td>-2026.133</td> <td> 1.01e+04</td>\n",
       "</tr>\n",
       "<tr>\n",
       "  <th>zipcode_98014</th>    <td> 7082.7766</td> <td> 2695.861</td> <td>    2.627</td> <td> 0.009</td> <td> 1798.614</td> <td> 1.24e+04</td>\n",
       "</tr>\n",
       "<tr>\n",
       "  <th>zipcode_98019</th>    <td> 4906.1376</td> <td> 3304.122</td> <td>    1.485</td> <td> 0.138</td> <td>-1570.279</td> <td> 1.14e+04</td>\n",
       "</tr>\n",
       "<tr>\n",
       "  <th>zipcode_98022</th>    <td> 7745.8288</td> <td> 2030.093</td> <td>    3.816</td> <td> 0.000</td> <td> 3766.638</td> <td> 1.17e+04</td>\n",
       "</tr>\n",
       "<tr>\n",
       "  <th>zipcode_98023</th>    <td>-5910.7811</td> <td> 1823.289</td> <td>   -3.242</td> <td> 0.001</td> <td>-9484.614</td> <td>-2336.948</td>\n",
       "</tr>\n",
       "<tr>\n",
       "  <th>zipcode_98024</th>    <td> 1.024e+04</td> <td> 1884.241</td> <td>    5.437</td> <td> 0.000</td> <td> 6551.161</td> <td> 1.39e+04</td>\n",
       "</tr>\n",
       "<tr>\n",
       "  <th>zipcode_98027</th>    <td> 2.192e+04</td> <td> 2923.161</td> <td>    7.499</td> <td> 0.000</td> <td> 1.62e+04</td> <td> 2.76e+04</td>\n",
       "</tr>\n",
       "<tr>\n",
       "  <th>zipcode_98028</th>    <td> 3048.9516</td> <td> 3626.330</td> <td>    0.841</td> <td> 0.400</td> <td>-4059.027</td> <td> 1.02e+04</td>\n",
       "</tr>\n",
       "<tr>\n",
       "  <th>zipcode_98029</th>    <td>  2.62e+04</td> <td> 2966.483</td> <td>    8.831</td> <td> 0.000</td> <td> 2.04e+04</td> <td>  3.2e+04</td>\n",
       "</tr>\n",
       "<tr>\n",
       "  <th>zipcode_98030</th>    <td> 1033.5471</td> <td> 1588.784</td> <td>    0.651</td> <td> 0.515</td> <td>-2080.632</td> <td> 4147.726</td>\n",
       "</tr>\n",
       "<tr>\n",
       "  <th>zipcode_98031</th>    <td> 1439.5040</td> <td> 1687.204</td> <td>    0.853</td> <td> 0.394</td> <td>-1867.588</td> <td> 4746.596</td>\n",
       "</tr>\n",
       "<tr>\n",
       "  <th>zipcode_98032</th>    <td> -562.6452</td> <td> 1337.818</td> <td>   -0.421</td> <td> 0.674</td> <td>-3184.904</td> <td> 2059.614</td>\n",
       "</tr>\n",
       "<tr>\n",
       "  <th>zipcode_98033</th>    <td> 4.015e+04</td> <td> 3825.104</td> <td>   10.496</td> <td> 0.000</td> <td> 3.27e+04</td> <td> 4.76e+04</td>\n",
       "</tr>\n",
       "<tr>\n",
       "  <th>zipcode_98034</th>    <td> 1.845e+04</td> <td> 4582.098</td> <td>    4.026</td> <td> 0.000</td> <td> 9468.059</td> <td> 2.74e+04</td>\n",
       "</tr>\n",
       "<tr>\n",
       "  <th>zipcode_98038</th>    <td> 1.111e+04</td> <td> 2650.080</td> <td>    4.193</td> <td> 0.000</td> <td> 5916.748</td> <td> 1.63e+04</td>\n",
       "</tr>\n",
       "<tr>\n",
       "  <th>zipcode_98039</th>    <td> 5.682e+04</td> <td> 1529.482</td> <td>   37.151</td> <td> 0.000</td> <td> 5.38e+04</td> <td> 5.98e+04</td>\n",
       "</tr>\n",
       "<tr>\n",
       "  <th>zipcode_98040</th>    <td> 5.254e+04</td> <td> 2419.673</td> <td>   21.713</td> <td> 0.000</td> <td> 4.78e+04</td> <td> 5.73e+04</td>\n",
       "</tr>\n",
       "<tr>\n",
       "  <th>zipcode_98042</th>    <td> 3766.4287</td> <td> 2184.146</td> <td>    1.724</td> <td> 0.085</td> <td> -514.721</td> <td> 8047.579</td>\n",
       "</tr>\n",
       "<tr>\n",
       "  <th>zipcode_98045</th>    <td> 1.618e+04</td> <td> 2983.947</td> <td>    5.421</td> <td> 0.000</td> <td> 1.03e+04</td> <td>  2.2e+04</td>\n",
       "</tr>\n",
       "<tr>\n",
       "  <th>zipcode_98052</th>    <td> 2.942e+04</td> <td> 4471.045</td> <td>    6.581</td> <td> 0.000</td> <td> 2.07e+04</td> <td> 3.82e+04</td>\n",
       "</tr>\n",
       "<tr>\n",
       "  <th>zipcode_98053</th>    <td> 2.237e+04</td> <td> 4027.349</td> <td>    5.554</td> <td> 0.000</td> <td> 1.45e+04</td> <td> 3.03e+04</td>\n",
       "</tr>\n",
       "<tr>\n",
       "  <th>zipcode_98055</th>    <td> 2358.6262</td> <td> 1855.010</td> <td>    1.271</td> <td> 0.204</td> <td>-1277.383</td> <td> 5994.636</td>\n",
       "</tr>\n",
       "<tr>\n",
       "  <th>zipcode_98056</th>    <td> 8000.2295</td> <td> 2492.343</td> <td>    3.210</td> <td> 0.001</td> <td> 3114.982</td> <td> 1.29e+04</td>\n",
       "</tr>\n",
       "<tr>\n",
       "  <th>zipcode_98058</th>    <td> 3802.7015</td> <td> 2291.625</td> <td>    1.659</td> <td> 0.097</td> <td> -689.117</td> <td> 8294.520</td>\n",
       "</tr>\n",
       "<tr>\n",
       "  <th>zipcode_98059</th>    <td> 9377.6965</td> <td> 2618.260</td> <td>    3.582</td> <td> 0.000</td> <td> 4245.639</td> <td> 1.45e+04</td>\n",
       "</tr>\n",
       "<tr>\n",
       "  <th>zipcode_98065</th>    <td> 1.362e+04</td> <td> 3263.446</td> <td>    4.174</td> <td> 0.000</td> <td> 7224.199</td> <td>    2e+04</td>\n",
       "</tr>\n",
       "<tr>\n",
       "  <th>zipcode_98070</th>    <td>-2970.3654</td> <td> 1573.665</td> <td>   -1.888</td> <td> 0.059</td> <td>-6054.910</td> <td>  114.179</td>\n",
       "</tr>\n",
       "<tr>\n",
       "  <th>zipcode_98072</th>    <td> 8866.5006</td> <td> 3631.094</td> <td>    2.442</td> <td> 0.015</td> <td> 1749.185</td> <td>  1.6e+04</td>\n",
       "</tr>\n",
       "<tr>\n",
       "  <th>zipcode_98074</th>    <td> 2.171e+04</td> <td> 3721.186</td> <td>    5.834</td> <td> 0.000</td> <td> 1.44e+04</td> <td>  2.9e+04</td>\n",
       "</tr>\n",
       "<tr>\n",
       "  <th>zipcode_98075</th>    <td> 1.935e+04</td> <td> 3222.833</td> <td>    6.003</td> <td> 0.000</td> <td>  1.3e+04</td> <td> 2.57e+04</td>\n",
       "</tr>\n",
       "<tr>\n",
       "  <th>zipcode_98077</th>    <td> 4379.0827</td> <td> 3225.057</td> <td>    1.358</td> <td> 0.175</td> <td>-1942.358</td> <td> 1.07e+04</td>\n",
       "</tr>\n",
       "<tr>\n",
       "  <th>zipcode_98092</th>    <td>  153.3453</td> <td> 1688.695</td> <td>    0.091</td> <td> 0.928</td> <td>-3156.670</td> <td> 3463.361</td>\n",
       "</tr>\n",
       "<tr>\n",
       "  <th>zipcode_98102</th>    <td> 2.742e+04</td> <td> 1952.914</td> <td>   14.040</td> <td> 0.000</td> <td> 2.36e+04</td> <td> 3.12e+04</td>\n",
       "</tr>\n",
       "<tr>\n",
       "  <th>zipcode_98103</th>    <td> 4.114e+04</td> <td> 4363.117</td> <td>    9.429</td> <td> 0.000</td> <td> 3.26e+04</td> <td> 4.97e+04</td>\n",
       "</tr>\n",
       "<tr>\n",
       "  <th>zipcode_98105</th>    <td> 4.134e+04</td> <td> 2776.474</td> <td>   14.889</td> <td> 0.000</td> <td> 3.59e+04</td> <td> 4.68e+04</td>\n",
       "</tr>\n",
       "<tr>\n",
       "  <th>zipcode_98106</th>    <td> 7464.3808</td> <td> 2427.201</td> <td>    3.075</td> <td> 0.002</td> <td> 2706.819</td> <td> 1.22e+04</td>\n",
       "</tr>\n",
       "<tr>\n",
       "  <th>zipcode_98107</th>    <td> 2.705e+04</td> <td> 3015.151</td> <td>    8.971</td> <td> 0.000</td> <td> 2.11e+04</td> <td>  3.3e+04</td>\n",
       "</tr>\n",
       "<tr>\n",
       "  <th>zipcode_98108</th>    <td> 5636.1765</td> <td> 1980.658</td> <td>    2.846</td> <td> 0.004</td> <td> 1753.885</td> <td> 9518.468</td>\n",
       "</tr>\n",
       "<tr>\n",
       "  <th>zipcode_98109</th>    <td> 3.062e+04</td> <td> 1990.110</td> <td>   15.387</td> <td> 0.000</td> <td> 2.67e+04</td> <td> 3.45e+04</td>\n",
       "</tr>\n",
       "<tr>\n",
       "  <th>zipcode_98112</th>    <td> 6.375e+04</td> <td> 2757.384</td> <td>   23.120</td> <td> 0.000</td> <td> 5.83e+04</td> <td> 6.92e+04</td>\n",
       "</tr>\n",
       "<tr>\n",
       "  <th>zipcode_98115</th>    <td> 3.968e+04</td> <td> 4359.208</td> <td>    9.103</td> <td> 0.000</td> <td> 3.11e+04</td> <td> 4.82e+04</td>\n",
       "</tr>\n",
       "<tr>\n",
       "  <th>zipcode_98116</th>    <td> 2.637e+04</td> <td> 2691.602</td> <td>    9.799</td> <td> 0.000</td> <td> 2.11e+04</td> <td> 3.17e+04</td>\n",
       "</tr>\n",
       "<tr>\n",
       "  <th>zipcode_98117</th>    <td> 3.431e+04</td> <td> 4305.831</td> <td>    7.968</td> <td> 0.000</td> <td> 2.59e+04</td> <td> 4.27e+04</td>\n",
       "</tr>\n",
       "<tr>\n",
       "  <th>zipcode_98118</th>    <td>  1.68e+04</td> <td> 2902.518</td> <td>    5.787</td> <td> 0.000</td> <td> 1.11e+04</td> <td> 2.25e+04</td>\n",
       "</tr>\n",
       "<tr>\n",
       "  <th>zipcode_98119</th>    <td> 3.794e+04</td> <td> 2441.024</td> <td>   15.542</td> <td> 0.000</td> <td> 3.32e+04</td> <td> 4.27e+04</td>\n",
       "</tr>\n",
       "<tr>\n",
       "  <th>zipcode_98122</th>    <td> 3.148e+04</td> <td> 2728.894</td> <td>   11.536</td> <td> 0.000</td> <td> 2.61e+04</td> <td> 3.68e+04</td>\n",
       "</tr>\n",
       "<tr>\n",
       "  <th>zipcode_98125</th>    <td> 1.454e+04</td> <td> 3951.962</td> <td>    3.679</td> <td> 0.000</td> <td> 6794.444</td> <td> 2.23e+04</td>\n",
       "</tr>\n",
       "<tr>\n",
       "  <th>zipcode_98126</th>    <td> 1.487e+04</td> <td> 2568.758</td> <td>    5.787</td> <td> 0.000</td> <td> 9830.875</td> <td> 1.99e+04</td>\n",
       "</tr>\n",
       "<tr>\n",
       "  <th>zipcode_98133</th>    <td> 7690.5225</td> <td> 4477.991</td> <td>    1.717</td> <td> 0.086</td> <td>-1086.798</td> <td> 1.65e+04</td>\n",
       "</tr>\n",
       "<tr>\n",
       "  <th>zipcode_98136</th>    <td> 1.986e+04</td> <td> 2270.834</td> <td>    8.746</td> <td> 0.000</td> <td> 1.54e+04</td> <td> 2.43e+04</td>\n",
       "</tr>\n",
       "<tr>\n",
       "  <th>zipcode_98144</th>    <td> 2.628e+04</td> <td> 2759.328</td> <td>    9.523</td> <td> 0.000</td> <td> 2.09e+04</td> <td> 3.17e+04</td>\n",
       "</tr>\n",
       "<tr>\n",
       "  <th>zipcode_98146</th>    <td> 4944.9133</td> <td> 2123.027</td> <td>    2.329</td> <td> 0.020</td> <td>  783.563</td> <td> 9106.263</td>\n",
       "</tr>\n",
       "<tr>\n",
       "  <th>zipcode_98148</th>    <td> 1442.2697</td> <td> 1249.879</td> <td>    1.154</td> <td> 0.249</td> <td>-1007.620</td> <td> 3892.159</td>\n",
       "</tr>\n",
       "<tr>\n",
       "  <th>zipcode_98155</th>    <td> 4841.3303</td> <td> 4430.995</td> <td>    1.093</td> <td> 0.275</td> <td>-3843.873</td> <td> 1.35e+04</td>\n",
       "</tr>\n",
       "<tr>\n",
       "  <th>zipcode_98166</th>    <td> 1018.8975</td> <td> 1803.180</td> <td>    0.565</td> <td> 0.572</td> <td>-2515.520</td> <td> 4553.315</td>\n",
       "</tr>\n",
       "<tr>\n",
       "  <th>zipcode_98168</th>    <td> 1304.8018</td> <td> 1984.161</td> <td>    0.658</td> <td> 0.511</td> <td>-2584.356</td> <td> 5193.959</td>\n",
       "</tr>\n",
       "<tr>\n",
       "  <th>zipcode_98177</th>    <td>  1.03e+04</td> <td> 3392.385</td> <td>    3.036</td> <td> 0.002</td> <td> 3650.280</td> <td> 1.69e+04</td>\n",
       "</tr>\n",
       "<tr>\n",
       "  <th>zipcode_98178</th>    <td> -198.1054</td> <td> 2001.016</td> <td>   -0.099</td> <td> 0.921</td> <td>-4120.302</td> <td> 3724.091</td>\n",
       "</tr>\n",
       "<tr>\n",
       "  <th>zipcode_98188</th>    <td>  355.9972</td> <td> 1484.262</td> <td>    0.240</td> <td> 0.810</td> <td>-2553.308</td> <td> 3265.302</td>\n",
       "</tr>\n",
       "<tr>\n",
       "  <th>zipcode_98198</th>    <td>-3679.6239</td> <td> 1626.442</td> <td>   -2.262</td> <td> 0.024</td> <td>-6867.616</td> <td> -491.632</td>\n",
       "</tr>\n",
       "<tr>\n",
       "  <th>zipcode_98199</th>    <td> 3.491e+04</td> <td> 3108.619</td> <td>   11.229</td> <td> 0.000</td> <td> 2.88e+04</td> <td>  4.1e+04</td>\n",
       "</tr>\n",
       "<tr>\n",
       "  <th>month_of_date_2</th>  <td> 1092.3807</td> <td> 1647.201</td> <td>    0.663</td> <td> 0.507</td> <td>-2136.301</td> <td> 4321.062</td>\n",
       "</tr>\n",
       "<tr>\n",
       "  <th>month_of_date_3</th>  <td> 6584.6980</td> <td> 1823.251</td> <td>    3.612</td> <td> 0.000</td> <td> 3010.940</td> <td> 1.02e+04</td>\n",
       "</tr>\n",
       "<tr>\n",
       "  <th>month_of_date_4</th>  <td> 9858.1634</td> <td> 1921.231</td> <td>    5.131</td> <td> 0.000</td> <td> 6092.355</td> <td> 1.36e+04</td>\n",
       "</tr>\n",
       "<tr>\n",
       "  <th>month_of_date_5</th>  <td>  626.2436</td> <td> 1963.750</td> <td>    0.319</td> <td> 0.750</td> <td>-3222.907</td> <td> 4475.394</td>\n",
       "</tr>\n",
       "<tr>\n",
       "  <th>month_of_date_6</th>  <td>-1384.8030</td> <td> 1913.198</td> <td>   -0.724</td> <td> 0.469</td> <td>-5134.867</td> <td> 2365.261</td>\n",
       "</tr>\n",
       "<tr>\n",
       "  <th>month_of_date_7</th>  <td>-1598.1820</td> <td> 1919.567</td> <td>   -0.833</td> <td> 0.405</td> <td>-5360.730</td> <td> 2164.366</td>\n",
       "</tr>\n",
       "<tr>\n",
       "  <th>month_of_date_8</th>  <td>-2081.9045</td> <td> 1843.479</td> <td>   -1.129</td> <td> 0.259</td> <td>-5695.312</td> <td> 1531.503</td>\n",
       "</tr>\n",
       "<tr>\n",
       "  <th>month_of_date_9</th>  <td>-3459.2405</td> <td> 1795.733</td> <td>   -1.926</td> <td> 0.054</td> <td>-6979.060</td> <td>   60.579</td>\n",
       "</tr>\n",
       "<tr>\n",
       "  <th>month_of_date_10</th> <td>-2705.2215</td> <td> 1828.250</td> <td>   -1.480</td> <td> 0.139</td> <td>-6288.778</td> <td>  878.335</td>\n",
       "</tr>\n",
       "<tr>\n",
       "  <th>month_of_date_11</th> <td>-1819.3614</td> <td> 1690.607</td> <td>   -1.076</td> <td> 0.282</td> <td>-5133.125</td> <td> 1494.402</td>\n",
       "</tr>\n",
       "<tr>\n",
       "  <th>month_of_date_12</th> <td> -804.9106</td> <td> 1709.442</td> <td>   -0.471</td> <td> 0.638</td> <td>-4155.591</td> <td> 2545.770</td>\n",
       "</tr>\n",
       "</table>\n",
       "<table class=\"simpletable\">\n",
       "<tr>\n",
       "  <th>Omnibus:</th>       <td>11851.521</td> <th>  Durbin-Watson:     </th>  <td>   2.014</td> \n",
       "</tr>\n",
       "<tr>\n",
       "  <th>Prob(Omnibus):</th>  <td> 0.000</td>   <th>  Jarque-Bera (JB):  </th> <td>876355.130</td>\n",
       "</tr>\n",
       "<tr>\n",
       "  <th>Skew:</th>           <td> 2.584</td>   <th>  Prob(JB):          </th>  <td>    0.00</td> \n",
       "</tr>\n",
       "<tr>\n",
       "  <th>Kurtosis:</th>       <td>37.506</td>   <th>  Cond. No.          </th>  <td>4.46e+15</td> \n",
       "</tr>\n",
       "</table><br/><br/>Notes:<br/>[1] Standard Errors assume that the covariance matrix of the errors is correctly specified.<br/>[2] The smallest eigenvalue is 5.03e-27. This might indicate that there are<br/>strong multicollinearity problems or that the design matrix is singular."
      ],
      "text/plain": [
       "<class 'statsmodels.iolib.summary.Summary'>\n",
       "\"\"\"\n",
       "                            OLS Regression Results                            \n",
       "==============================================================================\n",
       "Dep. Variable:                  price   R-squared:                       0.843\n",
       "Model:                            OLS   Adj. R-squared:                  0.842\n",
       "Method:                 Least Squares   F-statistic:                     800.9\n",
       "Date:                Tue, 13 Jul 2021   Prob (F-statistic):               0.00\n",
       "Time:                        18:13:43   Log-Likelihood:            -2.2999e+05\n",
       "No. Observations:               17277   AIC:                         4.602e+05\n",
       "Df Residuals:                   17161   BIC:                         4.611e+05\n",
       "Df Model:                         115                                         \n",
       "Covariance Type:            nonrobust                                         \n",
       "====================================================================================\n",
       "                       coef    std err          t      P>|t|      [0.025      0.975]\n",
       "------------------------------------------------------------------------------------\n",
       "Intercept         5.407e+05   1116.969    484.115      0.000    5.39e+05    5.43e+05\n",
       "bedrooms         -1.221e+04   1557.682     -7.842      0.000   -1.53e+04   -9161.759\n",
       "bathrooms         1.926e+04   2103.132      9.160      0.000    1.51e+04    2.34e+04\n",
       "sqft_living       6.975e+04   1400.426     49.803      0.000     6.7e+04    7.25e+04\n",
       "sqft_lot          1.008e+04   1659.265      6.077      0.000    6831.754    1.33e+04\n",
       "sqft_above        6.891e+04   1541.213     44.714      0.000    6.59e+04    7.19e+04\n",
       "sqft_basement     1.579e+04   1329.620     11.876      0.000    1.32e+04    1.84e+04\n",
       "lat               3.454e+04   8977.194      3.847      0.000    1.69e+04    5.21e+04\n",
       "long              -2.68e+04   6467.044     -4.143      0.000   -3.95e+04   -1.41e+04\n",
       "sqft_living15     1.515e+04   2062.445      7.345      0.000    1.11e+04    1.92e+04\n",
       "sqft_lot15       -4862.8288   1687.210     -2.882      0.004   -8169.933   -1555.725\n",
       "age_of_house      5145.3227   2105.890      2.443      0.015    1017.563    9273.082\n",
       "floors_1_5       -2152.6457   1289.724     -1.669      0.095   -4680.636     375.344\n",
       "floors_2_0       -1.427e+04   1869.735     -7.632      0.000   -1.79e+04   -1.06e+04\n",
       "floors_2_5        3920.5053   1188.401      3.299      0.001    1591.119    6249.892\n",
       "floors_3_0       -1.237e+04   1400.768     -8.832      0.000   -1.51e+04   -9625.826\n",
       "floors_3_5         -18.1732   1005.949     -0.018      0.986   -1989.937    1953.591\n",
       "waterfront_1      4.769e+04   1377.369     34.622      0.000     4.5e+04    5.04e+04\n",
       "view_1            1.208e+04   1163.189     10.384      0.000    9798.418    1.44e+04\n",
       "view_2             1.34e+04   1186.007     11.297      0.000    1.11e+04    1.57e+04\n",
       "view_3            2.377e+04   1199.786     19.814      0.000    2.14e+04    2.61e+04\n",
       "view_4            3.632e+04   1390.271     26.126      0.000    3.36e+04     3.9e+04\n",
       "condition_2       6078.4443   3199.628      1.900      0.057    -193.153    1.24e+04\n",
       "condition_3       3.393e+04   1.63e+04      2.085      0.037    2025.980    6.58e+04\n",
       "condition_4       4.333e+04    1.5e+04      2.884      0.004    1.39e+04    7.28e+04\n",
       "condition_5        3.95e+04   9235.649      4.277      0.000    2.14e+04    5.76e+04\n",
       "grade_4          -4718.7667   5339.272     -0.884      0.377   -1.52e+04    5746.752\n",
       "grade_5          -1.398e+04   1.55e+04     -0.900      0.368   -4.44e+04    1.65e+04\n",
       "grade_6          -4.238e+04   4.31e+04     -0.984      0.325   -1.27e+05     4.2e+04\n",
       "grade_7          -6.928e+04   7.26e+04     -0.954      0.340   -2.12e+05     7.3e+04\n",
       "grade_8          -5.313e+04   6.62e+04     -0.802      0.422   -1.83e+05    7.67e+04\n",
       "grade_9          -1.448e+04   4.81e+04     -0.301      0.763   -1.09e+05    7.98e+04\n",
       "grade_10          1.706e+04   3.29e+04      0.518      0.604   -4.75e+04    8.16e+04\n",
       "grade_11          3.645e+04   1.99e+04      1.831      0.067   -2566.101    7.55e+04\n",
       "grade_12          4.392e+04   9532.155      4.607      0.000    2.52e+04    6.26e+04\n",
       "grade_13           4.85e+04   3796.316     12.774      0.000    4.11e+04    5.59e+04\n",
       "if_renovated_1    1.038e+04   1201.430      8.637      0.000    8022.250    1.27e+04\n",
       "zipcode_98002     2085.3796   1440.641      1.448      0.148    -738.424    4909.183\n",
       "zipcode_98003     -208.0911   1509.586     -0.138      0.890   -3167.034    2750.852\n",
       "zipcode_98004     8.105e+04   2890.779     28.037      0.000    7.54e+04    8.67e+04\n",
       "zipcode_98005     2.244e+04   2252.658      9.962      0.000     1.8e+04    2.69e+04\n",
       "zipcode_98006     3.155e+04   3164.611      9.969      0.000    2.53e+04    3.77e+04\n",
       "zipcode_98007     1.686e+04   2138.511      7.882      0.000    1.27e+04     2.1e+04\n",
       "zipcode_98008     2.507e+04   2850.311      8.795      0.000    1.95e+04    3.07e+04\n",
       "zipcode_98010     6953.7451   1508.254      4.610      0.000    3997.413    9910.077\n",
       "zipcode_98011     4050.5407   3100.182      1.307      0.191   -2026.133    1.01e+04\n",
       "zipcode_98014     7082.7766   2695.861      2.627      0.009    1798.614    1.24e+04\n",
       "zipcode_98019     4906.1376   3304.122      1.485      0.138   -1570.279    1.14e+04\n",
       "zipcode_98022     7745.8288   2030.093      3.816      0.000    3766.638    1.17e+04\n",
       "zipcode_98023    -5910.7811   1823.289     -3.242      0.001   -9484.614   -2336.948\n",
       "zipcode_98024     1.024e+04   1884.241      5.437      0.000    6551.161    1.39e+04\n",
       "zipcode_98027     2.192e+04   2923.161      7.499      0.000    1.62e+04    2.76e+04\n",
       "zipcode_98028     3048.9516   3626.330      0.841      0.400   -4059.027    1.02e+04\n",
       "zipcode_98029      2.62e+04   2966.483      8.831      0.000    2.04e+04     3.2e+04\n",
       "zipcode_98030     1033.5471   1588.784      0.651      0.515   -2080.632    4147.726\n",
       "zipcode_98031     1439.5040   1687.204      0.853      0.394   -1867.588    4746.596\n",
       "zipcode_98032     -562.6452   1337.818     -0.421      0.674   -3184.904    2059.614\n",
       "zipcode_98033     4.015e+04   3825.104     10.496      0.000    3.27e+04    4.76e+04\n",
       "zipcode_98034     1.845e+04   4582.098      4.026      0.000    9468.059    2.74e+04\n",
       "zipcode_98038     1.111e+04   2650.080      4.193      0.000    5916.748    1.63e+04\n",
       "zipcode_98039     5.682e+04   1529.482     37.151      0.000    5.38e+04    5.98e+04\n",
       "zipcode_98040     5.254e+04   2419.673     21.713      0.000    4.78e+04    5.73e+04\n",
       "zipcode_98042     3766.4287   2184.146      1.724      0.085    -514.721    8047.579\n",
       "zipcode_98045     1.618e+04   2983.947      5.421      0.000    1.03e+04     2.2e+04\n",
       "zipcode_98052     2.942e+04   4471.045      6.581      0.000    2.07e+04    3.82e+04\n",
       "zipcode_98053     2.237e+04   4027.349      5.554      0.000    1.45e+04    3.03e+04\n",
       "zipcode_98055     2358.6262   1855.010      1.271      0.204   -1277.383    5994.636\n",
       "zipcode_98056     8000.2295   2492.343      3.210      0.001    3114.982    1.29e+04\n",
       "zipcode_98058     3802.7015   2291.625      1.659      0.097    -689.117    8294.520\n",
       "zipcode_98059     9377.6965   2618.260      3.582      0.000    4245.639    1.45e+04\n",
       "zipcode_98065     1.362e+04   3263.446      4.174      0.000    7224.199       2e+04\n",
       "zipcode_98070    -2970.3654   1573.665     -1.888      0.059   -6054.910     114.179\n",
       "zipcode_98072     8866.5006   3631.094      2.442      0.015    1749.185     1.6e+04\n",
       "zipcode_98074     2.171e+04   3721.186      5.834      0.000    1.44e+04     2.9e+04\n",
       "zipcode_98075     1.935e+04   3222.833      6.003      0.000     1.3e+04    2.57e+04\n",
       "zipcode_98077     4379.0827   3225.057      1.358      0.175   -1942.358    1.07e+04\n",
       "zipcode_98092      153.3453   1688.695      0.091      0.928   -3156.670    3463.361\n",
       "zipcode_98102     2.742e+04   1952.914     14.040      0.000    2.36e+04    3.12e+04\n",
       "zipcode_98103     4.114e+04   4363.117      9.429      0.000    3.26e+04    4.97e+04\n",
       "zipcode_98105     4.134e+04   2776.474     14.889      0.000    3.59e+04    4.68e+04\n",
       "zipcode_98106     7464.3808   2427.201      3.075      0.002    2706.819    1.22e+04\n",
       "zipcode_98107     2.705e+04   3015.151      8.971      0.000    2.11e+04     3.3e+04\n",
       "zipcode_98108     5636.1765   1980.658      2.846      0.004    1753.885    9518.468\n",
       "zipcode_98109     3.062e+04   1990.110     15.387      0.000    2.67e+04    3.45e+04\n",
       "zipcode_98112     6.375e+04   2757.384     23.120      0.000    5.83e+04    6.92e+04\n",
       "zipcode_98115     3.968e+04   4359.208      9.103      0.000    3.11e+04    4.82e+04\n",
       "zipcode_98116     2.637e+04   2691.602      9.799      0.000    2.11e+04    3.17e+04\n",
       "zipcode_98117     3.431e+04   4305.831      7.968      0.000    2.59e+04    4.27e+04\n",
       "zipcode_98118      1.68e+04   2902.518      5.787      0.000    1.11e+04    2.25e+04\n",
       "zipcode_98119     3.794e+04   2441.024     15.542      0.000    3.32e+04    4.27e+04\n",
       "zipcode_98122     3.148e+04   2728.894     11.536      0.000    2.61e+04    3.68e+04\n",
       "zipcode_98125     1.454e+04   3951.962      3.679      0.000    6794.444    2.23e+04\n",
       "zipcode_98126     1.487e+04   2568.758      5.787      0.000    9830.875    1.99e+04\n",
       "zipcode_98133     7690.5225   4477.991      1.717      0.086   -1086.798    1.65e+04\n",
       "zipcode_98136     1.986e+04   2270.834      8.746      0.000    1.54e+04    2.43e+04\n",
       "zipcode_98144     2.628e+04   2759.328      9.523      0.000    2.09e+04    3.17e+04\n",
       "zipcode_98146     4944.9133   2123.027      2.329      0.020     783.563    9106.263\n",
       "zipcode_98148     1442.2697   1249.879      1.154      0.249   -1007.620    3892.159\n",
       "zipcode_98155     4841.3303   4430.995      1.093      0.275   -3843.873    1.35e+04\n",
       "zipcode_98166     1018.8975   1803.180      0.565      0.572   -2515.520    4553.315\n",
       "zipcode_98168     1304.8018   1984.161      0.658      0.511   -2584.356    5193.959\n",
       "zipcode_98177      1.03e+04   3392.385      3.036      0.002    3650.280    1.69e+04\n",
       "zipcode_98178     -198.1054   2001.016     -0.099      0.921   -4120.302    3724.091\n",
       "zipcode_98188      355.9972   1484.262      0.240      0.810   -2553.308    3265.302\n",
       "zipcode_98198    -3679.6239   1626.442     -2.262      0.024   -6867.616    -491.632\n",
       "zipcode_98199     3.491e+04   3108.619     11.229      0.000    2.88e+04     4.1e+04\n",
       "month_of_date_2   1092.3807   1647.201      0.663      0.507   -2136.301    4321.062\n",
       "month_of_date_3   6584.6980   1823.251      3.612      0.000    3010.940    1.02e+04\n",
       "month_of_date_4   9858.1634   1921.231      5.131      0.000    6092.355    1.36e+04\n",
       "month_of_date_5    626.2436   1963.750      0.319      0.750   -3222.907    4475.394\n",
       "month_of_date_6  -1384.8030   1913.198     -0.724      0.469   -5134.867    2365.261\n",
       "month_of_date_7  -1598.1820   1919.567     -0.833      0.405   -5360.730    2164.366\n",
       "month_of_date_8  -2081.9045   1843.479     -1.129      0.259   -5695.312    1531.503\n",
       "month_of_date_9  -3459.2405   1795.733     -1.926      0.054   -6979.060      60.579\n",
       "month_of_date_10 -2705.2215   1828.250     -1.480      0.139   -6288.778     878.335\n",
       "month_of_date_11 -1819.3614   1690.607     -1.076      0.282   -5133.125    1494.402\n",
       "month_of_date_12  -804.9106   1709.442     -0.471      0.638   -4155.591    2545.770\n",
       "==============================================================================\n",
       "Omnibus:                    11851.521   Durbin-Watson:                   2.014\n",
       "Prob(Omnibus):                  0.000   Jarque-Bera (JB):           876355.130\n",
       "Skew:                           2.584   Prob(JB):                         0.00\n",
       "Kurtosis:                      37.506   Cond. No.                     4.46e+15\n",
       "==============================================================================\n",
       "\n",
       "Notes:\n",
       "[1] Standard Errors assume that the covariance matrix of the errors is correctly specified.\n",
       "[2] The smallest eigenvalue is 5.03e-27. This might indicate that there are\n",
       "strong multicollinearity problems or that the design matrix is singular.\n",
       "\"\"\""
      ]
     },
     "execution_count": 48,
     "metadata": {},
     "output_type": "execute_result"
    }
   ],
   "source": [
    "#report out the OLS \n",
    "m1df_ols.summary()"
   ]
  },
  {
   "cell_type": "code",
   "execution_count": 49,
   "metadata": {
    "hidden": true,
    "scrolled": true
   },
   "outputs": [
    {
     "data": {
      "text/html": [
       "<table class=\"simpletable\">\n",
       "<caption>OLS Regression Results</caption>\n",
       "<tr>\n",
       "  <th>Dep. Variable:</th>        <td>ln_price</td>     <th>  R-squared:         </th> <td>   0.882</td>\n",
       "</tr>\n",
       "<tr>\n",
       "  <th>Model:</th>                   <td>OLS</td>       <th>  Adj. R-squared:    </th> <td>   0.882</td>\n",
       "</tr>\n",
       "<tr>\n",
       "  <th>Method:</th>             <td>Least Squares</td>  <th>  F-statistic:       </th> <td>   1120.</td>\n",
       "</tr>\n",
       "<tr>\n",
       "  <th>Date:</th>             <td>Tue, 13 Jul 2021</td> <th>  Prob (F-statistic):</th>  <td>  0.00</td> \n",
       "</tr>\n",
       "<tr>\n",
       "  <th>Time:</th>                 <td>18:13:44</td>     <th>  Log-Likelihood:    </th> <td>  5023.7</td>\n",
       "</tr>\n",
       "<tr>\n",
       "  <th>No. Observations:</th>      <td> 17277</td>      <th>  AIC:               </th> <td>  -9815.</td>\n",
       "</tr>\n",
       "<tr>\n",
       "  <th>Df Residuals:</th>          <td> 17161</td>      <th>  BIC:               </th> <td>  -8916.</td>\n",
       "</tr>\n",
       "<tr>\n",
       "  <th>Df Model:</th>              <td>   115</td>      <th>                     </th>     <td> </td>   \n",
       "</tr>\n",
       "<tr>\n",
       "  <th>Covariance Type:</th>      <td>nonrobust</td>    <th>                     </th>     <td> </td>   \n",
       "</tr>\n",
       "</table>\n",
       "<table class=\"simpletable\">\n",
       "<tr>\n",
       "          <td></td>            <th>coef</th>     <th>std err</th>      <th>t</th>      <th>P>|t|</th>  <th>[0.025</th>    <th>0.975]</th>  \n",
       "</tr>\n",
       "<tr>\n",
       "  <th>Intercept</th>        <td>   13.0484</td> <td>    0.001</td> <td> 9441.499</td> <td> 0.000</td> <td>   13.046</td> <td>   13.051</td>\n",
       "</tr>\n",
       "<tr>\n",
       "  <th>bedrooms</th>         <td>   -0.0050</td> <td>    0.002</td> <td>   -2.587</td> <td> 0.010</td> <td>   -0.009</td> <td>   -0.001</td>\n",
       "</tr>\n",
       "<tr>\n",
       "  <th>bathrooms</th>        <td>    0.0304</td> <td>    0.003</td> <td>   11.665</td> <td> 0.000</td> <td>    0.025</td> <td>    0.035</td>\n",
       "</tr>\n",
       "<tr>\n",
       "  <th>sqft_living</th>      <td>    0.0898</td> <td>    0.002</td> <td>   51.811</td> <td> 0.000</td> <td>    0.086</td> <td>    0.093</td>\n",
       "</tr>\n",
       "<tr>\n",
       "  <th>sqft_lot</th>         <td>    0.0267</td> <td>    0.002</td> <td>   12.984</td> <td> 0.000</td> <td>    0.023</td> <td>    0.031</td>\n",
       "</tr>\n",
       "<tr>\n",
       "  <th>sqft_above</th>       <td>    0.0913</td> <td>    0.002</td> <td>   47.887</td> <td> 0.000</td> <td>    0.088</td> <td>    0.095</td>\n",
       "</tr>\n",
       "<tr>\n",
       "  <th>sqft_basement</th>    <td>    0.0154</td> <td>    0.002</td> <td>    9.385</td> <td> 0.000</td> <td>    0.012</td> <td>    0.019</td>\n",
       "</tr>\n",
       "<tr>\n",
       "  <th>lat</th>              <td>    0.0774</td> <td>    0.011</td> <td>    6.972</td> <td> 0.000</td> <td>    0.056</td> <td>    0.099</td>\n",
       "</tr>\n",
       "<tr>\n",
       "  <th>long</th>             <td>   -0.0555</td> <td>    0.008</td> <td>   -6.936</td> <td> 0.000</td> <td>   -0.071</td> <td>   -0.040</td>\n",
       "</tr>\n",
       "<tr>\n",
       "  <th>sqft_living15</th>    <td>    0.0583</td> <td>    0.003</td> <td>   22.842</td> <td> 0.000</td> <td>    0.053</td> <td>    0.063</td>\n",
       "</tr>\n",
       "<tr>\n",
       "  <th>sqft_lot15</th>       <td>    0.0014</td> <td>    0.002</td> <td>    0.659</td> <td> 0.510</td> <td>   -0.003</td> <td>    0.005</td>\n",
       "</tr>\n",
       "<tr>\n",
       "  <th>age_of_house</th>     <td>    0.0144</td> <td>    0.003</td> <td>    5.515</td> <td> 0.000</td> <td>    0.009</td> <td>    0.019</td>\n",
       "</tr>\n",
       "<tr>\n",
       "  <th>floors_1_5</th>       <td>    0.0038</td> <td>    0.002</td> <td>    2.397</td> <td> 0.017</td> <td>    0.001</td> <td>    0.007</td>\n",
       "</tr>\n",
       "<tr>\n",
       "  <th>floors_2_0</th>       <td>   -0.0115</td> <td>    0.002</td> <td>   -4.964</td> <td> 0.000</td> <td>   -0.016</td> <td>   -0.007</td>\n",
       "</tr>\n",
       "<tr>\n",
       "  <th>floors_2_5</th>       <td>   -0.0025</td> <td>    0.001</td> <td>   -1.675</td> <td> 0.094</td> <td>   -0.005</td> <td>    0.000</td>\n",
       "</tr>\n",
       "<tr>\n",
       "  <th>floors_3_0</th>       <td>   -0.0206</td> <td>    0.002</td> <td>  -11.890</td> <td> 0.000</td> <td>   -0.024</td> <td>   -0.017</td>\n",
       "</tr>\n",
       "<tr>\n",
       "  <th>floors_3_5</th>       <td>   -0.0024</td> <td>    0.001</td> <td>   -1.968</td> <td> 0.049</td> <td>   -0.005</td> <td>-9.57e-06</td>\n",
       "</tr>\n",
       "<tr>\n",
       "  <th>waterfront_1</th>     <td>    0.0375</td> <td>    0.002</td> <td>   22.012</td> <td> 0.000</td> <td>    0.034</td> <td>    0.041</td>\n",
       "</tr>\n",
       "<tr>\n",
       "  <th>view_1</th>           <td>    0.0160</td> <td>    0.001</td> <td>   11.102</td> <td> 0.000</td> <td>    0.013</td> <td>    0.019</td>\n",
       "</tr>\n",
       "<tr>\n",
       "  <th>view_2</th>           <td>    0.0214</td> <td>    0.001</td> <td>   14.601</td> <td> 0.000</td> <td>    0.019</td> <td>    0.024</td>\n",
       "</tr>\n",
       "<tr>\n",
       "  <th>view_3</th>           <td>    0.0257</td> <td>    0.001</td> <td>   17.305</td> <td> 0.000</td> <td>    0.023</td> <td>    0.029</td>\n",
       "</tr>\n",
       "<tr>\n",
       "  <th>view_4</th>           <td>    0.0340</td> <td>    0.002</td> <td>   19.750</td> <td> 0.000</td> <td>    0.031</td> <td>    0.037</td>\n",
       "</tr>\n",
       "<tr>\n",
       "  <th>condition_2</th>      <td>    0.0096</td> <td>    0.004</td> <td>    2.437</td> <td> 0.015</td> <td>    0.002</td> <td>    0.017</td>\n",
       "</tr>\n",
       "<tr>\n",
       "  <th>condition_3</th>      <td>    0.1048</td> <td>    0.020</td> <td>    5.203</td> <td> 0.000</td> <td>    0.065</td> <td>    0.144</td>\n",
       "</tr>\n",
       "<tr>\n",
       "  <th>condition_4</th>      <td>    0.1178</td> <td>    0.019</td> <td>    6.336</td> <td> 0.000</td> <td>    0.081</td> <td>    0.154</td>\n",
       "</tr>\n",
       "<tr>\n",
       "  <th>condition_5</th>      <td>    0.0893</td> <td>    0.011</td> <td>    7.813</td> <td> 0.000</td> <td>    0.067</td> <td>    0.112</td>\n",
       "</tr>\n",
       "<tr>\n",
       "  <th>grade_4</th>          <td>   -0.0203</td> <td>    0.007</td> <td>   -3.074</td> <td> 0.002</td> <td>   -0.033</td> <td>   -0.007</td>\n",
       "</tr>\n",
       "<tr>\n",
       "  <th>grade_5</th>          <td>   -0.0433</td> <td>    0.019</td> <td>   -2.249</td> <td> 0.025</td> <td>   -0.081</td> <td>   -0.006</td>\n",
       "</tr>\n",
       "<tr>\n",
       "  <th>grade_6</th>          <td>   -0.0925</td> <td>    0.053</td> <td>   -1.735</td> <td> 0.083</td> <td>   -0.197</td> <td>    0.012</td>\n",
       "</tr>\n",
       "<tr>\n",
       "  <th>grade_7</th>          <td>   -0.0938</td> <td>    0.090</td> <td>   -1.044</td> <td> 0.296</td> <td>   -0.270</td> <td>    0.082</td>\n",
       "</tr>\n",
       "<tr>\n",
       "  <th>grade_8</th>          <td>   -0.0408</td> <td>    0.082</td> <td>   -0.498</td> <td> 0.618</td> <td>   -0.201</td> <td>    0.120</td>\n",
       "</tr>\n",
       "<tr>\n",
       "  <th>grade_9</th>          <td>    0.0033</td> <td>    0.060</td> <td>    0.055</td> <td> 0.956</td> <td>   -0.113</td> <td>    0.120</td>\n",
       "</tr>\n",
       "<tr>\n",
       "  <th>grade_10</th>         <td>    0.0128</td> <td>    0.041</td> <td>    0.314</td> <td> 0.754</td> <td>   -0.067</td> <td>    0.093</td>\n",
       "</tr>\n",
       "<tr>\n",
       "  <th>grade_11</th>         <td>    0.0118</td> <td>    0.025</td> <td>    0.481</td> <td> 0.631</td> <td>   -0.036</td> <td>    0.060</td>\n",
       "</tr>\n",
       "<tr>\n",
       "  <th>grade_12</th>         <td>    0.0062</td> <td>    0.012</td> <td>    0.526</td> <td> 0.599</td> <td>   -0.017</td> <td>    0.029</td>\n",
       "</tr>\n",
       "<tr>\n",
       "  <th>grade_13</th>         <td>    0.0023</td> <td>    0.005</td> <td>    0.497</td> <td> 0.619</td> <td>   -0.007</td> <td>    0.012</td>\n",
       "</tr>\n",
       "<tr>\n",
       "  <th>if_renovated_1</th>   <td>    0.0130</td> <td>    0.001</td> <td>    8.718</td> <td> 0.000</td> <td>    0.010</td> <td>    0.016</td>\n",
       "</tr>\n",
       "<tr>\n",
       "  <th>zipcode_98002</th>    <td>   -0.0001</td> <td>    0.002</td> <td>   -0.063</td> <td> 0.950</td> <td>   -0.004</td> <td>    0.003</td>\n",
       "</tr>\n",
       "<tr>\n",
       "  <th>zipcode_98003</th>    <td>   -0.0004</td> <td>    0.002</td> <td>   -0.201</td> <td> 0.840</td> <td>   -0.004</td> <td>    0.003</td>\n",
       "</tr>\n",
       "<tr>\n",
       "  <th>zipcode_98004</th>    <td>    0.1128</td> <td>    0.004</td> <td>   31.546</td> <td> 0.000</td> <td>    0.106</td> <td>    0.120</td>\n",
       "</tr>\n",
       "<tr>\n",
       "  <th>zipcode_98005</th>    <td>    0.0522</td> <td>    0.003</td> <td>   18.713</td> <td> 0.000</td> <td>    0.047</td> <td>    0.058</td>\n",
       "</tr>\n",
       "<tr>\n",
       "  <th>zipcode_98006</th>    <td>    0.0794</td> <td>    0.004</td> <td>   20.273</td> <td> 0.000</td> <td>    0.072</td> <td>    0.087</td>\n",
       "</tr>\n",
       "<tr>\n",
       "  <th>zipcode_98007</th>    <td>    0.0421</td> <td>    0.003</td> <td>   15.924</td> <td> 0.000</td> <td>    0.037</td> <td>    0.047</td>\n",
       "</tr>\n",
       "<tr>\n",
       "  <th>zipcode_98008</th>    <td>    0.0598</td> <td>    0.004</td> <td>   16.943</td> <td> 0.000</td> <td>    0.053</td> <td>    0.067</td>\n",
       "</tr>\n",
       "<tr>\n",
       "  <th>zipcode_98010</th>    <td>    0.0222</td> <td>    0.002</td> <td>   11.922</td> <td> 0.000</td> <td>    0.019</td> <td>    0.026</td>\n",
       "</tr>\n",
       "<tr>\n",
       "  <th>zipcode_98011</th>    <td>    0.0207</td> <td>    0.004</td> <td>    5.397</td> <td> 0.000</td> <td>    0.013</td> <td>    0.028</td>\n",
       "</tr>\n",
       "<tr>\n",
       "  <th>zipcode_98014</th>    <td>    0.0200</td> <td>    0.003</td> <td>    5.995</td> <td> 0.000</td> <td>    0.013</td> <td>    0.027</td>\n",
       "</tr>\n",
       "<tr>\n",
       "  <th>zipcode_98019</th>    <td>    0.0184</td> <td>    0.004</td> <td>    4.497</td> <td> 0.000</td> <td>    0.010</td> <td>    0.026</td>\n",
       "</tr>\n",
       "<tr>\n",
       "  <th>zipcode_98022</th>    <td>    0.0205</td> <td>    0.003</td> <td>    8.167</td> <td> 0.000</td> <td>    0.016</td> <td>    0.025</td>\n",
       "</tr>\n",
       "<tr>\n",
       "  <th>zipcode_98023</th>    <td>   -0.0105</td> <td>    0.002</td> <td>   -4.670</td> <td> 0.000</td> <td>   -0.015</td> <td>   -0.006</td>\n",
       "</tr>\n",
       "<tr>\n",
       "  <th>zipcode_98024</th>    <td>    0.0250</td> <td>    0.002</td> <td>   10.728</td> <td> 0.000</td> <td>    0.020</td> <td>    0.030</td>\n",
       "</tr>\n",
       "<tr>\n",
       "  <th>zipcode_98027</th>    <td>    0.0633</td> <td>    0.004</td> <td>   17.501</td> <td> 0.000</td> <td>    0.056</td> <td>    0.070</td>\n",
       "</tr>\n",
       "<tr>\n",
       "  <th>zipcode_98028</th>    <td>    0.0186</td> <td>    0.004</td> <td>    4.150</td> <td> 0.000</td> <td>    0.010</td> <td>    0.027</td>\n",
       "</tr>\n",
       "<tr>\n",
       "  <th>zipcode_98029</th>    <td>    0.0659</td> <td>    0.004</td> <td>   17.955</td> <td> 0.000</td> <td>    0.059</td> <td>    0.073</td>\n",
       "</tr>\n",
       "<tr>\n",
       "  <th>zipcode_98030</th>    <td>    0.0050</td> <td>    0.002</td> <td>    2.539</td> <td> 0.011</td> <td>    0.001</td> <td>    0.009</td>\n",
       "</tr>\n",
       "<tr>\n",
       "  <th>zipcode_98031</th>    <td>    0.0060</td> <td>    0.002</td> <td>    2.866</td> <td> 0.004</td> <td>    0.002</td> <td>    0.010</td>\n",
       "</tr>\n",
       "<tr>\n",
       "  <th>zipcode_98032</th>    <td>   -0.0056</td> <td>    0.002</td> <td>   -3.378</td> <td> 0.001</td> <td>   -0.009</td> <td>   -0.002</td>\n",
       "</tr>\n",
       "<tr>\n",
       "  <th>zipcode_98033</th>    <td>    0.0839</td> <td>    0.005</td> <td>   17.720</td> <td> 0.000</td> <td>    0.075</td> <td>    0.093</td>\n",
       "</tr>\n",
       "<tr>\n",
       "  <th>zipcode_98034</th>    <td>    0.0518</td> <td>    0.006</td> <td>    9.142</td> <td> 0.000</td> <td>    0.041</td> <td>    0.063</td>\n",
       "</tr>\n",
       "<tr>\n",
       "  <th>zipcode_98038</th>    <td>    0.0355</td> <td>    0.003</td> <td>   10.821</td> <td> 0.000</td> <td>    0.029</td> <td>    0.042</td>\n",
       "</tr>\n",
       "<tr>\n",
       "  <th>zipcode_98039</th>    <td>    0.0506</td> <td>    0.002</td> <td>   26.760</td> <td> 0.000</td> <td>    0.047</td> <td>    0.054</td>\n",
       "</tr>\n",
       "<tr>\n",
       "  <th>zipcode_98040</th>    <td>    0.0819</td> <td>    0.003</td> <td>   27.346</td> <td> 0.000</td> <td>    0.076</td> <td>    0.088</td>\n",
       "</tr>\n",
       "<tr>\n",
       "  <th>zipcode_98042</th>    <td>    0.0127</td> <td>    0.003</td> <td>    4.690</td> <td> 0.000</td> <td>    0.007</td> <td>    0.018</td>\n",
       "</tr>\n",
       "<tr>\n",
       "  <th>zipcode_98045</th>    <td>    0.0435</td> <td>    0.004</td> <td>   11.780</td> <td> 0.000</td> <td>    0.036</td> <td>    0.051</td>\n",
       "</tr>\n",
       "<tr>\n",
       "  <th>zipcode_98052</th>    <td>    0.0765</td> <td>    0.006</td> <td>   13.836</td> <td> 0.000</td> <td>    0.066</td> <td>    0.087</td>\n",
       "</tr>\n",
       "<tr>\n",
       "  <th>zipcode_98053</th>    <td>    0.0614</td> <td>    0.005</td> <td>   12.315</td> <td> 0.000</td> <td>    0.052</td> <td>    0.071</td>\n",
       "</tr>\n",
       "<tr>\n",
       "  <th>zipcode_98055</th>    <td>    0.0083</td> <td>    0.002</td> <td>    3.611</td> <td> 0.000</td> <td>    0.004</td> <td>    0.013</td>\n",
       "</tr>\n",
       "<tr>\n",
       "  <th>zipcode_98056</th>    <td>    0.0316</td> <td>    0.003</td> <td>   10.263</td> <td> 0.000</td> <td>    0.026</td> <td>    0.038</td>\n",
       "</tr>\n",
       "<tr>\n",
       "  <th>zipcode_98058</th>    <td>    0.0174</td> <td>    0.003</td> <td>    6.140</td> <td> 0.000</td> <td>    0.012</td> <td>    0.023</td>\n",
       "</tr>\n",
       "<tr>\n",
       "  <th>zipcode_98059</th>    <td>    0.0401</td> <td>    0.003</td> <td>   12.389</td> <td> 0.000</td> <td>    0.034</td> <td>    0.046</td>\n",
       "</tr>\n",
       "<tr>\n",
       "  <th>zipcode_98065</th>    <td>    0.0489</td> <td>    0.004</td> <td>   12.103</td> <td> 0.000</td> <td>    0.041</td> <td>    0.057</td>\n",
       "</tr>\n",
       "<tr>\n",
       "  <th>zipcode_98070</th>    <td>    0.0141</td> <td>    0.002</td> <td>    7.250</td> <td> 0.000</td> <td>    0.010</td> <td>    0.018</td>\n",
       "</tr>\n",
       "<tr>\n",
       "  <th>zipcode_98072</th>    <td>    0.0318</td> <td>    0.004</td> <td>    7.076</td> <td> 0.000</td> <td>    0.023</td> <td>    0.041</td>\n",
       "</tr>\n",
       "<tr>\n",
       "  <th>zipcode_98074</th>    <td>    0.0644</td> <td>    0.005</td> <td>   13.998</td> <td> 0.000</td> <td>    0.055</td> <td>    0.073</td>\n",
       "</tr>\n",
       "<tr>\n",
       "  <th>zipcode_98075</th>    <td>    0.0606</td> <td>    0.004</td> <td>   15.208</td> <td> 0.000</td> <td>    0.053</td> <td>    0.068</td>\n",
       "</tr>\n",
       "<tr>\n",
       "  <th>zipcode_98077</th>    <td>    0.0261</td> <td>    0.004</td> <td>    6.537</td> <td> 0.000</td> <td>    0.018</td> <td>    0.034</td>\n",
       "</tr>\n",
       "<tr>\n",
       "  <th>zipcode_98092</th>    <td>    0.0065</td> <td>    0.002</td> <td>    3.113</td> <td> 0.002</td> <td>    0.002</td> <td>    0.011</td>\n",
       "</tr>\n",
       "<tr>\n",
       "  <th>zipcode_98102</th>    <td>    0.0500</td> <td>    0.002</td> <td>   20.687</td> <td> 0.000</td> <td>    0.045</td> <td>    0.055</td>\n",
       "</tr>\n",
       "<tr>\n",
       "  <th>zipcode_98103</th>    <td>    0.0939</td> <td>    0.005</td> <td>   17.394</td> <td> 0.000</td> <td>    0.083</td> <td>    0.104</td>\n",
       "</tr>\n",
       "<tr>\n",
       "  <th>zipcode_98105</th>    <td>    0.0724</td> <td>    0.003</td> <td>   21.067</td> <td> 0.000</td> <td>    0.066</td> <td>    0.079</td>\n",
       "</tr>\n",
       "<tr>\n",
       "  <th>zipcode_98106</th>    <td>    0.0208</td> <td>    0.003</td> <td>    6.912</td> <td> 0.000</td> <td>    0.015</td> <td>    0.027</td>\n",
       "</tr>\n",
       "<tr>\n",
       "  <th>zipcode_98107</th>    <td>    0.0637</td> <td>    0.004</td> <td>   17.070</td> <td> 0.000</td> <td>    0.056</td> <td>    0.071</td>\n",
       "</tr>\n",
       "<tr>\n",
       "  <th>zipcode_98108</th>    <td>    0.0181</td> <td>    0.002</td> <td>    7.367</td> <td> 0.000</td> <td>    0.013</td> <td>    0.023</td>\n",
       "</tr>\n",
       "<tr>\n",
       "  <th>zipcode_98109</th>    <td>    0.0535</td> <td>    0.002</td> <td>   21.733</td> <td> 0.000</td> <td>    0.049</td> <td>    0.058</td>\n",
       "</tr>\n",
       "<tr>\n",
       "  <th>zipcode_98112</th>    <td>    0.0926</td> <td>    0.003</td> <td>   27.144</td> <td> 0.000</td> <td>    0.086</td> <td>    0.099</td>\n",
       "</tr>\n",
       "<tr>\n",
       "  <th>zipcode_98115</th>    <td>    0.0925</td> <td>    0.005</td> <td>   17.156</td> <td> 0.000</td> <td>    0.082</td> <td>    0.103</td>\n",
       "</tr>\n",
       "<tr>\n",
       "  <th>zipcode_98116</th>    <td>    0.0665</td> <td>    0.003</td> <td>   19.955</td> <td> 0.000</td> <td>    0.060</td> <td>    0.073</td>\n",
       "</tr>\n",
       "<tr>\n",
       "  <th>zipcode_98117</th>    <td>    0.0849</td> <td>    0.005</td> <td>   15.928</td> <td> 0.000</td> <td>    0.074</td> <td>    0.095</td>\n",
       "</tr>\n",
       "<tr>\n",
       "  <th>zipcode_98118</th>    <td>    0.0466</td> <td>    0.004</td> <td>   12.977</td> <td> 0.000</td> <td>    0.040</td> <td>    0.054</td>\n",
       "</tr>\n",
       "<tr>\n",
       "  <th>zipcode_98119</th>    <td>    0.0678</td> <td>    0.003</td> <td>   22.456</td> <td> 0.000</td> <td>    0.062</td> <td>    0.074</td>\n",
       "</tr>\n",
       "<tr>\n",
       "  <th>zipcode_98122</th>    <td>    0.0683</td> <td>    0.003</td> <td>   20.214</td> <td> 0.000</td> <td>    0.062</td> <td>    0.075</td>\n",
       "</tr>\n",
       "<tr>\n",
       "  <th>zipcode_98125</th>    <td>    0.0439</td> <td>    0.005</td> <td>    8.976</td> <td> 0.000</td> <td>    0.034</td> <td>    0.053</td>\n",
       "</tr>\n",
       "<tr>\n",
       "  <th>zipcode_98126</th>    <td>    0.0426</td> <td>    0.003</td> <td>   13.412</td> <td> 0.000</td> <td>    0.036</td> <td>    0.049</td>\n",
       "</tr>\n",
       "<tr>\n",
       "  <th>zipcode_98133</th>    <td>    0.0271</td> <td>    0.006</td> <td>    4.892</td> <td> 0.000</td> <td>    0.016</td> <td>    0.038</td>\n",
       "</tr>\n",
       "<tr>\n",
       "  <th>zipcode_98136</th>    <td>    0.0530</td> <td>    0.003</td> <td>   18.856</td> <td> 0.000</td> <td>    0.047</td> <td>    0.058</td>\n",
       "</tr>\n",
       "<tr>\n",
       "  <th>zipcode_98144</th>    <td>    0.0597</td> <td>    0.003</td> <td>   17.491</td> <td> 0.000</td> <td>    0.053</td> <td>    0.066</td>\n",
       "</tr>\n",
       "<tr>\n",
       "  <th>zipcode_98146</th>    <td>    0.0155</td> <td>    0.003</td> <td>    5.915</td> <td> 0.000</td> <td>    0.010</td> <td>    0.021</td>\n",
       "</tr>\n",
       "<tr>\n",
       "  <th>zipcode_98148</th>    <td>    0.0028</td> <td>    0.002</td> <td>    1.780</td> <td> 0.075</td> <td>   -0.000</td> <td>    0.006</td>\n",
       "</tr>\n",
       "<tr>\n",
       "  <th>zipcode_98155</th>    <td>    0.0227</td> <td>    0.005</td> <td>    4.141</td> <td> 0.000</td> <td>    0.012</td> <td>    0.033</td>\n",
       "</tr>\n",
       "<tr>\n",
       "  <th>zipcode_98166</th>    <td>    0.0200</td> <td>    0.002</td> <td>    8.972</td> <td> 0.000</td> <td>    0.016</td> <td>    0.024</td>\n",
       "</tr>\n",
       "<tr>\n",
       "  <th>zipcode_98168</th>    <td>   -0.0033</td> <td>    0.002</td> <td>   -1.362</td> <td> 0.173</td> <td>   -0.008</td> <td>    0.001</td>\n",
       "</tr>\n",
       "<tr>\n",
       "  <th>zipcode_98177</th>    <td>    0.0321</td> <td>    0.004</td> <td>    7.652</td> <td> 0.000</td> <td>    0.024</td> <td>    0.040</td>\n",
       "</tr>\n",
       "<tr>\n",
       "  <th>zipcode_98178</th>    <td>    0.0056</td> <td>    0.002</td> <td>    2.265</td> <td> 0.024</td> <td>    0.001</td> <td>    0.010</td>\n",
       "</tr>\n",
       "<tr>\n",
       "  <th>zipcode_98188</th>    <td>    0.0017</td> <td>    0.002</td> <td>    0.912</td> <td> 0.362</td> <td>   -0.002</td> <td>    0.005</td>\n",
       "</tr>\n",
       "<tr>\n",
       "  <th>zipcode_98198</th>    <td>   -0.0027</td> <td>    0.002</td> <td>   -1.350</td> <td> 0.177</td> <td>   -0.007</td> <td>    0.001</td>\n",
       "</tr>\n",
       "<tr>\n",
       "  <th>zipcode_98199</th>    <td>    0.0722</td> <td>    0.004</td> <td>   18.774</td> <td> 0.000</td> <td>    0.065</td> <td>    0.080</td>\n",
       "</tr>\n",
       "<tr>\n",
       "  <th>month_of_date_2</th>  <td>    0.0056</td> <td>    0.002</td> <td>    2.759</td> <td> 0.006</td> <td>    0.002</td> <td>    0.010</td>\n",
       "</tr>\n",
       "<tr>\n",
       "  <th>month_of_date_3</th>  <td>    0.0137</td> <td>    0.002</td> <td>    6.076</td> <td> 0.000</td> <td>    0.009</td> <td>    0.018</td>\n",
       "</tr>\n",
       "<tr>\n",
       "  <th>month_of_date_4</th>  <td>    0.0217</td> <td>    0.002</td> <td>    9.126</td> <td> 0.000</td> <td>    0.017</td> <td>    0.026</td>\n",
       "</tr>\n",
       "<tr>\n",
       "  <th>month_of_date_5</th>  <td>    0.0037</td> <td>    0.002</td> <td>    1.506</td> <td> 0.132</td> <td>   -0.001</td> <td>    0.008</td>\n",
       "</tr>\n",
       "<tr>\n",
       "  <th>month_of_date_6</th>  <td>    0.0010</td> <td>    0.002</td> <td>    0.441</td> <td> 0.659</td> <td>   -0.004</td> <td>    0.006</td>\n",
       "</tr>\n",
       "<tr>\n",
       "  <th>month_of_date_7</th>  <td>   -0.0009</td> <td>    0.002</td> <td>   -0.388</td> <td> 0.698</td> <td>   -0.006</td> <td>    0.004</td>\n",
       "</tr>\n",
       "<tr>\n",
       "  <th>month_of_date_8</th>  <td>    0.0008</td> <td>    0.002</td> <td>    0.347</td> <td> 0.729</td> <td>   -0.004</td> <td>    0.005</td>\n",
       "</tr>\n",
       "<tr>\n",
       "  <th>month_of_date_9</th>  <td>   -0.0019</td> <td>    0.002</td> <td>   -0.859</td> <td> 0.390</td> <td>   -0.006</td> <td>    0.002</td>\n",
       "</tr>\n",
       "<tr>\n",
       "  <th>month_of_date_10</th> <td>   -0.0026</td> <td>    0.002</td> <td>   -1.168</td> <td> 0.243</td> <td>   -0.007</td> <td>    0.002</td>\n",
       "</tr>\n",
       "<tr>\n",
       "  <th>month_of_date_11</th> <td>   -0.0019</td> <td>    0.002</td> <td>   -0.907</td> <td> 0.364</td> <td>   -0.006</td> <td>    0.002</td>\n",
       "</tr>\n",
       "<tr>\n",
       "  <th>month_of_date_12</th> <td>    0.0008</td> <td>    0.002</td> <td>    0.383</td> <td> 0.702</td> <td>   -0.003</td> <td>    0.005</td>\n",
       "</tr>\n",
       "</table>\n",
       "<table class=\"simpletable\">\n",
       "<tr>\n",
       "  <th>Omnibus:</th>       <td>1424.142</td> <th>  Durbin-Watson:     </th> <td>   2.014</td>\n",
       "</tr>\n",
       "<tr>\n",
       "  <th>Prob(Omnibus):</th>  <td> 0.000</td>  <th>  Jarque-Bera (JB):  </th> <td>6812.674</td>\n",
       "</tr>\n",
       "<tr>\n",
       "  <th>Skew:</th>           <td>-0.262</td>  <th>  Prob(JB):          </th> <td>    0.00</td>\n",
       "</tr>\n",
       "<tr>\n",
       "  <th>Kurtosis:</th>       <td> 6.031</td>  <th>  Cond. No.          </th> <td>4.46e+15</td>\n",
       "</tr>\n",
       "</table><br/><br/>Notes:<br/>[1] Standard Errors assume that the covariance matrix of the errors is correctly specified.<br/>[2] The smallest eigenvalue is 5.03e-27. This might indicate that there are<br/>strong multicollinearity problems or that the design matrix is singular."
      ],
      "text/plain": [
       "<class 'statsmodels.iolib.summary.Summary'>\n",
       "\"\"\"\n",
       "                            OLS Regression Results                            \n",
       "==============================================================================\n",
       "Dep. Variable:               ln_price   R-squared:                       0.882\n",
       "Model:                            OLS   Adj. R-squared:                  0.882\n",
       "Method:                 Least Squares   F-statistic:                     1120.\n",
       "Date:                Tue, 13 Jul 2021   Prob (F-statistic):               0.00\n",
       "Time:                        18:13:44   Log-Likelihood:                 5023.7\n",
       "No. Observations:               17277   AIC:                            -9815.\n",
       "Df Residuals:                   17161   BIC:                            -8916.\n",
       "Df Model:                         115                                         \n",
       "Covariance Type:            nonrobust                                         \n",
       "====================================================================================\n",
       "                       coef    std err          t      P>|t|      [0.025      0.975]\n",
       "------------------------------------------------------------------------------------\n",
       "Intercept           13.0484      0.001   9441.499      0.000      13.046      13.051\n",
       "bedrooms            -0.0050      0.002     -2.587      0.010      -0.009      -0.001\n",
       "bathrooms            0.0304      0.003     11.665      0.000       0.025       0.035\n",
       "sqft_living          0.0898      0.002     51.811      0.000       0.086       0.093\n",
       "sqft_lot             0.0267      0.002     12.984      0.000       0.023       0.031\n",
       "sqft_above           0.0913      0.002     47.887      0.000       0.088       0.095\n",
       "sqft_basement        0.0154      0.002      9.385      0.000       0.012       0.019\n",
       "lat                  0.0774      0.011      6.972      0.000       0.056       0.099\n",
       "long                -0.0555      0.008     -6.936      0.000      -0.071      -0.040\n",
       "sqft_living15        0.0583      0.003     22.842      0.000       0.053       0.063\n",
       "sqft_lot15           0.0014      0.002      0.659      0.510      -0.003       0.005\n",
       "age_of_house         0.0144      0.003      5.515      0.000       0.009       0.019\n",
       "floors_1_5           0.0038      0.002      2.397      0.017       0.001       0.007\n",
       "floors_2_0          -0.0115      0.002     -4.964      0.000      -0.016      -0.007\n",
       "floors_2_5          -0.0025      0.001     -1.675      0.094      -0.005       0.000\n",
       "floors_3_0          -0.0206      0.002    -11.890      0.000      -0.024      -0.017\n",
       "floors_3_5          -0.0024      0.001     -1.968      0.049      -0.005   -9.57e-06\n",
       "waterfront_1         0.0375      0.002     22.012      0.000       0.034       0.041\n",
       "view_1               0.0160      0.001     11.102      0.000       0.013       0.019\n",
       "view_2               0.0214      0.001     14.601      0.000       0.019       0.024\n",
       "view_3               0.0257      0.001     17.305      0.000       0.023       0.029\n",
       "view_4               0.0340      0.002     19.750      0.000       0.031       0.037\n",
       "condition_2          0.0096      0.004      2.437      0.015       0.002       0.017\n",
       "condition_3          0.1048      0.020      5.203      0.000       0.065       0.144\n",
       "condition_4          0.1178      0.019      6.336      0.000       0.081       0.154\n",
       "condition_5          0.0893      0.011      7.813      0.000       0.067       0.112\n",
       "grade_4             -0.0203      0.007     -3.074      0.002      -0.033      -0.007\n",
       "grade_5             -0.0433      0.019     -2.249      0.025      -0.081      -0.006\n",
       "grade_6             -0.0925      0.053     -1.735      0.083      -0.197       0.012\n",
       "grade_7             -0.0938      0.090     -1.044      0.296      -0.270       0.082\n",
       "grade_8             -0.0408      0.082     -0.498      0.618      -0.201       0.120\n",
       "grade_9              0.0033      0.060      0.055      0.956      -0.113       0.120\n",
       "grade_10             0.0128      0.041      0.314      0.754      -0.067       0.093\n",
       "grade_11             0.0118      0.025      0.481      0.631      -0.036       0.060\n",
       "grade_12             0.0062      0.012      0.526      0.599      -0.017       0.029\n",
       "grade_13             0.0023      0.005      0.497      0.619      -0.007       0.012\n",
       "if_renovated_1       0.0130      0.001      8.718      0.000       0.010       0.016\n",
       "zipcode_98002       -0.0001      0.002     -0.063      0.950      -0.004       0.003\n",
       "zipcode_98003       -0.0004      0.002     -0.201      0.840      -0.004       0.003\n",
       "zipcode_98004        0.1128      0.004     31.546      0.000       0.106       0.120\n",
       "zipcode_98005        0.0522      0.003     18.713      0.000       0.047       0.058\n",
       "zipcode_98006        0.0794      0.004     20.273      0.000       0.072       0.087\n",
       "zipcode_98007        0.0421      0.003     15.924      0.000       0.037       0.047\n",
       "zipcode_98008        0.0598      0.004     16.943      0.000       0.053       0.067\n",
       "zipcode_98010        0.0222      0.002     11.922      0.000       0.019       0.026\n",
       "zipcode_98011        0.0207      0.004      5.397      0.000       0.013       0.028\n",
       "zipcode_98014        0.0200      0.003      5.995      0.000       0.013       0.027\n",
       "zipcode_98019        0.0184      0.004      4.497      0.000       0.010       0.026\n",
       "zipcode_98022        0.0205      0.003      8.167      0.000       0.016       0.025\n",
       "zipcode_98023       -0.0105      0.002     -4.670      0.000      -0.015      -0.006\n",
       "zipcode_98024        0.0250      0.002     10.728      0.000       0.020       0.030\n",
       "zipcode_98027        0.0633      0.004     17.501      0.000       0.056       0.070\n",
       "zipcode_98028        0.0186      0.004      4.150      0.000       0.010       0.027\n",
       "zipcode_98029        0.0659      0.004     17.955      0.000       0.059       0.073\n",
       "zipcode_98030        0.0050      0.002      2.539      0.011       0.001       0.009\n",
       "zipcode_98031        0.0060      0.002      2.866      0.004       0.002       0.010\n",
       "zipcode_98032       -0.0056      0.002     -3.378      0.001      -0.009      -0.002\n",
       "zipcode_98033        0.0839      0.005     17.720      0.000       0.075       0.093\n",
       "zipcode_98034        0.0518      0.006      9.142      0.000       0.041       0.063\n",
       "zipcode_98038        0.0355      0.003     10.821      0.000       0.029       0.042\n",
       "zipcode_98039        0.0506      0.002     26.760      0.000       0.047       0.054\n",
       "zipcode_98040        0.0819      0.003     27.346      0.000       0.076       0.088\n",
       "zipcode_98042        0.0127      0.003      4.690      0.000       0.007       0.018\n",
       "zipcode_98045        0.0435      0.004     11.780      0.000       0.036       0.051\n",
       "zipcode_98052        0.0765      0.006     13.836      0.000       0.066       0.087\n",
       "zipcode_98053        0.0614      0.005     12.315      0.000       0.052       0.071\n",
       "zipcode_98055        0.0083      0.002      3.611      0.000       0.004       0.013\n",
       "zipcode_98056        0.0316      0.003     10.263      0.000       0.026       0.038\n",
       "zipcode_98058        0.0174      0.003      6.140      0.000       0.012       0.023\n",
       "zipcode_98059        0.0401      0.003     12.389      0.000       0.034       0.046\n",
       "zipcode_98065        0.0489      0.004     12.103      0.000       0.041       0.057\n",
       "zipcode_98070        0.0141      0.002      7.250      0.000       0.010       0.018\n",
       "zipcode_98072        0.0318      0.004      7.076      0.000       0.023       0.041\n",
       "zipcode_98074        0.0644      0.005     13.998      0.000       0.055       0.073\n",
       "zipcode_98075        0.0606      0.004     15.208      0.000       0.053       0.068\n",
       "zipcode_98077        0.0261      0.004      6.537      0.000       0.018       0.034\n",
       "zipcode_98092        0.0065      0.002      3.113      0.002       0.002       0.011\n",
       "zipcode_98102        0.0500      0.002     20.687      0.000       0.045       0.055\n",
       "zipcode_98103        0.0939      0.005     17.394      0.000       0.083       0.104\n",
       "zipcode_98105        0.0724      0.003     21.067      0.000       0.066       0.079\n",
       "zipcode_98106        0.0208      0.003      6.912      0.000       0.015       0.027\n",
       "zipcode_98107        0.0637      0.004     17.070      0.000       0.056       0.071\n",
       "zipcode_98108        0.0181      0.002      7.367      0.000       0.013       0.023\n",
       "zipcode_98109        0.0535      0.002     21.733      0.000       0.049       0.058\n",
       "zipcode_98112        0.0926      0.003     27.144      0.000       0.086       0.099\n",
       "zipcode_98115        0.0925      0.005     17.156      0.000       0.082       0.103\n",
       "zipcode_98116        0.0665      0.003     19.955      0.000       0.060       0.073\n",
       "zipcode_98117        0.0849      0.005     15.928      0.000       0.074       0.095\n",
       "zipcode_98118        0.0466      0.004     12.977      0.000       0.040       0.054\n",
       "zipcode_98119        0.0678      0.003     22.456      0.000       0.062       0.074\n",
       "zipcode_98122        0.0683      0.003     20.214      0.000       0.062       0.075\n",
       "zipcode_98125        0.0439      0.005      8.976      0.000       0.034       0.053\n",
       "zipcode_98126        0.0426      0.003     13.412      0.000       0.036       0.049\n",
       "zipcode_98133        0.0271      0.006      4.892      0.000       0.016       0.038\n",
       "zipcode_98136        0.0530      0.003     18.856      0.000       0.047       0.058\n",
       "zipcode_98144        0.0597      0.003     17.491      0.000       0.053       0.066\n",
       "zipcode_98146        0.0155      0.003      5.915      0.000       0.010       0.021\n",
       "zipcode_98148        0.0028      0.002      1.780      0.075      -0.000       0.006\n",
       "zipcode_98155        0.0227      0.005      4.141      0.000       0.012       0.033\n",
       "zipcode_98166        0.0200      0.002      8.972      0.000       0.016       0.024\n",
       "zipcode_98168       -0.0033      0.002     -1.362      0.173      -0.008       0.001\n",
       "zipcode_98177        0.0321      0.004      7.652      0.000       0.024       0.040\n",
       "zipcode_98178        0.0056      0.002      2.265      0.024       0.001       0.010\n",
       "zipcode_98188        0.0017      0.002      0.912      0.362      -0.002       0.005\n",
       "zipcode_98198       -0.0027      0.002     -1.350      0.177      -0.007       0.001\n",
       "zipcode_98199        0.0722      0.004     18.774      0.000       0.065       0.080\n",
       "month_of_date_2      0.0056      0.002      2.759      0.006       0.002       0.010\n",
       "month_of_date_3      0.0137      0.002      6.076      0.000       0.009       0.018\n",
       "month_of_date_4      0.0217      0.002      9.126      0.000       0.017       0.026\n",
       "month_of_date_5      0.0037      0.002      1.506      0.132      -0.001       0.008\n",
       "month_of_date_6      0.0010      0.002      0.441      0.659      -0.004       0.006\n",
       "month_of_date_7     -0.0009      0.002     -0.388      0.698      -0.006       0.004\n",
       "month_of_date_8      0.0008      0.002      0.347      0.729      -0.004       0.005\n",
       "month_of_date_9     -0.0019      0.002     -0.859      0.390      -0.006       0.002\n",
       "month_of_date_10    -0.0026      0.002     -1.168      0.243      -0.007       0.002\n",
       "month_of_date_11    -0.0019      0.002     -0.907      0.364      -0.006       0.002\n",
       "month_of_date_12     0.0008      0.002      0.383      0.702      -0.003       0.005\n",
       "==============================================================================\n",
       "Omnibus:                     1424.142   Durbin-Watson:                   2.014\n",
       "Prob(Omnibus):                  0.000   Jarque-Bera (JB):             6812.674\n",
       "Skew:                          -0.262   Prob(JB):                         0.00\n",
       "Kurtosis:                       6.031   Cond. No.                     4.46e+15\n",
       "==============================================================================\n",
       "\n",
       "Notes:\n",
       "[1] Standard Errors assume that the covariance matrix of the errors is correctly specified.\n",
       "[2] The smallest eigenvalue is 5.03e-27. This might indicate that there are\n",
       "strong multicollinearity problems or that the design matrix is singular.\n",
       "\"\"\""
      ]
     },
     "execution_count": 49,
     "metadata": {},
     "output_type": "execute_result"
    }
   ],
   "source": [
    "#report out the OLS\n",
    "m1df_ln_ols.summary()"
   ]
  },
  {
   "cell_type": "code",
   "execution_count": 50,
   "metadata": {
    "hidden": true
   },
   "outputs": [],
   "source": [
    "#create a dataframe for the parameters and pvalues\n",
    "results = pd.DataFrame(m1df_ln_ols.pvalues)\n",
    "results.reset_index(inplace=True)"
   ]
  },
  {
   "cell_type": "code",
   "execution_count": 51,
   "metadata": {
    "hidden": true
   },
   "outputs": [],
   "source": [
    "#rename the columns\n",
    "results.rename(columns={'index': 'parameter', 0: 'pvalue'}, inplace=True)"
   ]
  },
  {
   "cell_type": "code",
   "execution_count": 52,
   "metadata": {
    "hidden": true
   },
   "outputs": [],
   "source": [
    "#create a list of parameters that have a pvalue > 0.05\n",
    "parameters = list(results[results['pvalue'] > 0.05]['parameter'])"
   ]
  },
  {
   "cell_type": "markdown",
   "metadata": {
    "heading_collapsed": true
   },
   "source": [
    "# Model 2"
   ]
  },
  {
   "cell_type": "markdown",
   "metadata": {
    "hidden": true
   },
   "source": [
    "Model 2 is similar to Model 1, except the parameters that had a pvalue > 0.05 from the Model 1 log-transformed analysis were removed in Model 2."
   ]
  },
  {
   "cell_type": "markdown",
   "metadata": {
    "heading_collapsed": true,
    "hidden": true
   },
   "source": [
    "## Model 2: Data Manipulation"
   ]
  },
  {
   "cell_type": "code",
   "execution_count": 53,
   "metadata": {
    "hidden": true
   },
   "outputs": [],
   "source": [
    "#create a new df based on the cleaned df\n",
    "m2df = df\n",
    "\n",
    "#dummying categorical \n",
    "m2df = pd.get_dummies(m2df, prefix=categorical, prefix_sep='_', columns=categorical, drop_first=True)\n",
    "\n",
    "#drop price data, since ln_price will be used\n",
    "m2df = m2df.drop(['price'], axis=1)\n",
    "\n",
    "#remove any periods from column names after dummying the data\n",
    "modified_cols = []\n",
    "for column in m2df.columns:\n",
    "    modified_cols.append(column.replace(\".\", \"_\"))\n",
    "m2df.columns = modified_cols\n",
    "\n",
    "#drop columns that had a high p-value from Model 2 OLS\n",
    "m2df = m2df.drop(parameters, axis=1)"
   ]
  },
  {
   "cell_type": "markdown",
   "metadata": {
    "hidden": true
   },
   "source": [
    "## Model 2: Training and Testing"
   ]
  },
  {
   "cell_type": "code",
   "execution_count": 54,
   "metadata": {
    "hidden": true
   },
   "outputs": [],
   "source": [
    "#create the appropriate x and y data sets\n",
    "X = m2df.drop(['ln_price'], axis = 1)\n",
    "y = m2df['ln_price']\n",
    "\n",
    "#standardizing X values\n",
    "ss = StandardScaler()\n",
    "ss.fit(X)\n",
    "X_scaled = pd.DataFrame(ss.transform(X))\n",
    "X_scaled.columns = X.columns\n",
    "\n",
    "#create the training and testing samples\n",
    "X_train, X_test, y_train, y_test = train_test_split(X_scaled, y, test_size=0.20, random_state=42)"
   ]
  },
  {
   "cell_type": "code",
   "execution_count": 55,
   "metadata": {
    "hidden": true
   },
   "outputs": [],
   "source": [
    "#instatiate a splitter with n_splits = 10\n",
    "splitter = ShuffleSplit(n_splits=10, test_size=0.25, random_state=0)"
   ]
  },
  {
   "cell_type": "code",
   "execution_count": 56,
   "metadata": {
    "hidden": true
   },
   "outputs": [
    {
     "name": "stdout",
     "output_type": "stream",
     "text": [
      "Train score:      0.8709362507612586\n",
      "Validation score: 0.8690851185345798\n"
     ]
    }
   ],
   "source": [
    "#create linear regression model for price and setting up cross validation (x3)\n",
    "m2df_model = LinearRegression()\n",
    "m2df_model.fit(X_train, y_train)\n",
    "\n",
    "#setting up cross validation for price in a different way (x3)\n",
    "m2df_scores = cross_validate(\n",
    "    estimator=m2df_model,\n",
    "    X=X_train,\n",
    "    y=y_train,\n",
    "    return_train_score=True,\n",
    "    cv=splitter\n",
    ")\n",
    "\n",
    "print(\"Train score:     \", np.median(m2df_scores[\"train_score\"]))\n",
    "print(\"Validation score:\", np.median(m2df_scores[\"test_score\"]))"
   ]
  },
  {
   "cell_type": "code",
   "execution_count": 57,
   "metadata": {
    "hidden": true,
    "scrolled": true
   },
   "outputs": [
    {
     "name": "stdout",
     "output_type": "stream",
     "text": [
      "m2df model train score: 0.8707903715371118\n",
      "m2df model test score: 0.8678491788384881\n",
      "score varied by 0.0 %\n"
     ]
    }
   ],
   "source": [
    "#find the test score using the linear model\n",
    "m2df_train_score = m2df_model.score(X_train, y_train)\n",
    "m2df_test_score = m2df_model.score(X_test, y_test)\n",
    "\n",
    "\n",
    "print(\"m2df model train score:\", m2df_train_score)\n",
    "print(\"m2df model test score:\", m2df_test_score)\n",
    "print(\"score varied by\", round(abs(m2df_test_score - m2df_train_score)/m2df_train_score*100),\"%\")"
   ]
  },
  {
   "cell_type": "code",
   "execution_count": 58,
   "metadata": {
    "hidden": true
   },
   "outputs": [
    {
     "name": "stdout",
     "output_type": "stream",
     "text": [
      "Model 1:\n",
      "m1df ln model train score: 0.8824554130032448\n",
      "m1df ln model test score: 0.8798250920810333\n",
      "\n",
      "Model 2:\n",
      "m2df model train score: 0.8707903715371118\n",
      "m2df model test score: 0.8678491788384881\n"
     ]
    }
   ],
   "source": [
    "#compare Model 1 and 2\n",
    "print(\"Model 1:\")\n",
    "print(\"m1df ln model train score:\", m1df_ln_train_score)\n",
    "print(\"m1df ln model test score:\", m1df_ln_test_score)\n",
    "print()\n",
    "print(\"Model 2:\")\n",
    "print(\"m2df model train score:\", m2df_train_score)\n",
    "print(\"m2df model test score:\", m2df_test_score)"
   ]
  },
  {
   "cell_type": "markdown",
   "metadata": {
    "hidden": true
   },
   "source": [
    "xxx"
   ]
  },
  {
   "cell_type": "markdown",
   "metadata": {
    "heading_collapsed": true,
    "hidden": true
   },
   "source": [
    "## Model 2: OLS"
   ]
  },
  {
   "cell_type": "code",
   "execution_count": 59,
   "metadata": {
    "hidden": true
   },
   "outputs": [],
   "source": [
    "#set target\n",
    "target = 'ln_price'\n",
    "\n",
    "#concate the X and y of the train tests to apply the OLS to the full train data\n",
    "train_df = pd.concat([X_train,y_train], axis=1)\n",
    "\n",
    "#join the column names with \"+\"\n",
    "columns = \"+\".join(train_df.drop(['ln_price'], axis=1).columns)"
   ]
  },
  {
   "cell_type": "code",
   "execution_count": 60,
   "metadata": {
    "hidden": true
   },
   "outputs": [],
   "source": [
    "#set formulas\n",
    "formula = target + '~' + columns"
   ]
  },
  {
   "cell_type": "code",
   "execution_count": 61,
   "metadata": {
    "hidden": true
   },
   "outputs": [],
   "source": [
    "#create the OLS\n",
    "m2df_ols = ols(formula, train_df).fit()"
   ]
  },
  {
   "cell_type": "code",
   "execution_count": 62,
   "metadata": {
    "hidden": true,
    "scrolled": false
   },
   "outputs": [
    {
     "data": {
      "text/html": [
       "<table class=\"simpletable\">\n",
       "<caption>OLS Regression Results</caption>\n",
       "<tr>\n",
       "  <th>Dep. Variable:</th>        <td>ln_price</td>     <th>  R-squared:         </th> <td>   0.871</td>\n",
       "</tr>\n",
       "<tr>\n",
       "  <th>Model:</th>                   <td>OLS</td>       <th>  Adj. R-squared:    </th> <td>   0.870</td>\n",
       "</tr>\n",
       "<tr>\n",
       "  <th>Method:</th>             <td>Least Squares</td>  <th>  F-statistic:       </th> <td>   1273.</td>\n",
       "</tr>\n",
       "<tr>\n",
       "  <th>Date:</th>             <td>Tue, 13 Jul 2021</td> <th>  Prob (F-statistic):</th>  <td>  0.00</td> \n",
       "</tr>\n",
       "<tr>\n",
       "  <th>Time:</th>                 <td>18:13:45</td>     <th>  Log-Likelihood:    </th> <td>  4206.3</td>\n",
       "</tr>\n",
       "<tr>\n",
       "  <th>No. Observations:</th>      <td> 17277</td>      <th>  AIC:               </th> <td>  -8229.</td>\n",
       "</tr>\n",
       "<tr>\n",
       "  <th>Df Residuals:</th>          <td> 17185</td>      <th>  BIC:               </th> <td>  -7515.</td>\n",
       "</tr>\n",
       "<tr>\n",
       "  <th>Df Model:</th>              <td>    91</td>      <th>                     </th>     <td> </td>   \n",
       "</tr>\n",
       "<tr>\n",
       "  <th>Covariance Type:</th>      <td>nonrobust</td>    <th>                     </th>     <td> </td>   \n",
       "</tr>\n",
       "</table>\n",
       "<table class=\"simpletable\">\n",
       "<tr>\n",
       "         <td></td>            <th>coef</th>     <th>std err</th>      <th>t</th>      <th>P>|t|</th>  <th>[0.025</th>    <th>0.975]</th>  \n",
       "</tr>\n",
       "<tr>\n",
       "  <th>Intercept</th>       <td>   13.0483</td> <td>    0.001</td> <td> 9012.529</td> <td> 0.000</td> <td>   13.046</td> <td>   13.051</td>\n",
       "</tr>\n",
       "<tr>\n",
       "  <th>bedrooms</th>        <td>   -0.0106</td> <td>    0.002</td> <td>   -5.420</td> <td> 0.000</td> <td>   -0.014</td> <td>   -0.007</td>\n",
       "</tr>\n",
       "<tr>\n",
       "  <th>bathrooms</th>       <td>    0.0365</td> <td>    0.003</td> <td>   13.519</td> <td> 0.000</td> <td>    0.031</td> <td>    0.042</td>\n",
       "</tr>\n",
       "<tr>\n",
       "  <th>sqft_living</th>     <td>    0.1102</td> <td>    0.002</td> <td>   69.072</td> <td> 0.000</td> <td>    0.107</td> <td>    0.113</td>\n",
       "</tr>\n",
       "<tr>\n",
       "  <th>sqft_lot</th>        <td>    0.0289</td> <td>    0.002</td> <td>   17.437</td> <td> 0.000</td> <td>    0.026</td> <td>    0.032</td>\n",
       "</tr>\n",
       "<tr>\n",
       "  <th>sqft_above</th>      <td>    0.1134</td> <td>    0.002</td> <td>   65.800</td> <td> 0.000</td> <td>    0.110</td> <td>    0.117</td>\n",
       "</tr>\n",
       "<tr>\n",
       "  <th>sqft_basement</th>   <td>    0.0164</td> <td>    0.002</td> <td>    9.644</td> <td> 0.000</td> <td>    0.013</td> <td>    0.020</td>\n",
       "</tr>\n",
       "<tr>\n",
       "  <th>lat</th>             <td>    0.0694</td> <td>    0.008</td> <td>    8.714</td> <td> 0.000</td> <td>    0.054</td> <td>    0.085</td>\n",
       "</tr>\n",
       "<tr>\n",
       "  <th>long</th>            <td>   -0.0651</td> <td>    0.008</td> <td>   -8.187</td> <td> 0.000</td> <td>   -0.081</td> <td>   -0.050</td>\n",
       "</tr>\n",
       "<tr>\n",
       "  <th>sqft_living15</th>   <td>    0.0845</td> <td>    0.003</td> <td>   33.020</td> <td> 0.000</td> <td>    0.079</td> <td>    0.090</td>\n",
       "</tr>\n",
       "<tr>\n",
       "  <th>age_of_house</th>    <td>   -0.0144</td> <td>    0.003</td> <td>   -5.508</td> <td> 0.000</td> <td>   -0.020</td> <td>   -0.009</td>\n",
       "</tr>\n",
       "<tr>\n",
       "  <th>floors_1_5</th>      <td>    0.0050</td> <td>    0.002</td> <td>    3.021</td> <td> 0.003</td> <td>    0.002</td> <td>    0.008</td>\n",
       "</tr>\n",
       "<tr>\n",
       "  <th>floors_2_0</th>      <td>   -0.0070</td> <td>    0.002</td> <td>   -2.997</td> <td> 0.003</td> <td>   -0.012</td> <td>   -0.002</td>\n",
       "</tr>\n",
       "<tr>\n",
       "  <th>floors_3_0</th>      <td>   -0.0186</td> <td>    0.002</td> <td>  -10.377</td> <td> 0.000</td> <td>   -0.022</td> <td>   -0.015</td>\n",
       "</tr>\n",
       "<tr>\n",
       "  <th>floors_3_5</th>      <td>   -0.0025</td> <td>    0.001</td> <td>   -1.901</td> <td> 0.057</td> <td>   -0.005</td> <td> 7.68e-05</td>\n",
       "</tr>\n",
       "<tr>\n",
       "  <th>waterfront_1</th>    <td>    0.0365</td> <td>    0.002</td> <td>   20.513</td> <td> 0.000</td> <td>    0.033</td> <td>    0.040</td>\n",
       "</tr>\n",
       "<tr>\n",
       "  <th>view_1</th>          <td>    0.0168</td> <td>    0.002</td> <td>   11.199</td> <td> 0.000</td> <td>    0.014</td> <td>    0.020</td>\n",
       "</tr>\n",
       "<tr>\n",
       "  <th>view_2</th>          <td>    0.0252</td> <td>    0.002</td> <td>   16.435</td> <td> 0.000</td> <td>    0.022</td> <td>    0.028</td>\n",
       "</tr>\n",
       "<tr>\n",
       "  <th>view_3</th>          <td>    0.0291</td> <td>    0.002</td> <td>   18.795</td> <td> 0.000</td> <td>    0.026</td> <td>    0.032</td>\n",
       "</tr>\n",
       "<tr>\n",
       "  <th>view_4</th>          <td>    0.0368</td> <td>    0.002</td> <td>   20.496</td> <td> 0.000</td> <td>    0.033</td> <td>    0.040</td>\n",
       "</tr>\n",
       "<tr>\n",
       "  <th>condition_2</th>     <td>    0.0109</td> <td>    0.004</td> <td>    2.627</td> <td> 0.009</td> <td>    0.003</td> <td>    0.019</td>\n",
       "</tr>\n",
       "<tr>\n",
       "  <th>condition_3</th>     <td>    0.1198</td> <td>    0.021</td> <td>    5.693</td> <td> 0.000</td> <td>    0.079</td> <td>    0.161</td>\n",
       "</tr>\n",
       "<tr>\n",
       "  <th>condition_4</th>     <td>    0.1324</td> <td>    0.019</td> <td>    6.815</td> <td> 0.000</td> <td>    0.094</td> <td>    0.170</td>\n",
       "</tr>\n",
       "<tr>\n",
       "  <th>condition_5</th>     <td>    0.0986</td> <td>    0.012</td> <td>    8.254</td> <td> 0.000</td> <td>    0.075</td> <td>    0.122</td>\n",
       "</tr>\n",
       "<tr>\n",
       "  <th>grade_4</th>         <td>   -0.0107</td> <td>    0.002</td> <td>   -6.843</td> <td> 0.000</td> <td>   -0.014</td> <td>   -0.008</td>\n",
       "</tr>\n",
       "<tr>\n",
       "  <th>grade_5</th>         <td>   -0.0159</td> <td>    0.002</td> <td>  -10.632</td> <td> 0.000</td> <td>   -0.019</td> <td>   -0.013</td>\n",
       "</tr>\n",
       "<tr>\n",
       "  <th>if_renovated_1</th>  <td>    0.0165</td> <td>    0.002</td> <td>   10.609</td> <td> 0.000</td> <td>    0.013</td> <td>    0.019</td>\n",
       "</tr>\n",
       "<tr>\n",
       "  <th>zipcode_98004</th>   <td>    0.1210</td> <td>    0.002</td> <td>   48.857</td> <td> 0.000</td> <td>    0.116</td> <td>    0.126</td>\n",
       "</tr>\n",
       "<tr>\n",
       "  <th>zipcode_98005</th>   <td>    0.0593</td> <td>    0.002</td> <td>   28.221</td> <td> 0.000</td> <td>    0.055</td> <td>    0.063</td>\n",
       "</tr>\n",
       "<tr>\n",
       "  <th>zipcode_98006</th>   <td>    0.0895</td> <td>    0.003</td> <td>   32.152</td> <td> 0.000</td> <td>    0.084</td> <td>    0.095</td>\n",
       "</tr>\n",
       "<tr>\n",
       "  <th>zipcode_98007</th>   <td>    0.0483</td> <td>    0.002</td> <td>   23.527</td> <td> 0.000</td> <td>    0.044</td> <td>    0.052</td>\n",
       "</tr>\n",
       "<tr>\n",
       "  <th>zipcode_98008</th>   <td>    0.0667</td> <td>    0.003</td> <td>   25.699</td> <td> 0.000</td> <td>    0.062</td> <td>    0.072</td>\n",
       "</tr>\n",
       "<tr>\n",
       "  <th>zipcode_98010</th>   <td>    0.0228</td> <td>    0.002</td> <td>   12.539</td> <td> 0.000</td> <td>    0.019</td> <td>    0.026</td>\n",
       "</tr>\n",
       "<tr>\n",
       "  <th>zipcode_98011</th>   <td>    0.0248</td> <td>    0.003</td> <td>    9.170</td> <td> 0.000</td> <td>    0.019</td> <td>    0.030</td>\n",
       "</tr>\n",
       "<tr>\n",
       "  <th>zipcode_98014</th>   <td>    0.0235</td> <td>    0.003</td> <td>    8.202</td> <td> 0.000</td> <td>    0.018</td> <td>    0.029</td>\n",
       "</tr>\n",
       "<tr>\n",
       "  <th>zipcode_98019</th>   <td>    0.0212</td> <td>    0.003</td> <td>    6.548</td> <td> 0.000</td> <td>    0.015</td> <td>    0.028</td>\n",
       "</tr>\n",
       "<tr>\n",
       "  <th>zipcode_98022</th>   <td>    0.0213</td> <td>    0.002</td> <td>    8.891</td> <td> 0.000</td> <td>    0.017</td> <td>    0.026</td>\n",
       "</tr>\n",
       "<tr>\n",
       "  <th>zipcode_98023</th>   <td>   -0.0084</td> <td>    0.002</td> <td>   -4.512</td> <td> 0.000</td> <td>   -0.012</td> <td>   -0.005</td>\n",
       "</tr>\n",
       "<tr>\n",
       "  <th>zipcode_98024</th>   <td>    0.0266</td> <td>    0.002</td> <td>   12.616</td> <td> 0.000</td> <td>    0.022</td> <td>    0.031</td>\n",
       "</tr>\n",
       "<tr>\n",
       "  <th>zipcode_98027</th>   <td>    0.0702</td> <td>    0.003</td> <td>   24.385</td> <td> 0.000</td> <td>    0.065</td> <td>    0.076</td>\n",
       "</tr>\n",
       "<tr>\n",
       "  <th>zipcode_98028</th>   <td>    0.0237</td> <td>    0.003</td> <td>    7.858</td> <td> 0.000</td> <td>    0.018</td> <td>    0.030</td>\n",
       "</tr>\n",
       "<tr>\n",
       "  <th>zipcode_98029</th>   <td>    0.0754</td> <td>    0.003</td> <td>   25.298</td> <td> 0.000</td> <td>    0.070</td> <td>    0.081</td>\n",
       "</tr>\n",
       "<tr>\n",
       "  <th>zipcode_98030</th>   <td>    0.0062</td> <td>    0.002</td> <td>    3.654</td> <td> 0.000</td> <td>    0.003</td> <td>    0.009</td>\n",
       "</tr>\n",
       "<tr>\n",
       "  <th>zipcode_98031</th>   <td>    0.0079</td> <td>    0.002</td> <td>    4.626</td> <td> 0.000</td> <td>    0.005</td> <td>    0.011</td>\n",
       "</tr>\n",
       "<tr>\n",
       "  <th>zipcode_98032</th>   <td>   -0.0034</td> <td>    0.002</td> <td>   -2.260</td> <td> 0.024</td> <td>   -0.006</td> <td>   -0.000</td>\n",
       "</tr>\n",
       "<tr>\n",
       "  <th>zipcode_98033</th>   <td>    0.0915</td> <td>    0.003</td> <td>   28.619</td> <td> 0.000</td> <td>    0.085</td> <td>    0.098</td>\n",
       "</tr>\n",
       "<tr>\n",
       "  <th>zipcode_98034</th>   <td>    0.0594</td> <td>    0.004</td> <td>   15.975</td> <td> 0.000</td> <td>    0.052</td> <td>    0.067</td>\n",
       "</tr>\n",
       "<tr>\n",
       "  <th>zipcode_98038</th>   <td>    0.0361</td> <td>    0.003</td> <td>   12.411</td> <td> 0.000</td> <td>    0.030</td> <td>    0.042</td>\n",
       "</tr>\n",
       "<tr>\n",
       "  <th>zipcode_98039</th>   <td>    0.0528</td> <td>    0.002</td> <td>   32.882</td> <td> 0.000</td> <td>    0.050</td> <td>    0.056</td>\n",
       "</tr>\n",
       "<tr>\n",
       "  <th>zipcode_98040</th>   <td>    0.0895</td> <td>    0.002</td> <td>   42.236</td> <td> 0.000</td> <td>    0.085</td> <td>    0.094</td>\n",
       "</tr>\n",
       "<tr>\n",
       "  <th>zipcode_98042</th>   <td>    0.0143</td> <td>    0.002</td> <td>    6.297</td> <td> 0.000</td> <td>    0.010</td> <td>    0.019</td>\n",
       "</tr>\n",
       "<tr>\n",
       "  <th>zipcode_98045</th>   <td>    0.0491</td> <td>    0.003</td> <td>   14.112</td> <td> 0.000</td> <td>    0.042</td> <td>    0.056</td>\n",
       "</tr>\n",
       "<tr>\n",
       "  <th>zipcode_98052</th>   <td>    0.0874</td> <td>    0.004</td> <td>   22.657</td> <td> 0.000</td> <td>    0.080</td> <td>    0.095</td>\n",
       "</tr>\n",
       "<tr>\n",
       "  <th>zipcode_98053</th>   <td>    0.0668</td> <td>    0.004</td> <td>   17.705</td> <td> 0.000</td> <td>    0.059</td> <td>    0.074</td>\n",
       "</tr>\n",
       "<tr>\n",
       "  <th>zipcode_98055</th>   <td>    0.0108</td> <td>    0.002</td> <td>    6.203</td> <td> 0.000</td> <td>    0.007</td> <td>    0.014</td>\n",
       "</tr>\n",
       "<tr>\n",
       "  <th>zipcode_98056</th>   <td>    0.0351</td> <td>    0.002</td> <td>   16.115</td> <td> 0.000</td> <td>    0.031</td> <td>    0.039</td>\n",
       "</tr>\n",
       "<tr>\n",
       "  <th>zipcode_98058</th>   <td>    0.0223</td> <td>    0.002</td> <td>   10.345</td> <td> 0.000</td> <td>    0.018</td> <td>    0.027</td>\n",
       "</tr>\n",
       "<tr>\n",
       "  <th>zipcode_98059</th>   <td>    0.0423</td> <td>    0.002</td> <td>   17.623</td> <td> 0.000</td> <td>    0.038</td> <td>    0.047</td>\n",
       "</tr>\n",
       "<tr>\n",
       "  <th>zipcode_98065</th>   <td>    0.0501</td> <td>    0.004</td> <td>   13.958</td> <td> 0.000</td> <td>    0.043</td> <td>    0.057</td>\n",
       "</tr>\n",
       "<tr>\n",
       "  <th>zipcode_98070</th>   <td>    0.0138</td> <td>    0.002</td> <td>    8.044</td> <td> 0.000</td> <td>    0.010</td> <td>    0.017</td>\n",
       "</tr>\n",
       "<tr>\n",
       "  <th>zipcode_98072</th>   <td>    0.0385</td> <td>    0.003</td> <td>   12.085</td> <td> 0.000</td> <td>    0.032</td> <td>    0.045</td>\n",
       "</tr>\n",
       "<tr>\n",
       "  <th>zipcode_98074</th>   <td>    0.0763</td> <td>    0.003</td> <td>   21.909</td> <td> 0.000</td> <td>    0.070</td> <td>    0.083</td>\n",
       "</tr>\n",
       "<tr>\n",
       "  <th>zipcode_98075</th>   <td>    0.0690</td> <td>    0.003</td> <td>   21.923</td> <td> 0.000</td> <td>    0.063</td> <td>    0.075</td>\n",
       "</tr>\n",
       "<tr>\n",
       "  <th>zipcode_98077</th>   <td>    0.0329</td> <td>    0.003</td> <td>   10.964</td> <td> 0.000</td> <td>    0.027</td> <td>    0.039</td>\n",
       "</tr>\n",
       "<tr>\n",
       "  <th>zipcode_98092</th>   <td>    0.0091</td> <td>    0.002</td> <td>    4.874</td> <td> 0.000</td> <td>    0.005</td> <td>    0.013</td>\n",
       "</tr>\n",
       "<tr>\n",
       "  <th>zipcode_98102</th>   <td>    0.0574</td> <td>    0.002</td> <td>   31.526</td> <td> 0.000</td> <td>    0.054</td> <td>    0.061</td>\n",
       "</tr>\n",
       "<tr>\n",
       "  <th>zipcode_98103</th>   <td>    0.1066</td> <td>    0.003</td> <td>   32.001</td> <td> 0.000</td> <td>    0.100</td> <td>    0.113</td>\n",
       "</tr>\n",
       "<tr>\n",
       "  <th>zipcode_98105</th>   <td>    0.0814</td> <td>    0.002</td> <td>   35.116</td> <td> 0.000</td> <td>    0.077</td> <td>    0.086</td>\n",
       "</tr>\n",
       "<tr>\n",
       "  <th>zipcode_98106</th>   <td>    0.0230</td> <td>    0.002</td> <td>   11.583</td> <td> 0.000</td> <td>    0.019</td> <td>    0.027</td>\n",
       "</tr>\n",
       "<tr>\n",
       "  <th>zipcode_98107</th>   <td>    0.0713</td> <td>    0.002</td> <td>   28.913</td> <td> 0.000</td> <td>    0.066</td> <td>    0.076</td>\n",
       "</tr>\n",
       "<tr>\n",
       "  <th>zipcode_98108</th>   <td>    0.0208</td> <td>    0.002</td> <td>   11.861</td> <td> 0.000</td> <td>    0.017</td> <td>    0.024</td>\n",
       "</tr>\n",
       "<tr>\n",
       "  <th>zipcode_98109</th>   <td>    0.0607</td> <td>    0.002</td> <td>   32.933</td> <td> 0.000</td> <td>    0.057</td> <td>    0.064</td>\n",
       "</tr>\n",
       "<tr>\n",
       "  <th>zipcode_98112</th>   <td>    0.1049</td> <td>    0.002</td> <td>   46.215</td> <td> 0.000</td> <td>    0.100</td> <td>    0.109</td>\n",
       "</tr>\n",
       "<tr>\n",
       "  <th>zipcode_98115</th>   <td>    0.1043</td> <td>    0.003</td> <td>   31.097</td> <td> 0.000</td> <td>    0.098</td> <td>    0.111</td>\n",
       "</tr>\n",
       "<tr>\n",
       "  <th>zipcode_98116</th>   <td>    0.0749</td> <td>    0.002</td> <td>   34.165</td> <td> 0.000</td> <td>    0.071</td> <td>    0.079</td>\n",
       "</tr>\n",
       "<tr>\n",
       "  <th>zipcode_98117</th>   <td>    0.0958</td> <td>    0.003</td> <td>   29.042</td> <td> 0.000</td> <td>    0.089</td> <td>    0.102</td>\n",
       "</tr>\n",
       "<tr>\n",
       "  <th>zipcode_98118</th>   <td>    0.0510</td> <td>    0.002</td> <td>   22.546</td> <td> 0.000</td> <td>    0.047</td> <td>    0.055</td>\n",
       "</tr>\n",
       "<tr>\n",
       "  <th>zipcode_98119</th>   <td>    0.0771</td> <td>    0.002</td> <td>   36.871</td> <td> 0.000</td> <td>    0.073</td> <td>    0.081</td>\n",
       "</tr>\n",
       "<tr>\n",
       "  <th>zipcode_98122</th>   <td>    0.0790</td> <td>    0.002</td> <td>   35.344</td> <td> 0.000</td> <td>    0.075</td> <td>    0.083</td>\n",
       "</tr>\n",
       "<tr>\n",
       "  <th>zipcode_98125</th>   <td>    0.0506</td> <td>    0.003</td> <td>   16.233</td> <td> 0.000</td> <td>    0.045</td> <td>    0.057</td>\n",
       "</tr>\n",
       "<tr>\n",
       "  <th>zipcode_98126</th>   <td>    0.0477</td> <td>    0.002</td> <td>   22.789</td> <td> 0.000</td> <td>    0.044</td> <td>    0.052</td>\n",
       "</tr>\n",
       "<tr>\n",
       "  <th>zipcode_98133</th>   <td>    0.0339</td> <td>    0.003</td> <td>    9.722</td> <td> 0.000</td> <td>    0.027</td> <td>    0.041</td>\n",
       "</tr>\n",
       "<tr>\n",
       "  <th>zipcode_98136</th>   <td>    0.0589</td> <td>    0.002</td> <td>   30.298</td> <td> 0.000</td> <td>    0.055</td> <td>    0.063</td>\n",
       "</tr>\n",
       "<tr>\n",
       "  <th>zipcode_98144</th>   <td>    0.0664</td> <td>    0.002</td> <td>   29.758</td> <td> 0.000</td> <td>    0.062</td> <td>    0.071</td>\n",
       "</tr>\n",
       "<tr>\n",
       "  <th>zipcode_98146</th>   <td>    0.0168</td> <td>    0.002</td> <td>    9.194</td> <td> 0.000</td> <td>    0.013</td> <td>    0.020</td>\n",
       "</tr>\n",
       "<tr>\n",
       "  <th>zipcode_98155</th>   <td>    0.0290</td> <td>    0.004</td> <td>    8.275</td> <td> 0.000</td> <td>    0.022</td> <td>    0.036</td>\n",
       "</tr>\n",
       "<tr>\n",
       "  <th>zipcode_98166</th>   <td>    0.0223</td> <td>    0.002</td> <td>   13.594</td> <td> 0.000</td> <td>    0.019</td> <td>    0.025</td>\n",
       "</tr>\n",
       "<tr>\n",
       "  <th>zipcode_98177</th>   <td>    0.0387</td> <td>    0.003</td> <td>   13.971</td> <td> 0.000</td> <td>    0.033</td> <td>    0.044</td>\n",
       "</tr>\n",
       "<tr>\n",
       "  <th>zipcode_98178</th>   <td>    0.0064</td> <td>    0.002</td> <td>    3.611</td> <td> 0.000</td> <td>    0.003</td> <td>    0.010</td>\n",
       "</tr>\n",
       "<tr>\n",
       "  <th>zipcode_98199</th>   <td>    0.0817</td> <td>    0.002</td> <td>   32.793</td> <td> 0.000</td> <td>    0.077</td> <td>    0.087</td>\n",
       "</tr>\n",
       "<tr>\n",
       "  <th>month_of_date_2</th> <td>    0.0054</td> <td>    0.001</td> <td>    3.651</td> <td> 0.000</td> <td>    0.002</td> <td>    0.008</td>\n",
       "</tr>\n",
       "<tr>\n",
       "  <th>month_of_date_3</th> <td>    0.0140</td> <td>    0.001</td> <td>    9.599</td> <td> 0.000</td> <td>    0.011</td> <td>    0.017</td>\n",
       "</tr>\n",
       "<tr>\n",
       "  <th>month_of_date_4</th> <td>    0.0224</td> <td>    0.001</td> <td>   15.250</td> <td> 0.000</td> <td>    0.020</td> <td>    0.025</td>\n",
       "</tr>\n",
       "</table>\n",
       "<table class=\"simpletable\">\n",
       "<tr>\n",
       "  <th>Omnibus:</th>       <td>1530.875</td> <th>  Durbin-Watson:     </th> <td>   2.015</td>\n",
       "</tr>\n",
       "<tr>\n",
       "  <th>Prob(Omnibus):</th>  <td> 0.000</td>  <th>  Jarque-Bera (JB):  </th> <td>7207.972</td>\n",
       "</tr>\n",
       "<tr>\n",
       "  <th>Skew:</th>           <td>-0.314</td>  <th>  Prob(JB):          </th> <td>    0.00</td>\n",
       "</tr>\n",
       "<tr>\n",
       "  <th>Kurtosis:</th>       <td> 6.102</td>  <th>  Cond. No.          </th> <td>5.38e+15</td>\n",
       "</tr>\n",
       "</table><br/><br/>Notes:<br/>[1] Standard Errors assume that the covariance matrix of the errors is correctly specified.<br/>[2] The smallest eigenvalue is 2.98e-27. This might indicate that there are<br/>strong multicollinearity problems or that the design matrix is singular."
      ],
      "text/plain": [
       "<class 'statsmodels.iolib.summary.Summary'>\n",
       "\"\"\"\n",
       "                            OLS Regression Results                            \n",
       "==============================================================================\n",
       "Dep. Variable:               ln_price   R-squared:                       0.871\n",
       "Model:                            OLS   Adj. R-squared:                  0.870\n",
       "Method:                 Least Squares   F-statistic:                     1273.\n",
       "Date:                Tue, 13 Jul 2021   Prob (F-statistic):               0.00\n",
       "Time:                        18:13:45   Log-Likelihood:                 4206.3\n",
       "No. Observations:               17277   AIC:                            -8229.\n",
       "Df Residuals:                   17185   BIC:                            -7515.\n",
       "Df Model:                          91                                         \n",
       "Covariance Type:            nonrobust                                         \n",
       "===================================================================================\n",
       "                      coef    std err          t      P>|t|      [0.025      0.975]\n",
       "-----------------------------------------------------------------------------------\n",
       "Intercept          13.0483      0.001   9012.529      0.000      13.046      13.051\n",
       "bedrooms           -0.0106      0.002     -5.420      0.000      -0.014      -0.007\n",
       "bathrooms           0.0365      0.003     13.519      0.000       0.031       0.042\n",
       "sqft_living         0.1102      0.002     69.072      0.000       0.107       0.113\n",
       "sqft_lot            0.0289      0.002     17.437      0.000       0.026       0.032\n",
       "sqft_above          0.1134      0.002     65.800      0.000       0.110       0.117\n",
       "sqft_basement       0.0164      0.002      9.644      0.000       0.013       0.020\n",
       "lat                 0.0694      0.008      8.714      0.000       0.054       0.085\n",
       "long               -0.0651      0.008     -8.187      0.000      -0.081      -0.050\n",
       "sqft_living15       0.0845      0.003     33.020      0.000       0.079       0.090\n",
       "age_of_house       -0.0144      0.003     -5.508      0.000      -0.020      -0.009\n",
       "floors_1_5          0.0050      0.002      3.021      0.003       0.002       0.008\n",
       "floors_2_0         -0.0070      0.002     -2.997      0.003      -0.012      -0.002\n",
       "floors_3_0         -0.0186      0.002    -10.377      0.000      -0.022      -0.015\n",
       "floors_3_5         -0.0025      0.001     -1.901      0.057      -0.005    7.68e-05\n",
       "waterfront_1        0.0365      0.002     20.513      0.000       0.033       0.040\n",
       "view_1              0.0168      0.002     11.199      0.000       0.014       0.020\n",
       "view_2              0.0252      0.002     16.435      0.000       0.022       0.028\n",
       "view_3              0.0291      0.002     18.795      0.000       0.026       0.032\n",
       "view_4              0.0368      0.002     20.496      0.000       0.033       0.040\n",
       "condition_2         0.0109      0.004      2.627      0.009       0.003       0.019\n",
       "condition_3         0.1198      0.021      5.693      0.000       0.079       0.161\n",
       "condition_4         0.1324      0.019      6.815      0.000       0.094       0.170\n",
       "condition_5         0.0986      0.012      8.254      0.000       0.075       0.122\n",
       "grade_4            -0.0107      0.002     -6.843      0.000      -0.014      -0.008\n",
       "grade_5            -0.0159      0.002    -10.632      0.000      -0.019      -0.013\n",
       "if_renovated_1      0.0165      0.002     10.609      0.000       0.013       0.019\n",
       "zipcode_98004       0.1210      0.002     48.857      0.000       0.116       0.126\n",
       "zipcode_98005       0.0593      0.002     28.221      0.000       0.055       0.063\n",
       "zipcode_98006       0.0895      0.003     32.152      0.000       0.084       0.095\n",
       "zipcode_98007       0.0483      0.002     23.527      0.000       0.044       0.052\n",
       "zipcode_98008       0.0667      0.003     25.699      0.000       0.062       0.072\n",
       "zipcode_98010       0.0228      0.002     12.539      0.000       0.019       0.026\n",
       "zipcode_98011       0.0248      0.003      9.170      0.000       0.019       0.030\n",
       "zipcode_98014       0.0235      0.003      8.202      0.000       0.018       0.029\n",
       "zipcode_98019       0.0212      0.003      6.548      0.000       0.015       0.028\n",
       "zipcode_98022       0.0213      0.002      8.891      0.000       0.017       0.026\n",
       "zipcode_98023      -0.0084      0.002     -4.512      0.000      -0.012      -0.005\n",
       "zipcode_98024       0.0266      0.002     12.616      0.000       0.022       0.031\n",
       "zipcode_98027       0.0702      0.003     24.385      0.000       0.065       0.076\n",
       "zipcode_98028       0.0237      0.003      7.858      0.000       0.018       0.030\n",
       "zipcode_98029       0.0754      0.003     25.298      0.000       0.070       0.081\n",
       "zipcode_98030       0.0062      0.002      3.654      0.000       0.003       0.009\n",
       "zipcode_98031       0.0079      0.002      4.626      0.000       0.005       0.011\n",
       "zipcode_98032      -0.0034      0.002     -2.260      0.024      -0.006      -0.000\n",
       "zipcode_98033       0.0915      0.003     28.619      0.000       0.085       0.098\n",
       "zipcode_98034       0.0594      0.004     15.975      0.000       0.052       0.067\n",
       "zipcode_98038       0.0361      0.003     12.411      0.000       0.030       0.042\n",
       "zipcode_98039       0.0528      0.002     32.882      0.000       0.050       0.056\n",
       "zipcode_98040       0.0895      0.002     42.236      0.000       0.085       0.094\n",
       "zipcode_98042       0.0143      0.002      6.297      0.000       0.010       0.019\n",
       "zipcode_98045       0.0491      0.003     14.112      0.000       0.042       0.056\n",
       "zipcode_98052       0.0874      0.004     22.657      0.000       0.080       0.095\n",
       "zipcode_98053       0.0668      0.004     17.705      0.000       0.059       0.074\n",
       "zipcode_98055       0.0108      0.002      6.203      0.000       0.007       0.014\n",
       "zipcode_98056       0.0351      0.002     16.115      0.000       0.031       0.039\n",
       "zipcode_98058       0.0223      0.002     10.345      0.000       0.018       0.027\n",
       "zipcode_98059       0.0423      0.002     17.623      0.000       0.038       0.047\n",
       "zipcode_98065       0.0501      0.004     13.958      0.000       0.043       0.057\n",
       "zipcode_98070       0.0138      0.002      8.044      0.000       0.010       0.017\n",
       "zipcode_98072       0.0385      0.003     12.085      0.000       0.032       0.045\n",
       "zipcode_98074       0.0763      0.003     21.909      0.000       0.070       0.083\n",
       "zipcode_98075       0.0690      0.003     21.923      0.000       0.063       0.075\n",
       "zipcode_98077       0.0329      0.003     10.964      0.000       0.027       0.039\n",
       "zipcode_98092       0.0091      0.002      4.874      0.000       0.005       0.013\n",
       "zipcode_98102       0.0574      0.002     31.526      0.000       0.054       0.061\n",
       "zipcode_98103       0.1066      0.003     32.001      0.000       0.100       0.113\n",
       "zipcode_98105       0.0814      0.002     35.116      0.000       0.077       0.086\n",
       "zipcode_98106       0.0230      0.002     11.583      0.000       0.019       0.027\n",
       "zipcode_98107       0.0713      0.002     28.913      0.000       0.066       0.076\n",
       "zipcode_98108       0.0208      0.002     11.861      0.000       0.017       0.024\n",
       "zipcode_98109       0.0607      0.002     32.933      0.000       0.057       0.064\n",
       "zipcode_98112       0.1049      0.002     46.215      0.000       0.100       0.109\n",
       "zipcode_98115       0.1043      0.003     31.097      0.000       0.098       0.111\n",
       "zipcode_98116       0.0749      0.002     34.165      0.000       0.071       0.079\n",
       "zipcode_98117       0.0958      0.003     29.042      0.000       0.089       0.102\n",
       "zipcode_98118       0.0510      0.002     22.546      0.000       0.047       0.055\n",
       "zipcode_98119       0.0771      0.002     36.871      0.000       0.073       0.081\n",
       "zipcode_98122       0.0790      0.002     35.344      0.000       0.075       0.083\n",
       "zipcode_98125       0.0506      0.003     16.233      0.000       0.045       0.057\n",
       "zipcode_98126       0.0477      0.002     22.789      0.000       0.044       0.052\n",
       "zipcode_98133       0.0339      0.003      9.722      0.000       0.027       0.041\n",
       "zipcode_98136       0.0589      0.002     30.298      0.000       0.055       0.063\n",
       "zipcode_98144       0.0664      0.002     29.758      0.000       0.062       0.071\n",
       "zipcode_98146       0.0168      0.002      9.194      0.000       0.013       0.020\n",
       "zipcode_98155       0.0290      0.004      8.275      0.000       0.022       0.036\n",
       "zipcode_98166       0.0223      0.002     13.594      0.000       0.019       0.025\n",
       "zipcode_98177       0.0387      0.003     13.971      0.000       0.033       0.044\n",
       "zipcode_98178       0.0064      0.002      3.611      0.000       0.003       0.010\n",
       "zipcode_98199       0.0817      0.002     32.793      0.000       0.077       0.087\n",
       "month_of_date_2     0.0054      0.001      3.651      0.000       0.002       0.008\n",
       "month_of_date_3     0.0140      0.001      9.599      0.000       0.011       0.017\n",
       "month_of_date_4     0.0224      0.001     15.250      0.000       0.020       0.025\n",
       "==============================================================================\n",
       "Omnibus:                     1530.875   Durbin-Watson:                   2.015\n",
       "Prob(Omnibus):                  0.000   Jarque-Bera (JB):             7207.972\n",
       "Skew:                          -0.314   Prob(JB):                         0.00\n",
       "Kurtosis:                       6.102   Cond. No.                     5.38e+15\n",
       "==============================================================================\n",
       "\n",
       "Notes:\n",
       "[1] Standard Errors assume that the covariance matrix of the errors is correctly specified.\n",
       "[2] The smallest eigenvalue is 2.98e-27. This might indicate that there are\n",
       "strong multicollinearity problems or that the design matrix is singular.\n",
       "\"\"\""
      ]
     },
     "execution_count": 62,
     "metadata": {},
     "output_type": "execute_result"
    }
   ],
   "source": [
    "#report out the OLS \n",
    "m2df_ols.summary()"
   ]
  },
  {
   "cell_type": "markdown",
   "metadata": {
    "heading_collapsed": true
   },
   "source": [
    "# Model 3"
   ]
  },
  {
   "cell_type": "markdown",
   "metadata": {
    "hidden": true
   },
   "source": [
    "Model 3 uses the same dataframe structure as Model 1, but introduces recursive feature elimination (REF) of varying n_parameters to create the model. Since Model 1 showed that the log-transformed price model performed better than untransformed price model, we assumed that all models going forward should use the log-transformed price model."
   ]
  },
  {
   "cell_type": "markdown",
   "metadata": {
    "heading_collapsed": true,
    "hidden": true
   },
   "source": [
    "## Model 3: Data Manipulation"
   ]
  },
  {
   "cell_type": "code",
   "execution_count": 63,
   "metadata": {
    "hidden": true
   },
   "outputs": [],
   "source": [
    "#create a new df based on the cleaned df\n",
    "m3df = df\n",
    "\n",
    "#drop price data, since ln_price will be used\n",
    "m3df = m3df.drop(['price'], axis=1)\n",
    "\n",
    "#dummying categorical \n",
    "m3df = pd.get_dummies(m3df, prefix=categorical, prefix_sep='_', columns=categorical, drop_first=True)\n",
    "\n",
    "#remove any periods from column names after dummying the data\n",
    "modified_cols = []\n",
    "for column in m3df.columns:\n",
    "    modified_cols.append(column.replace(\".\", \"_\"))\n",
    "m3df.columns = modified_cols"
   ]
  },
  {
   "cell_type": "markdown",
   "metadata": {
    "heading_collapsed": true,
    "hidden": true
   },
   "source": [
    "## Model 3: Recursive Feature Elimination (REF)"
   ]
  },
  {
   "cell_type": "code",
   "execution_count": 64,
   "metadata": {
    "hidden": true
   },
   "outputs": [
    {
     "data": {
      "text/plain": [
       "117"
      ]
     },
     "execution_count": 64,
     "metadata": {},
     "output_type": "execute_result"
    }
   ],
   "source": [
    "#determine how many columns the dataframe has\n",
    "len(m3df.columns)"
   ]
  },
  {
   "cell_type": "code",
   "execution_count": 65,
   "metadata": {
    "hidden": true
   },
   "outputs": [],
   "source": [
    "#determine n for REF\n",
    "n = [10, 20, 50, 100]\n",
    "\n",
    "key_cols = {}\n",
    "\n",
    "for x in n:\n",
    "    #instatiate Linear Regression\n",
    "    lr_rfe = LinearRegression()\n",
    "    select = RFE(lr_rfe, n_features_to_select=x)\n",
    "    \n",
    "    #instatiate StandardScaler to standardize ln_price\n",
    "    ss = StandardScaler()\n",
    "    ss.fit(m3df.drop(['ln_price'], axis=1))\n",
    "    m3df_scaled = ss.transform(m3df.drop(['ln_price'], axis=1))\n",
    "    \n",
    "    #fit model to RFE\n",
    "    select.fit(X=m3df_scaled, y=m3df['ln_price'])\n",
    "    \n",
    "    #obtain the indexes where select.support_ is true\n",
    "    true_indexes = [i for i, x in enumerate(select.support_) if x]\n",
    "    \n",
    "    #create a list of all column names matched with index and add to dictionary\n",
    "    key_columns = []\n",
    "    for i in true_indexes:\n",
    "        key_columns.append(m3df.drop(['ln_price'], axis=1).columns[i])\n",
    "    key_cols[\"key_cols_{0}\".format(x)] = key_columns    "
   ]
  },
  {
   "cell_type": "markdown",
   "metadata": {
    "heading_collapsed": true,
    "hidden": true
   },
   "source": [
    "## Model 3: Training and Testing, n = 10"
   ]
  },
  {
   "cell_type": "code",
   "execution_count": 66,
   "metadata": {
    "hidden": true
   },
   "outputs": [],
   "source": [
    "#create the appropriate x and y data sets\n",
    "X = m3df[key_cols['key_cols_10']]\n",
    "y = m3df['ln_price']\n",
    "\n",
    "#standardizing X values\n",
    "ss = StandardScaler()\n",
    "ss.fit(X)\n",
    "X_scaled = pd.DataFrame(ss.transform(X))\n",
    "X_scaled.columns = X.columns\n",
    "\n",
    "#create the training and testing samples\n",
    "X_train, X_test, y_train, y_test = train_test_split(X_scaled, y, test_size=0.20, random_state=42)"
   ]
  },
  {
   "cell_type": "code",
   "execution_count": 67,
   "metadata": {
    "hidden": true
   },
   "outputs": [],
   "source": [
    "#instatiate a splitter with n_splits = 10\n",
    "splitter = ShuffleSplit(n_splits=10, test_size=0.25, random_state=0)"
   ]
  },
  {
   "cell_type": "code",
   "execution_count": 68,
   "metadata": {
    "hidden": true
   },
   "outputs": [
    {
     "name": "stdout",
     "output_type": "stream",
     "text": [
      "Train score:      0.7304041816144804\n",
      "Validation score: 0.7340730574283183\n"
     ]
    }
   ],
   "source": [
    "#create linear regression model for price and setting up cross validation (x3)\n",
    "m3df_model = LinearRegression()\n",
    "m3df_model.fit(X_train, y_train)\n",
    "\n",
    "#setting up cross validation for price in a different way (x3)\n",
    "m3df_scores = cross_validate(\n",
    "    estimator=m3df_model,\n",
    "    X=X_train,\n",
    "    y=y_train,\n",
    "    return_train_score=True,\n",
    "    cv=splitter\n",
    ")\n",
    "\n",
    "print(\"Train score:     \", np.median(m3df_scores[\"train_score\"]))\n",
    "print(\"Validation score:\", np.median(m3df_scores[\"test_score\"]))"
   ]
  },
  {
   "cell_type": "code",
   "execution_count": 69,
   "metadata": {
    "hidden": true
   },
   "outputs": [
    {
     "name": "stdout",
     "output_type": "stream",
     "text": [
      "m3df model train score: 0.731475036836833\n",
      "m3df model test score: 0.7241427323749134\n",
      "score varied by 1.0 %\n"
     ]
    }
   ],
   "source": [
    "#find the test score using the linear model\n",
    "m3df_train_score_10 = m3df_model.score(X_train, y_train)\n",
    "m3df_test_score_10 = m3df_model.score(X_test, y_test)\n",
    "\n",
    "\n",
    "print(\"m3df model train score:\", m3df_train_score_10)\n",
    "print(\"m3df model test score:\", m3df_test_score_10)\n",
    "print(\"score varied by\", round(abs(m3df_test_score_10 - m3df_train_score_10)/m3df_train_score_10*100),\"%\")"
   ]
  },
  {
   "cell_type": "markdown",
   "metadata": {
    "heading_collapsed": true,
    "hidden": true
   },
   "source": [
    "## Model 3: Training and Testing, n = 20"
   ]
  },
  {
   "cell_type": "code",
   "execution_count": 70,
   "metadata": {
    "hidden": true
   },
   "outputs": [],
   "source": [
    "#create the appropriate x and y data sets\n",
    "X = m3df[key_cols['key_cols_20']]\n",
    "y = m3df['ln_price']\n",
    "\n",
    "#standardizing X values\n",
    "ss = StandardScaler()\n",
    "ss.fit(X)\n",
    "X_scaled = pd.DataFrame(ss.transform(X))\n",
    "X_scaled.columns = X.columns\n",
    "\n",
    "#create the training and testing samples\n",
    "X_train, X_test, y_train, y_test = train_test_split(X_scaled, y, test_size=0.20, random_state=42)"
   ]
  },
  {
   "cell_type": "code",
   "execution_count": 71,
   "metadata": {
    "hidden": true
   },
   "outputs": [],
   "source": [
    "#instatiate a splitter with n_splits = 10\n",
    "splitter = ShuffleSplit(n_splits=10, test_size=0.25, random_state=0)"
   ]
  },
  {
   "cell_type": "code",
   "execution_count": 72,
   "metadata": {
    "hidden": true
   },
   "outputs": [
    {
     "name": "stdout",
     "output_type": "stream",
     "text": [
      "Train score:      0.7890510248961068\n",
      "Validation score: 0.7882894632690858\n"
     ]
    }
   ],
   "source": [
    "#create linear regression model for price and setting up cross validation (x3)\n",
    "m3df_model = LinearRegression()\n",
    "m3df_model.fit(X_train, y_train)\n",
    "\n",
    "#setting up cross validation for price in a different way (x3)\n",
    "m3df_scores = cross_validate(\n",
    "    estimator=m3df_model,\n",
    "    X=X_train,\n",
    "    y=y_train,\n",
    "    return_train_score=True,\n",
    "    cv=splitter\n",
    ")\n",
    "\n",
    "print(\"Train score:     \", np.median(m3df_scores[\"train_score\"]))\n",
    "print(\"Validation score:\", np.median(m3df_scores[\"test_score\"]))"
   ]
  },
  {
   "cell_type": "code",
   "execution_count": 73,
   "metadata": {
    "hidden": true
   },
   "outputs": [
    {
     "name": "stdout",
     "output_type": "stream",
     "text": [
      "m3df model train score: 0.7890215128869139\n",
      "m3df model test score: 0.779221956918942\n",
      "score varied by 1.0 %\n"
     ]
    }
   ],
   "source": [
    "#find the test score using the linear model\n",
    "m3df_train_score_20 = m3df_model.score(X_train, y_train)\n",
    "m3df_test_score_20 = m3df_model.score(X_test, y_test)\n",
    "\n",
    "\n",
    "print(\"m3df model train score:\", m3df_train_score_20)\n",
    "print(\"m3df model test score:\", m3df_test_score_20)\n",
    "print(\"score varied by\", round(abs(m3df_test_score_20 - m3df_train_score_20)/m3df_train_score_20*100),\"%\")"
   ]
  },
  {
   "cell_type": "markdown",
   "metadata": {
    "heading_collapsed": true,
    "hidden": true
   },
   "source": [
    "## Model 3: Training and Testing, n = 50"
   ]
  },
  {
   "cell_type": "code",
   "execution_count": 74,
   "metadata": {
    "hidden": true
   },
   "outputs": [],
   "source": [
    "#create the appropriate x and y data sets\n",
    "X = m3df[key_cols['key_cols_50']]\n",
    "y = m3df['ln_price']\n",
    "\n",
    "#standardizing X values\n",
    "ss = StandardScaler()\n",
    "ss.fit(X)\n",
    "X_scaled = pd.DataFrame(ss.transform(X))\n",
    "X_scaled.columns = X.columns\n",
    "\n",
    "#create the training and testing samples\n",
    "X_train, X_test, y_train, y_test = train_test_split(X_scaled, y, test_size=0.20, random_state=42)"
   ]
  },
  {
   "cell_type": "code",
   "execution_count": 75,
   "metadata": {
    "hidden": true
   },
   "outputs": [],
   "source": [
    "#instatiate a splitter with n_splits = 10\n",
    "splitter = ShuffleSplit(n_splits=10, test_size=0.25, random_state=0)"
   ]
  },
  {
   "cell_type": "code",
   "execution_count": 76,
   "metadata": {
    "hidden": true
   },
   "outputs": [
    {
     "name": "stdout",
     "output_type": "stream",
     "text": [
      "Train score:      0.8646665284042214\n",
      "Validation score: 0.8635260266911984\n"
     ]
    }
   ],
   "source": [
    "#create linear regression model for price and setting up cross validation (x3)\n",
    "m3df_model = LinearRegression()\n",
    "m3df_model.fit(X_train, y_train)\n",
    "\n",
    "#setting up cross validation for price in a different way (x3)\n",
    "m3df_scores = cross_validate(\n",
    "    estimator=m3df_model,\n",
    "    X=X_train,\n",
    "    y=y_train,\n",
    "    return_train_score=True,\n",
    "    cv=splitter\n",
    ")\n",
    "\n",
    "print(\"Train score:     \", np.median(m3df_scores[\"train_score\"]))\n",
    "print(\"Validation score:\", np.median(m3df_scores[\"test_score\"]))"
   ]
  },
  {
   "cell_type": "code",
   "execution_count": 77,
   "metadata": {
    "hidden": true
   },
   "outputs": [
    {
     "name": "stdout",
     "output_type": "stream",
     "text": [
      "m3df model train score: 0.8645722075061236\n",
      "m3df model test score: 0.8643012994012045\n",
      "score varied by 0.0 %\n"
     ]
    }
   ],
   "source": [
    "#find the test score using the linear model\n",
    "m3df_train_score_50 = m3df_model.score(X_train, y_train)\n",
    "m3df_test_score_50 = m3df_model.score(X_test, y_test)\n",
    "\n",
    "\n",
    "print(\"m3df model train score:\", m3df_train_score_50)\n",
    "print(\"m3df model test score:\", m3df_test_score_50)\n",
    "print(\"score varied by\", round(abs(m3df_test_score_50 - m3df_train_score_50)/m3df_train_score_50*100),\"%\")"
   ]
  },
  {
   "cell_type": "markdown",
   "metadata": {
    "heading_collapsed": true,
    "hidden": true
   },
   "source": [
    "## Model 3: Training and Testing, n = 100"
   ]
  },
  {
   "cell_type": "code",
   "execution_count": 78,
   "metadata": {
    "hidden": true
   },
   "outputs": [],
   "source": [
    "#create the appropriate x and y data sets\n",
    "X = m3df[key_cols['key_cols_100']]\n",
    "y = m3df['ln_price']\n",
    "\n",
    "#standardizing X values\n",
    "ss = StandardScaler()\n",
    "ss.fit(X)\n",
    "X_scaled = pd.DataFrame(ss.transform(X))\n",
    "X_scaled.columns = X.columns\n",
    "\n",
    "#create the training and testing samples\n",
    "X_train, X_test, y_train, y_test = train_test_split(X_scaled, y, test_size=0.20, random_state=42)"
   ]
  },
  {
   "cell_type": "code",
   "execution_count": 79,
   "metadata": {
    "hidden": true
   },
   "outputs": [],
   "source": [
    "#instatiate a splitter with n_splits = 10\n",
    "splitter = ShuffleSplit(n_splits=10, test_size=0.25, random_state=0)"
   ]
  },
  {
   "cell_type": "code",
   "execution_count": 80,
   "metadata": {
    "hidden": true
   },
   "outputs": [
    {
     "name": "stdout",
     "output_type": "stream",
     "text": [
      "Train score:      0.8824598211474104\n",
      "Validation score: 0.880463643099975\n"
     ]
    }
   ],
   "source": [
    "#create linear regression model for price and setting up cross validation (x3)\n",
    "m3df_model = LinearRegression()\n",
    "m3df_model.fit(X_train, y_train)\n",
    "\n",
    "#setting up cross validation for price in a different way (x3)\n",
    "m3df_scores = cross_validate(\n",
    "    estimator=m3df_model,\n",
    "    X=X_train,\n",
    "    y=y_train,\n",
    "    return_train_score=True,\n",
    "    cv=splitter\n",
    ")\n",
    "\n",
    "print(\"Train score:     \", np.median(m3df_scores[\"train_score\"]))\n",
    "print(\"Validation score:\", np.median(m3df_scores[\"test_score\"]))"
   ]
  },
  {
   "cell_type": "code",
   "execution_count": 81,
   "metadata": {
    "hidden": true
   },
   "outputs": [
    {
     "name": "stdout",
     "output_type": "stream",
     "text": [
      "m3df model train score: 0.8823042914809747\n",
      "m3df model test score: 0.8799237142231043\n",
      "score varied by 0.0 %\n"
     ]
    }
   ],
   "source": [
    "#find the test score using the linear model\n",
    "m3df_train_score_100 = m3df_model.score(X_train, y_train)\n",
    "m3df_test_score_100 = m3df_model.score(X_test, y_test)\n",
    "\n",
    "\n",
    "print(\"m3df model train score:\", m3df_train_score_100)\n",
    "print(\"m3df model test score:\", m3df_test_score_100)\n",
    "print(\"score varied by\", round(abs(m3df_test_score_100 - m3df_train_score_100)/m3df_train_score_100*100),\"%\")"
   ]
  },
  {
   "cell_type": "markdown",
   "metadata": {
    "heading_collapsed": true,
    "hidden": true
   },
   "source": [
    "## Model 3: Summary"
   ]
  },
  {
   "cell_type": "code",
   "execution_count": 82,
   "metadata": {
    "hidden": true,
    "scrolled": false
   },
   "outputs": [
    {
     "name": "stdout",
     "output_type": "stream",
     "text": [
      "Model 3: Varying REF n:\n",
      "\n",
      "When we include all columns (based on Model 1):\n",
      "m1df model train score: 0.8824554130032448\n",
      "m1df model test score: 0.8798250920810333\n",
      "\n",
      "When n = 10:\n",
      "m3df model train score: 0.731475036836833\n",
      "m3df model test score: 0.7241427323749134\n",
      "\n",
      "When n = 10:\n",
      "m3df model train score: 0.7890215128869139\n",
      "m3df model test score: 0.779221956918942\n",
      "\n",
      "When n = 50:\n",
      "m3df model train score: 0.8645722075061236\n",
      "m3df model test score: 0.8643012994012045\n",
      "\n",
      "When n = 100:\n",
      "m3df model train score: 0.8823042914809747\n",
      "m3df model test score: 0.8799237142231043\n"
     ]
    }
   ],
   "source": [
    "print(\"Model 3: Varying REF n:\")\n",
    "print()\n",
    "print(\"When we include all columns (based on Model 1):\")\n",
    "print(\"m1df model train score:\", m1df_ln_train_score)\n",
    "print(\"m1df model test score:\", m1df_ln_test_score)\n",
    "print()\n",
    "print(\"When n = 10:\")\n",
    "print(\"m3df model train score:\", m3df_train_score_10)\n",
    "print(\"m3df model test score:\", m3df_test_score_10)\n",
    "print()\n",
    "print(\"When n = 10:\")\n",
    "print(\"m3df model train score:\", m3df_train_score_20)\n",
    "print(\"m3df model test score:\", m3df_test_score_20)\n",
    "print()\n",
    "print(\"When n = 50:\")\n",
    "print(\"m3df model train score:\", m3df_train_score_50)\n",
    "print(\"m3df model test score:\", m3df_test_score_50)\n",
    "print()\n",
    "print(\"When n = 100:\")\n",
    "print(\"m3df model train score:\", m3df_train_score_100)\n",
    "print(\"m3df model test score:\", m3df_test_score_100)"
   ]
  },
  {
   "cell_type": "code",
   "execution_count": null,
   "metadata": {},
   "outputs": [],
   "source": []
  },
  {
   "cell_type": "markdown",
   "metadata": {},
   "source": [
    "# Model 4 Binomial Feature Engineering "
   ]
  },
  {
   "cell_type": "markdown",
   "metadata": {},
   "source": [
    "## Binomial Feature Engineering"
   ]
  },
  {
   "cell_type": "code",
   "execution_count": 83,
   "metadata": {},
   "outputs": [
    {
     "data": {
      "text/plain": [
       "PolynomialFeatures()"
      ]
     },
     "execution_count": 83,
     "metadata": {},
     "output_type": "execute_result"
    }
   ],
   "source": [
    "#X_train2, X_test2, ln_y_train, ln_y_test\n",
    "\n",
    "pf = PolynomialFeatures(degree=2)\n",
    "pf.fit(X_train2)"
   ]
  },
  {
   "cell_type": "code",
   "execution_count": 84,
   "metadata": {},
   "outputs": [],
   "source": [
    "pdf_train = pd.DataFrame(pf.transform(X_train2), columns = pf.get_feature_names())\n",
    "pdf_test = pd.DataFrame(pf.transform(X_test2), columns = pf.get_feature_names())"
   ]
  },
  {
   "cell_type": "markdown",
   "metadata": {},
   "source": [
    "### Pearson Correlation Coefficient Filtering"
   ]
  },
  {
   "cell_type": "code",
   "execution_count": 85,
   "metadata": {},
   "outputs": [
    {
     "data": {
      "text/html": [
       "<div>\n",
       "<style scoped>\n",
       "    .dataframe tbody tr th:only-of-type {\n",
       "        vertical-align: middle;\n",
       "    }\n",
       "\n",
       "    .dataframe tbody tr th {\n",
       "        vertical-align: top;\n",
       "    }\n",
       "\n",
       "    .dataframe thead th {\n",
       "        text-align: right;\n",
       "    }\n",
       "</style>\n",
       "<table border=\"1\" class=\"dataframe\">\n",
       "  <thead>\n",
       "    <tr style=\"text-align: right;\">\n",
       "      <th></th>\n",
       "      <th>0</th>\n",
       "    </tr>\n",
       "  </thead>\n",
       "  <tbody>\n",
       "    <tr>\n",
       "      <th>1</th>\n",
       "      <td>NaN</td>\n",
       "    </tr>\n",
       "    <tr>\n",
       "      <th>x0</th>\n",
       "      <td>0.013335</td>\n",
       "    </tr>\n",
       "    <tr>\n",
       "      <th>x1</th>\n",
       "      <td>0.006184</td>\n",
       "    </tr>\n",
       "    <tr>\n",
       "      <th>x2</th>\n",
       "      <td>0.007004</td>\n",
       "    </tr>\n",
       "    <tr>\n",
       "      <th>x3</th>\n",
       "      <td>-0.002387</td>\n",
       "    </tr>\n",
       "  </tbody>\n",
       "</table>\n",
       "</div>"
      ],
      "text/plain": [
       "           0\n",
       "1        NaN\n",
       "x0  0.013335\n",
       "x1  0.006184\n",
       "x2  0.007004\n",
       "x3 -0.002387"
      ]
     },
     "execution_count": 85,
     "metadata": {},
     "output_type": "execute_result"
    }
   ],
   "source": [
    "correlations = pdf_train.corrwith(ln_y_train)\n",
    "correlations_df = pd.DataFrame(correlations)\n",
    "correlations_df.head()"
   ]
  },
  {
   "cell_type": "code",
   "execution_count": 86,
   "metadata": {},
   "outputs": [],
   "source": [
    "correlations_df.dropna(inplace=True)"
   ]
  },
  {
   "cell_type": "code",
   "execution_count": 87,
   "metadata": {},
   "outputs": [],
   "source": [
    "correlations_df[0].map(abs)\n",
    "correlations_df.sort_values(by=0,ascending=False,inplace=True)"
   ]
  },
  {
   "cell_type": "code",
   "execution_count": 88,
   "metadata": {},
   "outputs": [
    {
     "name": "stdout",
     "output_type": "stream",
     "text": [
      "['x10 x76', 'x29 x45', 'x16 x104', 'x58 x85', 'x10 x32', 'x1 x89', 'x95 x108', 'x54 x109', 'x16 x19', 'x58 x81', 'x29 x46', 'x58 x65', 'x81 x85', 'x28 x114', 'x20 x81', 'x59 x106', 'x31 x47', 'x32 x81', 'x65 x85', 'x58 x64', 'x20 x65', 'x32 x65', 'x24 x113', 'x65 x81', 'x21 x58', 'x4 x81', 'x27 x70', 'x93 x113', 'x11 x114', 'x20 x21', 'x64 x85', 'x18 x31', 'x58 x102', 'x20 x102', 'x85 x102', 'x81 x105', 'x81 x102', 'x7 x20', 'x21 x32', 'x2 x89', 'x0 x89', 'x30 x83', 'x32 x102', 'x18 x93', 'x65 x102', 'x64 x81', 'x36 x108', 'x8 x69', 'x65 x115', 'x30 x102', 'x66 x114', 'x9 x19', 'x21 x102', 'x9 x37', 'x13 x82', 'x87 x113', 'x26 x58', 'x6 x58', 'x20 x103', 'x0 x83', 'x17 x70', 'x10 x24', 'x20 x26', 'x26 x68', 'x64 x65', 'x23 x114', 'x10 x80', 'x2 x69', 'x26 x32', 'x35 x67', 'x12 x54', 'x32 x58', 'x4 x83', 'x14 x58', 'x19 x47', 'x84 x113', 'x72 x111', 'x21 x64', 'x64 x102', 'x9 x114', 'x58 x92', 'x35 x63', 'x41 x105', 'x22 x54', 'x13 x108', 'x14 x35', 'x3 x81', 'x28 x77', 'x28 x86', 'x0 x69', 'x3 x17', 'x40^2', 'x40', 'x74 x81', 'x13 x63', 'x85 x92', 'x23 x65', 'x33 x35', 'x20 x74', 'x8 x65', 'x74 x85', 'x42 x107', 'x4 x102', 'x20 x92', 'x5', 'x58 x74', 'x29 x74', 'x55 x113', 'x10 x94', 'x22 x100', 'x23 x45', 'x58 x68', 'x32 x92', 'x28 x32', 'x14 x102', 'x23 x25', 'x10', 'x81 x92', 'x50 x108', 'x79 x106', 'x2 x93', 'x9 x81', 'x7 x85', 'x26 x36', 'x7 x81', 'x55 x81', 'x1 x83', 'x81 x100', 'x58 x63', 'x10 x77', 'x1 x18', 'x19 x49', 'x58 x100', 'x16 x103', 'x85 x100', 'x64 x109', 'x30 x32', 'x68 x85', 'x44 x81', 'x8 x81', 'x74 x102', 'x4 x93', 'x20 x68', 'x2 x83', 'x65 x74', 'x20 x55', 'x30 x40', 'x9 x47', 'x44 x85', 'x13 x32', 'x68 x81', 'x11 x76', 'x55 x85', 'x77 x108', 'x26 x64', 'x44 x58', 'x45 x81', 'x63 x85', 'x62 x107', 'x103 x113', 'x80 x114', 'x4 x69', 'x70 x109', 'x55 x102', 'x17 x66', 'x55 x58', 'x65 x92', 'x20 x38', 'x5 x89', 'x14 x65', 'x63 x81', 'x9 x16', 'x35 x74', 'x47 x110', 'x14 x49', 'x32 x55', 'x20 x45', 'x5 x50', 'x100 x102', 'x23 x103', 'x21 x55', 'x44 x102', 'x92 x102', 'x55 x65', 'x65 x100', 'x29 x112', 'x45 x85', 'x81 x89', 'x11 x39', 'x45 x102', 'x21 x92', 'x9 x85', 'x81 x94', 'x90 x107', 'x44 x65', 'x9 x109', 'x21 x100', 'x12 x26', 'x85 x89', 'x14 x21', 'x58 x94', 'x58 x89', 'x21 x44', 'x85 x94', 'x45 x58', 'x65 x68', 'x5 x26', 'x9 x65', 'x7 x35', 'x31 x38', 'x45 x110', 'x29 x39', 'x68 x102', 'x27 x58', 'x17 x29', 'x45 x65', 'x9 x44', 'x24 x86', 'x8 x18', 'x33 x84', 'x29 x32', 'x38 x111', 'x3 x102', 'x71 x105', 'x51 x81', 'x8 x88', 'x41 x107', 'x14 x111', 'x63 x65', 'x4 x89', 'x16 x109', 'x28 x37', 'x9 x102', 'x63 x102', 'x64 x74', 'x89 x102', 'x6 x107', 'x14 x101', 'x3 x85', 'x30 x89', 'x27 x94', 'x7 x14', 'x29 x102', 'x21 x107', 'x8 x102', 'x23 x40', 'x6 x102', 'x28 x76', 'x35 x101', 'x9 x73', '1']\n"
     ]
    }
   ],
   "source": [
    "features = list(correlations_df.index[:250]) + ['1']\n",
    "print(features)"
   ]
  },
  {
   "cell_type": "markdown",
   "metadata": {},
   "source": [
    "### Recursive Feature Elimination"
   ]
  },
  {
   "cell_type": "code",
   "execution_count": 89,
   "metadata": {},
   "outputs": [
    {
     "data": {
      "text/plain": [
       "RFE(estimator=LinearRegression(), n_features_to_select=250)"
      ]
     },
     "execution_count": 89,
     "metadata": {},
     "output_type": "execute_result"
    }
   ],
   "source": [
    "lr_rfe = LinearRegression()\n",
    "select = RFE(lr_rfe, n_features_to_select=250)\n",
    "select.fit(X = pdf_train[features], y = y_train)"
   ]
  },
  {
   "cell_type": "code",
   "execution_count": 90,
   "metadata": {},
   "outputs": [],
   "source": [
    "pdf_keepers = [x[0] for x in zip(pdf_train.columns,select.support_) \n",
    "               if x[1] == True]"
   ]
  },
  {
   "cell_type": "code",
   "execution_count": 91,
   "metadata": {},
   "outputs": [
    {
     "data": {
      "text/plain": [
       "250"
      ]
     },
     "execution_count": 91,
     "metadata": {},
     "output_type": "execute_result"
    }
   ],
   "source": [
    "len(pdf_keepers)"
   ]
  },
  {
   "cell_type": "code",
   "execution_count": 92,
   "metadata": {},
   "outputs": [
    {
     "data": {
      "text/plain": [
       "(0.8900691793282903, 0.880666635990867, 0.009402543337423297)"
      ]
     },
     "execution_count": 92,
     "metadata": {},
     "output_type": "execute_result"
    }
   ],
   "source": [
    "lr_rfe.fit(X = pdf_train[pdf_keepers], y = y_train)\n",
    "lr_rfe.score(pdf_train[pdf_keepers],y = y_train), lr_rfe.score(pdf_test[pdf_keepers],y = y_test), (lr_rfe.score(pdf_train[pdf_keepers],y = y_train)-lr_rfe.score(pdf_test[pdf_keepers],y = y_test))"
   ]
  },
  {
   "cell_type": "markdown",
   "metadata": {},
   "source": [
    "### Cross Validation"
   ]
  },
  {
   "cell_type": "code",
   "execution_count": 95,
   "metadata": {},
   "outputs": [],
   "source": [
    "check = [5,10,20]\n",
    "cross_results = {x:\n",
    "           (np.median(cross_val_score(lr_rfe,X,ln_y,cv=x)),np.std(cross_val_score(lr_rfe,X,ln_y,cv=x))) \n",
    "           for x in check}"
   ]
  },
  {
   "cell_type": "code",
   "execution_count": 96,
   "metadata": {
    "scrolled": true
   },
   "outputs": [
    {
     "data": {
      "text/plain": [
       "({5: (0.8783964713839736, 0.0038663900034368415),\n",
       "  10: (0.8796118650521769, 0.004727532413992206),\n",
       "  20: (0.8817999968783871, 0.01031895162822321)},\n",
       " {5: (0.8774519056500676, 5.111610392130009),\n",
       "  10: (0.8773037771873611, 13.55338409117993),\n",
       "  20: (0.8803737963663083, 110.92348889680716)})"
      ]
     },
     "execution_count": 96,
     "metadata": {},
     "output_type": "execute_result"
    }
   ],
   "source": [
    "cross_results"
   ]
  },
  {
   "cell_type": "code",
   "execution_count": null,
   "metadata": {},
   "outputs": [],
   "source": []
  }
 ],
 "metadata": {
  "kernelspec": {
   "display_name": "Python 3",
   "language": "python",
   "name": "python3"
  },
  "language_info": {
   "codemirror_mode": {
    "name": "ipython",
    "version": 3
   },
   "file_extension": ".py",
   "mimetype": "text/x-python",
   "name": "python",
   "nbconvert_exporter": "python",
   "pygments_lexer": "ipython3",
   "version": "3.8.5"
  }
 },
 "nbformat": 4,
 "nbformat_minor": 5
}
